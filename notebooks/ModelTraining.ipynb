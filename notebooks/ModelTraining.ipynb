{
 "cells": [
  {
   "cell_type": "code",
   "execution_count": 1,
   "metadata": {},
   "outputs": [
    {
     "data": {
      "text/plain": [
       "'/Users/kaancaylan/Desktop/HEC/mckinsey_hackathon/methane-hackathon'"
      ]
     },
     "execution_count": 1,
     "metadata": {},
     "output_type": "execute_result"
    }
   ],
   "source": [
    "# Run once before notebook \n",
    "import os\n",
    "os.chdir(\"..\")\n",
    "os.getcwd()"
   ]
  },
  {
   "cell_type": "code",
   "execution_count": 2,
   "metadata": {},
   "outputs": [],
   "source": [
    "from utils.dataloader import LoadData\n",
    "from sklearn.model_selection import train_test_split\n",
    "import tensorflow as tf\n",
    "from tensorflow.keras import layers\n",
    "import datetime\n",
    "from sklearn.model_selection import GroupShuffleSplit"
   ]
  },
  {
   "cell_type": "code",
   "execution_count": 3,
   "metadata": {},
   "outputs": [
    {
     "name": "stderr",
     "output_type": "stream",
     "text": [
      "/Users/kaancaylan/.pyenv/versions/3.9.6/envs/myenv/lib/python3.9/site-packages/rasterio/__init__.py:304: NotGeoreferencedWarning: Dataset has no geotransform, gcps, or rpcs. The identity matrix will be returned.\n",
      "  dataset = DatasetReader(path, driver=driver, sharing=sharing, **kwargs)\n"
     ]
    }
   ],
   "source": [
    "\n",
    "data = LoadData(metadata_path=\"data/train_data/metadata.csv\",\n",
    "                image_data_path=\"data/train_data/\")\n",
    "\n",
    "X_train_aug, X_test, y_train_aug, y_test = data.prep_data(normalize=True, augment=True)"
   ]
  },
  {
   "cell_type": "code",
   "execution_count": 4,
   "metadata": {},
   "outputs": [
    {
     "name": "stdout",
     "output_type": "stream",
     "text": [
      "Model: \"sequential\"\n",
      "_________________________________________________________________\n",
      " Layer (type)                Output Shape              Param #   \n",
      "=================================================================\n",
      " conv2d (Conv2D)             (None, 62, 62, 32)        320       \n",
      "                                                                 \n",
      " max_pooling2d (MaxPooling2  (None, 31, 31, 32)        0         \n",
      " D)                                                              \n",
      "                                                                 \n",
      " conv2d_1 (Conv2D)           (None, 29, 29, 64)        18496     \n",
      "                                                                 \n",
      " max_pooling2d_1 (MaxPoolin  (None, 14, 14, 64)        0         \n",
      " g2D)                                                            \n",
      "                                                                 \n",
      " conv2d_2 (Conv2D)           (None, 12, 12, 128)       73856     \n",
      "                                                                 \n",
      " max_pooling2d_2 (MaxPoolin  (None, 6, 6, 128)         0         \n",
      " g2D)                                                            \n",
      "                                                                 \n",
      " flatten (Flatten)           (None, 4608)              0         \n",
      "                                                                 \n",
      " dense (Dense)               (None, 128)               589952    \n",
      "                                                                 \n",
      " dropout (Dropout)           (None, 128)               0         \n",
      "                                                                 \n",
      " dense_1 (Dense)             (None, 64)                8256      \n",
      "                                                                 \n",
      " dropout_1 (Dropout)         (None, 64)                0         \n",
      "                                                                 \n",
      " dense_2 (Dense)             (None, 1)                 65        \n",
      "                                                                 \n",
      "=================================================================\n",
      "Total params: 690945 (2.64 MB)\n",
      "Trainable params: 690945 (2.64 MB)\n",
      "Non-trainable params: 0 (0.00 Byte)\n",
      "_________________________________________________________________\n"
     ]
    }
   ],
   "source": [
    "# Set the random seed for reproducibility\n",
    "tf.random.set_seed(1234)\n",
    "\n",
    "# Define the CNN model\n",
    "model = tf.keras.Sequential([\n",
    "    # Convolutional layers\n",
    "    layers.Conv2D(32, (3, 3), activation='relu', input_shape=(64, 64, 1)),\n",
    "    layers.MaxPooling2D((2, 2)),\n",
    "    layers.Conv2D(64, (3, 3), activation='relu'),\n",
    "    layers.MaxPooling2D((2, 2)),\n",
    "    layers.Conv2D(128, (3, 3), activation='relu'),\n",
    "    layers.MaxPooling2D((2, 2)),\n",
    "    \n",
    "    # Flatten the output for fully connected layers\n",
    "    layers.Flatten(),\n",
    "    \n",
    "    # Fully connected layers\n",
    "    layers.Dense(128, activation='relu'),\n",
    "    layers.Dropout(0.5),  \n",
    "    layers.Dense(64, activation='relu'),\n",
    "    layers.Dropout(0.5),\n",
    "    layers.Dense(1, activation='sigmoid')  # Use 'sigmoid' for binary classification\n",
    "])\n",
    "\n",
    "# Compile the model\n",
    "model.compile(optimizer='adam',\n",
    "              loss='binary_crossentropy',  # Use 'binary_crossentropy' for binary classification\n",
    "              metrics=['accuracy'])\n",
    "\n",
    "# Print the model summary to view the architecture\n",
    "model.summary()\n",
    "\n",
    "# Define early stopping\n",
    "early_stopping = tf.keras.callbacks.EarlyStopping(\n",
    "    monitor='val_loss', \n",
    "    patience=5,           \n",
    "    restore_best_weights=True)\n",
    "\n",
    "log_dir = \"logs/fit/\" + datetime.datetime.now().strftime(\"%Y%m%d-%H%M%S\")\n",
    "tensorboard_callback = tf.keras.callbacks.TensorBoard(log_dir=log_dir, histogram_freq=1)\n"
   ]
  },
  {
   "cell_type": "code",
   "execution_count": 5,
   "metadata": {},
   "outputs": [
    {
     "name": "stdout",
     "output_type": "stream",
     "text": [
      "Epoch 1/100\n",
      "260/260 [==============================] - 8s 29ms/step - loss: 0.5214 - accuracy: 0.7314 - val_loss: 0.3727 - val_accuracy: 0.8308\n",
      "Epoch 2/100\n",
      "260/260 [==============================] - 7s 29ms/step - loss: 0.3289 - accuracy: 0.8659 - val_loss: 0.2224 - val_accuracy: 0.9115\n",
      "Epoch 3/100\n",
      "260/260 [==============================] - 8s 29ms/step - loss: 0.2100 - accuracy: 0.9232 - val_loss: 0.1611 - val_accuracy: 0.9298\n",
      "Epoch 4/100\n",
      "260/260 [==============================] - 7s 29ms/step - loss: 0.1134 - accuracy: 0.9597 - val_loss: 0.1170 - val_accuracy: 0.9548\n",
      "Epoch 5/100\n",
      "260/260 [==============================] - 8s 29ms/step - loss: 0.0771 - accuracy: 0.9714 - val_loss: 0.1206 - val_accuracy: 0.9543\n",
      "Epoch 6/100\n",
      "260/260 [==============================] - 8s 30ms/step - loss: 0.0536 - accuracy: 0.9830 - val_loss: 0.0560 - val_accuracy: 0.9793\n",
      "Epoch 7/100\n",
      "260/260 [==============================] - 8s 29ms/step - loss: 0.0531 - accuracy: 0.9829 - val_loss: 0.0487 - val_accuracy: 0.9798\n",
      "Epoch 8/100\n",
      "260/260 [==============================] - 8s 30ms/step - loss: 0.0274 - accuracy: 0.9909 - val_loss: 0.0848 - val_accuracy: 0.9692\n",
      "Epoch 9/100\n",
      "260/260 [==============================] - 8s 30ms/step - loss: 0.0227 - accuracy: 0.9917 - val_loss: 0.0620 - val_accuracy: 0.9769\n",
      "Epoch 10/100\n",
      "260/260 [==============================] - 8s 29ms/step - loss: 0.0353 - accuracy: 0.9883 - val_loss: 0.0442 - val_accuracy: 0.9822\n",
      "Epoch 11/100\n",
      "260/260 [==============================] - 8s 30ms/step - loss: 0.0177 - accuracy: 0.9935 - val_loss: 0.3683 - val_accuracy: 0.9173\n",
      "Epoch 12/100\n",
      "260/260 [==============================] - 8s 31ms/step - loss: 0.0315 - accuracy: 0.9895 - val_loss: 0.0709 - val_accuracy: 0.9817\n",
      "Epoch 13/100\n",
      "260/260 [==============================] - 8s 29ms/step - loss: 0.0154 - accuracy: 0.9946 - val_loss: 0.0397 - val_accuracy: 0.9865\n",
      "Epoch 14/100\n",
      "260/260 [==============================] - 8s 29ms/step - loss: 0.0218 - accuracy: 0.9928 - val_loss: 0.0497 - val_accuracy: 0.9817\n",
      "Epoch 15/100\n",
      "260/260 [==============================] - 8s 29ms/step - loss: 0.0149 - accuracy: 0.9962 - val_loss: 0.0812 - val_accuracy: 0.9745\n",
      "Epoch 16/100\n",
      "260/260 [==============================] - 8s 29ms/step - loss: 0.0196 - accuracy: 0.9928 - val_loss: 0.0561 - val_accuracy: 0.9750\n",
      "Epoch 17/100\n",
      "260/260 [==============================] - 8s 30ms/step - loss: 0.0198 - accuracy: 0.9931 - val_loss: 0.0662 - val_accuracy: 0.9798\n",
      "Epoch 18/100\n",
      "260/260 [==============================] - 8s 29ms/step - loss: 0.0109 - accuracy: 0.9965 - val_loss: 0.0477 - val_accuracy: 0.9846\n"
     ]
    },
    {
     "data": {
      "text/plain": [
       "<keras.src.callbacks.History at 0x295eaaac0>"
      ]
     },
     "execution_count": 5,
     "metadata": {},
     "output_type": "execute_result"
    }
   ],
   "source": [
    "batch_size = 32\n",
    "epochs = 100\n",
    "model.fit(X_train_aug, y_train_aug, \n",
    "          epochs=epochs, \n",
    "          batch_size=batch_size, \n",
    "          validation_split=0.2,\n",
    "          callbacks=[early_stopping, tensorboard_callback])"
   ]
  },
  {
   "cell_type": "code",
   "execution_count": 10,
   "metadata": {},
   "outputs": [
    {
     "name": "stderr",
     "output_type": "stream",
     "text": [
      "UsageError: Line magic function `%tensorboard` not found.\n"
     ]
    }
   ],
   "source": [
    "%tensorboard --logdir logs/fit"
   ]
  },
  {
   "cell_type": "markdown",
   "metadata": {},
   "source": [
    "# Concatenate External features"
   ]
  },
  {
   "cell_type": "code",
   "execution_count": null,
   "metadata": {},
   "outputs": [],
   "source": [
    "\n",
    "\n",
    "\n",
    "input_1d = tf.keras.layers.Input(shape=(1,))  # Adjust the shape as needed\n",
    "\n",
    "# Concatenate the flattened output and the 1-dimensional input\n",
    "concatenated = tf.keras.layers.concatenate([model.output, input_1d])\n",
    "\n",
    "# Add fully connected layers after concatenation\n",
    "concatenated = layers.Dense(128, activation='relu')(concatenated)\n",
    "concatenated = layers.Dropout(0.5)(concatenated)\n",
    "concatenated = layers.Dense(64, activation='relu')(concatenated)\n",
    "concatenated = layers.Dropout(0.5)(concatenated)\n",
    "output_layer = layers.Dense(1, activation='sigmoid')(concatenated)\n",
    "\n",
    "# Create the model\n",
    "combined_model = tf.keras.Model(inputs=[model.input, input_1d], outputs=output_layer)\n"
   ]
  }
 ],
 "metadata": {
  "kernelspec": {
   "display_name": "myenv",
   "language": "python",
   "name": "python3"
  },
  "language_info": {
   "codemirror_mode": {
    "name": "ipython",
    "version": 3
   },
   "file_extension": ".py",
   "mimetype": "text/x-python",
   "name": "python",
   "nbconvert_exporter": "python",
   "pygments_lexer": "ipython3",
   "version": "3.9.6"
  },
  "orig_nbformat": 4
 },
 "nbformat": 4,
 "nbformat_minor": 2
}
