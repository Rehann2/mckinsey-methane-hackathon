{
 "cells": [
  {
   "cell_type": "code",
   "execution_count": 1,
   "metadata": {
    "collapsed": true,
    "ExecuteTime": {
     "end_time": "2023-10-12T08:00:25.152347692Z",
     "start_time": "2023-10-12T08:00:14.418921273Z"
    }
   },
   "outputs": [],
   "source": [
    "import os\n",
    "\n",
    "import cv2\n",
    "import torch\n",
    "import numpy as np\n",
    "import seaborn as sns\n",
    "from torchvision import transforms\n",
    "from torch.utils.data import DataLoader\n",
    "from torch.nn.functional import sigmoid\n",
    "from sklearn.metrics import roc_auc_score, classification_report\n",
    "\n",
    "from model import ConvNeXtBase\n",
    "from utils.data import PlumesDataset\n",
    "\n",
    "sns.set_style()"
   ]
  },
  {
   "cell_type": "code",
   "execution_count": 2,
   "outputs": [],
   "source": [
    "model = ConvNeXtBase()"
   ],
   "metadata": {
    "collapsed": false,
    "ExecuteTime": {
     "end_time": "2023-10-12T08:00:28.429627470Z",
     "start_time": "2023-10-12T08:00:27.392039085Z"
    }
   }
  },
  {
   "cell_type": "code",
   "execution_count": 3,
   "outputs": [],
   "source": [
    "state_dict = torch.load(\"../weights/convnext-80/[BEST-80]--2023-10-11 23:14:05.586214--train-accuracy:0.9943--test-accuracy:0.9500--train-roc-auc:0.9996--test-roc-auc:0.9725--ConvNeXtBase--pretrained:True--batch-size:64--augmented:True--epoch:28\")\n",
    "\n",
    "state_dict = torch.load(\"../weights/convnext-100/[BEST]--2023-10-12 09:54:07.602590--train-accuracy:0.9907--test-accuracy:0.0000--train-roc-auc:0.9995--test-roc-auc:0.0000--ConvNeXtBase--pretrained:True--batch-size:64--augmented:True--epoch:32\")"
   ],
   "metadata": {
    "collapsed": false,
    "ExecuteTime": {
     "end_time": "2023-10-12T08:00:38.843430124Z",
     "start_time": "2023-10-12T08:00:29.090419611Z"
    }
   }
  },
  {
   "cell_type": "code",
   "execution_count": 4,
   "outputs": [
    {
     "data": {
      "text/plain": "ConvNeXtBase(\n  (model): ConvNeXt(\n    (features): Sequential(\n      (0): Conv2dNormActivation(\n        (0): Conv2d(3, 128, kernel_size=(4, 4), stride=(4, 4))\n        (1): LayerNorm2d((128,), eps=1e-06, elementwise_affine=True)\n      )\n      (1): Sequential(\n        (0): CNBlock(\n          (block): Sequential(\n            (0): Conv2d(128, 128, kernel_size=(7, 7), stride=(1, 1), padding=(3, 3), groups=128)\n            (1): Permute()\n            (2): LayerNorm((128,), eps=1e-06, elementwise_affine=True)\n            (3): Linear(in_features=128, out_features=512, bias=True)\n            (4): GELU(approximate='none')\n            (5): Linear(in_features=512, out_features=128, bias=True)\n            (6): Permute()\n          )\n          (stochastic_depth): StochasticDepth(p=0.0, mode=row)\n        )\n        (1): CNBlock(\n          (block): Sequential(\n            (0): Conv2d(128, 128, kernel_size=(7, 7), stride=(1, 1), padding=(3, 3), groups=128)\n            (1): Permute()\n            (2): LayerNorm((128,), eps=1e-06, elementwise_affine=True)\n            (3): Linear(in_features=128, out_features=512, bias=True)\n            (4): GELU(approximate='none')\n            (5): Linear(in_features=512, out_features=128, bias=True)\n            (6): Permute()\n          )\n          (stochastic_depth): StochasticDepth(p=0.014285714285714285, mode=row)\n        )\n        (2): CNBlock(\n          (block): Sequential(\n            (0): Conv2d(128, 128, kernel_size=(7, 7), stride=(1, 1), padding=(3, 3), groups=128)\n            (1): Permute()\n            (2): LayerNorm((128,), eps=1e-06, elementwise_affine=True)\n            (3): Linear(in_features=128, out_features=512, bias=True)\n            (4): GELU(approximate='none')\n            (5): Linear(in_features=512, out_features=128, bias=True)\n            (6): Permute()\n          )\n          (stochastic_depth): StochasticDepth(p=0.02857142857142857, mode=row)\n        )\n      )\n      (2): Sequential(\n        (0): LayerNorm2d((128,), eps=1e-06, elementwise_affine=True)\n        (1): Conv2d(128, 256, kernel_size=(2, 2), stride=(2, 2))\n      )\n      (3): Sequential(\n        (0): CNBlock(\n          (block): Sequential(\n            (0): Conv2d(256, 256, kernel_size=(7, 7), stride=(1, 1), padding=(3, 3), groups=256)\n            (1): Permute()\n            (2): LayerNorm((256,), eps=1e-06, elementwise_affine=True)\n            (3): Linear(in_features=256, out_features=1024, bias=True)\n            (4): GELU(approximate='none')\n            (5): Linear(in_features=1024, out_features=256, bias=True)\n            (6): Permute()\n          )\n          (stochastic_depth): StochasticDepth(p=0.04285714285714286, mode=row)\n        )\n        (1): CNBlock(\n          (block): Sequential(\n            (0): Conv2d(256, 256, kernel_size=(7, 7), stride=(1, 1), padding=(3, 3), groups=256)\n            (1): Permute()\n            (2): LayerNorm((256,), eps=1e-06, elementwise_affine=True)\n            (3): Linear(in_features=256, out_features=1024, bias=True)\n            (4): GELU(approximate='none')\n            (5): Linear(in_features=1024, out_features=256, bias=True)\n            (6): Permute()\n          )\n          (stochastic_depth): StochasticDepth(p=0.05714285714285714, mode=row)\n        )\n        (2): CNBlock(\n          (block): Sequential(\n            (0): Conv2d(256, 256, kernel_size=(7, 7), stride=(1, 1), padding=(3, 3), groups=256)\n            (1): Permute()\n            (2): LayerNorm((256,), eps=1e-06, elementwise_affine=True)\n            (3): Linear(in_features=256, out_features=1024, bias=True)\n            (4): GELU(approximate='none')\n            (5): Linear(in_features=1024, out_features=256, bias=True)\n            (6): Permute()\n          )\n          (stochastic_depth): StochasticDepth(p=0.07142857142857142, mode=row)\n        )\n      )\n      (4): Sequential(\n        (0): LayerNorm2d((256,), eps=1e-06, elementwise_affine=True)\n        (1): Conv2d(256, 512, kernel_size=(2, 2), stride=(2, 2))\n      )\n      (5): Sequential(\n        (0): CNBlock(\n          (block): Sequential(\n            (0): Conv2d(512, 512, kernel_size=(7, 7), stride=(1, 1), padding=(3, 3), groups=512)\n            (1): Permute()\n            (2): LayerNorm((512,), eps=1e-06, elementwise_affine=True)\n            (3): Linear(in_features=512, out_features=2048, bias=True)\n            (4): GELU(approximate='none')\n            (5): Linear(in_features=2048, out_features=512, bias=True)\n            (6): Permute()\n          )\n          (stochastic_depth): StochasticDepth(p=0.08571428571428572, mode=row)\n        )\n        (1): CNBlock(\n          (block): Sequential(\n            (0): Conv2d(512, 512, kernel_size=(7, 7), stride=(1, 1), padding=(3, 3), groups=512)\n            (1): Permute()\n            (2): LayerNorm((512,), eps=1e-06, elementwise_affine=True)\n            (3): Linear(in_features=512, out_features=2048, bias=True)\n            (4): GELU(approximate='none')\n            (5): Linear(in_features=2048, out_features=512, bias=True)\n            (6): Permute()\n          )\n          (stochastic_depth): StochasticDepth(p=0.1, mode=row)\n        )\n        (2): CNBlock(\n          (block): Sequential(\n            (0): Conv2d(512, 512, kernel_size=(7, 7), stride=(1, 1), padding=(3, 3), groups=512)\n            (1): Permute()\n            (2): LayerNorm((512,), eps=1e-06, elementwise_affine=True)\n            (3): Linear(in_features=512, out_features=2048, bias=True)\n            (4): GELU(approximate='none')\n            (5): Linear(in_features=2048, out_features=512, bias=True)\n            (6): Permute()\n          )\n          (stochastic_depth): StochasticDepth(p=0.11428571428571428, mode=row)\n        )\n        (3): CNBlock(\n          (block): Sequential(\n            (0): Conv2d(512, 512, kernel_size=(7, 7), stride=(1, 1), padding=(3, 3), groups=512)\n            (1): Permute()\n            (2): LayerNorm((512,), eps=1e-06, elementwise_affine=True)\n            (3): Linear(in_features=512, out_features=2048, bias=True)\n            (4): GELU(approximate='none')\n            (5): Linear(in_features=2048, out_features=512, bias=True)\n            (6): Permute()\n          )\n          (stochastic_depth): StochasticDepth(p=0.12857142857142856, mode=row)\n        )\n        (4): CNBlock(\n          (block): Sequential(\n            (0): Conv2d(512, 512, kernel_size=(7, 7), stride=(1, 1), padding=(3, 3), groups=512)\n            (1): Permute()\n            (2): LayerNorm((512,), eps=1e-06, elementwise_affine=True)\n            (3): Linear(in_features=512, out_features=2048, bias=True)\n            (4): GELU(approximate='none')\n            (5): Linear(in_features=2048, out_features=512, bias=True)\n            (6): Permute()\n          )\n          (stochastic_depth): StochasticDepth(p=0.14285714285714285, mode=row)\n        )\n        (5): CNBlock(\n          (block): Sequential(\n            (0): Conv2d(512, 512, kernel_size=(7, 7), stride=(1, 1), padding=(3, 3), groups=512)\n            (1): Permute()\n            (2): LayerNorm((512,), eps=1e-06, elementwise_affine=True)\n            (3): Linear(in_features=512, out_features=2048, bias=True)\n            (4): GELU(approximate='none')\n            (5): Linear(in_features=2048, out_features=512, bias=True)\n            (6): Permute()\n          )\n          (stochastic_depth): StochasticDepth(p=0.15714285714285714, mode=row)\n        )\n        (6): CNBlock(\n          (block): Sequential(\n            (0): Conv2d(512, 512, kernel_size=(7, 7), stride=(1, 1), padding=(3, 3), groups=512)\n            (1): Permute()\n            (2): LayerNorm((512,), eps=1e-06, elementwise_affine=True)\n            (3): Linear(in_features=512, out_features=2048, bias=True)\n            (4): GELU(approximate='none')\n            (5): Linear(in_features=2048, out_features=512, bias=True)\n            (6): Permute()\n          )\n          (stochastic_depth): StochasticDepth(p=0.17142857142857143, mode=row)\n        )\n        (7): CNBlock(\n          (block): Sequential(\n            (0): Conv2d(512, 512, kernel_size=(7, 7), stride=(1, 1), padding=(3, 3), groups=512)\n            (1): Permute()\n            (2): LayerNorm((512,), eps=1e-06, elementwise_affine=True)\n            (3): Linear(in_features=512, out_features=2048, bias=True)\n            (4): GELU(approximate='none')\n            (5): Linear(in_features=2048, out_features=512, bias=True)\n            (6): Permute()\n          )\n          (stochastic_depth): StochasticDepth(p=0.18571428571428572, mode=row)\n        )\n        (8): CNBlock(\n          (block): Sequential(\n            (0): Conv2d(512, 512, kernel_size=(7, 7), stride=(1, 1), padding=(3, 3), groups=512)\n            (1): Permute()\n            (2): LayerNorm((512,), eps=1e-06, elementwise_affine=True)\n            (3): Linear(in_features=512, out_features=2048, bias=True)\n            (4): GELU(approximate='none')\n            (5): Linear(in_features=2048, out_features=512, bias=True)\n            (6): Permute()\n          )\n          (stochastic_depth): StochasticDepth(p=0.2, mode=row)\n        )\n        (9): CNBlock(\n          (block): Sequential(\n            (0): Conv2d(512, 512, kernel_size=(7, 7), stride=(1, 1), padding=(3, 3), groups=512)\n            (1): Permute()\n            (2): LayerNorm((512,), eps=1e-06, elementwise_affine=True)\n            (3): Linear(in_features=512, out_features=2048, bias=True)\n            (4): GELU(approximate='none')\n            (5): Linear(in_features=2048, out_features=512, bias=True)\n            (6): Permute()\n          )\n          (stochastic_depth): StochasticDepth(p=0.21428571428571427, mode=row)\n        )\n        (10): CNBlock(\n          (block): Sequential(\n            (0): Conv2d(512, 512, kernel_size=(7, 7), stride=(1, 1), padding=(3, 3), groups=512)\n            (1): Permute()\n            (2): LayerNorm((512,), eps=1e-06, elementwise_affine=True)\n            (3): Linear(in_features=512, out_features=2048, bias=True)\n            (4): GELU(approximate='none')\n            (5): Linear(in_features=2048, out_features=512, bias=True)\n            (6): Permute()\n          )\n          (stochastic_depth): StochasticDepth(p=0.22857142857142856, mode=row)\n        )\n        (11): CNBlock(\n          (block): Sequential(\n            (0): Conv2d(512, 512, kernel_size=(7, 7), stride=(1, 1), padding=(3, 3), groups=512)\n            (1): Permute()\n            (2): LayerNorm((512,), eps=1e-06, elementwise_affine=True)\n            (3): Linear(in_features=512, out_features=2048, bias=True)\n            (4): GELU(approximate='none')\n            (5): Linear(in_features=2048, out_features=512, bias=True)\n            (6): Permute()\n          )\n          (stochastic_depth): StochasticDepth(p=0.24285714285714285, mode=row)\n        )\n        (12): CNBlock(\n          (block): Sequential(\n            (0): Conv2d(512, 512, kernel_size=(7, 7), stride=(1, 1), padding=(3, 3), groups=512)\n            (1): Permute()\n            (2): LayerNorm((512,), eps=1e-06, elementwise_affine=True)\n            (3): Linear(in_features=512, out_features=2048, bias=True)\n            (4): GELU(approximate='none')\n            (5): Linear(in_features=2048, out_features=512, bias=True)\n            (6): Permute()\n          )\n          (stochastic_depth): StochasticDepth(p=0.2571428571428571, mode=row)\n        )\n        (13): CNBlock(\n          (block): Sequential(\n            (0): Conv2d(512, 512, kernel_size=(7, 7), stride=(1, 1), padding=(3, 3), groups=512)\n            (1): Permute()\n            (2): LayerNorm((512,), eps=1e-06, elementwise_affine=True)\n            (3): Linear(in_features=512, out_features=2048, bias=True)\n            (4): GELU(approximate='none')\n            (5): Linear(in_features=2048, out_features=512, bias=True)\n            (6): Permute()\n          )\n          (stochastic_depth): StochasticDepth(p=0.2714285714285714, mode=row)\n        )\n        (14): CNBlock(\n          (block): Sequential(\n            (0): Conv2d(512, 512, kernel_size=(7, 7), stride=(1, 1), padding=(3, 3), groups=512)\n            (1): Permute()\n            (2): LayerNorm((512,), eps=1e-06, elementwise_affine=True)\n            (3): Linear(in_features=512, out_features=2048, bias=True)\n            (4): GELU(approximate='none')\n            (5): Linear(in_features=2048, out_features=512, bias=True)\n            (6): Permute()\n          )\n          (stochastic_depth): StochasticDepth(p=0.2857142857142857, mode=row)\n        )\n        (15): CNBlock(\n          (block): Sequential(\n            (0): Conv2d(512, 512, kernel_size=(7, 7), stride=(1, 1), padding=(3, 3), groups=512)\n            (1): Permute()\n            (2): LayerNorm((512,), eps=1e-06, elementwise_affine=True)\n            (3): Linear(in_features=512, out_features=2048, bias=True)\n            (4): GELU(approximate='none')\n            (5): Linear(in_features=2048, out_features=512, bias=True)\n            (6): Permute()\n          )\n          (stochastic_depth): StochasticDepth(p=0.3, mode=row)\n        )\n        (16): CNBlock(\n          (block): Sequential(\n            (0): Conv2d(512, 512, kernel_size=(7, 7), stride=(1, 1), padding=(3, 3), groups=512)\n            (1): Permute()\n            (2): LayerNorm((512,), eps=1e-06, elementwise_affine=True)\n            (3): Linear(in_features=512, out_features=2048, bias=True)\n            (4): GELU(approximate='none')\n            (5): Linear(in_features=2048, out_features=512, bias=True)\n            (6): Permute()\n          )\n          (stochastic_depth): StochasticDepth(p=0.3142857142857143, mode=row)\n        )\n        (17): CNBlock(\n          (block): Sequential(\n            (0): Conv2d(512, 512, kernel_size=(7, 7), stride=(1, 1), padding=(3, 3), groups=512)\n            (1): Permute()\n            (2): LayerNorm((512,), eps=1e-06, elementwise_affine=True)\n            (3): Linear(in_features=512, out_features=2048, bias=True)\n            (4): GELU(approximate='none')\n            (5): Linear(in_features=2048, out_features=512, bias=True)\n            (6): Permute()\n          )\n          (stochastic_depth): StochasticDepth(p=0.32857142857142857, mode=row)\n        )\n        (18): CNBlock(\n          (block): Sequential(\n            (0): Conv2d(512, 512, kernel_size=(7, 7), stride=(1, 1), padding=(3, 3), groups=512)\n            (1): Permute()\n            (2): LayerNorm((512,), eps=1e-06, elementwise_affine=True)\n            (3): Linear(in_features=512, out_features=2048, bias=True)\n            (4): GELU(approximate='none')\n            (5): Linear(in_features=2048, out_features=512, bias=True)\n            (6): Permute()\n          )\n          (stochastic_depth): StochasticDepth(p=0.34285714285714286, mode=row)\n        )\n        (19): CNBlock(\n          (block): Sequential(\n            (0): Conv2d(512, 512, kernel_size=(7, 7), stride=(1, 1), padding=(3, 3), groups=512)\n            (1): Permute()\n            (2): LayerNorm((512,), eps=1e-06, elementwise_affine=True)\n            (3): Linear(in_features=512, out_features=2048, bias=True)\n            (4): GELU(approximate='none')\n            (5): Linear(in_features=2048, out_features=512, bias=True)\n            (6): Permute()\n          )\n          (stochastic_depth): StochasticDepth(p=0.35714285714285715, mode=row)\n        )\n        (20): CNBlock(\n          (block): Sequential(\n            (0): Conv2d(512, 512, kernel_size=(7, 7), stride=(1, 1), padding=(3, 3), groups=512)\n            (1): Permute()\n            (2): LayerNorm((512,), eps=1e-06, elementwise_affine=True)\n            (3): Linear(in_features=512, out_features=2048, bias=True)\n            (4): GELU(approximate='none')\n            (5): Linear(in_features=2048, out_features=512, bias=True)\n            (6): Permute()\n          )\n          (stochastic_depth): StochasticDepth(p=0.37142857142857144, mode=row)\n        )\n        (21): CNBlock(\n          (block): Sequential(\n            (0): Conv2d(512, 512, kernel_size=(7, 7), stride=(1, 1), padding=(3, 3), groups=512)\n            (1): Permute()\n            (2): LayerNorm((512,), eps=1e-06, elementwise_affine=True)\n            (3): Linear(in_features=512, out_features=2048, bias=True)\n            (4): GELU(approximate='none')\n            (5): Linear(in_features=2048, out_features=512, bias=True)\n            (6): Permute()\n          )\n          (stochastic_depth): StochasticDepth(p=0.38571428571428573, mode=row)\n        )\n        (22): CNBlock(\n          (block): Sequential(\n            (0): Conv2d(512, 512, kernel_size=(7, 7), stride=(1, 1), padding=(3, 3), groups=512)\n            (1): Permute()\n            (2): LayerNorm((512,), eps=1e-06, elementwise_affine=True)\n            (3): Linear(in_features=512, out_features=2048, bias=True)\n            (4): GELU(approximate='none')\n            (5): Linear(in_features=2048, out_features=512, bias=True)\n            (6): Permute()\n          )\n          (stochastic_depth): StochasticDepth(p=0.4, mode=row)\n        )\n        (23): CNBlock(\n          (block): Sequential(\n            (0): Conv2d(512, 512, kernel_size=(7, 7), stride=(1, 1), padding=(3, 3), groups=512)\n            (1): Permute()\n            (2): LayerNorm((512,), eps=1e-06, elementwise_affine=True)\n            (3): Linear(in_features=512, out_features=2048, bias=True)\n            (4): GELU(approximate='none')\n            (5): Linear(in_features=2048, out_features=512, bias=True)\n            (6): Permute()\n          )\n          (stochastic_depth): StochasticDepth(p=0.4142857142857143, mode=row)\n        )\n        (24): CNBlock(\n          (block): Sequential(\n            (0): Conv2d(512, 512, kernel_size=(7, 7), stride=(1, 1), padding=(3, 3), groups=512)\n            (1): Permute()\n            (2): LayerNorm((512,), eps=1e-06, elementwise_affine=True)\n            (3): Linear(in_features=512, out_features=2048, bias=True)\n            (4): GELU(approximate='none')\n            (5): Linear(in_features=2048, out_features=512, bias=True)\n            (6): Permute()\n          )\n          (stochastic_depth): StochasticDepth(p=0.42857142857142855, mode=row)\n        )\n        (25): CNBlock(\n          (block): Sequential(\n            (0): Conv2d(512, 512, kernel_size=(7, 7), stride=(1, 1), padding=(3, 3), groups=512)\n            (1): Permute()\n            (2): LayerNorm((512,), eps=1e-06, elementwise_affine=True)\n            (3): Linear(in_features=512, out_features=2048, bias=True)\n            (4): GELU(approximate='none')\n            (5): Linear(in_features=2048, out_features=512, bias=True)\n            (6): Permute()\n          )\n          (stochastic_depth): StochasticDepth(p=0.44285714285714284, mode=row)\n        )\n        (26): CNBlock(\n          (block): Sequential(\n            (0): Conv2d(512, 512, kernel_size=(7, 7), stride=(1, 1), padding=(3, 3), groups=512)\n            (1): Permute()\n            (2): LayerNorm((512,), eps=1e-06, elementwise_affine=True)\n            (3): Linear(in_features=512, out_features=2048, bias=True)\n            (4): GELU(approximate='none')\n            (5): Linear(in_features=2048, out_features=512, bias=True)\n            (6): Permute()\n          )\n          (stochastic_depth): StochasticDepth(p=0.45714285714285713, mode=row)\n        )\n      )\n      (6): Sequential(\n        (0): LayerNorm2d((512,), eps=1e-06, elementwise_affine=True)\n        (1): Conv2d(512, 1024, kernel_size=(2, 2), stride=(2, 2))\n      )\n      (7): Sequential(\n        (0): CNBlock(\n          (block): Sequential(\n            (0): Conv2d(1024, 1024, kernel_size=(7, 7), stride=(1, 1), padding=(3, 3), groups=1024)\n            (1): Permute()\n            (2): LayerNorm((1024,), eps=1e-06, elementwise_affine=True)\n            (3): Linear(in_features=1024, out_features=4096, bias=True)\n            (4): GELU(approximate='none')\n            (5): Linear(in_features=4096, out_features=1024, bias=True)\n            (6): Permute()\n          )\n          (stochastic_depth): StochasticDepth(p=0.4714285714285714, mode=row)\n        )\n        (1): CNBlock(\n          (block): Sequential(\n            (0): Conv2d(1024, 1024, kernel_size=(7, 7), stride=(1, 1), padding=(3, 3), groups=1024)\n            (1): Permute()\n            (2): LayerNorm((1024,), eps=1e-06, elementwise_affine=True)\n            (3): Linear(in_features=1024, out_features=4096, bias=True)\n            (4): GELU(approximate='none')\n            (5): Linear(in_features=4096, out_features=1024, bias=True)\n            (6): Permute()\n          )\n          (stochastic_depth): StochasticDepth(p=0.4857142857142857, mode=row)\n        )\n        (2): CNBlock(\n          (block): Sequential(\n            (0): Conv2d(1024, 1024, kernel_size=(7, 7), stride=(1, 1), padding=(3, 3), groups=1024)\n            (1): Permute()\n            (2): LayerNorm((1024,), eps=1e-06, elementwise_affine=True)\n            (3): Linear(in_features=1024, out_features=4096, bias=True)\n            (4): GELU(approximate='none')\n            (5): Linear(in_features=4096, out_features=1024, bias=True)\n            (6): Permute()\n          )\n          (stochastic_depth): StochasticDepth(p=0.5, mode=row)\n        )\n      )\n    )\n    (avgpool): AdaptiveAvgPool2d(output_size=1)\n    (classifier): Sequential(\n      (0): LayerNorm2d((1024,), eps=1e-06, elementwise_affine=True)\n      (1): Flatten(start_dim=1, end_dim=-1)\n      (2): ClassificationHead(\n        (linear_1): Linear(in_features=1024, out_features=1024, bias=True)\n        (linear_2): Linear(in_features=1024, out_features=128, bias=True)\n        (linear_3): Linear(in_features=128, out_features=1, bias=True)\n      )\n    )\n  )\n)"
     },
     "execution_count": 4,
     "metadata": {},
     "output_type": "execute_result"
    }
   ],
   "source": [
    "model.load_state_dict(state_dict)\n",
    "model.to(\"cuda\")\n",
    "model.double()"
   ],
   "metadata": {
    "collapsed": false,
    "ExecuteTime": {
     "end_time": "2023-10-12T08:00:42.360035038Z",
     "start_time": "2023-10-12T08:00:42.044484957Z"
    }
   }
  },
  {
   "cell_type": "code",
   "execution_count": 5,
   "outputs": [],
   "source": [
    "test_dataset = PlumesDataset(\"../data/dataset_split\", is_train=False)\n",
    "test_dataloader = DataLoader(test_dataset, batch_size=64)"
   ],
   "metadata": {
    "collapsed": false,
    "ExecuteTime": {
     "end_time": "2023-10-12T08:00:44.348218318Z",
     "start_time": "2023-10-12T08:00:44.327874806Z"
    }
   }
  },
  {
   "cell_type": "code",
   "execution_count": 6,
   "outputs": [
    {
     "name": "stdout",
     "output_type": "stream",
     "text": [
      "Test accuracy:  0.9875\n",
      "Test ROC-AUC score:  1.0000\n"
     ]
    }
   ],
   "source": [
    "n_samples = len(test_dataloader.dataset)\n",
    "correct_predictions = 0\n",
    "\n",
    "all_targets = list()\n",
    "predicted_probabilities = list()\n",
    "\n",
    "model.eval()\n",
    "with torch.no_grad():\n",
    "    for X, y_truth in test_dataloader:\n",
    "        X = X.to(\"cuda\")\n",
    "        y_truth = y_truth.unsqueeze(1).to(\"cuda\")\n",
    "        y_pred = sigmoid(model(X))\n",
    "        correct_predictions += (y_truth == (y_pred >= 0.5)).type(torch.float).sum().item()\n",
    "\n",
    "        all_targets.extend(y_truth.cpu().detach().numpy().flatten().tolist())\n",
    "        predicted_probabilities.extend(y_pred.cpu().detach().numpy().flatten().tolist())\n",
    "\n",
    "\n",
    "accuracy = correct_predictions / n_samples\n",
    "print(f\"Test accuracy: {accuracy: .4f}\")\n",
    "\n",
    "roc_auc = roc_auc_score(all_targets, predicted_probabilities)\n",
    "print(f\"Test ROC-AUC score: {roc_auc: .4f}\")"
   ],
   "metadata": {
    "collapsed": false,
    "ExecuteTime": {
     "end_time": "2023-10-12T08:00:50.967364197Z",
     "start_time": "2023-10-12T08:00:47.505661419Z"
    }
   }
  },
  {
   "cell_type": "code",
   "execution_count": 7,
   "outputs": [],
   "source": [
    "y_pred = (np.array(predicted_probabilities) >= 0.5).astype(np.int32).tolist()\n",
    "y_truth = np.array(all_targets).astype(np.int32).tolist()"
   ],
   "metadata": {
    "collapsed": false,
    "ExecuteTime": {
     "end_time": "2023-10-12T08:00:57.012502982Z",
     "start_time": "2023-10-12T08:00:57.005101737Z"
    }
   }
  },
  {
   "cell_type": "code",
   "execution_count": 8,
   "outputs": [
    {
     "name": "stdout",
     "output_type": "stream",
     "text": [
      "              precision    recall  f1-score   support\n",
      "\n",
      "           0       0.98      1.00      0.99        40\n",
      "           1       1.00      0.97      0.99        40\n",
      "\n",
      "    accuracy                           0.99        80\n",
      "   macro avg       0.99      0.99      0.99        80\n",
      "weighted avg       0.99      0.99      0.99        80\n",
      "\n"
     ]
    }
   ],
   "source": [
    "print(classification_report(y_truth, y_pred))"
   ],
   "metadata": {
    "collapsed": false,
    "ExecuteTime": {
     "end_time": "2023-10-12T08:00:59.127677365Z",
     "start_time": "2023-10-12T08:00:59.083880114Z"
    }
   }
  },
  {
   "cell_type": "code",
   "execution_count": 9,
   "outputs": [
    {
     "data": {
      "text/plain": "<Figure size 640x480 with 1 Axes>",
      "image/png": "[encoded data removed]"
     },
     "metadata": {},
     "output_type": "display_data"
    }
   ],
   "source": [
    "import matplotlib.pyplot as plt\n",
    "\n",
    "plt.hist(predicted_probabilities)\n",
    "plt.show()"
   ],
   "metadata": {
    "collapsed": false,
    "ExecuteTime": {
     "end_time": "2023-10-12T08:01:03.518364267Z",
     "start_time": "2023-10-12T08:01:02.614903377Z"
    }
   }
  },
  {
   "cell_type": "code",
   "execution_count": 10,
   "outputs": [],
   "source": [
    "_BASE_TRANSFORM = transforms.Compose([\n",
    "    transforms.Lambda(lambda image: torch.from_numpy(image / 65535).unsqueeze(0).repeat(3, 1, 1)),\n",
    "    transforms.Normalize(mean=[0.485, 0.456, 0.406], std=[0.229, 0.224, 0.225])\n",
    "])"
   ],
   "metadata": {
    "collapsed": false,
    "ExecuteTime": {
     "end_time": "2023-10-12T08:01:15.153914341Z",
     "start_time": "2023-10-12T08:01:15.144155384Z"
    }
   }
  },
  {
   "cell_type": "code",
   "execution_count": 11,
   "outputs": [],
   "source": [
    "import pandas as pd"
   ],
   "metadata": {
    "collapsed": false,
    "ExecuteTime": {
     "end_time": "2023-10-12T08:01:21.626414499Z",
     "start_time": "2023-10-12T08:01:21.620363739Z"
    }
   }
  },
  {
   "cell_type": "code",
   "execution_count": 12,
   "outputs": [],
   "source": [
    "submission_df = pd.read_csv(\"../data/submission_test_file.csv\")"
   ],
   "metadata": {
    "collapsed": false,
    "ExecuteTime": {
     "end_time": "2023-10-12T08:01:24.125090214Z",
     "start_time": "2023-10-12T08:01:23.687523411Z"
    }
   }
  },
  {
   "cell_type": "code",
   "execution_count": 13,
   "outputs": [
    {
     "data": {
      "text/plain": "                                        path  label\n0  20230101_methane_mixing_ratio_id_1503.tif     -1\n1  20230101_methane_mixing_ratio_id_7352.tif     -1\n2  20230101_methane_mixing_ratio_id_7566.tif     -1\n3  20230103_methane_mixing_ratio_id_4574.tif     -1\n4  20230103_methane_mixing_ratio_id_5449.tif     -1",
      "text/html": "<div>\n<style scoped>\n    .dataframe tbody tr th:only-of-type {\n        vertical-align: middle;\n    }\n\n    .dataframe tbody tr th {\n        vertical-align: top;\n    }\n\n    .dataframe thead th {\n        text-align: right;\n    }\n</style>\n<table border=\"1\" class=\"dataframe\">\n  <thead>\n    <tr style=\"text-align: right;\">\n      <th></th>\n      <th>path</th>\n      <th>label</th>\n    </tr>\n  </thead>\n  <tbody>\n    <tr>\n      <th>0</th>\n      <td>20230101_methane_mixing_ratio_id_1503.tif</td>\n      <td>-1</td>\n    </tr>\n    <tr>\n      <th>1</th>\n      <td>20230101_methane_mixing_ratio_id_7352.tif</td>\n      <td>-1</td>\n    </tr>\n    <tr>\n      <th>2</th>\n      <td>20230101_methane_mixing_ratio_id_7566.tif</td>\n      <td>-1</td>\n    </tr>\n    <tr>\n      <th>3</th>\n      <td>20230103_methane_mixing_ratio_id_4574.tif</td>\n      <td>-1</td>\n    </tr>\n    <tr>\n      <th>4</th>\n      <td>20230103_methane_mixing_ratio_id_5449.tif</td>\n      <td>-1</td>\n    </tr>\n  </tbody>\n</table>\n</div>"
     },
     "execution_count": 13,
     "metadata": {},
     "output_type": "execute_result"
    }
   ],
   "source": [
    "submission_df.head()"
   ],
   "metadata": {
    "collapsed": false,
    "ExecuteTime": {
     "end_time": "2023-10-12T08:01:28.500438446Z",
     "start_time": "2023-10-12T08:01:28.494693248Z"
    }
   }
  },
  {
   "cell_type": "code",
   "execution_count": 14,
   "outputs": [
    {
     "name": "stdout",
     "output_type": "stream",
     "text": [
      "20230101_methane_mixing_ratio_id_1503.tif - 0.0005117894750922085\n",
      "20230101_methane_mixing_ratio_id_7352.tif - 0.9997676265561708\n",
      "20230101_methane_mixing_ratio_id_7566.tif - 0.9988491565097264\n",
      "20230103_methane_mixing_ratio_id_4574.tif - 0.0007691838095602717\n",
      "20230103_methane_mixing_ratio_id_5449.tif - 0.9996482727830258\n",
      "20230104_methane_mixing_ratio_id_2384.tif - 0.0005574287210308542\n",
      "20230105_methane_mixing_ratio_id_4690.tif - 0.8479167272161027\n",
      "20230106_methane_mixing_ratio_id_7965.tif - 0.00038970196062461463\n",
      "20230107_methane_mixing_ratio_id_7467.tif - 0.999430267112439\n",
      "20230107_methane_mixing_ratio_id_9907.tif - 0.0005523654882355065\n",
      "20230108_methane_mixing_ratio_id_7566.tif - 0.9990506257985919\n",
      "20230109_methane_mixing_ratio_id_0462.tif - 0.9997463924032451\n",
      "20230109_methane_mixing_ratio_id_0765.tif - 0.9992355510956822\n",
      "20230109_methane_mixing_ratio_id_2542.tif - 0.9984194516417202\n",
      "20230110_methane_mixing_ratio_id_9482.tif - 0.9996995508543276\n",
      "20230111_methane_mixing_ratio_id_0716.tif - 0.0004753628853112715\n",
      "20230111_methane_mixing_ratio_id_3773.tif - 0.0014483622013048113\n",
      "20230111_methane_mixing_ratio_id_5510.tif - 0.0011841958252758761\n",
      "20230111_methane_mixing_ratio_id_7820.tif - 0.9997428366351656\n",
      "20230112_methane_mixing_ratio_id_9912.tif - 0.0017724599707817596\n",
      "20230114_methane_mixing_ratio_id_8701.tif - 0.9984420095024934\n",
      "20230115_methane_mixing_ratio_id_2863.tif - 0.00569113772645478\n",
      "20230116_methane_mixing_ratio_id_9715.tif - 0.9995346527197287\n",
      "20230117_methane_mixing_ratio_id_5045.tif - 0.00063225403764097\n",
      "20230117_methane_mixing_ratio_id_5654.tif - 0.0005917364308451426\n",
      "20230118_methane_mixing_ratio_id_5045.tif - 0.0005533850383575159\n",
      "20230118_methane_mixing_ratio_id_5654.tif - 0.0002875639769682501\n",
      "20230118_methane_mixing_ratio_id_6084.tif - 0.9981121062576113\n",
      "20230119_methane_mixing_ratio_id_5929.tif - 0.09682029122869373\n",
      "20230120_methane_mixing_ratio_id_4456.tif - 0.0007602110046602399\n",
      "20230120_methane_mixing_ratio_id_6551.tif - 0.9997771038491814\n",
      "20230120_methane_mixing_ratio_id_6707.tif - 0.0005862776762730206\n",
      "20230120_methane_mixing_ratio_id_8446.tif - 0.9997771038491814\n",
      "20230120_methane_mixing_ratio_id_9028.tif - 0.9997771038491814\n",
      "20230121_methane_mixing_ratio_id_3733.tif - 0.9980922774293118\n",
      "20230121_methane_mixing_ratio_id_9912.tif - 0.0006291378275863312\n",
      "20230122_methane_mixing_ratio_id_5510.tif - 0.0010538506086431318\n",
      "20230122_methane_mixing_ratio_id_6675.tif - 0.983013126834332\n",
      "20230124_methane_mixing_ratio_id_4690.tif - 0.0008157845995323714\n",
      "20230124_methane_mixing_ratio_id_5045.tif - 0.0006066468985788973\n",
      "20230125_methane_mixing_ratio_id_3773.tif - 0.00044184806403651877\n",
      "20230126_methane_mixing_ratio_id_8815.tif - 0.9990416879229607\n",
      "20230128_methane_mixing_ratio_id_5726.tif - 0.9996540037689302\n",
      "20230129_methane_mixing_ratio_id_2708.tif - 0.0007396912184083673\n",
      "20230129_methane_mixing_ratio_id_4690.tif - 0.0006422470716587744\n",
      "20230129_methane_mixing_ratio_id_9482.tif - 0.9997406566042146\n",
      "20230130_methane_mixing_ratio_id_0462.tif - 0.9997684961305976\n",
      "20230130_methane_mixing_ratio_id_4287.tif - 0.9965454127275435\n",
      "20230202_methane_mixing_ratio_id_6707.tif - 0.00043973429453267044\n",
      "20230203_methane_mixing_ratio_id_7566.tif - 0.9997701520139859\n",
      "20230204_methane_mixing_ratio_id_5491.tif - 0.995333530130469\n",
      "20230206_methane_mixing_ratio_id_3348.tif - 0.9541558876999815\n",
      "20230207_methane_mixing_ratio_id_5491.tif - 0.0019522042415109444\n",
      "20230207_methane_mixing_ratio_id_6084.tif - 0.9992317258648608\n",
      "20230207_methane_mixing_ratio_id_6310.tif - 0.5622800973295985\n",
      "20230210_methane_mixing_ratio_id_2040.tif - 0.9858243073162938\n",
      "20230210_methane_mixing_ratio_id_2774.tif - 0.9996480370793639\n",
      "20230210_methane_mixing_ratio_id_3353.tif - 0.9995925767560827\n",
      "20230210_methane_mixing_ratio_id_9715.tif - 0.9996480370793639\n",
      "20230211_methane_mixing_ratio_id_3733.tif - 0.9997614238889931\n",
      "20230213_methane_mixing_ratio_id_6148.tif - 0.9996423136752262\n",
      "20230213_methane_mixing_ratio_id_6310.tif - 0.9998035332860665\n",
      "20230213_methane_mixing_ratio_id_6707.tif - 0.00043867261867747766\n",
      "20230214_methane_mixing_ratio_id_6707.tif - 0.0012116711245165267\n",
      "20230215_methane_mixing_ratio_id_6518.tif - 0.9488345748629572\n",
      "20230217_methane_mixing_ratio_id_5654.tif - 0.001447459053247294\n",
      "20230220_methane_mixing_ratio_id_2146.tif - 0.0015177607940019173\n",
      "20230220_methane_mixing_ratio_id_2384.tif - 0.0004836815951243197\n",
      "20230221_methane_mixing_ratio_id_2774.tif - 0.997355455985241\n",
      "20230221_methane_mixing_ratio_id_4690.tif - 0.0008765403820101147\n",
      "20230221_methane_mixing_ratio_id_5510.tif - 0.000811792594170139\n",
      "20230222_methane_mixing_ratio_id_2146.tif - 0.9995020045457375\n",
      "20230222_methane_mixing_ratio_id_4574.tif - 0.00045091325324871193\n",
      "20230222_methane_mixing_ratio_id_4690.tif - 0.9995020045457375\n",
      "20230222_methane_mixing_ratio_id_5315.tif - 0.002010221522102266\n",
      "20230222_methane_mixing_ratio_id_5654.tif - 0.9995020045457375\n",
      "20230222_methane_mixing_ratio_id_9715.tif - 0.0007284675135163962\n",
      "20230223_methane_mixing_ratio_id_5510.tif - 0.00046499578777680674\n",
      "20230225_methane_mixing_ratio_id_2274.tif - 0.9997756546830351\n",
      "20230227_methane_mixing_ratio_id_9028.tif - 0.9996863302840912\n",
      "20230301_methane_mixing_ratio_id_7566.tif - 0.9994457559259401\n",
      "20230302_methane_mixing_ratio_id_3130.tif - 0.11920536004779647\n",
      "20230302_methane_mixing_ratio_id_4287.tif - 0.9997821799595693\n",
      "20230302_methane_mixing_ratio_id_6218.tif - 0.9399849437659735\n",
      "20230305_methane_mixing_ratio_id_6127.tif - 0.9997549221183161\n",
      "20230306_methane_mixing_ratio_id_4456.tif - 0.0005998896224993918\n",
      "20230306_methane_mixing_ratio_id_5510.tif - 0.004209445607166195\n",
      "20230306_methane_mixing_ratio_id_9912.tif - 0.0005871872980539248\n",
      "20230308_methane_mixing_ratio_id_4456.tif - 0.0006547933937122776\n",
      "20230309_methane_mixing_ratio_id_4690.tif - 0.00032156609883783355\n",
      "20230309_methane_mixing_ratio_id_5654.tif - 0.00032156609883783355\n",
      "20230312_methane_mixing_ratio_id_2708.tif - 0.0017288125374129804\n",
      "20230313_methane_mixing_ratio_id_6707.tif - 0.004192994536033729\n",
      "20230314_methane_mixing_ratio_id_2274.tif - 0.9991736342767347\n",
      "20230315_methane_mixing_ratio_id_2708.tif - 0.0038347834707001456\n",
      "20230322_methane_mixing_ratio_id_0859.tif - 0.15178709853188507\n",
      "20230324_methane_mixing_ratio_id_0859.tif - 0.0007720281746451022\n",
      "20230327_methane_mixing_ratio_id_5587.tif - 0.004498103337683624\n",
      "20230327_methane_mixing_ratio_id_6707.tif - 0.00047570715475993525\n",
      "20230328_methane_mixing_ratio_id_6426.tif - 0.6389176397722791\n",
      "20230328_methane_mixing_ratio_id_9907.tif - 0.025839353373086228\n",
      "20230403_methane_mixing_ratio_id_1503.tif - 0.000781152553702936\n",
      "20230403_methane_mixing_ratio_id_4574.tif - 0.0004315326411535166\n",
      "20230404_methane_mixing_ratio_id_5510.tif - 0.0031986411370547125\n",
      "20230404_methane_mixing_ratio_id_6675.tif - 0.2232718557513288\n",
      "20230405_methane_mixing_ratio_id_3773.tif - 0.01211843768238224\n",
      "20230405_methane_mixing_ratio_id_4456.tif - 0.002998362347766524\n",
      "20230406_methane_mixing_ratio_id_8773.tif - 0.771882301867988\n"
     ]
    }
   ],
   "source": [
    "path_data = \"../data/dataset/test_data/images\"\n",
    "predictions = list()\n",
    "for filename in submission_df.path.values:\n",
    "    img = cv2.imread(os.path.join(path_data, filename), -1)\n",
    "    img = _BASE_TRANSFORM(img)\n",
    "    img = img.to(\"cuda\")\n",
    "    img = img.unsqueeze(0)\n",
    "    y_pred = sigmoid(model(img)).item()\n",
    "    print(f\"{filename} - {y_pred}\")\n",
    "    predictions.append(y_pred)"
   ],
   "metadata": {
    "collapsed": false,
    "ExecuteTime": {
     "end_time": "2023-10-12T08:01:41.341107479Z",
     "start_time": "2023-10-12T08:01:32.055673905Z"
    }
   }
  },
  {
   "cell_type": "code",
   "execution_count": 15,
   "outputs": [],
   "source": [
    "submission_df.label = predictions"
   ],
   "metadata": {
    "collapsed": false,
    "ExecuteTime": {
     "end_time": "2023-10-12T08:01:41.346429056Z",
     "start_time": "2023-10-12T08:01:41.343538977Z"
    }
   }
  },
  {
   "cell_type": "code",
   "execution_count": 16,
   "outputs": [],
   "source": [
    "submission_df.to_csv(\"../Output/convnext-100.csv\", index=False)"
   ],
   "metadata": {
    "collapsed": false,
    "ExecuteTime": {
     "end_time": "2023-10-12T08:01:46.685512612Z",
     "start_time": "2023-10-12T08:01:46.578539058Z"
    }
   }
  },
  {
   "cell_type": "code",
   "execution_count": null,
   "outputs": [],
   "source": [],
   "metadata": {
    "collapsed": false
   }
  }
 ],
 "metadata": {
  "kernelspec": {
   "display_name": "Python 3",
   "language": "python",
   "name": "python3"
  },
  "language_info": {
   "codemirror_mode": {
    "name": "ipython",
    "version": 2
   },
   "file_extension": ".py",
   "mimetype": "text/x-python",
   "name": "python",
   "nbconvert_exporter": "python",
   "pygments_lexer": "ipython2",
   "version": "2.7.6"
  }
 },
 "nbformat": 4,
 "nbformat_minor": 0
}
