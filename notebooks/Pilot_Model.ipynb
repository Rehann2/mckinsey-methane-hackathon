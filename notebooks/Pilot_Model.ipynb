{
 "cells": [
  {
   "cell_type": "markdown",
   "metadata": {},
   "source": [
    "# Imports"
   ]
  },
  {
   "cell_type": "code",
   "execution_count": 82,
   "metadata": {},
   "outputs": [],
   "source": [
    "import pandas as pd\n",
    "import numpy as np\n",
    "import rasterio\n",
    "import geopandas as gpd\n",
    "import earthpy.plot as ep\n",
    "import os\n",
    "import imageio\n",
    "import cv2\n",
    "os.getcwd()\n",
    "import pandas as pd\n",
    "import numpy as np\n",
    "import matplotlib.pyplot as plt\n",
    "import tensorflow as tf\n",
    "from tensorflow import keras\n",
    "from tensorflow.keras import layers\n",
    "from sklearn.model_selection import train_test_split\n",
    "from sklearn.metrics import accuracy_score, classification_report, confusion_matrix\n",
    "from sklearn.preprocessing import LabelBinarizer\n",
    "from imblearn.over_sampling import SMOTE\n",
    "from tensorflow.keras.preprocessing.image import ImageDataGenerator\n",
    "from tensorflow.keras.utils import to_categorical\n",
    "from tensorflow import keras\n",
    "from tensorflow.keras import layers\n",
    "import glob\n",
    "from tensorflow.keras.callbacks import EarlyStopping\n",
    "from sklearn.preprocessing import LabelBinarizer\n",
    "from sklearn.preprocessing import LabelEncoder\n",
    "import cv2\n",
    "keras.utils.set_random_seed(101)\n",
    "from tensorflow.keras.applications import MobileNetV2, EfficientNetB0"
   ]
  },
  {
   "cell_type": "markdown",
   "metadata": {},
   "source": [
    "# Path"
   ]
  },
  {
   "cell_type": "code",
   "execution_count": 2,
   "metadata": {},
   "outputs": [
    {
     "data": {
      "text/plain": [
       "'c:\\\\Users\\\\Rehan Ibrahim\\\\OneDrive - HEC Paris\\\\Desktop\\\\methane-hackathon\\\\notebooks'"
      ]
     },
     "execution_count": 2,
     "metadata": {},
     "output_type": "execute_result"
    }
   ],
   "source": [
    "os.getcwd()"
   ]
  },
  {
   "cell_type": "code",
   "execution_count": 3,
   "metadata": {},
   "outputs": [
    {
     "name": "stdout",
     "output_type": "stream",
     "text": [
      "c:\\Users\\Rehan Ibrahim\\OneDrive - HEC Paris\\Desktop\\methane-hackathon\n"
     ]
    }
   ],
   "source": [
    "# only run it once\n",
    "cd .."
   ]
  },
  {
   "cell_type": "markdown",
   "metadata": {},
   "source": [
    "# Loading and EDA"
   ]
  },
  {
   "cell_type": "code",
   "execution_count": 4,
   "metadata": {},
   "outputs": [
    {
     "name": "stderr",
     "output_type": "stream",
     "text": [
      "c:\\Users\\Rehan Ibrahim\\AppData\\Local\\Programs\\Python\\Python310\\lib\\site-packages\\rasterio\\__init__.py:320: NotGeoreferencedWarning: Dataset has no geotransform, gcps, or rpcs. The identity matrix will be returned.\n",
      "  dataset = DatasetReader(path, driver=driver, sharing=sharing, **kwargs)\n"
     ]
    },
    {
     "data": {
      "text/plain": [
       "(1.0, 1.0)"
      ]
     },
     "execution_count": 4,
     "metadata": {},
     "output_type": "execute_result"
    }
   ],
   "source": [
    "with rasterio.open(\"data/dataset/train_data/images/plume/20230101_methane_mixing_ratio_id_4928.tif\") as src:\n",
    "    img = src.read(1)\n",
    "    \n",
    "img_meta =src.meta\n",
    "img_meta\n",
    "src.res"
   ]
  },
  {
   "cell_type": "code",
   "execution_count": 5,
   "metadata": {},
   "outputs": [],
   "source": [
    "meta_df = pd.read_csv('data/dataset/train_data/metadata.csv')"
   ]
  },
  {
   "cell_type": "code",
   "execution_count": 6,
   "metadata": {},
   "outputs": [
    {
     "data": {
      "text/plain": [
       "lat        lon       \n",
       "29.631951   35.952379    21\n",
       "32.713854   44.609398    19\n",
       "33.990812   39.641866    18\n",
       "28.510000   77.442400    17\n",
       "36.596520   38.321405    15\n",
       "                         ..\n",
       "21.039986  -77.824694     1\n",
       "24.907500   67.023000     1\n",
       "23.763333   86.396667     1\n",
       "23.740000   90.595000     1\n",
       "68.570113   25.563059     1\n",
       "Length: 101, dtype: int64"
      ]
     },
     "execution_count": 6,
     "metadata": {},
     "output_type": "execute_result"
    }
   ],
   "source": [
    "meta_df[['lat','lon']].value_counts()"
   ]
  },
  {
   "cell_type": "code",
   "execution_count": 7,
   "metadata": {},
   "outputs": [
    {
     "data": {
      "text/html": [
       "<div>\n",
       "<style scoped>\n",
       "    .dataframe tbody tr th:only-of-type {\n",
       "        vertical-align: middle;\n",
       "    }\n",
       "\n",
       "    .dataframe tbody tr th {\n",
       "        vertical-align: top;\n",
       "    }\n",
       "\n",
       "    .dataframe thead th {\n",
       "        text-align: right;\n",
       "    }\n",
       "</style>\n",
       "<table border=\"1\" class=\"dataframe\">\n",
       "  <thead>\n",
       "    <tr style=\"text-align: right;\">\n",
       "      <th></th>\n",
       "      <th>date</th>\n",
       "      <th>id_coord</th>\n",
       "      <th>plume</th>\n",
       "      <th>set</th>\n",
       "      <th>lat</th>\n",
       "      <th>lon</th>\n",
       "      <th>coord_x</th>\n",
       "      <th>coord_y</th>\n",
       "      <th>path</th>\n",
       "    </tr>\n",
       "  </thead>\n",
       "  <tbody>\n",
       "    <tr>\n",
       "      <th>0</th>\n",
       "      <td>20230223</td>\n",
       "      <td>id_6675</td>\n",
       "      <td>yes</td>\n",
       "      <td>train</td>\n",
       "      <td>31.528750</td>\n",
       "      <td>74.330625</td>\n",
       "      <td>24</td>\n",
       "      <td>47</td>\n",
       "      <td>images/plume/20230223_methane_mixing_ratio_id_...</td>\n",
       "    </tr>\n",
       "    <tr>\n",
       "      <th>1</th>\n",
       "      <td>20230103</td>\n",
       "      <td>id_2542</td>\n",
       "      <td>yes</td>\n",
       "      <td>train</td>\n",
       "      <td>35.538000</td>\n",
       "      <td>112.524000</td>\n",
       "      <td>42</td>\n",
       "      <td>37</td>\n",
       "      <td>images/plume/20230103_methane_mixing_ratio_id_...</td>\n",
       "    </tr>\n",
       "    <tr>\n",
       "      <th>2</th>\n",
       "      <td>20230301</td>\n",
       "      <td>id_6546</td>\n",
       "      <td>yes</td>\n",
       "      <td>train</td>\n",
       "      <td>21.060000</td>\n",
       "      <td>84.936667</td>\n",
       "      <td>58</td>\n",
       "      <td>15</td>\n",
       "      <td>images/plume/20230301_methane_mixing_ratio_id_...</td>\n",
       "    </tr>\n",
       "    <tr>\n",
       "      <th>3</th>\n",
       "      <td>20230225</td>\n",
       "      <td>id_6084</td>\n",
       "      <td>yes</td>\n",
       "      <td>train</td>\n",
       "      <td>26.756667</td>\n",
       "      <td>80.973333</td>\n",
       "      <td>28</td>\n",
       "      <td>62</td>\n",
       "      <td>images/plume/20230225_methane_mixing_ratio_id_...</td>\n",
       "    </tr>\n",
       "    <tr>\n",
       "      <th>4</th>\n",
       "      <td>20230105</td>\n",
       "      <td>id_2012</td>\n",
       "      <td>yes</td>\n",
       "      <td>train</td>\n",
       "      <td>34.800000</td>\n",
       "      <td>40.770000</td>\n",
       "      <td>59</td>\n",
       "      <td>44</td>\n",
       "      <td>images/plume/20230105_methane_mixing_ratio_id_...</td>\n",
       "    </tr>\n",
       "  </tbody>\n",
       "</table>\n",
       "</div>"
      ],
      "text/plain": [
       "       date id_coord plume    set        lat         lon  coord_x  coord_y  \\\n",
       "0  20230223  id_6675   yes  train  31.528750   74.330625       24       47   \n",
       "1  20230103  id_2542   yes  train  35.538000  112.524000       42       37   \n",
       "2  20230301  id_6546   yes  train  21.060000   84.936667       58       15   \n",
       "3  20230225  id_6084   yes  train  26.756667   80.973333       28       62   \n",
       "4  20230105  id_2012   yes  train  34.800000   40.770000       59       44   \n",
       "\n",
       "                                                path  \n",
       "0  images/plume/20230223_methane_mixing_ratio_id_...  \n",
       "1  images/plume/20230103_methane_mixing_ratio_id_...  \n",
       "2  images/plume/20230301_methane_mixing_ratio_id_...  \n",
       "3  images/plume/20230225_methane_mixing_ratio_id_...  \n",
       "4  images/plume/20230105_methane_mixing_ratio_id_...  "
      ]
     },
     "execution_count": 7,
     "metadata": {},
     "output_type": "execute_result"
    }
   ],
   "source": [
    "meta_df.head()"
   ]
  },
  {
   "cell_type": "code",
   "execution_count": 8,
   "metadata": {},
   "outputs": [],
   "source": [
    "meta_df['path'] = 'data/dataset/train_data/' + meta_df['path'].astype(str) \n",
    "meta_df['path'] =  meta_df['path'].astype(str) +'.tif'"
   ]
  },
  {
   "cell_type": "code",
   "execution_count": 9,
   "metadata": {},
   "outputs": [
    {
     "data": {
      "text/html": [
       "<div>\n",
       "<style scoped>\n",
       "    .dataframe tbody tr th:only-of-type {\n",
       "        vertical-align: middle;\n",
       "    }\n",
       "\n",
       "    .dataframe tbody tr th {\n",
       "        vertical-align: top;\n",
       "    }\n",
       "\n",
       "    .dataframe thead th {\n",
       "        text-align: right;\n",
       "    }\n",
       "</style>\n",
       "<table border=\"1\" class=\"dataframe\">\n",
       "  <thead>\n",
       "    <tr style=\"text-align: right;\">\n",
       "      <th></th>\n",
       "      <th>date</th>\n",
       "      <th>id_coord</th>\n",
       "      <th>plume</th>\n",
       "      <th>set</th>\n",
       "      <th>lat</th>\n",
       "      <th>lon</th>\n",
       "      <th>coord_x</th>\n",
       "      <th>coord_y</th>\n",
       "      <th>path</th>\n",
       "    </tr>\n",
       "  </thead>\n",
       "  <tbody>\n",
       "    <tr>\n",
       "      <th>0</th>\n",
       "      <td>20230223</td>\n",
       "      <td>id_6675</td>\n",
       "      <td>yes</td>\n",
       "      <td>train</td>\n",
       "      <td>31.528750</td>\n",
       "      <td>74.330625</td>\n",
       "      <td>24</td>\n",
       "      <td>47</td>\n",
       "      <td>data/dataset/train_data/images/plume/20230223_...</td>\n",
       "    </tr>\n",
       "    <tr>\n",
       "      <th>1</th>\n",
       "      <td>20230103</td>\n",
       "      <td>id_2542</td>\n",
       "      <td>yes</td>\n",
       "      <td>train</td>\n",
       "      <td>35.538000</td>\n",
       "      <td>112.524000</td>\n",
       "      <td>42</td>\n",
       "      <td>37</td>\n",
       "      <td>data/dataset/train_data/images/plume/20230103_...</td>\n",
       "    </tr>\n",
       "    <tr>\n",
       "      <th>2</th>\n",
       "      <td>20230301</td>\n",
       "      <td>id_6546</td>\n",
       "      <td>yes</td>\n",
       "      <td>train</td>\n",
       "      <td>21.060000</td>\n",
       "      <td>84.936667</td>\n",
       "      <td>58</td>\n",
       "      <td>15</td>\n",
       "      <td>data/dataset/train_data/images/plume/20230301_...</td>\n",
       "    </tr>\n",
       "    <tr>\n",
       "      <th>3</th>\n",
       "      <td>20230225</td>\n",
       "      <td>id_6084</td>\n",
       "      <td>yes</td>\n",
       "      <td>train</td>\n",
       "      <td>26.756667</td>\n",
       "      <td>80.973333</td>\n",
       "      <td>28</td>\n",
       "      <td>62</td>\n",
       "      <td>data/dataset/train_data/images/plume/20230225_...</td>\n",
       "    </tr>\n",
       "    <tr>\n",
       "      <th>4</th>\n",
       "      <td>20230105</td>\n",
       "      <td>id_2012</td>\n",
       "      <td>yes</td>\n",
       "      <td>train</td>\n",
       "      <td>34.800000</td>\n",
       "      <td>40.770000</td>\n",
       "      <td>59</td>\n",
       "      <td>44</td>\n",
       "      <td>data/dataset/train_data/images/plume/20230105_...</td>\n",
       "    </tr>\n",
       "    <tr>\n",
       "      <th>...</th>\n",
       "      <td>...</td>\n",
       "      <td>...</td>\n",
       "      <td>...</td>\n",
       "      <td>...</td>\n",
       "      <td>...</td>\n",
       "      <td>...</td>\n",
       "      <td>...</td>\n",
       "      <td>...</td>\n",
       "      <td>...</td>\n",
       "    </tr>\n",
       "    <tr>\n",
       "      <th>425</th>\n",
       "      <td>20230302</td>\n",
       "      <td>id_6658</td>\n",
       "      <td>no</td>\n",
       "      <td>train</td>\n",
       "      <td>30.965619</td>\n",
       "      <td>34.541283</td>\n",
       "      <td>39</td>\n",
       "      <td>36</td>\n",
       "      <td>data/dataset/train_data/images/no_plume/202303...</td>\n",
       "    </tr>\n",
       "    <tr>\n",
       "      <th>426</th>\n",
       "      <td>20230218</td>\n",
       "      <td>id_4690</td>\n",
       "      <td>no</td>\n",
       "      <td>train</td>\n",
       "      <td>35.950275</td>\n",
       "      <td>40.267652</td>\n",
       "      <td>29</td>\n",
       "      <td>28</td>\n",
       "      <td>data/dataset/train_data/images/no_plume/202302...</td>\n",
       "    </tr>\n",
       "    <tr>\n",
       "      <th>427</th>\n",
       "      <td>20230213</td>\n",
       "      <td>id_2519</td>\n",
       "      <td>no</td>\n",
       "      <td>train</td>\n",
       "      <td>49.963801</td>\n",
       "      <td>6.016938</td>\n",
       "      <td>23</td>\n",
       "      <td>10</td>\n",
       "      <td>data/dataset/train_data/images/no_plume/202302...</td>\n",
       "    </tr>\n",
       "    <tr>\n",
       "      <th>428</th>\n",
       "      <td>20230213</td>\n",
       "      <td>id_5510</td>\n",
       "      <td>no</td>\n",
       "      <td>train</td>\n",
       "      <td>32.713854</td>\n",
       "      <td>44.609398</td>\n",
       "      <td>55</td>\n",
       "      <td>54</td>\n",
       "      <td>data/dataset/train_data/images/no_plume/202302...</td>\n",
       "    </tr>\n",
       "    <tr>\n",
       "      <th>429</th>\n",
       "      <td>20230330</td>\n",
       "      <td>id_6609</td>\n",
       "      <td>no</td>\n",
       "      <td>train</td>\n",
       "      <td>47.758979</td>\n",
       "      <td>27.801630</td>\n",
       "      <td>21</td>\n",
       "      <td>15</td>\n",
       "      <td>data/dataset/train_data/images/no_plume/202303...</td>\n",
       "    </tr>\n",
       "  </tbody>\n",
       "</table>\n",
       "<p>430 rows × 9 columns</p>\n",
       "</div>"
      ],
      "text/plain": [
       "         date id_coord plume    set        lat         lon  coord_x  coord_y  \\\n",
       "0    20230223  id_6675   yes  train  31.528750   74.330625       24       47   \n",
       "1    20230103  id_2542   yes  train  35.538000  112.524000       42       37   \n",
       "2    20230301  id_6546   yes  train  21.060000   84.936667       58       15   \n",
       "3    20230225  id_6084   yes  train  26.756667   80.973333       28       62   \n",
       "4    20230105  id_2012   yes  train  34.800000   40.770000       59       44   \n",
       "..        ...      ...   ...    ...        ...         ...      ...      ...   \n",
       "425  20230302  id_6658    no  train  30.965619   34.541283       39       36   \n",
       "426  20230218  id_4690    no  train  35.950275   40.267652       29       28   \n",
       "427  20230213  id_2519    no  train  49.963801    6.016938       23       10   \n",
       "428  20230213  id_5510    no  train  32.713854   44.609398       55       54   \n",
       "429  20230330  id_6609    no  train  47.758979   27.801630       21       15   \n",
       "\n",
       "                                                  path  \n",
       "0    data/dataset/train_data/images/plume/20230223_...  \n",
       "1    data/dataset/train_data/images/plume/20230103_...  \n",
       "2    data/dataset/train_data/images/plume/20230301_...  \n",
       "3    data/dataset/train_data/images/plume/20230225_...  \n",
       "4    data/dataset/train_data/images/plume/20230105_...  \n",
       "..                                                 ...  \n",
       "425  data/dataset/train_data/images/no_plume/202303...  \n",
       "426  data/dataset/train_data/images/no_plume/202302...  \n",
       "427  data/dataset/train_data/images/no_plume/202302...  \n",
       "428  data/dataset/train_data/images/no_plume/202302...  \n",
       "429  data/dataset/train_data/images/no_plume/202303...  \n",
       "\n",
       "[430 rows x 9 columns]"
      ]
     },
     "execution_count": 9,
     "metadata": {},
     "output_type": "execute_result"
    }
   ],
   "source": [
    "meta_df"
   ]
  },
  {
   "cell_type": "code",
   "execution_count": 10,
   "metadata": {},
   "outputs": [],
   "source": [
    "meta_df['plume'] = meta_df['plume'].map({'yes': 1, 'no': 0})"
   ]
  },
  {
   "cell_type": "code",
   "execution_count": 11,
   "metadata": {},
   "outputs": [
    {
     "data": {
      "text/html": [
       "<div>\n",
       "<style scoped>\n",
       "    .dataframe tbody tr th:only-of-type {\n",
       "        vertical-align: middle;\n",
       "    }\n",
       "\n",
       "    .dataframe tbody tr th {\n",
       "        vertical-align: top;\n",
       "    }\n",
       "\n",
       "    .dataframe thead th {\n",
       "        text-align: right;\n",
       "    }\n",
       "</style>\n",
       "<table border=\"1\" class=\"dataframe\">\n",
       "  <thead>\n",
       "    <tr style=\"text-align: right;\">\n",
       "      <th></th>\n",
       "      <th>date</th>\n",
       "      <th>id_coord</th>\n",
       "      <th>plume</th>\n",
       "      <th>set</th>\n",
       "      <th>lat</th>\n",
       "      <th>lon</th>\n",
       "      <th>coord_x</th>\n",
       "      <th>coord_y</th>\n",
       "      <th>path</th>\n",
       "    </tr>\n",
       "  </thead>\n",
       "  <tbody>\n",
       "    <tr>\n",
       "      <th>0</th>\n",
       "      <td>20230223</td>\n",
       "      <td>id_6675</td>\n",
       "      <td>1</td>\n",
       "      <td>train</td>\n",
       "      <td>31.528750</td>\n",
       "      <td>74.330625</td>\n",
       "      <td>24</td>\n",
       "      <td>47</td>\n",
       "      <td>data/dataset/train_data/images/plume/20230223_...</td>\n",
       "    </tr>\n",
       "    <tr>\n",
       "      <th>1</th>\n",
       "      <td>20230103</td>\n",
       "      <td>id_2542</td>\n",
       "      <td>1</td>\n",
       "      <td>train</td>\n",
       "      <td>35.538000</td>\n",
       "      <td>112.524000</td>\n",
       "      <td>42</td>\n",
       "      <td>37</td>\n",
       "      <td>data/dataset/train_data/images/plume/20230103_...</td>\n",
       "    </tr>\n",
       "    <tr>\n",
       "      <th>2</th>\n",
       "      <td>20230301</td>\n",
       "      <td>id_6546</td>\n",
       "      <td>1</td>\n",
       "      <td>train</td>\n",
       "      <td>21.060000</td>\n",
       "      <td>84.936667</td>\n",
       "      <td>58</td>\n",
       "      <td>15</td>\n",
       "      <td>data/dataset/train_data/images/plume/20230301_...</td>\n",
       "    </tr>\n",
       "    <tr>\n",
       "      <th>3</th>\n",
       "      <td>20230225</td>\n",
       "      <td>id_6084</td>\n",
       "      <td>1</td>\n",
       "      <td>train</td>\n",
       "      <td>26.756667</td>\n",
       "      <td>80.973333</td>\n",
       "      <td>28</td>\n",
       "      <td>62</td>\n",
       "      <td>data/dataset/train_data/images/plume/20230225_...</td>\n",
       "    </tr>\n",
       "    <tr>\n",
       "      <th>4</th>\n",
       "      <td>20230105</td>\n",
       "      <td>id_2012</td>\n",
       "      <td>1</td>\n",
       "      <td>train</td>\n",
       "      <td>34.800000</td>\n",
       "      <td>40.770000</td>\n",
       "      <td>59</td>\n",
       "      <td>44</td>\n",
       "      <td>data/dataset/train_data/images/plume/20230105_...</td>\n",
       "    </tr>\n",
       "    <tr>\n",
       "      <th>...</th>\n",
       "      <td>...</td>\n",
       "      <td>...</td>\n",
       "      <td>...</td>\n",
       "      <td>...</td>\n",
       "      <td>...</td>\n",
       "      <td>...</td>\n",
       "      <td>...</td>\n",
       "      <td>...</td>\n",
       "      <td>...</td>\n",
       "    </tr>\n",
       "    <tr>\n",
       "      <th>425</th>\n",
       "      <td>20230302</td>\n",
       "      <td>id_6658</td>\n",
       "      <td>0</td>\n",
       "      <td>train</td>\n",
       "      <td>30.965619</td>\n",
       "      <td>34.541283</td>\n",
       "      <td>39</td>\n",
       "      <td>36</td>\n",
       "      <td>data/dataset/train_data/images/no_plume/202303...</td>\n",
       "    </tr>\n",
       "    <tr>\n",
       "      <th>426</th>\n",
       "      <td>20230218</td>\n",
       "      <td>id_4690</td>\n",
       "      <td>0</td>\n",
       "      <td>train</td>\n",
       "      <td>35.950275</td>\n",
       "      <td>40.267652</td>\n",
       "      <td>29</td>\n",
       "      <td>28</td>\n",
       "      <td>data/dataset/train_data/images/no_plume/202302...</td>\n",
       "    </tr>\n",
       "    <tr>\n",
       "      <th>427</th>\n",
       "      <td>20230213</td>\n",
       "      <td>id_2519</td>\n",
       "      <td>0</td>\n",
       "      <td>train</td>\n",
       "      <td>49.963801</td>\n",
       "      <td>6.016938</td>\n",
       "      <td>23</td>\n",
       "      <td>10</td>\n",
       "      <td>data/dataset/train_data/images/no_plume/202302...</td>\n",
       "    </tr>\n",
       "    <tr>\n",
       "      <th>428</th>\n",
       "      <td>20230213</td>\n",
       "      <td>id_5510</td>\n",
       "      <td>0</td>\n",
       "      <td>train</td>\n",
       "      <td>32.713854</td>\n",
       "      <td>44.609398</td>\n",
       "      <td>55</td>\n",
       "      <td>54</td>\n",
       "      <td>data/dataset/train_data/images/no_plume/202302...</td>\n",
       "    </tr>\n",
       "    <tr>\n",
       "      <th>429</th>\n",
       "      <td>20230330</td>\n",
       "      <td>id_6609</td>\n",
       "      <td>0</td>\n",
       "      <td>train</td>\n",
       "      <td>47.758979</td>\n",
       "      <td>27.801630</td>\n",
       "      <td>21</td>\n",
       "      <td>15</td>\n",
       "      <td>data/dataset/train_data/images/no_plume/202303...</td>\n",
       "    </tr>\n",
       "  </tbody>\n",
       "</table>\n",
       "<p>430 rows × 9 columns</p>\n",
       "</div>"
      ],
      "text/plain": [
       "         date id_coord  plume    set        lat         lon  coord_x  coord_y  \\\n",
       "0    20230223  id_6675      1  train  31.528750   74.330625       24       47   \n",
       "1    20230103  id_2542      1  train  35.538000  112.524000       42       37   \n",
       "2    20230301  id_6546      1  train  21.060000   84.936667       58       15   \n",
       "3    20230225  id_6084      1  train  26.756667   80.973333       28       62   \n",
       "4    20230105  id_2012      1  train  34.800000   40.770000       59       44   \n",
       "..        ...      ...    ...    ...        ...         ...      ...      ...   \n",
       "425  20230302  id_6658      0  train  30.965619   34.541283       39       36   \n",
       "426  20230218  id_4690      0  train  35.950275   40.267652       29       28   \n",
       "427  20230213  id_2519      0  train  49.963801    6.016938       23       10   \n",
       "428  20230213  id_5510      0  train  32.713854   44.609398       55       54   \n",
       "429  20230330  id_6609      0  train  47.758979   27.801630       21       15   \n",
       "\n",
       "                                                  path  \n",
       "0    data/dataset/train_data/images/plume/20230223_...  \n",
       "1    data/dataset/train_data/images/plume/20230103_...  \n",
       "2    data/dataset/train_data/images/plume/20230301_...  \n",
       "3    data/dataset/train_data/images/plume/20230225_...  \n",
       "4    data/dataset/train_data/images/plume/20230105_...  \n",
       "..                                                 ...  \n",
       "425  data/dataset/train_data/images/no_plume/202303...  \n",
       "426  data/dataset/train_data/images/no_plume/202302...  \n",
       "427  data/dataset/train_data/images/no_plume/202302...  \n",
       "428  data/dataset/train_data/images/no_plume/202302...  \n",
       "429  data/dataset/train_data/images/no_plume/202303...  \n",
       "\n",
       "[430 rows x 9 columns]"
      ]
     },
     "execution_count": 11,
     "metadata": {},
     "output_type": "execute_result"
    }
   ],
   "source": [
    "meta_df"
   ]
  },
  {
   "cell_type": "code",
   "execution_count": 12,
   "metadata": {},
   "outputs": [
    {
     "name": "stderr",
     "output_type": "stream",
     "text": [
      "c:\\Users\\Rehan Ibrahim\\AppData\\Local\\Programs\\Python\\Python310\\lib\\site-packages\\rasterio\\__init__.py:320: NotGeoreferencedWarning: Dataset has no geotransform, gcps, or rpcs. The identity matrix will be returned.\n",
      "  dataset = DatasetReader(path, driver=driver, sharing=sharing, **kwargs)\n"
     ]
    },
    {
     "data": {
      "image/png": "[encoded data removed]",
      "text/plain": [
       "<Figure size 1200x1200 with 2 Axes>"
      ]
     },
     "metadata": {},
     "output_type": "display_data"
    },
    {
     "data": {
      "text/plain": [
       "<AxesSubplot: >"
      ]
     },
     "execution_count": 12,
     "metadata": {},
     "output_type": "execute_result"
    }
   ],
   "source": [
    "with rasterio.open('data/dataset/train_data/images/plume/20230223_methane_mixing_ratio_id_6675.tif') as src:\n",
    "    img = src.read(1)\n",
    "ep.plot_bands(img)"
   ]
  },
  {
   "cell_type": "code",
   "execution_count": 76,
   "metadata": {},
   "outputs": [],
   "source": [
    "image_data = []\n",
    "plume_labels = []\n",
    "\n",
    "# Loop through the metadata and load images\n",
    "for index, row in meta_df.iterrows():\n",
    "    image_path = row['path']\n",
    "    plume_label = row['plume']\n",
    "\n",
    "    # Read the TIFF image using rasterio\n",
    "    try:\n",
    "        with rasterio.open(image_path) as src:\n",
    "            image = src.read(1)  # Assuming single-band image, adjust if necessary\n",
    "            # You may want to resize or preprocess the image here if necessary\n",
    "\n",
    "        # Append the image data and plume label to their respective lists\n",
    "        image_data.append(image)\n",
    "        plume_labels.append(plume_label)\n",
    "    except Exception as e:\n",
    "        print(f\"Error loading image at {image_path}: {e}\")\n",
    "\n",
    "# Convert the lists into NumPy arrays\n",
    "image_data = np.array(image_data)\n",
    "plume_labels = np.array(plume_labels)"
   ]
  },
  {
   "cell_type": "code",
   "execution_count": 14,
   "metadata": {},
   "outputs": [
    {
     "data": {
      "text/plain": [
       "array([1, 1, 1, 1, 1, 1, 1, 1, 1, 1, 1, 1, 1, 1, 1, 1, 1, 1, 1, 1, 1, 1,\n",
       "       1, 1, 1, 1, 1, 1, 1, 1, 1, 1, 1, 1, 1, 1, 1, 1, 1, 1, 1, 1, 1, 1,\n",
       "       1, 1, 1, 1, 1, 1, 1, 1, 1, 1, 1, 1, 1, 1, 1, 1, 1, 1, 1, 1, 1, 1,\n",
       "       1, 1, 1, 1, 1, 1, 1, 1, 1, 1, 1, 1, 1, 1, 1, 1, 1, 1, 1, 1, 1, 1,\n",
       "       1, 1, 1, 1, 1, 1, 1, 1, 1, 1, 1, 1, 1, 1, 1, 1, 1, 1, 1, 1, 1, 1,\n",
       "       1, 1, 1, 1, 1, 1, 1, 1, 1, 1, 1, 1, 1, 1, 1, 1, 1, 1, 1, 1, 1, 1,\n",
       "       1, 1, 1, 1, 1, 1, 1, 1, 1, 1, 1, 1, 1, 1, 1, 1, 1, 1, 1, 1, 1, 1,\n",
       "       1, 1, 1, 1, 1, 1, 1, 1, 1, 1, 1, 1, 1, 1, 1, 1, 1, 1, 1, 1, 1, 1,\n",
       "       1, 1, 1, 1, 1, 1, 1, 1, 1, 1, 1, 1, 1, 1, 1, 1, 1, 1, 1, 1, 1, 1,\n",
       "       1, 1, 1, 1, 1, 1, 1, 1, 1, 1, 1, 1, 1, 1, 1, 1, 1, 1, 0, 0, 0, 0,\n",
       "       0, 0, 0, 0, 0, 0, 0, 0, 0, 0, 0, 0, 0, 0, 0, 0, 0, 0, 0, 0, 0, 0,\n",
       "       0, 0, 0, 0, 0, 0, 0, 0, 0, 0, 0, 0, 0, 0, 0, 0, 0, 0, 0, 0, 0, 0,\n",
       "       0, 0, 0, 0, 0, 0, 0, 0, 0, 0, 0, 0, 0, 0, 0, 0, 0, 0, 0, 0, 0, 0,\n",
       "       0, 0, 0, 0, 0, 0, 0, 0, 0, 0, 0, 0, 0, 0, 0, 0, 0, 0, 0, 0, 0, 0,\n",
       "       0, 0, 0, 0, 0, 0, 0, 0, 0, 0, 0, 0, 0, 0, 0, 0, 0, 0, 0, 0, 0, 0,\n",
       "       0, 0, 0, 0, 0, 0, 0, 0, 0, 0, 0, 0, 0, 0, 0, 0, 0, 0, 0, 0, 0, 0,\n",
       "       0, 0, 0, 0, 0, 0, 0, 0, 0, 0, 0, 0, 0, 0, 0, 0, 0, 0, 0, 0, 0, 0,\n",
       "       0, 0, 0, 0, 0, 0, 0, 0, 0, 0, 0, 0, 0, 0, 0, 0, 0, 0, 0, 0, 0, 0,\n",
       "       0, 0, 0, 0, 0, 0, 0, 0, 0, 0, 0, 0, 0, 0, 0, 0, 0, 0, 0, 0, 0, 0,\n",
       "       0, 0, 0, 0, 0, 0, 0, 0, 0, 0, 0, 0])"
      ]
     },
     "execution_count": 14,
     "metadata": {},
     "output_type": "execute_result"
    }
   ],
   "source": [
    "plume_labels"
   ]
  },
  {
   "cell_type": "code",
   "execution_count": 15,
   "metadata": {},
   "outputs": [
    {
     "data": {
      "text/plain": [
       "array([[[15373, 23745, 23745, ...,     0,     0,     0],\n",
       "        [21083, 22849, 22849, ...,     0,     0,     0],\n",
       "        [21083, 22849, 22849, ...,     0,  3348,  3348],\n",
       "        ...,\n",
       "        [49287, 49287, 43637, ..., 22215, 29933, 29933],\n",
       "        [49287, 43637, 43637, ..., 13711, 14626, 14626],\n",
       "        [49834, 48903, 48903, ..., 13711, 14626, 14626]],\n",
       "\n",
       "       [[    0,     0,     0, ...,     0,     0,     0],\n",
       "        [ 6386, 11516,  1537, ...,     0,     0,     0],\n",
       "        [ 6386, 11516,  1537, ...,     0,     0,     0],\n",
       "        ...,\n",
       "        [ 3878,  6976,  6548, ...,     0,     0,     0],\n",
       "        [ 3878,  6976,  6548, ...,     0,     0,     0],\n",
       "        [ 4225,     0,  4100, ...,     0,     0,     0]],\n",
       "\n",
       "       [[14118,  9487,  9487, ..., 25601, 22138, 22138],\n",
       "        [16914,  5666,  5666, ..., 30095, 26363, 26363],\n",
       "        [16914,  5666,  5666, ..., 30095, 26363, 26363],\n",
       "        ...,\n",
       "        [14918, 14918, 16676, ..., 18546,     0,     0],\n",
       "        [14918, 14918, 16676, ..., 18546,     0,     0],\n",
       "        [    0,     0,     0, ...,  6638,     0,     0]],\n",
       "\n",
       "       ...,\n",
       "\n",
       "       [[42516, 41205, 45212, ..., 15059, 32915, 32915],\n",
       "        [    0, 48178, 45978, ..., 15059, 32915, 32915],\n",
       "        [    0, 48178, 45978, ..., 11351,  3934,  3934],\n",
       "        ...,\n",
       "        [    0,     0,     0, ...,     0,     0,     0],\n",
       "        [    0,     0,     0, ...,     0,     0,     0],\n",
       "        [    0,     0,     0, ...,     0,     0,     0]],\n",
       "\n",
       "       [[11184, 12509, 12509, ...,     0,     0,     0],\n",
       "        [11184, 12509, 12509, ...,     0,     0,     0],\n",
       "        [13173, 14030, 14030, ...,     0,     0,     0],\n",
       "        ...,\n",
       "        [27451, 27451, 27451, ...,     0,     0,     0],\n",
       "        [24843, 24843, 24843, ...,     0,     0,     0],\n",
       "        [24843, 24843, 24843, ...,     0,     0,     0]],\n",
       "\n",
       "       [[16737,     0,  7920, ..., 14995, 38241, 17538],\n",
       "        [15144, 16789, 24014, ..., 14995, 38241, 17538],\n",
       "        [15144, 16789, 24014, ...,  3623, 29676, 41046],\n",
       "        ...,\n",
       "        [    0,     0, 17724, ...,     0,     0,  1133],\n",
       "        [    0,     0, 17724, ..., 18202, 37727, 46228],\n",
       "        [    0,     0,  1945, ..., 18202, 37727, 46228]]], dtype=uint16)"
      ]
     },
     "execution_count": 15,
     "metadata": {},
     "output_type": "execute_result"
    }
   ],
   "source": [
    "image_data"
   ]
  },
  {
   "cell_type": "code",
   "execution_count": 28,
   "metadata": {},
   "outputs": [
    {
     "data": {
      "text/plain": [
       "array([[[0.23457694, 0.36232547, 0.36232547, ..., 0.        ,\n",
       "         0.        , 0.        ],\n",
       "        [0.32170596, 0.34865339, 0.34865339, ..., 0.        ,\n",
       "         0.        , 0.        ],\n",
       "        [0.32170596, 0.34865339, 0.34865339, ..., 0.        ,\n",
       "         0.05108721, 0.05108721],\n",
       "        ...,\n",
       "        [0.75207141, 0.75207141, 0.66585794, ..., 0.33897917,\n",
       "         0.4567483 , 0.4567483 ],\n",
       "        [0.75207141, 0.66585794, 0.66585794, ..., 0.20921645,\n",
       "         0.22317845, 0.22317845],\n",
       "        [0.7604181 , 0.74621195, 0.74621195, ..., 0.20921645,\n",
       "         0.22317845, 0.22317845]],\n",
       "\n",
       "       [[0.        , 0.        , 0.        , ..., 0.        ,\n",
       "         0.        , 0.        ],\n",
       "        [0.09744411, 0.1757229 , 0.02345312, ..., 0.        ,\n",
       "         0.        , 0.        ],\n",
       "        [0.09744411, 0.1757229 , 0.02345312, ..., 0.        ,\n",
       "         0.        , 0.        ],\n",
       "        ...,\n",
       "        [0.05917449, 0.10644694, 0.09991608, ..., 0.        ,\n",
       "         0.        , 0.        ],\n",
       "        [0.05917449, 0.10644694, 0.09991608, ..., 0.        ,\n",
       "         0.        , 0.        ],\n",
       "        [0.06446937, 0.        , 0.06256199, ..., 0.        ,\n",
       "         0.        , 0.        ]],\n",
       "\n",
       "       [[0.21542687, 0.14476234, 0.14476234, ..., 0.39064622,\n",
       "         0.33780423, 0.33780423],\n",
       "        [0.2580911 , 0.08645762, 0.08645762, ..., 0.45922026,\n",
       "         0.40227359, 0.40227359],\n",
       "        [0.2580911 , 0.08645762, 0.08645762, ..., 0.45922026,\n",
       "         0.40227359, 0.40227359],\n",
       "        ...,\n",
       "        [0.22763409, 0.22763409, 0.25445945, ..., 0.28299382,\n",
       "         0.        , 0.        ],\n",
       "        [0.22763409, 0.22763409, 0.25445945, ..., 0.28299382,\n",
       "         0.        , 0.        ],\n",
       "        [0.        , 0.        , 0.        , ..., 0.10128939,\n",
       "         0.        , 0.        ]],\n",
       "\n",
       "       ...,\n",
       "\n",
       "       [[0.64875257, 0.628748  , 0.6898909 , ..., 0.22978561,\n",
       "         0.50225071, 0.50225071],\n",
       "        [0.        , 0.73514916, 0.70157931, ..., 0.22978561,\n",
       "         0.50225071, 0.50225071],\n",
       "        [0.        , 0.73514916, 0.70157931, ..., 0.17320516,\n",
       "         0.06002899, 0.06002899],\n",
       "        ...,\n",
       "        [0.        , 0.        , 0.        , ..., 0.        ,\n",
       "         0.        , 0.        ],\n",
       "        [0.        , 0.        , 0.        , ..., 0.        ,\n",
       "         0.        , 0.        ],\n",
       "        [0.        , 0.        , 0.        , ..., 0.        ,\n",
       "         0.        , 0.        ]],\n",
       "\n",
       "       [[0.1706569 , 0.1908751 , 0.1908751 , ..., 0.        ,\n",
       "         0.        , 0.        ],\n",
       "        [0.1706569 , 0.1908751 , 0.1908751 , ..., 0.        ,\n",
       "         0.        , 0.        ],\n",
       "        [0.2010071 , 0.21408408, 0.21408408, ..., 0.        ,\n",
       "         0.        , 0.        ],\n",
       "        ...,\n",
       "        [0.41887541, 0.41887541, 0.41887541, ..., 0.        ,\n",
       "         0.        , 0.        ],\n",
       "        [0.37907988, 0.37907988, 0.37907988, ..., 0.        ,\n",
       "         0.        , 0.        ],\n",
       "        [0.37907988, 0.37907988, 0.37907988, ..., 0.        ,\n",
       "         0.        , 0.        ]],\n",
       "\n",
       "       [[0.25539025, 0.        , 0.12085145, ..., 0.22880903,\n",
       "         0.58352026, 0.26761273],\n",
       "        [0.23108263, 0.25618372, 0.36643015, ..., 0.22880903,\n",
       "         0.58352026, 0.26761273],\n",
       "        [0.23108263, 0.25618372, 0.36643015, ..., 0.05528344,\n",
       "         0.45282673, 0.62632181],\n",
       "        ...,\n",
       "        [0.        , 0.        , 0.2704509 , ..., 0.        ,\n",
       "         0.        , 0.01728847],\n",
       "        [0.        , 0.        , 0.2704509 , ..., 0.27774472,\n",
       "         0.57567712, 0.70539406],\n",
       "        [0.        , 0.        , 0.0296788 , ..., 0.27774472,\n",
       "         0.57567712, 0.70539406]]])"
      ]
     },
     "execution_count": 28,
     "metadata": {},
     "output_type": "execute_result"
    }
   ],
   "source": [
    "min_val = image_data.min()\n",
    "max_val = image_data.max()\n",
    "\n",
    "# Normalize the image data\n",
    "normalized_image_data = (image_data - min_val) / (max_val - min_val)\n",
    "normalized_image_data"
   ]
  },
  {
   "cell_type": "code",
   "execution_count": 61,
   "metadata": {},
   "outputs": [
    {
     "name": "stdout",
     "output_type": "stream",
     "text": [
      "X_train shape: (258, 64, 64)\n",
      "X_test shape: (172, 64, 64)\n"
     ]
    }
   ],
   "source": [
    "X = normalized_image_data\n",
    "y = plume_labels\n",
    "\n",
    "\n",
    "#X = [np.transpose(image, (1, 2, 0)) for image in X]\n",
    "\n",
    "#X = np.array(X)\n",
    "np.random.seed(101)\n",
    "X_train, X_test, y_train, y_test = train_test_split(X, y, test_size=0.4, random_state=42,shuffle=True)\n",
    "\n",
    "print(\"X_train shape:\", X_train.shape)\n",
    "print(\"X_test shape:\", X_test.shape)"
   ]
  },
  {
   "cell_type": "code",
   "execution_count": 52,
   "metadata": {},
   "outputs": [
    {
     "data": {
      "text/plain": [
       "array([0, 1, 1, 1, 0, 0, 1, 0, 0, 0, 1, 1, 1, 0, 1, 0, 0, 1, 0, 1, 1, 1,\n",
       "       1, 1, 0, 0, 0, 0, 0, 0, 1, 0, 0, 1, 1, 0, 0, 0, 0, 1, 1, 0, 0, 1,\n",
       "       0, 0, 1, 1, 1, 0, 1, 1, 0, 0, 1, 0, 0, 0, 1, 0, 1, 0, 1, 1, 1, 1,\n",
       "       1, 1, 0, 1, 1, 1, 0, 0, 1, 0, 1, 1, 1, 1, 1, 0, 1, 1, 1, 0, 0, 0,\n",
       "       0, 0, 0, 0, 1, 1, 0, 0, 0, 1, 0, 0, 0, 0, 0, 0, 0, 1, 0, 0, 0, 0,\n",
       "       1, 1, 1, 0, 1, 0, 0, 1, 1, 0, 0, 0, 0, 1, 0, 0, 0, 0, 0, 0, 1, 1,\n",
       "       1, 0, 0, 1, 1, 0, 0, 0, 1, 0, 1, 0, 1, 0, 1, 0, 1, 1, 0, 1, 1, 1,\n",
       "       1, 1, 1, 1, 0, 0, 0, 1, 1, 0, 0, 0, 1, 1, 0, 1, 0, 0, 0, 1, 0, 0,\n",
       "       1, 0, 0, 1, 1, 1, 0, 1, 1, 1, 1, 0, 1, 0, 1, 0, 0, 0, 0, 1, 0, 1,\n",
       "       1, 1, 1, 1, 0, 1, 0, 1, 1, 1, 0, 0, 0, 0, 0, 0, 0, 1, 1, 0, 0, 0,\n",
       "       0, 0, 0, 0, 0, 1, 1, 1, 0, 1, 0, 0, 1, 1, 1, 0, 1, 1, 1, 1, 0, 0,\n",
       "       1, 0, 1, 0, 0, 0, 1, 0, 1, 0, 1, 0, 0, 1, 0, 0, 0, 0, 1, 0, 1, 1,\n",
       "       1, 0, 1, 1, 1, 1, 0, 0, 0, 1, 0, 1, 0, 1, 0, 0, 0, 0, 0, 1, 1, 1,\n",
       "       0, 1, 0, 1, 0, 1, 1, 0, 1, 1, 1, 1, 0, 0, 1])"
      ]
     },
     "execution_count": 52,
     "metadata": {},
     "output_type": "execute_result"
    }
   ],
   "source": [
    "y_train"
   ]
  },
  {
   "cell_type": "markdown",
   "metadata": {},
   "source": [
    "# Data Augmentation"
   ]
  },
  {
   "cell_type": "code",
   "execution_count": 62,
   "metadata": {},
   "outputs": [],
   "source": [
    "datagen = ImageDataGenerator(\n",
    "    rotation_range=10,\n",
    "    width_shift_range=0.1,\n",
    "    height_shift_range=0.1,\n",
    "    shear_range=0.2,\n",
    "    horizontal_flip=True,\n",
    "    fill_mode='nearest'\n",
    ")\n",
    "X_train = X_train.reshape(-1,64,64,1)\n",
    "batch_size=64\n",
    "steps_per_epoch = len(X_train) // batch_size\n",
    "# Fit the data augmentation generator to your training data\n",
    "datagen.fit(X_train)\n",
    "\n",
    "augmented_images = []\n",
    "augmented_labels = []\n",
    "\n",
    "# Generate augmented images and labels\n",
    "for X_batch, y_batch in datagen.flow(X_train, y_train, batch_size=batch_size,shuffle=True):\n",
    "    augmented_images.append(X_batch)\n",
    "    augmented_labels.append(y_batch)\n",
    "    if len(augmented_images) >= len(X_train):\n",
    "        break\n",
    "\n",
    "X_train_augmented = np.concatenate(augmented_images)\n",
    "y_train_augmented = np.concatenate(augmented_labels)\n",
    "\n",
    "y_train_augmented = y_train_augmented.astype(int)"
   ]
  },
  {
   "cell_type": "markdown",
   "metadata": {},
   "source": [
    "# Model 1(Pilot)"
   ]
  },
  {
   "cell_type": "code",
   "execution_count": 63,
   "metadata": {},
   "outputs": [
    {
     "name": "stdout",
     "output_type": "stream",
     "text": [
      "Model: \"sequential_4\"\n",
      "_________________________________________________________________\n",
      " Layer (type)                Output Shape              Param #   \n",
      "=================================================================\n",
      " conv2d_12 (Conv2D)          (None, 62, 62, 32)        320       \n",
      "                                                                 \n",
      " max_pooling2d_12 (MaxPooli  (None, 31, 31, 32)        0         \n",
      " ng2D)                                                           \n",
      "                                                                 \n",
      " conv2d_13 (Conv2D)          (None, 29, 29, 64)        18496     \n",
      "                                                                 \n",
      " max_pooling2d_13 (MaxPooli  (None, 14, 14, 64)        0         \n",
      " ng2D)                                                           \n",
      "                                                                 \n",
      " conv2d_14 (Conv2D)          (None, 12, 12, 128)       73856     \n",
      "                                                                 \n",
      " max_pooling2d_14 (MaxPooli  (None, 6, 6, 128)         0         \n",
      " ng2D)                                                           \n",
      "                                                                 \n",
      " flatten_4 (Flatten)         (None, 4608)              0         \n",
      "                                                                 \n",
      " dense_12 (Dense)            (None, 128)               589952    \n",
      "                                                                 \n",
      " dropout_8 (Dropout)         (None, 128)               0         \n",
      "                                                                 \n",
      " dense_13 (Dense)            (None, 64)                8256      \n",
      "                                                                 \n",
      " dropout_9 (Dropout)         (None, 64)                0         \n",
      "                                                                 \n",
      " dense_14 (Dense)            (None, 1)                 65        \n",
      "                                                                 \n",
      "=================================================================\n",
      "Total params: 690945 (2.64 MB)\n",
      "Trainable params: 690945 (2.64 MB)\n",
      "Non-trainable params: 0 (0.00 Byte)\n",
      "_________________________________________________________________\n"
     ]
    }
   ],
   "source": [
    "import tensorflow as tf\n",
    "from tensorflow.keras import layers\n",
    "\n",
    "# Set the random seed for reproducibility\n",
    "tf.random.set_seed(1234)\n",
    "\n",
    "# Define the CNN model\n",
    "model = tf.keras.Sequential([\n",
    "    # Convolutional layers\n",
    "    layers.Conv2D(32, (3, 3), activation='relu', input_shape=(64, 64, 1)),\n",
    "    layers.MaxPooling2D((2, 2)),\n",
    "    layers.Conv2D(64, (3, 3), activation='relu'),\n",
    "    layers.MaxPooling2D((2, 2)),\n",
    "    layers.Conv2D(128, (3, 3), activation='relu'),\n",
    "    layers.MaxPooling2D((2, 2)),\n",
    "    \n",
    "    # Flatten the output for fully connected layers\n",
    "    layers.Flatten(),\n",
    "    \n",
    "    # Fully connected layers\n",
    "    layers.Dense(128, activation='relu'),\n",
    "    layers.Dropout(0.5),  \n",
    "    layers.Dense(64, activation='relu'),\n",
    "    layers.Dropout(0.5),\n",
    "    layers.Dense(1, activation='sigmoid')  # Use 'sigmoid' for binary classification\n",
    "])\n",
    "\n",
    "# Compile the model\n",
    "model.compile(optimizer='adam',\n",
    "              loss='binary_crossentropy',  # Use 'binary_crossentropy' for binary classification\n",
    "              metrics=['accuracy'])\n",
    "\n",
    "# Print the model summary to view the architecture\n",
    "model.summary()\n",
    "\n",
    "# Define early stopping\n",
    "early_stopping = tf.keras.callbacks.EarlyStopping(\n",
    "    monitor='val_loss', \n",
    "    patience=5,           \n",
    "    restore_best_weights=True)\n"
   ]
  },
  {
   "cell_type": "code",
   "execution_count": 64,
   "metadata": {},
   "outputs": [
    {
     "name": "stdout",
     "output_type": "stream",
     "text": [
      "Epoch 1/100\n",
      "334/334 [==============================] - 26s 74ms/step - loss: 0.4827 - accuracy: 0.7571 - val_loss: 0.2728 - val_accuracy: 0.8895\n",
      "Epoch 2/100\n",
      "334/334 [==============================] - 24s 73ms/step - loss: 0.2259 - accuracy: 0.9136 - val_loss: 0.1803 - val_accuracy: 0.9228\n",
      "Epoch 3/100\n",
      "334/334 [==============================] - 24s 72ms/step - loss: 0.1060 - accuracy: 0.9610 - val_loss: 0.0576 - val_accuracy: 0.9801\n",
      "Epoch 4/100\n",
      "334/334 [==============================] - 24s 72ms/step - loss: 0.0520 - accuracy: 0.9827 - val_loss: 0.0400 - val_accuracy: 0.9854\n",
      "Epoch 5/100\n",
      "334/334 [==============================] - 24s 73ms/step - loss: 0.0420 - accuracy: 0.9851 - val_loss: 0.0513 - val_accuracy: 0.9809\n",
      "Epoch 6/100\n",
      "334/334 [==============================] - 24s 72ms/step - loss: 0.0340 - accuracy: 0.9879 - val_loss: 0.0458 - val_accuracy: 0.9828\n",
      "Epoch 7/100\n",
      "334/334 [==============================] - 23s 70ms/step - loss: 0.0219 - accuracy: 0.9919 - val_loss: 0.0300 - val_accuracy: 0.9876\n",
      "Epoch 8/100\n",
      "334/334 [==============================] - 24s 73ms/step - loss: 0.0208 - accuracy: 0.9935 - val_loss: 0.0324 - val_accuracy: 0.9891\n",
      "Epoch 9/100\n",
      "334/334 [==============================] - 24s 72ms/step - loss: 0.0260 - accuracy: 0.9900 - val_loss: 0.0546 - val_accuracy: 0.9865\n",
      "Epoch 10/100\n",
      "334/334 [==============================] - 25s 74ms/step - loss: 0.0198 - accuracy: 0.9920 - val_loss: 0.0310 - val_accuracy: 0.9884\n",
      "Epoch 11/100\n",
      "334/334 [==============================] - 24s 73ms/step - loss: 0.0226 - accuracy: 0.9914 - val_loss: 0.0270 - val_accuracy: 0.9903\n",
      "Epoch 12/100\n",
      "334/334 [==============================] - 24s 72ms/step - loss: 0.0149 - accuracy: 0.9939 - val_loss: 0.0358 - val_accuracy: 0.9843\n",
      "Epoch 13/100\n",
      "334/334 [==============================] - 25s 75ms/step - loss: 0.0155 - accuracy: 0.9934 - val_loss: 0.0323 - val_accuracy: 0.9899\n",
      "Epoch 14/100\n",
      "334/334 [==============================] - 25s 74ms/step - loss: 0.0163 - accuracy: 0.9934 - val_loss: 0.0412 - val_accuracy: 0.9869\n",
      "Epoch 15/100\n",
      "334/334 [==============================] - 25s 74ms/step - loss: 0.0131 - accuracy: 0.9944 - val_loss: 0.0281 - val_accuracy: 0.9918\n",
      "Epoch 16/100\n",
      "334/334 [==============================] - 24s 71ms/step - loss: 0.0065 - accuracy: 0.9976 - val_loss: 0.0268 - val_accuracy: 0.9880\n",
      "Epoch 17/100\n",
      "334/334 [==============================] - 25s 74ms/step - loss: 0.0133 - accuracy: 0.9957 - val_loss: 0.1053 - val_accuracy: 0.9753\n",
      "Epoch 18/100\n",
      "334/334 [==============================] - 27s 79ms/step - loss: 0.0150 - accuracy: 0.9949 - val_loss: 0.0501 - val_accuracy: 0.9895\n",
      "Epoch 19/100\n",
      "334/334 [==============================] - 23s 68ms/step - loss: 0.0072 - accuracy: 0.9970 - val_loss: 0.0374 - val_accuracy: 0.9910\n",
      "Epoch 20/100\n",
      "334/334 [==============================] - 23s 68ms/step - loss: 0.0108 - accuracy: 0.9965 - val_loss: 0.0416 - val_accuracy: 0.9880\n",
      "Epoch 21/100\n",
      "334/334 [==============================] - 25s 76ms/step - loss: 0.0246 - accuracy: 0.9915 - val_loss: 0.0432 - val_accuracy: 0.9903\n"
     ]
    },
    {
     "data": {
      "text/plain": [
       "<keras.src.callbacks.History at 0x161b9c135e0>"
      ]
     },
     "execution_count": 64,
     "metadata": {},
     "output_type": "execute_result"
    }
   ],
   "source": [
    "batch_size = 32\n",
    "epochs = 100\n",
    "model.fit(X_train_augmented,y_train_augmented, epochs=epochs, batch_size=batch_size, validation_split=0.2,callbacks=[early_stopping])"
   ]
  },
  {
   "cell_type": "code",
   "execution_count": 168,
   "metadata": {},
   "outputs": [
    {
     "name": "stderr",
     "output_type": "stream",
     "text": [
      "c:\\Users\\Rehan Ibrahim\\AppData\\Local\\Programs\\Python\\Python310\\lib\\site-packages\\keras\\src\\engine\\training.py:3079: UserWarning: You are saving your model as an HDF5 file via `model.save()`. This file format is considered legacy. We recommend using instead the native Keras format, e.g. `model.save('my_model.keras')`.\n",
      "  saving_api.save_model(\n"
     ]
    }
   ],
   "source": [
    "model.save(\"model/CNN_First_Model.h5\")"
   ]
  },
  {
   "cell_type": "code",
   "execution_count": 65,
   "metadata": {},
   "outputs": [
    {
     "name": "stdout",
     "output_type": "stream",
     "text": [
      "6/6 [==============================] - 0s 16ms/step\n"
     ]
    },
    {
     "data": {
      "text/plain": [
       "array([[3.45847839e-09],\n",
       "       [9.99998450e-01],\n",
       "       [9.99729216e-01],\n",
       "       [1.00000000e+00],\n",
       "       [1.56326010e-03],\n",
       "       [2.80634910e-02],\n",
       "       [1.00000000e+00],\n",
       "       [1.00000000e+00],\n",
       "       [1.00000000e+00],\n",
       "       [9.99865890e-01],\n",
       "       [1.06904821e-07],\n",
       "       [1.09963781e-10],\n",
       "       [3.35224308e-02],\n",
       "       [1.69315129e-09],\n",
       "       [9.96293247e-01],\n",
       "       [1.00000000e+00],\n",
       "       [1.03245187e-03],\n",
       "       [1.27305701e-01],\n",
       "       [1.00000000e+00],\n",
       "       [1.39390166e-09],\n",
       "       [2.98801539e-09],\n",
       "       [7.96307551e-12],\n",
       "       [5.97371184e-08],\n",
       "       [1.00000000e+00],\n",
       "       [1.71272273e-04],\n",
       "       [9.98441875e-01],\n",
       "       [1.00000000e+00],\n",
       "       [2.27144111e-17],\n",
       "       [7.59707859e-07],\n",
       "       [7.39278864e-12],\n",
       "       [9.98372436e-01],\n",
       "       [8.34204057e-14],\n",
       "       [1.65122174e-06],\n",
       "       [3.02208355e-04],\n",
       "       [1.88426353e-23],\n",
       "       [1.00000000e+00],\n",
       "       [1.00000000e+00],\n",
       "       [1.39338602e-24],\n",
       "       [8.51284949e-06],\n",
       "       [1.56942208e-13],\n",
       "       [2.35261796e-17],\n",
       "       [1.00000000e+00],\n",
       "       [1.00000000e+00],\n",
       "       [1.00000000e+00],\n",
       "       [9.82901216e-01],\n",
       "       [9.99943495e-01],\n",
       "       [9.34894402e-08],\n",
       "       [1.53912246e-01],\n",
       "       [4.99881148e-01],\n",
       "       [1.26301317e-10],\n",
       "       [1.00000000e+00],\n",
       "       [2.09557002e-05],\n",
       "       [1.00000000e+00],\n",
       "       [9.81331348e-01],\n",
       "       [9.99999940e-01],\n",
       "       [1.05076157e-14],\n",
       "       [5.97371184e-08],\n",
       "       [9.92448211e-01],\n",
       "       [5.28134660e-06],\n",
       "       [1.00000000e+00],\n",
       "       [1.00000000e+00],\n",
       "       [5.89411911e-07],\n",
       "       [9.99999940e-01],\n",
       "       [1.00000000e+00],\n",
       "       [1.75194458e-07],\n",
       "       [8.92018914e-01],\n",
       "       [9.40684751e-02],\n",
       "       [9.99504805e-01],\n",
       "       [1.00000000e+00],\n",
       "       [9.13335323e-01],\n",
       "       [1.00000000e+00],\n",
       "       [1.09584807e-10],\n",
       "       [9.99996126e-01],\n",
       "       [9.99883711e-01],\n",
       "       [7.08914711e-04],\n",
       "       [1.41134398e-04],\n",
       "       [9.99232292e-01],\n",
       "       [1.00000000e+00],\n",
       "       [9.99927461e-01],\n",
       "       [1.00000000e+00],\n",
       "       [9.99540746e-01],\n",
       "       [4.40354066e-18],\n",
       "       [9.99999881e-01],\n",
       "       [9.99997079e-01],\n",
       "       [1.00000000e+00],\n",
       "       [9.98331010e-01],\n",
       "       [1.00000000e+00],\n",
       "       [9.99989808e-01],\n",
       "       [1.02653950e-01],\n",
       "       [1.47575941e-02],\n",
       "       [9.99409735e-01],\n",
       "       [8.64348686e-13],\n",
       "       [1.00000000e+00],\n",
       "       [3.07698997e-07],\n",
       "       [1.86955376e-08],\n",
       "       [3.20867449e-02],\n",
       "       [3.50375473e-03],\n",
       "       [2.04202183e-06],\n",
       "       [1.00000000e+00],\n",
       "       [1.00000000e+00],\n",
       "       [7.76217785e-05],\n",
       "       [2.63645916e-06],\n",
       "       [4.25920014e-15],\n",
       "       [6.31743262e-07],\n",
       "       [1.00000000e+00],\n",
       "       [1.71254039e-10],\n",
       "       [9.99764681e-01],\n",
       "       [1.47748273e-04],\n",
       "       [5.28134660e-06],\n",
       "       [1.00000000e+00],\n",
       "       [3.16284991e-06],\n",
       "       [9.96975958e-01],\n",
       "       [1.56464674e-12],\n",
       "       [9.79019523e-01],\n",
       "       [9.82949257e-01],\n",
       "       [5.45314513e-03],\n",
       "       [9.08808657e-19],\n",
       "       [7.68457353e-01],\n",
       "       [9.95961845e-01],\n",
       "       [3.92932300e-08],\n",
       "       [1.00000000e+00],\n",
       "       [1.00000000e+00],\n",
       "       [1.00000000e+00],\n",
       "       [1.00000000e+00],\n",
       "       [1.03276936e-11],\n",
       "       [2.37621535e-02],\n",
       "       [9.99998033e-01],\n",
       "       [1.00000000e+00],\n",
       "       [2.84944128e-15],\n",
       "       [1.06106430e-08],\n",
       "       [1.00000000e+00],\n",
       "       [1.00000000e+00],\n",
       "       [1.00000000e+00],\n",
       "       [9.99984801e-01],\n",
       "       [9.90154624e-01],\n",
       "       [8.01893976e-03],\n",
       "       [8.64348686e-13],\n",
       "       [1.22972074e-15],\n",
       "       [4.06219897e-06],\n",
       "       [1.00000000e+00],\n",
       "       [9.99949872e-01],\n",
       "       [9.99995351e-01],\n",
       "       [2.22373317e-04],\n",
       "       [1.00000000e+00],\n",
       "       [6.06400043e-12],\n",
       "       [1.07485801e-04],\n",
       "       [9.99959171e-01],\n",
       "       [9.99964654e-01],\n",
       "       [1.00000000e+00],\n",
       "       [1.00000000e+00],\n",
       "       [1.00000000e+00],\n",
       "       [1.00000000e+00],\n",
       "       [9.99750495e-01],\n",
       "       [1.78777094e-25],\n",
       "       [6.72921073e-03],\n",
       "       [2.09135378e-12],\n",
       "       [1.00000000e+00],\n",
       "       [6.80185894e-06],\n",
       "       [1.08516209e-01],\n",
       "       [9.99999821e-01],\n",
       "       [1.12133325e-09],\n",
       "       [1.06971832e-02],\n",
       "       [6.74624264e-01],\n",
       "       [1.00000000e+00],\n",
       "       [1.65159000e-17],\n",
       "       [8.82716616e-14],\n",
       "       [3.25502930e-10],\n",
       "       [1.00979418e-03],\n",
       "       [8.62445533e-01],\n",
       "       [9.99984384e-01],\n",
       "       [1.20263391e-13],\n",
       "       [9.40684751e-02]], dtype=float32)"
      ]
     },
     "execution_count": 65,
     "metadata": {},
     "output_type": "execute_result"
    }
   ],
   "source": [
    "# Make predictions on the test dataset\n",
    "predictions = model.predict(X_test)\n",
    "predictions"
   ]
  },
  {
   "cell_type": "markdown",
   "metadata": {},
   "source": [
    "## Eval Metrics"
   ]
  },
  {
   "cell_type": "code",
   "execution_count": 66,
   "metadata": {},
   "outputs": [],
   "source": [
    "# Apply threshold to obtain binary predictions (0 or 1)\n",
    "threshold = 0.5\n",
    "binary_predictions = (predictions >= threshold).astype(int)"
   ]
  },
  {
   "cell_type": "code",
   "execution_count": 67,
   "metadata": {},
   "outputs": [
    {
     "name": "stdout",
     "output_type": "stream",
     "text": [
      "Accuracy: 89.53%\n"
     ]
    }
   ],
   "source": [
    "accuracy = accuracy_score(y_test, binary_predictions)\n",
    "print(f\"Accuracy: {accuracy*100:.2f}%\")"
   ]
  },
  {
   "cell_type": "code",
   "execution_count": 68,
   "metadata": {},
   "outputs": [
    {
     "data": {
      "text/plain": [
       "(array([79.,  4.,  0.,  0.,  1.,  0.,  1.,  1.,  2., 84.]),\n",
       " array([1.78777094e-25, 1.00000001e-01, 2.00000003e-01, 3.00000012e-01,\n",
       "        4.00000006e-01, 5.00000000e-01, 6.00000024e-01, 6.99999988e-01,\n",
       "        8.00000012e-01, 8.99999976e-01, 1.00000000e+00]),\n",
       " <BarContainer object of 10 artists>)"
      ]
     },
     "execution_count": 68,
     "metadata": {},
     "output_type": "execute_result"
    },
    {
     "data": {
      "image/png": "[encoded data removed]",
      "text/plain": [
       "<Figure size 640x480 with 1 Axes>"
      ]
     },
     "metadata": {},
     "output_type": "display_data"
    }
   ],
   "source": [
    "plt.hist(predictions.squeeze())"
   ]
  },
  {
   "cell_type": "code",
   "execution_count": 72,
   "metadata": {},
   "outputs": [
    {
     "data": {
      "text/plain": [
       "array([73,  7, 11, 81], dtype=int64)"
      ]
     },
     "execution_count": 72,
     "metadata": {},
     "output_type": "execute_result"
    }
   ],
   "source": [
    "confusion_matrix(y_test, binary_predictions).ravel()"
   ]
  },
  {
   "cell_type": "code",
   "execution_count": 71,
   "metadata": {},
   "outputs": [],
   "source": [
    "tn,fp,fn,tp = confusion_matrix(y_test, binary_predictions).ravel()"
   ]
  },
  {
   "cell_type": "code",
   "execution_count": 69,
   "metadata": {},
   "outputs": [
    {
     "name": "stdout",
     "output_type": "stream",
     "text": [
      "Classification Report:\n",
      "              precision    recall  f1-score   support\n",
      "\n",
      "           0       0.87      0.91      0.89        80\n",
      "           1       0.92      0.88      0.90        92\n",
      "\n",
      "    accuracy                           0.90       172\n",
      "   macro avg       0.89      0.90      0.90       172\n",
      "weighted avg       0.90      0.90      0.90       172\n",
      "\n"
     ]
    }
   ],
   "source": [
    "class_report = classification_report(y_test, binary_predictions)\n",
    "print(\"Classification Report:\")\n",
    "print(class_report)"
   ]
  },
  {
   "cell_type": "code",
   "execution_count": 70,
   "metadata": {},
   "outputs": [
    {
     "data": {
      "text/plain": [
       "1    88\n",
       "0    84\n",
       "dtype: int64"
      ]
     },
     "execution_count": 70,
     "metadata": {},
     "output_type": "execute_result"
    }
   ],
   "source": [
    "pd.Series(binary_predictions.squeeze()).value_counts()"
   ]
  },
  {
   "cell_type": "markdown",
   "metadata": {},
   "source": [
    "# Test Datasets"
   ]
  },
  {
   "cell_type": "markdown",
   "metadata": {},
   "source": [
    "## Loading"
   ]
  },
  {
   "cell_type": "code",
   "execution_count": 25,
   "metadata": {},
   "outputs": [
    {
     "name": "stdout",
     "output_type": "stream",
     "text": [
      "0      data/dataset/test_data/images\\20230101_methane...\n",
      "1      data/dataset/test_data/images\\20230101_methane...\n",
      "2      data/dataset/test_data/images\\20230101_methane...\n",
      "3      data/dataset/test_data/images\\20230103_methane...\n",
      "4      data/dataset/test_data/images\\20230103_methane...\n",
      "                             ...                        \n",
      "103    data/dataset/test_data/images\\20230404_methane...\n",
      "104    data/dataset/test_data/images\\20230404_methane...\n",
      "105    data/dataset/test_data/images\\20230405_methane...\n",
      "106    data/dataset/test_data/images\\20230405_methane...\n",
      "107    data/dataset/test_data/images\\20230406_methane...\n",
      "Length: 108, dtype: object\n"
     ]
    }
   ],
   "source": [
    "# Specify the path to the folder containing TIFF files\n",
    "folder_path = \"data/dataset/test_data/images/\"\n",
    "\n",
    "# Use glob to get a list of TIFF files in the folder\n",
    "tiff_files = glob.glob(folder_path + \"/*.tif\")\n",
    "\n",
    "# Create a Pandas Series from the list of file paths\n",
    "file_series = pd.Series(tiff_files)\n",
    "\n",
    "# Display the Pandas Series\n",
    "print(file_series)"
   ]
  },
  {
   "cell_type": "code",
   "execution_count": 26,
   "metadata": {},
   "outputs": [
    {
     "data": {
      "text/html": [
       "<div>\n",
       "<style scoped>\n",
       "    .dataframe tbody tr th:only-of-type {\n",
       "        vertical-align: middle;\n",
       "    }\n",
       "\n",
       "    .dataframe tbody tr th {\n",
       "        vertical-align: top;\n",
       "    }\n",
       "\n",
       "    .dataframe thead th {\n",
       "        text-align: right;\n",
       "    }\n",
       "</style>\n",
       "<table border=\"1\" class=\"dataframe\">\n",
       "  <thead>\n",
       "    <tr style=\"text-align: right;\">\n",
       "      <th></th>\n",
       "      <th>date</th>\n",
       "      <th>id_coord</th>\n",
       "      <th>lat</th>\n",
       "      <th>lon</th>\n",
       "      <th>coord_x</th>\n",
       "      <th>coord_y</th>\n",
       "    </tr>\n",
       "  </thead>\n",
       "  <tbody>\n",
       "    <tr>\n",
       "      <th>0</th>\n",
       "      <td>20230213</td>\n",
       "      <td>id_6148</td>\n",
       "      <td>23.437500</td>\n",
       "      <td>90.645000</td>\n",
       "      <td>54</td>\n",
       "      <td>10</td>\n",
       "    </tr>\n",
       "    <tr>\n",
       "      <th>1</th>\n",
       "      <td>20230206</td>\n",
       "      <td>id_3348</td>\n",
       "      <td>33.513333</td>\n",
       "      <td>-87.203333</td>\n",
       "      <td>31</td>\n",
       "      <td>55</td>\n",
       "    </tr>\n",
       "    <tr>\n",
       "      <th>2</th>\n",
       "      <td>20230121</td>\n",
       "      <td>id_3733</td>\n",
       "      <td>26.424286</td>\n",
       "      <td>80.284286</td>\n",
       "      <td>33</td>\n",
       "      <td>44</td>\n",
       "    </tr>\n",
       "    <tr>\n",
       "      <th>3</th>\n",
       "      <td>20230204</td>\n",
       "      <td>id_5491</td>\n",
       "      <td>30.246667</td>\n",
       "      <td>71.483333</td>\n",
       "      <td>59</td>\n",
       "      <td>59</td>\n",
       "    </tr>\n",
       "    <tr>\n",
       "      <th>4</th>\n",
       "      <td>20230130</td>\n",
       "      <td>id_4287</td>\n",
       "      <td>23.763333</td>\n",
       "      <td>86.396667</td>\n",
       "      <td>46</td>\n",
       "      <td>46</td>\n",
       "    </tr>\n",
       "  </tbody>\n",
       "</table>\n",
       "</div>"
      ],
      "text/plain": [
       "       date id_coord        lat        lon  coord_x  coord_y\n",
       "0  20230213  id_6148  23.437500  90.645000       54       10\n",
       "1  20230206  id_3348  33.513333 -87.203333       31       55\n",
       "2  20230121  id_3733  26.424286  80.284286       33       44\n",
       "3  20230204  id_5491  30.246667  71.483333       59       59\n",
       "4  20230130  id_4287  23.763333  86.396667       46       46"
      ]
     },
     "execution_count": 26,
     "metadata": {},
     "output_type": "execute_result"
    }
   ],
   "source": [
    "t_df = pd.read_csv('data/dataset/test_data/metadata.csv')\n",
    "t_df.head()"
   ]
  },
  {
   "cell_type": "code",
   "execution_count": 27,
   "metadata": {},
   "outputs": [
    {
     "name": "stdout",
     "output_type": "stream",
     "text": [
      "0      data/dataset/test_data/images\\20230101_methane...\n",
      "1      data/dataset/test_data/images\\20230101_methane...\n",
      "2      data/dataset/test_data/images\\20230101_methane...\n",
      "3      data/dataset/test_data/images\\20230103_methane...\n",
      "4      data/dataset/test_data/images\\20230103_methane...\n",
      "                             ...                        \n",
      "103    data/dataset/test_data/images\\20230404_methane...\n",
      "104    data/dataset/test_data/images\\20230404_methane...\n",
      "105    data/dataset/test_data/images\\20230405_methane...\n",
      "106    data/dataset/test_data/images\\20230405_methane...\n",
      "107    data/dataset/test_data/images\\20230406_methane...\n",
      "Length: 108, dtype: object\n"
     ]
    }
   ],
   "source": [
    "# Replace forward slashes with backslashes in the Pandas Series\n",
    "file_series = file_series.str.replace('//', '/')\n",
    "\n",
    "# Display the modified Pandas Series\n",
    "print(file_series)"
   ]
  },
  {
   "cell_type": "code",
   "execution_count": 28,
   "metadata": {},
   "outputs": [
    {
     "data": {
      "text/plain": [
       "0      data/dataset/test_data/images\\20230101_methane...\n",
       "1      data/dataset/test_data/images\\20230101_methane...\n",
       "2      data/dataset/test_data/images\\20230101_methane...\n",
       "3      data/dataset/test_data/images\\20230103_methane...\n",
       "4      data/dataset/test_data/images\\20230103_methane...\n",
       "                             ...                        \n",
       "103    data/dataset/test_data/images\\20230404_methane...\n",
       "104    data/dataset/test_data/images\\20230404_methane...\n",
       "105    data/dataset/test_data/images\\20230405_methane...\n",
       "106    data/dataset/test_data/images\\20230405_methane...\n",
       "107    data/dataset/test_data/images\\20230406_methane...\n",
       "Length: 108, dtype: object"
      ]
     },
     "execution_count": 28,
     "metadata": {},
     "output_type": "execute_result"
    }
   ],
   "source": [
    "file_series"
   ]
  },
  {
   "cell_type": "code",
   "execution_count": 29,
   "metadata": {},
   "outputs": [],
   "source": [
    "file_series = pd.Series(file_series)"
   ]
  },
  {
   "cell_type": "code",
   "execution_count": 30,
   "metadata": {},
   "outputs": [
    {
     "name": "stderr",
     "output_type": "stream",
     "text": [
      "c:\\Users\\Rehan Ibrahim\\AppData\\Local\\Programs\\Python\\Python310\\lib\\site-packages\\rasterio\\__init__.py:320: NotGeoreferencedWarning: Dataset has no geotransform, gcps, or rpcs. The identity matrix will be returned.\n",
      "  dataset = DatasetReader(path, driver=driver, sharing=sharing, **kwargs)\n"
     ]
    }
   ],
   "source": [
    "import rasterio\n",
    "import numpy as np\n",
    "\n",
    "image_data_test = []\n",
    "\n",
    "# Loop through the file paths and load images\n",
    "for image_path in file_series:\n",
    "    # Read the TIFF image using rasterio\n",
    "    try:\n",
    "        with rasterio.open(image_path) as src:\n",
    "            image = src.read(1)  # Assuming single-band image, adjust if necessary\n",
    "            # You may want to resize or preprocess the image here if necessary\n",
    "\n",
    "        # Append the image data to the list\n",
    "        image_data_test.append(image)\n",
    "    except Exception as e:\n",
    "        print(f\"Error loading image at {image_path}: {e}\")\n",
    "\n",
    "# Convert the list of images into a NumPy array\n",
    "image_data_test = np.array(image_data_test)"
   ]
  },
  {
   "cell_type": "markdown",
   "metadata": {},
   "source": [
    "## Transformations"
   ]
  },
  {
   "cell_type": "code",
   "execution_count": 31,
   "metadata": {},
   "outputs": [
    {
     "data": {
      "text/plain": [
       "array([[[0.        , 0.        , 0.        , ..., 0.        ,\n",
       "         0.        , 0.        ],\n",
       "        [0.        , 0.        , 0.        , ..., 0.45293355,\n",
       "         0.        , 0.        ],\n",
       "        [0.        , 0.        , 0.        , ..., 0.45293355,\n",
       "         0.        , 0.        ],\n",
       "        ...,\n",
       "        [0.        , 0.        , 0.        , ..., 0.        ,\n",
       "         0.        , 0.        ],\n",
       "        [0.        , 0.        , 0.        , ..., 0.        ,\n",
       "         0.        , 0.        ],\n",
       "        [0.        , 0.        , 0.        , ..., 0.        ,\n",
       "         0.        , 0.        ]],\n",
       "\n",
       "       [[0.38403906, 0.44130617, 0.44130617, ..., 0.        ,\n",
       "         0.        , 0.        ],\n",
       "        [0.345449  , 0.36951247, 0.36951247, ..., 0.        ,\n",
       "         0.        , 0.        ],\n",
       "        [0.345449  , 0.36951247, 0.36951247, ..., 0.        ,\n",
       "         0.        , 0.        ],\n",
       "        ...,\n",
       "        [0.        , 0.        , 0.        , ..., 0.20677501,\n",
       "         0.20677501, 0.11776913],\n",
       "        [0.        , 0.        , 0.        , ..., 0.14799725,\n",
       "         0.14799725, 0.12776379],\n",
       "        [0.        , 0.09881743, 0.09881743, ..., 0.14799725,\n",
       "         0.14799725, 0.12776379]],\n",
       "\n",
       "       [[0.18472572, 0.18472572, 0.18472572, ..., 0.        ,\n",
       "         0.        , 0.        ],\n",
       "        [0.18472572, 0.18472572, 0.18472572, ..., 0.        ,\n",
       "         0.        , 0.        ],\n",
       "        [0.23006027, 0.23006027, 0.20358587, ..., 0.        ,\n",
       "         0.        , 0.        ],\n",
       "        ...,\n",
       "        [0.        , 0.        , 0.        , ..., 0.10867475,\n",
       "         0.10867475, 0.10867475],\n",
       "        [0.        , 0.        , 0.        , ..., 0.13492027,\n",
       "         0.13492027, 0.13492027],\n",
       "        [0.        , 0.        , 0.        , ..., 0.13492027,\n",
       "         0.13492027, 0.13492027]],\n",
       "\n",
       "       ...,\n",
       "\n",
       "       [[0.42406348, 0.0153048 , 0.0153048 , ..., 0.        ,\n",
       "         0.        , 0.        ],\n",
       "        [0.45383383, 0.11711299, 0.11711299, ..., 0.        ,\n",
       "         0.        , 0.        ],\n",
       "        [0.45383383, 0.11711299, 0.11711299, ..., 0.        ,\n",
       "         0.        , 0.        ],\n",
       "        ...,\n",
       "        [0.83324941, 0.88427558, 0.88427558, ..., 0.57047379,\n",
       "         0.72700084, 0.72700084],\n",
       "        [0.83324941, 0.88427558, 0.88427558, ..., 0.36891737,\n",
       "         0.74445716, 0.74445716],\n",
       "        [0.40695811, 0.91978332, 0.91978332, ..., 0.36891737,\n",
       "         0.74445716, 0.74445716]],\n",
       "\n",
       "       [[0.47014572, 0.51519036, 0.51519036, ..., 0.15761044,\n",
       "         0.15761044, 0.36720836],\n",
       "        [0.61063554, 0.62539101, 0.62539101, ..., 0.15761044,\n",
       "         0.15761044, 0.36720836],\n",
       "        [0.61063554, 0.62539101, 0.62539101, ..., 0.        ,\n",
       "         0.        , 0.        ],\n",
       "        ...,\n",
       "        [0.48699168, 0.48699168, 0.50133516, ..., 0.102327  ,\n",
       "         0.        , 0.        ],\n",
       "        [0.15317006, 0.15317006, 0.34924849, ..., 0.        ,\n",
       "         0.        , 0.        ],\n",
       "        [0.16054017, 0.16054017, 0.37341878, ..., 0.        ,\n",
       "         0.        , 0.        ]],\n",
       "\n",
       "       [[0.36319524, 0.33180743, 0.26903182, ..., 0.72259098,\n",
       "         0.57167926, 0.52866407],\n",
       "        [0.36319524, 0.33180743, 0.26903182, ..., 0.67342641,\n",
       "         0.63114366, 0.60999466],\n",
       "        [0.36665904, 0.34885176, 0.27650874, ..., 0.67342641,\n",
       "         0.63114366, 0.63114366],\n",
       "        ...,\n",
       "        [0.        , 0.01052873, 0.01052873, ..., 0.18844892,\n",
       "         0.29440757, 0.29440757],\n",
       "        [0.        , 0.01052873, 0.01052873, ..., 0.18844892,\n",
       "         0.29440757, 0.29440757],\n",
       "        [0.        , 0.        , 0.        , ..., 0.23057908,\n",
       "         0.35074388, 0.37270161]]])"
      ]
     },
     "execution_count": 31,
     "metadata": {},
     "output_type": "execute_result"
    }
   ],
   "source": [
    "min_val = image_data_test.min()\n",
    "max_val = image_data_test.max()\n",
    "\n",
    "# Normalize the image data\n",
    "normalized_image_data_test = (image_data_test - min_val) / (max_val - min_val)\n",
    "normalized_image_data_test"
   ]
  },
  {
   "cell_type": "code",
   "execution_count": 32,
   "metadata": {},
   "outputs": [
    {
     "data": {
      "text/plain": [
       "(108, 64, 64)"
      ]
     },
     "execution_count": 32,
     "metadata": {},
     "output_type": "execute_result"
    }
   ],
   "source": [
    "normalized_image_data_test.shape"
   ]
  },
  {
   "cell_type": "markdown",
   "metadata": {},
   "source": [
    "## Predictions"
   ]
  },
  {
   "cell_type": "code",
   "execution_count": 33,
   "metadata": {},
   "outputs": [
    {
     "name": "stdout",
     "output_type": "stream",
     "text": [
      "4/4 [==============================] - 0s 33ms/step\n"
     ]
    },
    {
     "data": {
      "text/plain": [
       "array([[0.49916238],\n",
       "       [0.50015455],\n",
       "       [0.4987117 ],\n",
       "       [0.50021714],\n",
       "       [0.5036176 ],\n",
       "       [0.49993244],\n",
       "       [0.5021454 ],\n",
       "       [0.49710095],\n",
       "       [0.50012285],\n",
       "       [0.49826553],\n",
       "       [0.49629542],\n",
       "       [0.4997333 ],\n",
       "       [0.497683  ],\n",
       "       [0.5065018 ],\n",
       "       [0.49832508],\n",
       "       [0.5010346 ],\n",
       "       [0.49635684],\n",
       "       [0.49722213],\n",
       "       [0.4989319 ],\n",
       "       [0.5009496 ],\n",
       "       [0.50322247],\n",
       "       [0.4996061 ],\n",
       "       [0.5053878 ],\n",
       "       [0.498224  ],\n",
       "       [0.4996279 ],\n",
       "       [0.49775866],\n",
       "       [0.502278  ],\n",
       "       [0.49996147],\n",
       "       [0.5031887 ],\n",
       "       [0.5008476 ],\n",
       "       [0.5002326 ],\n",
       "       [0.5013082 ],\n",
       "       [0.5002326 ],\n",
       "       [0.5002326 ],\n",
       "       [0.49072245],\n",
       "       [0.49951592],\n",
       "       [0.50028807],\n",
       "       [0.5026925 ],\n",
       "       [0.49549797],\n",
       "       [0.4976434 ],\n",
       "       [0.50207925],\n",
       "       [0.49883717],\n",
       "       [0.5045852 ],\n",
       "       [0.49052328],\n",
       "       [0.5000984 ],\n",
       "       [0.49951947],\n",
       "       [0.49295443],\n",
       "       [0.5027609 ],\n",
       "       [0.49924234],\n",
       "       [0.5012537 ],\n",
       "       [0.49831852],\n",
       "       [0.49779445],\n",
       "       [0.50213903],\n",
       "       [0.4954924 ],\n",
       "       [0.50052834],\n",
       "       [0.5018004 ],\n",
       "       [0.50049937],\n",
       "       [0.50426596],\n",
       "       [0.50049937],\n",
       "       [0.49746892],\n",
       "       [0.4985044 ],\n",
       "       [0.49945617],\n",
       "       [0.5057268 ],\n",
       "       [0.5027769 ],\n",
       "       [0.5058512 ],\n",
       "       [0.49825764],\n",
       "       [0.4971554 ],\n",
       "       [0.49751756],\n",
       "       [0.49552742],\n",
       "       [0.5011109 ],\n",
       "       [0.4992642 ],\n",
       "       [0.4932523 ],\n",
       "       [0.5023681 ],\n",
       "       [0.4932523 ],\n",
       "       [0.50214046],\n",
       "       [0.4932523 ],\n",
       "       [0.49342567],\n",
       "       [0.5003386 ],\n",
       "       [0.49958676],\n",
       "       [0.4988848 ],\n",
       "       [0.4970451 ],\n",
       "       [0.50042295],\n",
       "       [0.4970442 ],\n",
       "       [0.49258226],\n",
       "       [0.49996755],\n",
       "       [0.50141263],\n",
       "       [0.5033833 ],\n",
       "       [0.49813834],\n",
       "       [0.49467865],\n",
       "       [0.5011387 ],\n",
       "       [0.5011387 ],\n",
       "       [0.4961893 ],\n",
       "       [0.5011841 ],\n",
       "       [0.49909055],\n",
       "       [0.4917713 ],\n",
       "       [0.49928716],\n",
       "       [0.5038755 ],\n",
       "       [0.4934397 ],\n",
       "       [0.49811313],\n",
       "       [0.49937204],\n",
       "       [0.502439  ],\n",
       "       [0.49906483],\n",
       "       [0.4975195 ],\n",
       "       [0.5018631 ],\n",
       "       [0.5000711 ],\n",
       "       [0.50617814],\n",
       "       [0.49017382],\n",
       "       [0.49702713]], dtype=float32)"
      ]
     },
     "execution_count": 33,
     "metadata": {},
     "output_type": "execute_result"
    }
   ],
   "source": [
    "# Make predictions on the test dataset\n",
    "predictions_test = model.predict(normalized_image_data_test)\n",
    "predictions_test"
   ]
  },
  {
   "cell_type": "code",
   "execution_count": 165,
   "metadata": {},
   "outputs": [],
   "source": [
    "# Apply threshold to obtain binary predictions (0 or 1)\n",
    "threshold = 0.5\n",
    "binary_predictions_test = (predictions_test >= threshold).astype(int)"
   ]
  },
  {
   "cell_type": "code",
   "execution_count": 166,
   "metadata": {},
   "outputs": [
    {
     "data": {
      "text/plain": [
       "0    55\n",
       "1    53\n",
       "dtype: int64"
      ]
     },
     "execution_count": 166,
     "metadata": {},
     "output_type": "execute_result"
    }
   ],
   "source": [
    "pd.Series(binary_predictions_test.squeeze()).value_counts()"
   ]
  },
  {
   "cell_type": "markdown",
   "metadata": {},
   "source": [
    "# Model 2(Pre-trained)"
   ]
  },
  {
   "cell_type": "code",
   "execution_count": 34,
   "metadata": {},
   "outputs": [
    {
     "name": "stdout",
     "output_type": "stream",
     "text": [
      "WARNING:tensorflow:`input_shape` is undefined or non-square, or `rows` is not in [96, 128, 160, 192, 224]. Weights for input shape (224, 224) will be loaded as the default.\n"
     ]
    },
    {
     "name": "stdout",
     "output_type": "stream",
     "text": [
      "Model: \"sequential_1\"\n",
      "_________________________________________________________________\n",
      " Layer (type)                Output Shape              Param #   \n",
      "=================================================================\n",
      " resizing (Resizing)         (None, 64, 64, 1)         0         \n",
      "                                                                 \n",
      " lambda (Lambda)             (None, 64, 64, 3)         0         \n",
      "                                                                 \n",
      " mobilenetv2_1.00_224 (Func  (None, 2, 2, 1280)        2257984   \n",
      " tional)                                                         \n",
      "                                                                 \n",
      " flatten_1 (Flatten)         (None, 5120)              0         \n",
      "                                                                 \n",
      " dense_3 (Dense)             (None, 128)               655488    \n",
      "                                                                 \n",
      " dropout_2 (Dropout)         (None, 128)               0         \n",
      "                                                                 \n",
      " dense_4 (Dense)             (None, 64)                8256      \n",
      "                                                                 \n",
      " dropout_3 (Dropout)         (None, 64)                0         \n",
      "                                                                 \n",
      " dense_5 (Dense)             (None, 1)                 65        \n",
      "                                                                 \n",
      "=================================================================\n",
      "Total params: 2921793 (11.15 MB)\n",
      "Trainable params: 663809 (2.53 MB)\n",
      "Non-trainable params: 2257984 (8.61 MB)\n",
      "_________________________________________________________________\n"
     ]
    }
   ],
   "source": [
    "import tensorflow as tf\n",
    "from tensorflow.keras import layers\n",
    "from tensorflow.keras.applications import MobileNetV2\n",
    "from tensorflow.keras.layers.experimental.preprocessing import Resizing\n",
    "\n",
    "# Set the random seed for reproducibility\n",
    "tf.random.set_seed(1234)\n",
    "\n",
    "# Create the MobileNetV2 model with the correct input shape\n",
    "mobilenetv2_model = MobileNetV2(include_top=False, weights='imagenet', input_shape=(64, 64, 3))\n",
    "mobilenetv2_model.trainable = False  # Freeze the pretrained MobileNetV2 layers\n",
    "\n",
    "# Define the CNN model\n",
    "model2 = tf.keras.Sequential([\n",
    "    Resizing(64, 64, input_shape=(64, 64, 1)),  # Resize input images to (64, 64) without rescaling\n",
    "    layers.Lambda(lambda x: tf.image.grayscale_to_rgb(x)),  # Convert grayscale to RGB\n",
    "    mobilenetv2_model,  # Add the MobileNetV2 model as a layer\n",
    "    layers.Flatten(),\n",
    "    layers.Dense(128, activation='relu'),\n",
    "    layers.Dropout(0.5),\n",
    "    layers.Dense(64, activation='relu'),\n",
    "    layers.Dropout(0.5),\n",
    "    layers.Dense(1, activation='sigmoid')  # Use 'sigmoid' for binary classification\n",
    "])\n",
    "\n",
    "# Compile the model\n",
    "model2.compile(optimizer='adam',\n",
    "              loss='binary_crossentropy',  # Use 'binary_crossentropy' for binary classification\n",
    "              metrics=['accuracy'])\n",
    "\n",
    "# Print the model summary to view the architecture\n",
    "model2.summary()\n",
    "\n",
    "# Define early stopping\n",
    "early_stopping = tf.keras.callbacks.EarlyStopping(\n",
    "    monitor='val_loss', \n",
    "    patience=5,           \n",
    "    restore_best_weights=True)\n"
   ]
  },
  {
   "cell_type": "code",
   "execution_count": 35,
   "metadata": {},
   "outputs": [
    {
     "name": "stdout",
     "output_type": "stream",
     "text": [
      "Epoch 1/100\n",
      "303/303 [==============================] - ETA: 0s - loss: 0.5438 - accuracy: 0.7408"
     ]
    },
    {
     "ename": "KeyboardInterrupt",
     "evalue": "",
     "output_type": "error",
     "traceback": [
      "\u001b[1;31m---------------------------------------------------------------------------\u001b[0m",
      "\u001b[1;31mKeyboardInterrupt\u001b[0m                         Traceback (most recent call last)",
      "\u001b[1;32mc:\\Users\\Rehan Ibrahim\\OneDrive - HEC Paris\\Desktop\\methane-hackathon\\notebooks\\Pilot_Model.ipynb Cell 43\u001b[0m line \u001b[0;36m3\n\u001b[0;32m      <a href='vscode-notebook-cell:/c%3A/Users/Rehan%20Ibrahim/OneDrive%20-%20HEC%20Paris/Desktop/methane-hackathon/notebooks/Pilot_Model.ipynb#X60sZmlsZQ%3D%3D?line=0'>1</a>\u001b[0m batch_size \u001b[39m=\u001b[39m \u001b[39m32\u001b[39m\n\u001b[0;32m      <a href='vscode-notebook-cell:/c%3A/Users/Rehan%20Ibrahim/OneDrive%20-%20HEC%20Paris/Desktop/methane-hackathon/notebooks/Pilot_Model.ipynb#X60sZmlsZQ%3D%3D?line=1'>2</a>\u001b[0m epochs \u001b[39m=\u001b[39m \u001b[39m100\u001b[39m\n\u001b[1;32m----> <a href='vscode-notebook-cell:/c%3A/Users/Rehan%20Ibrahim/OneDrive%20-%20HEC%20Paris/Desktop/methane-hackathon/notebooks/Pilot_Model.ipynb#X60sZmlsZQ%3D%3D?line=2'>3</a>\u001b[0m model2\u001b[39m.\u001b[39;49mfit(X_train_augmented,y_train_augmented, epochs\u001b[39m=\u001b[39;49mepochs, batch_size\u001b[39m=\u001b[39;49mbatch_size, validation_split\u001b[39m=\u001b[39;49m\u001b[39m0.1\u001b[39;49m,callbacks\u001b[39m=\u001b[39;49m[early_stopping])\n",
      "File \u001b[1;32mc:\\Users\\Rehan Ibrahim\\AppData\\Local\\Programs\\Python\\Python310\\lib\\site-packages\\keras\\src\\utils\\traceback_utils.py:65\u001b[0m, in \u001b[0;36mfilter_traceback.<locals>.error_handler\u001b[1;34m(*args, **kwargs)\u001b[0m\n\u001b[0;32m     63\u001b[0m filtered_tb \u001b[39m=\u001b[39m \u001b[39mNone\u001b[39;00m\n\u001b[0;32m     64\u001b[0m \u001b[39mtry\u001b[39;00m:\n\u001b[1;32m---> 65\u001b[0m     \u001b[39mreturn\u001b[39;00m fn(\u001b[39m*\u001b[39margs, \u001b[39m*\u001b[39m\u001b[39m*\u001b[39mkwargs)\n\u001b[0;32m     66\u001b[0m \u001b[39mexcept\u001b[39;00m \u001b[39mException\u001b[39;00m \u001b[39mas\u001b[39;00m e:\n\u001b[0;32m     67\u001b[0m     filtered_tb \u001b[39m=\u001b[39m _process_traceback_frames(e\u001b[39m.\u001b[39m__traceback__)\n",
      "File \u001b[1;32mc:\\Users\\Rehan Ibrahim\\AppData\\Local\\Programs\\Python\\Python310\\lib\\site-packages\\keras\\src\\engine\\training.py:1832\u001b[0m, in \u001b[0;36mModel.fit\u001b[1;34m(self, x, y, batch_size, epochs, verbose, callbacks, validation_split, validation_data, shuffle, class_weight, sample_weight, initial_epoch, steps_per_epoch, validation_steps, validation_batch_size, validation_freq, max_queue_size, workers, use_multiprocessing)\u001b[0m\n\u001b[0;32m   1816\u001b[0m \u001b[39mif\u001b[39;00m \u001b[39mgetattr\u001b[39m(\u001b[39mself\u001b[39m, \u001b[39m\"\u001b[39m\u001b[39m_eval_data_handler\u001b[39m\u001b[39m\"\u001b[39m, \u001b[39mNone\u001b[39;00m) \u001b[39mis\u001b[39;00m \u001b[39mNone\u001b[39;00m:\n\u001b[0;32m   1817\u001b[0m     \u001b[39mself\u001b[39m\u001b[39m.\u001b[39m_eval_data_handler \u001b[39m=\u001b[39m data_adapter\u001b[39m.\u001b[39mget_data_handler(\n\u001b[0;32m   1818\u001b[0m         x\u001b[39m=\u001b[39mval_x,\n\u001b[0;32m   1819\u001b[0m         y\u001b[39m=\u001b[39mval_y,\n\u001b[1;32m   (...)\u001b[0m\n\u001b[0;32m   1830\u001b[0m         pss_evaluation_shards\u001b[39m=\u001b[39m\u001b[39mself\u001b[39m\u001b[39m.\u001b[39m_pss_evaluation_shards,\n\u001b[0;32m   1831\u001b[0m     )\n\u001b[1;32m-> 1832\u001b[0m val_logs \u001b[39m=\u001b[39m \u001b[39mself\u001b[39;49m\u001b[39m.\u001b[39;49mevaluate(\n\u001b[0;32m   1833\u001b[0m     x\u001b[39m=\u001b[39;49mval_x,\n\u001b[0;32m   1834\u001b[0m     y\u001b[39m=\u001b[39;49mval_y,\n\u001b[0;32m   1835\u001b[0m     sample_weight\u001b[39m=\u001b[39;49mval_sample_weight,\n\u001b[0;32m   1836\u001b[0m     batch_size\u001b[39m=\u001b[39;49mvalidation_batch_size \u001b[39mor\u001b[39;49;00m batch_size,\n\u001b[0;32m   1837\u001b[0m     steps\u001b[39m=\u001b[39;49mvalidation_steps,\n\u001b[0;32m   1838\u001b[0m     callbacks\u001b[39m=\u001b[39;49mcallbacks,\n\u001b[0;32m   1839\u001b[0m     max_queue_size\u001b[39m=\u001b[39;49mmax_queue_size,\n\u001b[0;32m   1840\u001b[0m     workers\u001b[39m=\u001b[39;49mworkers,\n\u001b[0;32m   1841\u001b[0m     use_multiprocessing\u001b[39m=\u001b[39;49muse_multiprocessing,\n\u001b[0;32m   1842\u001b[0m     return_dict\u001b[39m=\u001b[39;49m\u001b[39mTrue\u001b[39;49;00m,\n\u001b[0;32m   1843\u001b[0m     _use_cached_eval_dataset\u001b[39m=\u001b[39;49m\u001b[39mTrue\u001b[39;49;00m,\n\u001b[0;32m   1844\u001b[0m )\n\u001b[0;32m   1845\u001b[0m val_logs \u001b[39m=\u001b[39m {\n\u001b[0;32m   1846\u001b[0m     \u001b[39m\"\u001b[39m\u001b[39mval_\u001b[39m\u001b[39m\"\u001b[39m \u001b[39m+\u001b[39m name: val \u001b[39mfor\u001b[39;00m name, val \u001b[39min\u001b[39;00m val_logs\u001b[39m.\u001b[39mitems()\n\u001b[0;32m   1847\u001b[0m }\n\u001b[0;32m   1848\u001b[0m epoch_logs\u001b[39m.\u001b[39mupdate(val_logs)\n",
      "File \u001b[1;32mc:\\Users\\Rehan Ibrahim\\AppData\\Local\\Programs\\Python\\Python310\\lib\\site-packages\\keras\\src\\utils\\traceback_utils.py:65\u001b[0m, in \u001b[0;36mfilter_traceback.<locals>.error_handler\u001b[1;34m(*args, **kwargs)\u001b[0m\n\u001b[0;32m     63\u001b[0m filtered_tb \u001b[39m=\u001b[39m \u001b[39mNone\u001b[39;00m\n\u001b[0;32m     64\u001b[0m \u001b[39mtry\u001b[39;00m:\n\u001b[1;32m---> 65\u001b[0m     \u001b[39mreturn\u001b[39;00m fn(\u001b[39m*\u001b[39margs, \u001b[39m*\u001b[39m\u001b[39m*\u001b[39mkwargs)\n\u001b[0;32m     66\u001b[0m \u001b[39mexcept\u001b[39;00m \u001b[39mException\u001b[39;00m \u001b[39mas\u001b[39;00m e:\n\u001b[0;32m     67\u001b[0m     filtered_tb \u001b[39m=\u001b[39m _process_traceback_frames(e\u001b[39m.\u001b[39m__traceback__)\n",
      "File \u001b[1;32mc:\\Users\\Rehan Ibrahim\\AppData\\Local\\Programs\\Python\\Python310\\lib\\site-packages\\keras\\src\\engine\\training.py:2272\u001b[0m, in \u001b[0;36mModel.evaluate\u001b[1;34m(self, x, y, batch_size, verbose, sample_weight, steps, callbacks, max_queue_size, workers, use_multiprocessing, return_dict, **kwargs)\u001b[0m\n\u001b[0;32m   2268\u001b[0m             \u001b[39mwith\u001b[39;00m tf\u001b[39m.\u001b[39mprofiler\u001b[39m.\u001b[39mexperimental\u001b[39m.\u001b[39mTrace(\n\u001b[0;32m   2269\u001b[0m                 \u001b[39m\"\u001b[39m\u001b[39mtest\u001b[39m\u001b[39m\"\u001b[39m, step_num\u001b[39m=\u001b[39mstep, _r\u001b[39m=\u001b[39m\u001b[39m1\u001b[39m\n\u001b[0;32m   2270\u001b[0m             ):\n\u001b[0;32m   2271\u001b[0m                 callbacks\u001b[39m.\u001b[39mon_test_batch_begin(step)\n\u001b[1;32m-> 2272\u001b[0m                 logs \u001b[39m=\u001b[39m test_function_runner\u001b[39m.\u001b[39;49mrun_step(\n\u001b[0;32m   2273\u001b[0m                     dataset_or_iterator,\n\u001b[0;32m   2274\u001b[0m                     data_handler,\n\u001b[0;32m   2275\u001b[0m                     step,\n\u001b[0;32m   2276\u001b[0m                     \u001b[39mself\u001b[39;49m\u001b[39m.\u001b[39;49m_pss_evaluation_shards,\n\u001b[0;32m   2277\u001b[0m                 )\n\u001b[0;32m   2279\u001b[0m logs \u001b[39m=\u001b[39m tf_utils\u001b[39m.\u001b[39msync_to_numpy_or_python_type(logs)\n\u001b[0;32m   2280\u001b[0m \u001b[39m# Override with model metrics instead of last step logs\u001b[39;00m\n",
      "File \u001b[1;32mc:\\Users\\Rehan Ibrahim\\AppData\\Local\\Programs\\Python\\Python310\\lib\\site-packages\\keras\\src\\engine\\training.py:4079\u001b[0m, in \u001b[0;36m_TestFunction.run_step\u001b[1;34m(self, dataset_or_iterator, data_handler, step, unused_shards)\u001b[0m\n\u001b[0;32m   4078\u001b[0m \u001b[39mdef\u001b[39;00m \u001b[39mrun_step\u001b[39m(\u001b[39mself\u001b[39m, dataset_or_iterator, data_handler, step, unused_shards):\n\u001b[1;32m-> 4079\u001b[0m     tmp_logs \u001b[39m=\u001b[39m \u001b[39mself\u001b[39;49m\u001b[39m.\u001b[39;49m_function(dataset_or_iterator)\n\u001b[0;32m   4080\u001b[0m     \u001b[39mif\u001b[39;00m data_handler\u001b[39m.\u001b[39mshould_sync:\n\u001b[0;32m   4081\u001b[0m         context\u001b[39m.\u001b[39masync_wait()\n",
      "File \u001b[1;32mc:\\Users\\Rehan Ibrahim\\AppData\\Local\\Programs\\Python\\Python310\\lib\\site-packages\\tensorflow\\python\\util\\traceback_utils.py:150\u001b[0m, in \u001b[0;36mfilter_traceback.<locals>.error_handler\u001b[1;34m(*args, **kwargs)\u001b[0m\n\u001b[0;32m    148\u001b[0m filtered_tb \u001b[39m=\u001b[39m \u001b[39mNone\u001b[39;00m\n\u001b[0;32m    149\u001b[0m \u001b[39mtry\u001b[39;00m:\n\u001b[1;32m--> 150\u001b[0m   \u001b[39mreturn\u001b[39;00m fn(\u001b[39m*\u001b[39margs, \u001b[39m*\u001b[39m\u001b[39m*\u001b[39mkwargs)\n\u001b[0;32m    151\u001b[0m \u001b[39mexcept\u001b[39;00m \u001b[39mException\u001b[39;00m \u001b[39mas\u001b[39;00m e:\n\u001b[0;32m    152\u001b[0m   filtered_tb \u001b[39m=\u001b[39m _process_traceback_frames(e\u001b[39m.\u001b[39m__traceback__)\n",
      "File \u001b[1;32mc:\\Users\\Rehan Ibrahim\\AppData\\Local\\Programs\\Python\\Python310\\lib\\site-packages\\tensorflow\\python\\eager\\polymorphic_function\\polymorphic_function.py:831\u001b[0m, in \u001b[0;36mFunction.__call__\u001b[1;34m(self, *args, **kwds)\u001b[0m\n\u001b[0;32m    828\u001b[0m compiler \u001b[39m=\u001b[39m \u001b[39m\"\u001b[39m\u001b[39mxla\u001b[39m\u001b[39m\"\u001b[39m \u001b[39mif\u001b[39;00m \u001b[39mself\u001b[39m\u001b[39m.\u001b[39m_jit_compile \u001b[39melse\u001b[39;00m \u001b[39m\"\u001b[39m\u001b[39mnonXla\u001b[39m\u001b[39m\"\u001b[39m\n\u001b[0;32m    830\u001b[0m \u001b[39mwith\u001b[39;00m OptionalXlaContext(\u001b[39mself\u001b[39m\u001b[39m.\u001b[39m_jit_compile):\n\u001b[1;32m--> 831\u001b[0m   result \u001b[39m=\u001b[39m \u001b[39mself\u001b[39m\u001b[39m.\u001b[39m_call(\u001b[39m*\u001b[39margs, \u001b[39m*\u001b[39m\u001b[39m*\u001b[39mkwds)\n\u001b[0;32m    833\u001b[0m new_tracing_count \u001b[39m=\u001b[39m \u001b[39mself\u001b[39m\u001b[39m.\u001b[39mexperimental_get_tracing_count()\n\u001b[0;32m    834\u001b[0m without_tracing \u001b[39m=\u001b[39m (tracing_count \u001b[39m==\u001b[39m new_tracing_count)\n",
      "File \u001b[1;32mc:\\Users\\Rehan Ibrahim\\AppData\\Local\\Programs\\Python\\Python310\\lib\\site-packages\\tensorflow\\python\\eager\\polymorphic_function\\polymorphic_function.py:876\u001b[0m, in \u001b[0;36mFunction._call\u001b[1;34m(self, *args, **kwds)\u001b[0m\n\u001b[0;32m    873\u001b[0m \u001b[39mself\u001b[39m\u001b[39m.\u001b[39m_lock\u001b[39m.\u001b[39mrelease()\n\u001b[0;32m    874\u001b[0m \u001b[39m# In this case we have not created variables on the first call. So we can\u001b[39;00m\n\u001b[0;32m    875\u001b[0m \u001b[39m# run the first trace but we should fail if variables are created.\u001b[39;00m\n\u001b[1;32m--> 876\u001b[0m results \u001b[39m=\u001b[39m tracing_compilation\u001b[39m.\u001b[39;49mcall_function(\n\u001b[0;32m    877\u001b[0m     args, kwds, \u001b[39mself\u001b[39;49m\u001b[39m.\u001b[39;49m_variable_creation_config\n\u001b[0;32m    878\u001b[0m )\n\u001b[0;32m    879\u001b[0m \u001b[39mif\u001b[39;00m \u001b[39mself\u001b[39m\u001b[39m.\u001b[39m_created_variables:\n\u001b[0;32m    880\u001b[0m   \u001b[39mraise\u001b[39;00m \u001b[39mValueError\u001b[39;00m(\u001b[39m\"\u001b[39m\u001b[39mCreating variables on a non-first call to a function\u001b[39m\u001b[39m\"\u001b[39m\n\u001b[0;32m    881\u001b[0m                    \u001b[39m\"\u001b[39m\u001b[39m decorated with tf.function.\u001b[39m\u001b[39m\"\u001b[39m)\n",
      "File \u001b[1;32mc:\\Users\\Rehan Ibrahim\\AppData\\Local\\Programs\\Python\\Python310\\lib\\site-packages\\tensorflow\\python\\eager\\polymorphic_function\\tracing_compilation.py:139\u001b[0m, in \u001b[0;36mcall_function\u001b[1;34m(args, kwargs, tracing_options)\u001b[0m\n\u001b[0;32m    137\u001b[0m bound_args \u001b[39m=\u001b[39m function\u001b[39m.\u001b[39mfunction_type\u001b[39m.\u001b[39mbind(\u001b[39m*\u001b[39margs, \u001b[39m*\u001b[39m\u001b[39m*\u001b[39mkwargs)\n\u001b[0;32m    138\u001b[0m flat_inputs \u001b[39m=\u001b[39m function\u001b[39m.\u001b[39mfunction_type\u001b[39m.\u001b[39munpack_inputs(bound_args)\n\u001b[1;32m--> 139\u001b[0m \u001b[39mreturn\u001b[39;00m function\u001b[39m.\u001b[39;49m_call_flat(  \u001b[39m# pylint: disable=protected-access\u001b[39;49;00m\n\u001b[0;32m    140\u001b[0m     flat_inputs, captured_inputs\u001b[39m=\u001b[39;49mfunction\u001b[39m.\u001b[39;49mcaptured_inputs\n\u001b[0;32m    141\u001b[0m )\n",
      "File \u001b[1;32mc:\\Users\\Rehan Ibrahim\\AppData\\Local\\Programs\\Python\\Python310\\lib\\site-packages\\tensorflow\\python\\eager\\polymorphic_function\\concrete_function.py:1264\u001b[0m, in \u001b[0;36mConcreteFunction._call_flat\u001b[1;34m(self, tensor_inputs, captured_inputs)\u001b[0m\n\u001b[0;32m   1260\u001b[0m possible_gradient_type \u001b[39m=\u001b[39m gradients_util\u001b[39m.\u001b[39mPossibleTapeGradientTypes(args)\n\u001b[0;32m   1261\u001b[0m \u001b[39mif\u001b[39;00m (possible_gradient_type \u001b[39m==\u001b[39m gradients_util\u001b[39m.\u001b[39mPOSSIBLE_GRADIENT_TYPES_NONE\n\u001b[0;32m   1262\u001b[0m     \u001b[39mand\u001b[39;00m executing_eagerly):\n\u001b[0;32m   1263\u001b[0m   \u001b[39m# No tape is watching; skip to running the function.\u001b[39;00m\n\u001b[1;32m-> 1264\u001b[0m   \u001b[39mreturn\u001b[39;00m \u001b[39mself\u001b[39;49m\u001b[39m.\u001b[39;49m_inference_function\u001b[39m.\u001b[39;49mflat_call(args)\n\u001b[0;32m   1265\u001b[0m forward_backward \u001b[39m=\u001b[39m \u001b[39mself\u001b[39m\u001b[39m.\u001b[39m_select_forward_and_backward_functions(\n\u001b[0;32m   1266\u001b[0m     args,\n\u001b[0;32m   1267\u001b[0m     possible_gradient_type,\n\u001b[0;32m   1268\u001b[0m     executing_eagerly)\n\u001b[0;32m   1269\u001b[0m forward_function, args_with_tangents \u001b[39m=\u001b[39m forward_backward\u001b[39m.\u001b[39mforward()\n",
      "File \u001b[1;32mc:\\Users\\Rehan Ibrahim\\AppData\\Local\\Programs\\Python\\Python310\\lib\\site-packages\\tensorflow\\python\\eager\\polymorphic_function\\atomic_function.py:217\u001b[0m, in \u001b[0;36mAtomicFunction.flat_call\u001b[1;34m(self, args)\u001b[0m\n\u001b[0;32m    215\u001b[0m \u001b[39mdef\u001b[39;00m \u001b[39mflat_call\u001b[39m(\u001b[39mself\u001b[39m, args: Sequence[core\u001b[39m.\u001b[39mTensor]) \u001b[39m-\u001b[39m\u001b[39m>\u001b[39m Any:\n\u001b[0;32m    216\u001b[0m   \u001b[39m\"\"\"Calls with tensor inputs and returns the structured output.\"\"\"\u001b[39;00m\n\u001b[1;32m--> 217\u001b[0m   flat_outputs \u001b[39m=\u001b[39m \u001b[39mself\u001b[39;49m(\u001b[39m*\u001b[39;49margs)\n\u001b[0;32m    218\u001b[0m   \u001b[39mreturn\u001b[39;00m \u001b[39mself\u001b[39m\u001b[39m.\u001b[39mfunction_type\u001b[39m.\u001b[39mpack_output(flat_outputs)\n",
      "File \u001b[1;32mc:\\Users\\Rehan Ibrahim\\AppData\\Local\\Programs\\Python\\Python310\\lib\\site-packages\\tensorflow\\python\\eager\\polymorphic_function\\atomic_function.py:252\u001b[0m, in \u001b[0;36mAtomicFunction.__call__\u001b[1;34m(self, *args)\u001b[0m\n\u001b[0;32m    250\u001b[0m \u001b[39mwith\u001b[39;00m record\u001b[39m.\u001b[39mstop_recording():\n\u001b[0;32m    251\u001b[0m   \u001b[39mif\u001b[39;00m \u001b[39mself\u001b[39m\u001b[39m.\u001b[39m_bound_context\u001b[39m.\u001b[39mexecuting_eagerly():\n\u001b[1;32m--> 252\u001b[0m     outputs \u001b[39m=\u001b[39m \u001b[39mself\u001b[39;49m\u001b[39m.\u001b[39;49m_bound_context\u001b[39m.\u001b[39;49mcall_function(\n\u001b[0;32m    253\u001b[0m         \u001b[39mself\u001b[39;49m\u001b[39m.\u001b[39;49mname,\n\u001b[0;32m    254\u001b[0m         \u001b[39mlist\u001b[39;49m(args),\n\u001b[0;32m    255\u001b[0m         \u001b[39mlen\u001b[39;49m(\u001b[39mself\u001b[39;49m\u001b[39m.\u001b[39;49mfunction_type\u001b[39m.\u001b[39;49mflat_outputs),\n\u001b[0;32m    256\u001b[0m     )\n\u001b[0;32m    257\u001b[0m   \u001b[39melse\u001b[39;00m:\n\u001b[0;32m    258\u001b[0m     outputs \u001b[39m=\u001b[39m make_call_op_in_graph(\n\u001b[0;32m    259\u001b[0m         \u001b[39mself\u001b[39m,\n\u001b[0;32m    260\u001b[0m         \u001b[39mlist\u001b[39m(args),\n\u001b[0;32m    261\u001b[0m         \u001b[39mself\u001b[39m\u001b[39m.\u001b[39m_bound_context\u001b[39m.\u001b[39mfunction_call_options\u001b[39m.\u001b[39mas_attrs(),\n\u001b[0;32m    262\u001b[0m     )\n",
      "File \u001b[1;32mc:\\Users\\Rehan Ibrahim\\AppData\\Local\\Programs\\Python\\Python310\\lib\\site-packages\\tensorflow\\python\\eager\\context.py:1479\u001b[0m, in \u001b[0;36mContext.call_function\u001b[1;34m(self, name, tensor_inputs, num_outputs)\u001b[0m\n\u001b[0;32m   1477\u001b[0m cancellation_context \u001b[39m=\u001b[39m cancellation\u001b[39m.\u001b[39mcontext()\n\u001b[0;32m   1478\u001b[0m \u001b[39mif\u001b[39;00m cancellation_context \u001b[39mis\u001b[39;00m \u001b[39mNone\u001b[39;00m:\n\u001b[1;32m-> 1479\u001b[0m   outputs \u001b[39m=\u001b[39m execute\u001b[39m.\u001b[39;49mexecute(\n\u001b[0;32m   1480\u001b[0m       name\u001b[39m.\u001b[39;49mdecode(\u001b[39m\"\u001b[39;49m\u001b[39mutf-8\u001b[39;49m\u001b[39m\"\u001b[39;49m),\n\u001b[0;32m   1481\u001b[0m       num_outputs\u001b[39m=\u001b[39;49mnum_outputs,\n\u001b[0;32m   1482\u001b[0m       inputs\u001b[39m=\u001b[39;49mtensor_inputs,\n\u001b[0;32m   1483\u001b[0m       attrs\u001b[39m=\u001b[39;49mattrs,\n\u001b[0;32m   1484\u001b[0m       ctx\u001b[39m=\u001b[39;49m\u001b[39mself\u001b[39;49m,\n\u001b[0;32m   1485\u001b[0m   )\n\u001b[0;32m   1486\u001b[0m \u001b[39melse\u001b[39;00m:\n\u001b[0;32m   1487\u001b[0m   outputs \u001b[39m=\u001b[39m execute\u001b[39m.\u001b[39mexecute_with_cancellation(\n\u001b[0;32m   1488\u001b[0m       name\u001b[39m.\u001b[39mdecode(\u001b[39m\"\u001b[39m\u001b[39mutf-8\u001b[39m\u001b[39m\"\u001b[39m),\n\u001b[0;32m   1489\u001b[0m       num_outputs\u001b[39m=\u001b[39mnum_outputs,\n\u001b[1;32m   (...)\u001b[0m\n\u001b[0;32m   1493\u001b[0m       cancellation_manager\u001b[39m=\u001b[39mcancellation_context,\n\u001b[0;32m   1494\u001b[0m   )\n",
      "File \u001b[1;32mc:\\Users\\Rehan Ibrahim\\AppData\\Local\\Programs\\Python\\Python310\\lib\\site-packages\\tensorflow\\python\\eager\\execute.py:60\u001b[0m, in \u001b[0;36mquick_execute\u001b[1;34m(op_name, num_outputs, inputs, attrs, ctx, name)\u001b[0m\n\u001b[0;32m     53\u001b[0m   \u001b[39m# Convert any objects of type core_types.Tensor to Tensor.\u001b[39;00m\n\u001b[0;32m     54\u001b[0m   inputs \u001b[39m=\u001b[39m [\n\u001b[0;32m     55\u001b[0m       tensor_conversion_registry\u001b[39m.\u001b[39mconvert(t)\n\u001b[0;32m     56\u001b[0m       \u001b[39mif\u001b[39;00m \u001b[39misinstance\u001b[39m(t, core_types\u001b[39m.\u001b[39mTensor)\n\u001b[0;32m     57\u001b[0m       \u001b[39melse\u001b[39;00m t\n\u001b[0;32m     58\u001b[0m       \u001b[39mfor\u001b[39;00m t \u001b[39min\u001b[39;00m inputs\n\u001b[0;32m     59\u001b[0m   ]\n\u001b[1;32m---> 60\u001b[0m   tensors \u001b[39m=\u001b[39m pywrap_tfe\u001b[39m.\u001b[39;49mTFE_Py_Execute(ctx\u001b[39m.\u001b[39;49m_handle, device_name, op_name,\n\u001b[0;32m     61\u001b[0m                                       inputs, attrs, num_outputs)\n\u001b[0;32m     62\u001b[0m \u001b[39mexcept\u001b[39;00m core\u001b[39m.\u001b[39m_NotOkStatusException \u001b[39mas\u001b[39;00m e:\n\u001b[0;32m     63\u001b[0m   \u001b[39mif\u001b[39;00m name \u001b[39mis\u001b[39;00m \u001b[39mnot\u001b[39;00m \u001b[39mNone\u001b[39;00m:\n",
      "\u001b[1;31mKeyboardInterrupt\u001b[0m: "
     ]
    }
   ],
   "source": [
    "batch_size = 32\n",
    "epochs = 100\n",
    "model2.fit(X_train_augmented,y_train_augmented, epochs=epochs, batch_size=batch_size, validation_split=0.1,callbacks=[early_stopping])"
   ]
  },
  {
   "cell_type": "code",
   "execution_count": null,
   "metadata": {},
   "outputs": [
    {
     "name": "stdout",
     "output_type": "stream",
     "text": [
      "3/3 [==============================] - 0s 51ms/step\n"
     ]
    },
    {
     "data": {
      "text/plain": [
       "array([[1.1048848e-07],\n",
       "       [6.5262444e-02],\n",
       "       [8.1741357e-01],\n",
       "       [9.9999994e-01],\n",
       "       [9.9985909e-01],\n",
       "       [4.6964706e-05],\n",
       "       [1.0000000e+00],\n",
       "       [2.6278234e-01],\n",
       "       [9.5176727e-01],\n",
       "       [9.9999601e-01],\n",
       "       [8.4959376e-01],\n",
       "       [9.9989086e-01],\n",
       "       [9.8281044e-01],\n",
       "       [3.8396913e-04],\n",
       "       [9.0666443e-01],\n",
       "       [8.8933700e-01],\n",
       "       [7.8033757e-01],\n",
       "       [9.6299291e-02],\n",
       "       [9.4659597e-01],\n",
       "       [1.3751871e-04],\n",
       "       [1.7990329e-05],\n",
       "       [4.7603064e-07],\n",
       "       [5.5574612e-05],\n",
       "       [8.2968020e-01],\n",
       "       [1.5143803e-01],\n",
       "       [9.6084380e-01],\n",
       "       [9.5376086e-01],\n",
       "       [3.2505942e-13],\n",
       "       [2.1266331e-01],\n",
       "       [1.7632203e-02],\n",
       "       [1.5408730e-02],\n",
       "       [1.7635127e-09],\n",
       "       [2.8364649e-01],\n",
       "       [5.3165463e-04],\n",
       "       [1.0266244e-05],\n",
       "       [9.9940866e-01],\n",
       "       [4.6980458e-01],\n",
       "       [2.6285483e-07],\n",
       "       [9.2667527e-03],\n",
       "       [1.9872932e-01],\n",
       "       [3.8108587e-02],\n",
       "       [9.9761724e-01],\n",
       "       [9.9996680e-01],\n",
       "       [9.9991423e-01],\n",
       "       [2.5519017e-02],\n",
       "       [8.6655056e-01],\n",
       "       [5.4604904e-04],\n",
       "       [9.9418533e-01],\n",
       "       [3.1282344e-01],\n",
       "       [8.7364607e-02],\n",
       "       [2.7154222e-01],\n",
       "       [1.3246729e-02],\n",
       "       [9.3906367e-01],\n",
       "       [1.0000000e+00],\n",
       "       [4.7668852e-02],\n",
       "       [2.4927341e-04],\n",
       "       [5.5574612e-05],\n",
       "       [8.0290931e-01],\n",
       "       [2.7549970e-01],\n",
       "       [9.9996221e-01],\n",
       "       [1.0000000e+00],\n",
       "       [8.6353019e-08],\n",
       "       [9.9988627e-01],\n",
       "       [9.9999094e-01],\n",
       "       [1.6469362e-11],\n",
       "       [9.9991280e-01],\n",
       "       [5.1992156e-02],\n",
       "       [2.8814298e-01],\n",
       "       [9.9992567e-01],\n",
       "       [5.8170222e-03],\n",
       "       [9.9997216e-01],\n",
       "       [3.2897893e-07],\n",
       "       [9.8978758e-01],\n",
       "       [9.9964136e-01],\n",
       "       [6.5789424e-02],\n",
       "       [1.2794238e-16],\n",
       "       [2.5561762e-01],\n",
       "       [8.2481720e-02],\n",
       "       [9.9961126e-01],\n",
       "       [9.9967629e-01],\n",
       "       [9.9988568e-01],\n",
       "       [5.8654210e-21],\n",
       "       [9.1460097e-01],\n",
       "       [9.9993736e-01],\n",
       "       [8.1040658e-02],\n",
       "       [9.8928648e-01]], dtype=float32)"
      ]
     },
     "execution_count": 175,
     "metadata": {},
     "output_type": "execute_result"
    }
   ],
   "source": [
    "# Make predictions on the test dataset\n",
    "predictions2 = model2.predict(X_test)\n",
    "predictions2"
   ]
  },
  {
   "cell_type": "markdown",
   "metadata": {},
   "source": [
    "## Eval Metrics"
   ]
  },
  {
   "cell_type": "code",
   "execution_count": null,
   "metadata": {},
   "outputs": [],
   "source": [
    "# Apply threshold to obtain binary predictions (0 or 1)\n",
    "threshold = 0.5\n",
    "binary_predictions2 = (predictions2 >= threshold).astype(int)"
   ]
  },
  {
   "cell_type": "code",
   "execution_count": null,
   "metadata": {},
   "outputs": [
    {
     "name": "stdout",
     "output_type": "stream",
     "text": [
      "Classification Report:\n",
      "              precision    recall  f1-score   support\n",
      "\n",
      "           0       0.65      0.86      0.74        35\n",
      "           1       0.88      0.69      0.77        51\n",
      "\n",
      "    accuracy                           0.76        86\n",
      "   macro avg       0.76      0.77      0.75        86\n",
      "weighted avg       0.78      0.76      0.76        86\n",
      "\n"
     ]
    }
   ],
   "source": [
    "class_report2 = classification_report(y_test, binary_predictions2)\n",
    "print(\"Classification Report:\")\n",
    "print(class_report2)"
   ]
  },
  {
   "cell_type": "code",
   "execution_count": null,
   "metadata": {},
   "outputs": [
    {
     "name": "stdout",
     "output_type": "stream",
     "text": [
      "Accuracy: 75.58%\n"
     ]
    }
   ],
   "source": [
    "# Calculate accuracy using one-hot encoded labels\n",
    "accuracy2 = accuracy_score(y_test, binary_predictions2)\n",
    "print(f\"Accuracy: {accuracy2*100:.2f}%\")"
   ]
  },
  {
   "cell_type": "markdown",
   "metadata": {},
   "source": [
    "# Gaussian Blurring and Histogram Equalization "
   ]
  },
  {
   "cell_type": "code",
   "execution_count": 94,
   "metadata": {},
   "outputs": [
    {
     "data": {
      "text/plain": [
       "array([[[0.23457694, 0.36232547, 0.36232547, ..., 0.        ,\n",
       "         0.        , 0.        ],\n",
       "        [0.32170596, 0.34865339, 0.34865339, ..., 0.        ,\n",
       "         0.        , 0.        ],\n",
       "        [0.32170596, 0.34865339, 0.34865339, ..., 0.        ,\n",
       "         0.05108721, 0.05108721],\n",
       "        ...,\n",
       "        [0.75207141, 0.75207141, 0.66585794, ..., 0.33897917,\n",
       "         0.4567483 , 0.4567483 ],\n",
       "        [0.75207141, 0.66585794, 0.66585794, ..., 0.20921645,\n",
       "         0.22317845, 0.22317845],\n",
       "        [0.7604181 , 0.74621195, 0.74621195, ..., 0.20921645,\n",
       "         0.22317845, 0.22317845]],\n",
       "\n",
       "       [[0.        , 0.        , 0.        , ..., 0.        ,\n",
       "         0.        , 0.        ],\n",
       "        [0.09744411, 0.1757229 , 0.02345312, ..., 0.        ,\n",
       "         0.        , 0.        ],\n",
       "        [0.09744411, 0.1757229 , 0.02345312, ..., 0.        ,\n",
       "         0.        , 0.        ],\n",
       "        ...,\n",
       "        [0.05917449, 0.10644694, 0.09991608, ..., 0.        ,\n",
       "         0.        , 0.        ],\n",
       "        [0.05917449, 0.10644694, 0.09991608, ..., 0.        ,\n",
       "         0.        , 0.        ],\n",
       "        [0.06446937, 0.        , 0.06256199, ..., 0.        ,\n",
       "         0.        , 0.        ]],\n",
       "\n",
       "       [[0.21542687, 0.14476234, 0.14476234, ..., 0.39064622,\n",
       "         0.33780423, 0.33780423],\n",
       "        [0.2580911 , 0.08645762, 0.08645762, ..., 0.45922026,\n",
       "         0.40227359, 0.40227359],\n",
       "        [0.2580911 , 0.08645762, 0.08645762, ..., 0.45922026,\n",
       "         0.40227359, 0.40227359],\n",
       "        ...,\n",
       "        [0.22763409, 0.22763409, 0.25445945, ..., 0.28299382,\n",
       "         0.        , 0.        ],\n",
       "        [0.22763409, 0.22763409, 0.25445945, ..., 0.28299382,\n",
       "         0.        , 0.        ],\n",
       "        [0.        , 0.        , 0.        , ..., 0.10128939,\n",
       "         0.        , 0.        ]],\n",
       "\n",
       "       ...,\n",
       "\n",
       "       [[0.64875257, 0.628748  , 0.6898909 , ..., 0.22978561,\n",
       "         0.50225071, 0.50225071],\n",
       "        [0.        , 0.73514916, 0.70157931, ..., 0.22978561,\n",
       "         0.50225071, 0.50225071],\n",
       "        [0.        , 0.73514916, 0.70157931, ..., 0.17320516,\n",
       "         0.06002899, 0.06002899],\n",
       "        ...,\n",
       "        [0.        , 0.        , 0.        , ..., 0.        ,\n",
       "         0.        , 0.        ],\n",
       "        [0.        , 0.        , 0.        , ..., 0.        ,\n",
       "         0.        , 0.        ],\n",
       "        [0.        , 0.        , 0.        , ..., 0.        ,\n",
       "         0.        , 0.        ]],\n",
       "\n",
       "       [[0.1706569 , 0.1908751 , 0.1908751 , ..., 0.        ,\n",
       "         0.        , 0.        ],\n",
       "        [0.1706569 , 0.1908751 , 0.1908751 , ..., 0.        ,\n",
       "         0.        , 0.        ],\n",
       "        [0.2010071 , 0.21408408, 0.21408408, ..., 0.        ,\n",
       "         0.        , 0.        ],\n",
       "        ...,\n",
       "        [0.41887541, 0.41887541, 0.41887541, ..., 0.        ,\n",
       "         0.        , 0.        ],\n",
       "        [0.37907988, 0.37907988, 0.37907988, ..., 0.        ,\n",
       "         0.        , 0.        ],\n",
       "        [0.37907988, 0.37907988, 0.37907988, ..., 0.        ,\n",
       "         0.        , 0.        ]],\n",
       "\n",
       "       [[0.25539025, 0.        , 0.12085145, ..., 0.22880903,\n",
       "         0.58352026, 0.26761273],\n",
       "        [0.23108263, 0.25618372, 0.36643015, ..., 0.22880903,\n",
       "         0.58352026, 0.26761273],\n",
       "        [0.23108263, 0.25618372, 0.36643015, ..., 0.05528344,\n",
       "         0.45282673, 0.62632181],\n",
       "        ...,\n",
       "        [0.        , 0.        , 0.2704509 , ..., 0.        ,\n",
       "         0.        , 0.01728847],\n",
       "        [0.        , 0.        , 0.2704509 , ..., 0.27774472,\n",
       "         0.57567712, 0.70539406],\n",
       "        [0.        , 0.        , 0.0296788 , ..., 0.27774472,\n",
       "         0.57567712, 0.70539406]]])"
      ]
     },
     "execution_count": 94,
     "metadata": {},
     "output_type": "execute_result"
    }
   ],
   "source": [
    "min_val = image_data.min()\n",
    "max_val = image_data.max()\n",
    "\n",
    "# Normalize the image data\n",
    "normalized_image_data = (image_data - min_val) / (max_val - min_val)\n",
    "normalized_image_data"
   ]
  },
  {
   "cell_type": "code",
   "execution_count": 95,
   "metadata": {},
   "outputs": [
    {
     "name": "stdout",
     "output_type": "stream",
     "text": [
      "X_train shape: (258, 64, 64)\n",
      "X_test shape: (172, 64, 64)\n"
     ]
    }
   ],
   "source": [
    "X = normalized_image_data\n",
    "y = plume_labels\n",
    "\n",
    "\n",
    "#X = [np.transpose(image, (1, 2, 0)) for image in X]\n",
    "\n",
    "#X = np.array(X)\n",
    "np.random.seed(101)\n",
    "X_train, X_test, y_train, y_test = train_test_split(X, y, test_size=0.4, random_state=42,shuffle=True)\n",
    "\n",
    "print(\"X_train shape:\", X_train.shape)\n",
    "print(\"X_test shape:\", X_test.shape)"
   ]
  },
  {
   "cell_type": "code",
   "execution_count": 96,
   "metadata": {},
   "outputs": [],
   "source": [
    "datagen = ImageDataGenerator(\n",
    "    rotation_range=10,\n",
    "    width_shift_range=0.1,\n",
    "    height_shift_range=0.1,\n",
    "    shear_range=0.2,\n",
    "    horizontal_flip=True,\n",
    "    fill_mode='nearest'\n",
    ")\n",
    "X_train = X_train.reshape(-1,64,64,1)\n",
    "batch_size=64\n",
    "steps_per_epoch = len(X_train) // batch_size\n",
    "# Fit the data augmentation generator to your training data\n",
    "datagen.fit(X_train)\n",
    "\n",
    "augmented_images = []\n",
    "augmented_labels = []\n",
    "\n",
    "# Generate augmented images and labels\n",
    "for X_batch, y_batch in datagen.flow(X_train, y_train, batch_size=batch_size,shuffle=True):\n",
    "    augmented_images.append(X_batch)\n",
    "    augmented_labels.append(y_batch)\n",
    "    if len(augmented_images) >= len(X_train):\n",
    "        break\n",
    "\n",
    "X_train_augmented = np.concatenate(augmented_images)\n",
    "y_train_augmented = np.concatenate(augmented_labels)\n",
    "\n",
    "y_train_augmented = y_train_augmented.astype(int)"
   ]
  },
  {
   "cell_type": "code",
   "execution_count": 97,
   "metadata": {},
   "outputs": [],
   "source": [
    "# Initialize lists to store the preprocessed images\n",
    "equalized_images = []\n",
    "blurred_images = []\n",
    "\n",
    "# Loop through the loaded images\n",
    "for image in X_train_augmented:\n",
    "    if image.dtype != np.uint8:\n",
    "        # Convert to 8-bit (if not already)\n",
    "        image = (image / np.max(image) * 255).astype(np.uint8)\n",
    "    \n",
    "    # Check if it's not already grayscale (single channel)\n",
    "    if len(image.shape) > 2 and image.shape[2] != 1:\n",
    "        # Convert to grayscale\n",
    "        image = cv2.cvtColor(image, cv2.COLOR_BGR2GRAY)\n",
    "\n",
    "    # Apply Histogram Equalization\n",
    "    equalized_image = cv2.equalizeHist(image)\n",
    "    equalized_images.append(equalized_image)\n",
    "\n",
    "    # Apply Gaussian Blurring\n",
    "    blurred_image = cv2.GaussianBlur(equalized_image, (5, 5), 0)  # Adjust kernel size as needed\n",
    "    blurred_images.append(blurred_image)\n",
    "\n",
    "# Convert the lists of preprocessed images into NumPy arrays\n",
    "equalized_images = np.array(equalized_images)\n",
    "blurred_images = np.array(blurred_images)\n"
   ]
  },
  {
   "cell_type": "code",
   "execution_count": 101,
   "metadata": {},
   "outputs": [
    {
     "name": "stdout",
     "output_type": "stream",
     "text": [
      "Model: \"sequential_7\"\n",
      "_________________________________________________________________\n",
      " Layer (type)                Output Shape              Param #   \n",
      "=================================================================\n",
      " conv2d_21 (Conv2D)          (None, 62, 62, 32)        320       \n",
      "                                                                 \n",
      " max_pooling2d_21 (MaxPooli  (None, 31, 31, 32)        0         \n",
      " ng2D)                                                           \n",
      "                                                                 \n",
      " conv2d_22 (Conv2D)          (None, 29, 29, 64)        18496     \n",
      "                                                                 \n",
      " max_pooling2d_22 (MaxPooli  (None, 14, 14, 64)        0         \n",
      " ng2D)                                                           \n",
      "                                                                 \n",
      " conv2d_23 (Conv2D)          (None, 12, 12, 128)       73856     \n",
      "                                                                 \n",
      " max_pooling2d_23 (MaxPooli  (None, 6, 6, 128)         0         \n",
      " ng2D)                                                           \n",
      "                                                                 \n",
      " flatten_7 (Flatten)         (None, 4608)              0         \n",
      "                                                                 \n",
      " dense_21 (Dense)            (None, 128)               589952    \n",
      "                                                                 \n",
      " dropout_14 (Dropout)        (None, 128)               0         \n",
      "                                                                 \n",
      " dense_22 (Dense)            (None, 64)                8256      \n",
      "                                                                 \n",
      " dropout_15 (Dropout)        (None, 64)                0         \n",
      "                                                                 \n",
      " dense_23 (Dense)            (None, 1)                 65        \n",
      "                                                                 \n",
      "=================================================================\n",
      "Total params: 690945 (2.64 MB)\n",
      "Trainable params: 690945 (2.64 MB)\n",
      "Non-trainable params: 0 (0.00 Byte)\n",
      "_________________________________________________________________\n"
     ]
    }
   ],
   "source": [
    "import tensorflow as tf\n",
    "from tensorflow.keras import layers\n",
    "\n",
    "# Set the random seed for reproducibility\n",
    "tf.random.set_seed(1234)\n",
    "\n",
    "# Define the CNN model\n",
    "model = tf.keras.Sequential([\n",
    "    # Convolutional layers\n",
    "    layers.Conv2D(32, (3, 3), activation='relu', input_shape=(64, 64, 1)),\n",
    "    layers.MaxPooling2D((2, 2)),\n",
    "    layers.Conv2D(64, (3, 3), activation='relu'),\n",
    "    layers.MaxPooling2D((2, 2)),\n",
    "    layers.Conv2D(128, (3, 3), activation='relu'),\n",
    "    layers.MaxPooling2D((2, 2)),\n",
    "    \n",
    "    # Flatten the output for fully connected layers\n",
    "    layers.Flatten(),\n",
    "    \n",
    "    # Fully connected layers\n",
    "    layers.Dense(128, activation='relu'),\n",
    "    layers.Dropout(0.5),  \n",
    "    layers.Dense(64, activation='relu'),\n",
    "    layers.Dropout(0.5),\n",
    "    layers.Dense(1, activation='sigmoid')  # Use 'sigmoid' for binary classification\n",
    "])\n",
    "\n",
    "# Compile the model\n",
    "model.compile(optimizer='adam',\n",
    "              loss='binary_crossentropy',  # Use 'binary_crossentropy' for binary classification\n",
    "              metrics=['accuracy'])\n",
    "\n",
    "# Print the model summary to view the architecture\n",
    "model.summary()\n",
    "\n",
    "# Define early stopping\n",
    "early_stopping = tf.keras.callbacks.EarlyStopping(\n",
    "    monitor='val_loss', \n",
    "    patience=5,           \n",
    "    restore_best_weights=True)\n"
   ]
  },
  {
   "cell_type": "code",
   "execution_count": 103,
   "metadata": {},
   "outputs": [
    {
     "name": "stdout",
     "output_type": "stream",
     "text": [
      "Epoch 1/100\n",
      "334/334 [==============================] - 25s 74ms/step - loss: 1.8818 - accuracy: 0.6649 - val_loss: 0.4662 - val_accuracy: 0.7843\n",
      "Epoch 2/100\n",
      "334/334 [==============================] - 24s 73ms/step - loss: 0.4426 - accuracy: 0.8022 - val_loss: 0.3391 - val_accuracy: 0.8524\n",
      "Epoch 3/100\n",
      "334/334 [==============================] - 24s 72ms/step - loss: 0.3238 - accuracy: 0.8657 - val_loss: 0.2443 - val_accuracy: 0.9011\n",
      "Epoch 4/100\n",
      "334/334 [==============================] - 24s 72ms/step - loss: 0.2314 - accuracy: 0.9076 - val_loss: 0.1924 - val_accuracy: 0.9281\n",
      "Epoch 5/100\n",
      "334/334 [==============================] - 24s 73ms/step - loss: 0.1823 - accuracy: 0.9270 - val_loss: 0.1569 - val_accuracy: 0.9397\n",
      "Epoch 6/100\n",
      "334/334 [==============================] - 24s 72ms/step - loss: 0.1399 - accuracy: 0.9453 - val_loss: 0.1379 - val_accuracy: 0.9513\n",
      "Epoch 7/100\n",
      "334/334 [==============================] - 24s 73ms/step - loss: 0.1275 - accuracy: 0.9519 - val_loss: 0.1247 - val_accuracy: 0.9610\n",
      "Epoch 8/100\n",
      "334/334 [==============================] - 24s 72ms/step - loss: 0.0964 - accuracy: 0.9657 - val_loss: 0.1363 - val_accuracy: 0.9509\n",
      "Epoch 9/100\n",
      "334/334 [==============================] - 24s 72ms/step - loss: 0.0923 - accuracy: 0.9646 - val_loss: 0.1287 - val_accuracy: 0.9569\n",
      "Epoch 10/100\n",
      "334/334 [==============================] - 24s 72ms/step - loss: 0.0840 - accuracy: 0.9699 - val_loss: 0.0924 - val_accuracy: 0.9670\n",
      "Epoch 11/100\n",
      "334/334 [==============================] - 24s 73ms/step - loss: 0.0750 - accuracy: 0.9753 - val_loss: 0.1059 - val_accuracy: 0.9610\n",
      "Epoch 12/100\n",
      "334/334 [==============================] - 24s 73ms/step - loss: 0.0802 - accuracy: 0.9720 - val_loss: 0.0898 - val_accuracy: 0.9682\n",
      "Epoch 13/100\n",
      "334/334 [==============================] - 24s 72ms/step - loss: 0.0590 - accuracy: 0.9822 - val_loss: 0.0901 - val_accuracy: 0.9745\n",
      "Epoch 14/100\n",
      "334/334 [==============================] - 25s 74ms/step - loss: 0.0502 - accuracy: 0.9828 - val_loss: 0.0834 - val_accuracy: 0.9742\n",
      "Epoch 15/100\n",
      "334/334 [==============================] - 24s 73ms/step - loss: 0.0428 - accuracy: 0.9855 - val_loss: 0.0825 - val_accuracy: 0.9715\n",
      "Epoch 16/100\n",
      "334/334 [==============================] - 24s 72ms/step - loss: 0.0486 - accuracy: 0.9831 - val_loss: 0.0788 - val_accuracy: 0.9730\n",
      "Epoch 17/100\n",
      "334/334 [==============================] - 24s 71ms/step - loss: 0.0484 - accuracy: 0.9839 - val_loss: 0.0806 - val_accuracy: 0.9794\n",
      "Epoch 18/100\n",
      "334/334 [==============================] - 24s 71ms/step - loss: 0.0502 - accuracy: 0.9835 - val_loss: 0.0590 - val_accuracy: 0.9783\n",
      "Epoch 19/100\n",
      "334/334 [==============================] - 24s 71ms/step - loss: 0.0433 - accuracy: 0.9860 - val_loss: 0.0677 - val_accuracy: 0.9775\n",
      "Epoch 20/100\n",
      "334/334 [==============================] - 24s 70ms/step - loss: 0.0431 - accuracy: 0.9879 - val_loss: 0.0998 - val_accuracy: 0.9689\n",
      "Epoch 21/100\n",
      "334/334 [==============================] - 24s 71ms/step - loss: 0.0384 - accuracy: 0.9864 - val_loss: 0.0745 - val_accuracy: 0.9712\n",
      "Epoch 22/100\n",
      "334/334 [==============================] - 24s 71ms/step - loss: 0.0451 - accuracy: 0.9860 - val_loss: 0.0918 - val_accuracy: 0.9682\n",
      "Epoch 23/100\n",
      "334/334 [==============================] - 24s 71ms/step - loss: 0.0407 - accuracy: 0.9874 - val_loss: 0.0600 - val_accuracy: 0.9813\n"
     ]
    },
    {
     "data": {
      "text/plain": [
       "<keras.src.callbacks.History at 0x161b3ddff10>"
      ]
     },
     "execution_count": 103,
     "metadata": {},
     "output_type": "execute_result"
    }
   ],
   "source": [
    "batch_size = 32\n",
    "epochs = 100\n",
    "model.fit(blurred_images,y_train_augmented, epochs=epochs, batch_size=batch_size, validation_split=0.2,callbacks=[early_stopping])"
   ]
  },
  {
   "cell_type": "code",
   "execution_count": 104,
   "metadata": {},
   "outputs": [
    {
     "name": "stdout",
     "output_type": "stream",
     "text": [
      "6/6 [==============================] - 0s 18ms/step\n"
     ]
    },
    {
     "data": {
      "text/plain": [
       "array([[9.99909699e-01],\n",
       "       [2.20704839e-01],\n",
       "       [9.99916911e-01],\n",
       "       [9.99997437e-01],\n",
       "       [9.74972665e-01],\n",
       "       [9.99999881e-01],\n",
       "       [3.48656118e-01],\n",
       "       [8.56501579e-01],\n",
       "       [9.99999642e-01],\n",
       "       [9.99997675e-01],\n",
       "       [9.99952793e-01],\n",
       "       [1.00000000e+00],\n",
       "       [1.00000000e+00],\n",
       "       [9.90923584e-01],\n",
       "       [2.76654027e-02],\n",
       "       [9.99912798e-01],\n",
       "       [1.00000000e+00],\n",
       "       [9.99995410e-01],\n",
       "       [9.99999821e-01],\n",
       "       [9.99817491e-01],\n",
       "       [9.99979436e-01],\n",
       "       [9.70909894e-01],\n",
       "       [1.00000000e+00],\n",
       "       [2.15721294e-01],\n",
       "       [9.99996483e-01],\n",
       "       [1.00000000e+00],\n",
       "       [9.99970794e-01],\n",
       "       [6.61578953e-01],\n",
       "       [9.39392924e-01],\n",
       "       [4.00941521e-01],\n",
       "       [8.97112489e-01],\n",
       "       [4.81691718e-01],\n",
       "       [8.48094046e-01],\n",
       "       [1.00000000e+00],\n",
       "       [3.54502767e-01],\n",
       "       [9.79966581e-01],\n",
       "       [8.86664391e-01],\n",
       "       [9.89911973e-01],\n",
       "       [9.98765767e-01],\n",
       "       [9.91529405e-01],\n",
       "       [2.30542687e-03],\n",
       "       [9.95199919e-01],\n",
       "       [9.99997616e-01],\n",
       "       [1.85990527e-01],\n",
       "       [1.00000000e+00],\n",
       "       [1.00000000e+00],\n",
       "       [4.39547181e-01],\n",
       "       [9.61062908e-01],\n",
       "       [9.99996722e-01],\n",
       "       [9.96409833e-01],\n",
       "       [9.92395401e-01],\n",
       "       [9.99886990e-01],\n",
       "       [8.81956398e-01],\n",
       "       [4.28204099e-03],\n",
       "       [9.99981403e-01],\n",
       "       [1.00000000e+00],\n",
       "       [1.00000000e+00],\n",
       "       [9.99761105e-01],\n",
       "       [9.99996424e-01],\n",
       "       [9.86451685e-01],\n",
       "       [9.99998987e-01],\n",
       "       [8.57147813e-01],\n",
       "       [9.99909222e-01],\n",
       "       [9.99999881e-01],\n",
       "       [9.99994993e-01],\n",
       "       [1.00000000e+00],\n",
       "       [9.99985158e-01],\n",
       "       [1.00000000e+00],\n",
       "       [1.00000000e+00],\n",
       "       [1.45765707e-01],\n",
       "       [3.79743338e-01],\n",
       "       [9.99978900e-01],\n",
       "       [7.17376053e-01],\n",
       "       [4.93425518e-01],\n",
       "       [8.99164379e-01],\n",
       "       [9.82651055e-01],\n",
       "       [1.03314765e-01],\n",
       "       [9.99787092e-01],\n",
       "       [9.99878407e-01],\n",
       "       [9.99993742e-01],\n",
       "       [1.00000000e+00],\n",
       "       [9.90723670e-01],\n",
       "       [1.30223781e-02],\n",
       "       [9.99999762e-01],\n",
       "       [9.99946594e-01],\n",
       "       [9.99997675e-01],\n",
       "       [9.99999702e-01],\n",
       "       [9.47784126e-01],\n",
       "       [9.99999702e-01],\n",
       "       [9.98858273e-01],\n",
       "       [9.96763647e-01],\n",
       "       [4.94575739e-01],\n",
       "       [9.92180228e-01],\n",
       "       [9.99867380e-01],\n",
       "       [9.99850750e-01],\n",
       "       [1.00000000e+00],\n",
       "       [9.99998569e-01],\n",
       "       [9.99982655e-01],\n",
       "       [1.00000000e+00],\n",
       "       [9.99999940e-01],\n",
       "       [1.00000000e+00],\n",
       "       [9.99999702e-01],\n",
       "       [5.73425353e-01],\n",
       "       [5.92513271e-02],\n",
       "       [9.92395401e-01],\n",
       "       [9.88469243e-01],\n",
       "       [9.99999523e-01],\n",
       "       [9.99938607e-01],\n",
       "       [9.99996424e-01],\n",
       "       [9.99999821e-01],\n",
       "       [1.00000000e+00],\n",
       "       [9.99991417e-01],\n",
       "       [9.88643110e-01],\n",
       "       [9.42467868e-01],\n",
       "       [9.99999583e-01],\n",
       "       [9.71146882e-01],\n",
       "       [9.22836185e-01],\n",
       "       [1.00000000e+00],\n",
       "       [9.99986351e-01],\n",
       "       [9.98832107e-01],\n",
       "       [9.99994278e-01],\n",
       "       [1.30865663e-01],\n",
       "       [3.48656118e-01],\n",
       "       [5.88016259e-03],\n",
       "       [9.83434439e-01],\n",
       "       [1.72560066e-01],\n",
       "       [6.65615022e-01],\n",
       "       [5.28048277e-02],\n",
       "       [1.03694235e-03],\n",
       "       [9.99979436e-01],\n",
       "       [1.66663469e-03],\n",
       "       [9.99998987e-01],\n",
       "       [7.02637136e-01],\n",
       "       [1.64389834e-01],\n",
       "       [2.31870301e-02],\n",
       "       [9.99984443e-01],\n",
       "       [4.94575739e-01],\n",
       "       [2.11299546e-02],\n",
       "       [1.00000000e+00],\n",
       "       [1.00000000e+00],\n",
       "       [5.45068324e-01],\n",
       "       [8.77990842e-01],\n",
       "       [1.60352707e-01],\n",
       "       [9.97124732e-01],\n",
       "       [9.84167516e-01],\n",
       "       [9.99549747e-01],\n",
       "       [9.99999762e-01],\n",
       "       [9.99999404e-01],\n",
       "       [9.99999404e-01],\n",
       "       [3.96093633e-03],\n",
       "       [9.98253226e-01],\n",
       "       [8.09113011e-02],\n",
       "       [6.05866790e-01],\n",
       "       [1.41071929e-02],\n",
       "       [1.00000000e+00],\n",
       "       [8.59112024e-01],\n",
       "       [9.99987006e-01],\n",
       "       [9.99997795e-01],\n",
       "       [1.00000000e+00],\n",
       "       [1.61425725e-01],\n",
       "       [9.99931335e-01],\n",
       "       [1.00000000e+00],\n",
       "       [3.45330569e-04],\n",
       "       [1.00000000e+00],\n",
       "       [8.95951748e-01],\n",
       "       [7.16511488e-01],\n",
       "       [9.99999583e-01],\n",
       "       [9.99995232e-01],\n",
       "       [7.48395383e-01],\n",
       "       [9.97374654e-01],\n",
       "       [3.99109364e-01],\n",
       "       [9.99985158e-01]], dtype=float32)"
      ]
     },
     "execution_count": 104,
     "metadata": {},
     "output_type": "execute_result"
    }
   ],
   "source": [
    "# Make predictions on the test dataset\n",
    "predictions = model.predict(X_test)\n",
    "predictions"
   ]
  },
  {
   "cell_type": "markdown",
   "metadata": {},
   "source": [
    "## Eval Metrics"
   ]
  },
  {
   "cell_type": "code",
   "execution_count": 106,
   "metadata": {},
   "outputs": [],
   "source": [
    "# Apply threshold to obtain binary predictions (0 or 1)\n",
    "threshold = 0.5\n",
    "binary_predictions = (predictions >= threshold).astype(int)"
   ]
  },
  {
   "cell_type": "code",
   "execution_count": 107,
   "metadata": {},
   "outputs": [
    {
     "name": "stdout",
     "output_type": "stream",
     "text": [
      "Accuracy: 52.33%\n"
     ]
    }
   ],
   "source": [
    "accuracy = accuracy_score(y_test, binary_predictions)\n",
    "print(f\"Accuracy: {accuracy*100:.2f}%\")"
   ]
  },
  {
   "cell_type": "code",
   "execution_count": 108,
   "metadata": {},
   "outputs": [
    {
     "data": {
      "text/plain": [
       "(array([ 15.,   8.,   2.,   5.,   6.,   2.,   3.,   4.,  10., 117.]),\n",
       " array([3.45330569e-04, 1.00310795e-01, 2.00276271e-01, 3.00241739e-01,\n",
       "        4.00207192e-01, 5.00172675e-01, 6.00138128e-01, 7.00103581e-01,\n",
       "        8.00069094e-01, 9.00034547e-01, 1.00000000e+00]),\n",
       " <BarContainer object of 10 artists>)"
      ]
     },
     "execution_count": 108,
     "metadata": {},
     "output_type": "execute_result"
    },
    {
     "data": {
      "image/png": "[encoded data removed]",
      "text/plain": [
       "<Figure size 640x480 with 1 Axes>"
      ]
     },
     "metadata": {},
     "output_type": "display_data"
    }
   ],
   "source": [
    "plt.hist(predictions.squeeze())"
   ]
  },
  {
   "cell_type": "code",
   "execution_count": 109,
   "metadata": {},
   "outputs": [
    {
     "name": "stdout",
     "output_type": "stream",
     "text": [
      "Classification Report:\n",
      "              precision    recall  f1-score   support\n",
      "\n",
      "           0       0.47      0.21      0.29        80\n",
      "           1       0.54      0.79      0.64        92\n",
      "\n",
      "    accuracy                           0.52       172\n",
      "   macro avg       0.50      0.50      0.47       172\n",
      "weighted avg       0.51      0.52      0.48       172\n",
      "\n"
     ]
    }
   ],
   "source": [
    "class_report = classification_report(y_test, binary_predictions)\n",
    "print(\"Classification Report:\")\n",
    "print(class_report)"
   ]
  }
 ],
 "metadata": {
  "kernelspec": {
   "display_name": "Python 3",
   "language": "python",
   "name": "python3"
  },
  "language_info": {
   "codemirror_mode": {
    "name": "ipython",
    "version": 3
   },
   "file_extension": ".py",
   "mimetype": "text/x-python",
   "name": "python",
   "nbconvert_exporter": "python",
   "pygments_lexer": "ipython3",
   "version": "3.10.0"
  }
 },
 "nbformat": 4,
 "nbformat_minor": 2
}
