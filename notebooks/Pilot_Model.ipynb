{
 "cells": [
  {
   "cell_type": "code",
   "execution_count": 108,
   "metadata": {},
   "outputs": [],
   "source": [
    "import pandas as pd\n",
    "import numpy as np\n",
    "import rasterio\n",
    "import geopandas as gpd\n",
    "import earthpy.plot as ep\n",
    "import os\n",
    "import imageio\n",
    "os.getcwd()\n",
    "import pandas as pd\n",
    "import numpy as np\n",
    "import matplotlib.pyplot as plt\n",
    "import tensorflow as tf\n",
    "from tensorflow import keras\n",
    "from tensorflow.keras import layers\n",
    "from sklearn.model_selection import train_test_split\n",
    "from sklearn.metrics import accuracy_score, classification_report, confusion_matrix\n",
    "from sklearn.preprocessing import LabelBinarizer\n",
    "from imblearn.over_sampling import SMOTE\n",
    "from tensorflow.keras.preprocessing.image import ImageDataGenerator\n",
    "from tensorflow.keras.utils import to_categorical\n",
    "from tensorflow import keras\n",
    "from tensorflow.keras import layers\n",
    "import glob\n",
    "from tensorflow.keras.callbacks import EarlyStopping\n",
    "from sklearn.preprocessing import LabelBinarizer\n",
    "from sklearn.preprocessing import LabelEncoder\n",
    "import cv2\n",
    "keras.utils.set_random_seed(101)"
   ]
  },
  {
   "cell_type": "code",
   "execution_count": 109,
   "metadata": {},
   "outputs": [],
   "source": [
    "from tensorflow.keras.applications import MobileNetV2, EfficientNetB0"
   ]
  },
  {
   "cell_type": "code",
   "execution_count": 110,
   "metadata": {},
   "outputs": [
    {
     "data": {
      "text/plain": [
       "'c:\\\\Users\\\\Rehan Ibrahim\\\\OneDrive - HEC Paris\\\\Desktop\\\\methane-hackathon'"
      ]
     },
     "execution_count": 110,
     "metadata": {},
     "output_type": "execute_result"
    }
   ],
   "source": [
    "os.getcwd()"
   ]
  },
  {
   "cell_type": "code",
   "execution_count": 112,
   "metadata": {},
   "outputs": [
    {
     "name": "stderr",
     "output_type": "stream",
     "text": [
      "c:\\Users\\Rehan Ibrahim\\AppData\\Local\\Programs\\Python\\Python310\\lib\\site-packages\\rasterio\\__init__.py:320: NotGeoreferencedWarning: Dataset has no geotransform, gcps, or rpcs. The identity matrix will be returned.\n",
      "  dataset = DatasetReader(path, driver=driver, sharing=sharing, **kwargs)\n"
     ]
    },
    {
     "data": {
      "text/plain": [
       "(1.0, 1.0)"
      ]
     },
     "execution_count": 112,
     "metadata": {},
     "output_type": "execute_result"
    }
   ],
   "source": [
    "with rasterio.open(\"data/dataset/train_data/images/plume/20230101_methane_mixing_ratio_id_4928.tif\") as src:\n",
    "    img = src.read(1)\n",
    "    \n",
    "img_meta =src.meta\n",
    "img_meta\n",
    "src.res"
   ]
  },
  {
   "cell_type": "code",
   "execution_count": 113,
   "metadata": {},
   "outputs": [],
   "source": [
    "meta_df = pd.read_csv('data/dataset/train_data/metadata.csv')"
   ]
  },
  {
   "cell_type": "code",
   "execution_count": 114,
   "metadata": {},
   "outputs": [
    {
     "data": {
      "text/plain": [
       "lat        lon       \n",
       "29.631951   35.952379    21\n",
       "32.713854   44.609398    19\n",
       "33.990812   39.641866    18\n",
       "28.510000   77.442400    17\n",
       "36.596520   38.321405    15\n",
       "                         ..\n",
       "21.039986  -77.824694     1\n",
       "24.907500   67.023000     1\n",
       "23.763333   86.396667     1\n",
       "23.740000   90.595000     1\n",
       "68.570113   25.563059     1\n",
       "Length: 101, dtype: int64"
      ]
     },
     "execution_count": 114,
     "metadata": {},
     "output_type": "execute_result"
    }
   ],
   "source": [
    "meta_df[['lat','lon']].value_counts()"
   ]
  },
  {
   "cell_type": "code",
   "execution_count": 115,
   "metadata": {},
   "outputs": [
    {
     "data": {
      "text/html": [
       "<div>\n",
       "<style scoped>\n",
       "    .dataframe tbody tr th:only-of-type {\n",
       "        vertical-align: middle;\n",
       "    }\n",
       "\n",
       "    .dataframe tbody tr th {\n",
       "        vertical-align: top;\n",
       "    }\n",
       "\n",
       "    .dataframe thead th {\n",
       "        text-align: right;\n",
       "    }\n",
       "</style>\n",
       "<table border=\"1\" class=\"dataframe\">\n",
       "  <thead>\n",
       "    <tr style=\"text-align: right;\">\n",
       "      <th></th>\n",
       "      <th>date</th>\n",
       "      <th>id_coord</th>\n",
       "      <th>plume</th>\n",
       "      <th>set</th>\n",
       "      <th>lat</th>\n",
       "      <th>lon</th>\n",
       "      <th>coord_x</th>\n",
       "      <th>coord_y</th>\n",
       "      <th>path</th>\n",
       "    </tr>\n",
       "  </thead>\n",
       "  <tbody>\n",
       "    <tr>\n",
       "      <th>0</th>\n",
       "      <td>20230223</td>\n",
       "      <td>id_6675</td>\n",
       "      <td>yes</td>\n",
       "      <td>train</td>\n",
       "      <td>31.528750</td>\n",
       "      <td>74.330625</td>\n",
       "      <td>24</td>\n",
       "      <td>47</td>\n",
       "      <td>images/plume/20230223_methane_mixing_ratio_id_...</td>\n",
       "    </tr>\n",
       "    <tr>\n",
       "      <th>1</th>\n",
       "      <td>20230103</td>\n",
       "      <td>id_2542</td>\n",
       "      <td>yes</td>\n",
       "      <td>train</td>\n",
       "      <td>35.538000</td>\n",
       "      <td>112.524000</td>\n",
       "      <td>42</td>\n",
       "      <td>37</td>\n",
       "      <td>images/plume/20230103_methane_mixing_ratio_id_...</td>\n",
       "    </tr>\n",
       "    <tr>\n",
       "      <th>2</th>\n",
       "      <td>20230301</td>\n",
       "      <td>id_6546</td>\n",
       "      <td>yes</td>\n",
       "      <td>train</td>\n",
       "      <td>21.060000</td>\n",
       "      <td>84.936667</td>\n",
       "      <td>58</td>\n",
       "      <td>15</td>\n",
       "      <td>images/plume/20230301_methane_mixing_ratio_id_...</td>\n",
       "    </tr>\n",
       "    <tr>\n",
       "      <th>3</th>\n",
       "      <td>20230225</td>\n",
       "      <td>id_6084</td>\n",
       "      <td>yes</td>\n",
       "      <td>train</td>\n",
       "      <td>26.756667</td>\n",
       "      <td>80.973333</td>\n",
       "      <td>28</td>\n",
       "      <td>62</td>\n",
       "      <td>images/plume/20230225_methane_mixing_ratio_id_...</td>\n",
       "    </tr>\n",
       "    <tr>\n",
       "      <th>4</th>\n",
       "      <td>20230105</td>\n",
       "      <td>id_2012</td>\n",
       "      <td>yes</td>\n",
       "      <td>train</td>\n",
       "      <td>34.800000</td>\n",
       "      <td>40.770000</td>\n",
       "      <td>59</td>\n",
       "      <td>44</td>\n",
       "      <td>images/plume/20230105_methane_mixing_ratio_id_...</td>\n",
       "    </tr>\n",
       "  </tbody>\n",
       "</table>\n",
       "</div>"
      ],
      "text/plain": [
       "       date id_coord plume    set        lat         lon  coord_x  coord_y  \\\n",
       "0  20230223  id_6675   yes  train  31.528750   74.330625       24       47   \n",
       "1  20230103  id_2542   yes  train  35.538000  112.524000       42       37   \n",
       "2  20230301  id_6546   yes  train  21.060000   84.936667       58       15   \n",
       "3  20230225  id_6084   yes  train  26.756667   80.973333       28       62   \n",
       "4  20230105  id_2012   yes  train  34.800000   40.770000       59       44   \n",
       "\n",
       "                                                path  \n",
       "0  images/plume/20230223_methane_mixing_ratio_id_...  \n",
       "1  images/plume/20230103_methane_mixing_ratio_id_...  \n",
       "2  images/plume/20230301_methane_mixing_ratio_id_...  \n",
       "3  images/plume/20230225_methane_mixing_ratio_id_...  \n",
       "4  images/plume/20230105_methane_mixing_ratio_id_...  "
      ]
     },
     "execution_count": 115,
     "metadata": {},
     "output_type": "execute_result"
    }
   ],
   "source": [
    "meta_df.head()"
   ]
  },
  {
   "cell_type": "code",
   "execution_count": 116,
   "metadata": {},
   "outputs": [],
   "source": [
    "meta_df['path'] = 'data/dataset/train_data/' + meta_df['path'].astype(str) \n",
    "meta_df['path'] =  meta_df['path'].astype(str) +'.tif'"
   ]
  },
  {
   "cell_type": "code",
   "execution_count": 117,
   "metadata": {},
   "outputs": [
    {
     "data": {
      "text/html": [
       "<div>\n",
       "<style scoped>\n",
       "    .dataframe tbody tr th:only-of-type {\n",
       "        vertical-align: middle;\n",
       "    }\n",
       "\n",
       "    .dataframe tbody tr th {\n",
       "        vertical-align: top;\n",
       "    }\n",
       "\n",
       "    .dataframe thead th {\n",
       "        text-align: right;\n",
       "    }\n",
       "</style>\n",
       "<table border=\"1\" class=\"dataframe\">\n",
       "  <thead>\n",
       "    <tr style=\"text-align: right;\">\n",
       "      <th></th>\n",
       "      <th>date</th>\n",
       "      <th>id_coord</th>\n",
       "      <th>plume</th>\n",
       "      <th>set</th>\n",
       "      <th>lat</th>\n",
       "      <th>lon</th>\n",
       "      <th>coord_x</th>\n",
       "      <th>coord_y</th>\n",
       "      <th>path</th>\n",
       "    </tr>\n",
       "  </thead>\n",
       "  <tbody>\n",
       "    <tr>\n",
       "      <th>0</th>\n",
       "      <td>20230223</td>\n",
       "      <td>id_6675</td>\n",
       "      <td>yes</td>\n",
       "      <td>train</td>\n",
       "      <td>31.528750</td>\n",
       "      <td>74.330625</td>\n",
       "      <td>24</td>\n",
       "      <td>47</td>\n",
       "      <td>data/dataset/train_data/images/plume/20230223_...</td>\n",
       "    </tr>\n",
       "    <tr>\n",
       "      <th>1</th>\n",
       "      <td>20230103</td>\n",
       "      <td>id_2542</td>\n",
       "      <td>yes</td>\n",
       "      <td>train</td>\n",
       "      <td>35.538000</td>\n",
       "      <td>112.524000</td>\n",
       "      <td>42</td>\n",
       "      <td>37</td>\n",
       "      <td>data/dataset/train_data/images/plume/20230103_...</td>\n",
       "    </tr>\n",
       "    <tr>\n",
       "      <th>2</th>\n",
       "      <td>20230301</td>\n",
       "      <td>id_6546</td>\n",
       "      <td>yes</td>\n",
       "      <td>train</td>\n",
       "      <td>21.060000</td>\n",
       "      <td>84.936667</td>\n",
       "      <td>58</td>\n",
       "      <td>15</td>\n",
       "      <td>data/dataset/train_data/images/plume/20230301_...</td>\n",
       "    </tr>\n",
       "    <tr>\n",
       "      <th>3</th>\n",
       "      <td>20230225</td>\n",
       "      <td>id_6084</td>\n",
       "      <td>yes</td>\n",
       "      <td>train</td>\n",
       "      <td>26.756667</td>\n",
       "      <td>80.973333</td>\n",
       "      <td>28</td>\n",
       "      <td>62</td>\n",
       "      <td>data/dataset/train_data/images/plume/20230225_...</td>\n",
       "    </tr>\n",
       "    <tr>\n",
       "      <th>4</th>\n",
       "      <td>20230105</td>\n",
       "      <td>id_2012</td>\n",
       "      <td>yes</td>\n",
       "      <td>train</td>\n",
       "      <td>34.800000</td>\n",
       "      <td>40.770000</td>\n",
       "      <td>59</td>\n",
       "      <td>44</td>\n",
       "      <td>data/dataset/train_data/images/plume/20230105_...</td>\n",
       "    </tr>\n",
       "    <tr>\n",
       "      <th>...</th>\n",
       "      <td>...</td>\n",
       "      <td>...</td>\n",
       "      <td>...</td>\n",
       "      <td>...</td>\n",
       "      <td>...</td>\n",
       "      <td>...</td>\n",
       "      <td>...</td>\n",
       "      <td>...</td>\n",
       "      <td>...</td>\n",
       "    </tr>\n",
       "    <tr>\n",
       "      <th>425</th>\n",
       "      <td>20230302</td>\n",
       "      <td>id_6658</td>\n",
       "      <td>no</td>\n",
       "      <td>train</td>\n",
       "      <td>30.965619</td>\n",
       "      <td>34.541283</td>\n",
       "      <td>39</td>\n",
       "      <td>36</td>\n",
       "      <td>data/dataset/train_data/images/no_plume/202303...</td>\n",
       "    </tr>\n",
       "    <tr>\n",
       "      <th>426</th>\n",
       "      <td>20230218</td>\n",
       "      <td>id_4690</td>\n",
       "      <td>no</td>\n",
       "      <td>train</td>\n",
       "      <td>35.950275</td>\n",
       "      <td>40.267652</td>\n",
       "      <td>29</td>\n",
       "      <td>28</td>\n",
       "      <td>data/dataset/train_data/images/no_plume/202302...</td>\n",
       "    </tr>\n",
       "    <tr>\n",
       "      <th>427</th>\n",
       "      <td>20230213</td>\n",
       "      <td>id_2519</td>\n",
       "      <td>no</td>\n",
       "      <td>train</td>\n",
       "      <td>49.963801</td>\n",
       "      <td>6.016938</td>\n",
       "      <td>23</td>\n",
       "      <td>10</td>\n",
       "      <td>data/dataset/train_data/images/no_plume/202302...</td>\n",
       "    </tr>\n",
       "    <tr>\n",
       "      <th>428</th>\n",
       "      <td>20230213</td>\n",
       "      <td>id_5510</td>\n",
       "      <td>no</td>\n",
       "      <td>train</td>\n",
       "      <td>32.713854</td>\n",
       "      <td>44.609398</td>\n",
       "      <td>55</td>\n",
       "      <td>54</td>\n",
       "      <td>data/dataset/train_data/images/no_plume/202302...</td>\n",
       "    </tr>\n",
       "    <tr>\n",
       "      <th>429</th>\n",
       "      <td>20230330</td>\n",
       "      <td>id_6609</td>\n",
       "      <td>no</td>\n",
       "      <td>train</td>\n",
       "      <td>47.758979</td>\n",
       "      <td>27.801630</td>\n",
       "      <td>21</td>\n",
       "      <td>15</td>\n",
       "      <td>data/dataset/train_data/images/no_plume/202303...</td>\n",
       "    </tr>\n",
       "  </tbody>\n",
       "</table>\n",
       "<p>430 rows × 9 columns</p>\n",
       "</div>"
      ],
      "text/plain": [
       "         date id_coord plume    set        lat         lon  coord_x  coord_y  \\\n",
       "0    20230223  id_6675   yes  train  31.528750   74.330625       24       47   \n",
       "1    20230103  id_2542   yes  train  35.538000  112.524000       42       37   \n",
       "2    20230301  id_6546   yes  train  21.060000   84.936667       58       15   \n",
       "3    20230225  id_6084   yes  train  26.756667   80.973333       28       62   \n",
       "4    20230105  id_2012   yes  train  34.800000   40.770000       59       44   \n",
       "..        ...      ...   ...    ...        ...         ...      ...      ...   \n",
       "425  20230302  id_6658    no  train  30.965619   34.541283       39       36   \n",
       "426  20230218  id_4690    no  train  35.950275   40.267652       29       28   \n",
       "427  20230213  id_2519    no  train  49.963801    6.016938       23       10   \n",
       "428  20230213  id_5510    no  train  32.713854   44.609398       55       54   \n",
       "429  20230330  id_6609    no  train  47.758979   27.801630       21       15   \n",
       "\n",
       "                                                  path  \n",
       "0    data/dataset/train_data/images/plume/20230223_...  \n",
       "1    data/dataset/train_data/images/plume/20230103_...  \n",
       "2    data/dataset/train_data/images/plume/20230301_...  \n",
       "3    data/dataset/train_data/images/plume/20230225_...  \n",
       "4    data/dataset/train_data/images/plume/20230105_...  \n",
       "..                                                 ...  \n",
       "425  data/dataset/train_data/images/no_plume/202303...  \n",
       "426  data/dataset/train_data/images/no_plume/202302...  \n",
       "427  data/dataset/train_data/images/no_plume/202302...  \n",
       "428  data/dataset/train_data/images/no_plume/202302...  \n",
       "429  data/dataset/train_data/images/no_plume/202303...  \n",
       "\n",
       "[430 rows x 9 columns]"
      ]
     },
     "execution_count": 117,
     "metadata": {},
     "output_type": "execute_result"
    }
   ],
   "source": [
    "meta_df"
   ]
  },
  {
   "cell_type": "code",
   "execution_count": 118,
   "metadata": {},
   "outputs": [],
   "source": [
    "meta_df['plume'] = meta_df['plume'].map({'yes': 1, 'no': 0})"
   ]
  },
  {
   "cell_type": "code",
   "execution_count": 119,
   "metadata": {},
   "outputs": [
    {
     "data": {
      "text/html": [
       "<div>\n",
       "<style scoped>\n",
       "    .dataframe tbody tr th:only-of-type {\n",
       "        vertical-align: middle;\n",
       "    }\n",
       "\n",
       "    .dataframe tbody tr th {\n",
       "        vertical-align: top;\n",
       "    }\n",
       "\n",
       "    .dataframe thead th {\n",
       "        text-align: right;\n",
       "    }\n",
       "</style>\n",
       "<table border=\"1\" class=\"dataframe\">\n",
       "  <thead>\n",
       "    <tr style=\"text-align: right;\">\n",
       "      <th></th>\n",
       "      <th>date</th>\n",
       "      <th>id_coord</th>\n",
       "      <th>plume</th>\n",
       "      <th>set</th>\n",
       "      <th>lat</th>\n",
       "      <th>lon</th>\n",
       "      <th>coord_x</th>\n",
       "      <th>coord_y</th>\n",
       "      <th>path</th>\n",
       "    </tr>\n",
       "  </thead>\n",
       "  <tbody>\n",
       "    <tr>\n",
       "      <th>0</th>\n",
       "      <td>20230223</td>\n",
       "      <td>id_6675</td>\n",
       "      <td>1</td>\n",
       "      <td>train</td>\n",
       "      <td>31.528750</td>\n",
       "      <td>74.330625</td>\n",
       "      <td>24</td>\n",
       "      <td>47</td>\n",
       "      <td>data/dataset/train_data/images/plume/20230223_...</td>\n",
       "    </tr>\n",
       "    <tr>\n",
       "      <th>1</th>\n",
       "      <td>20230103</td>\n",
       "      <td>id_2542</td>\n",
       "      <td>1</td>\n",
       "      <td>train</td>\n",
       "      <td>35.538000</td>\n",
       "      <td>112.524000</td>\n",
       "      <td>42</td>\n",
       "      <td>37</td>\n",
       "      <td>data/dataset/train_data/images/plume/20230103_...</td>\n",
       "    </tr>\n",
       "    <tr>\n",
       "      <th>2</th>\n",
       "      <td>20230301</td>\n",
       "      <td>id_6546</td>\n",
       "      <td>1</td>\n",
       "      <td>train</td>\n",
       "      <td>21.060000</td>\n",
       "      <td>84.936667</td>\n",
       "      <td>58</td>\n",
       "      <td>15</td>\n",
       "      <td>data/dataset/train_data/images/plume/20230301_...</td>\n",
       "    </tr>\n",
       "    <tr>\n",
       "      <th>3</th>\n",
       "      <td>20230225</td>\n",
       "      <td>id_6084</td>\n",
       "      <td>1</td>\n",
       "      <td>train</td>\n",
       "      <td>26.756667</td>\n",
       "      <td>80.973333</td>\n",
       "      <td>28</td>\n",
       "      <td>62</td>\n",
       "      <td>data/dataset/train_data/images/plume/20230225_...</td>\n",
       "    </tr>\n",
       "    <tr>\n",
       "      <th>4</th>\n",
       "      <td>20230105</td>\n",
       "      <td>id_2012</td>\n",
       "      <td>1</td>\n",
       "      <td>train</td>\n",
       "      <td>34.800000</td>\n",
       "      <td>40.770000</td>\n",
       "      <td>59</td>\n",
       "      <td>44</td>\n",
       "      <td>data/dataset/train_data/images/plume/20230105_...</td>\n",
       "    </tr>\n",
       "    <tr>\n",
       "      <th>...</th>\n",
       "      <td>...</td>\n",
       "      <td>...</td>\n",
       "      <td>...</td>\n",
       "      <td>...</td>\n",
       "      <td>...</td>\n",
       "      <td>...</td>\n",
       "      <td>...</td>\n",
       "      <td>...</td>\n",
       "      <td>...</td>\n",
       "    </tr>\n",
       "    <tr>\n",
       "      <th>425</th>\n",
       "      <td>20230302</td>\n",
       "      <td>id_6658</td>\n",
       "      <td>0</td>\n",
       "      <td>train</td>\n",
       "      <td>30.965619</td>\n",
       "      <td>34.541283</td>\n",
       "      <td>39</td>\n",
       "      <td>36</td>\n",
       "      <td>data/dataset/train_data/images/no_plume/202303...</td>\n",
       "    </tr>\n",
       "    <tr>\n",
       "      <th>426</th>\n",
       "      <td>20230218</td>\n",
       "      <td>id_4690</td>\n",
       "      <td>0</td>\n",
       "      <td>train</td>\n",
       "      <td>35.950275</td>\n",
       "      <td>40.267652</td>\n",
       "      <td>29</td>\n",
       "      <td>28</td>\n",
       "      <td>data/dataset/train_data/images/no_plume/202302...</td>\n",
       "    </tr>\n",
       "    <tr>\n",
       "      <th>427</th>\n",
       "      <td>20230213</td>\n",
       "      <td>id_2519</td>\n",
       "      <td>0</td>\n",
       "      <td>train</td>\n",
       "      <td>49.963801</td>\n",
       "      <td>6.016938</td>\n",
       "      <td>23</td>\n",
       "      <td>10</td>\n",
       "      <td>data/dataset/train_data/images/no_plume/202302...</td>\n",
       "    </tr>\n",
       "    <tr>\n",
       "      <th>428</th>\n",
       "      <td>20230213</td>\n",
       "      <td>id_5510</td>\n",
       "      <td>0</td>\n",
       "      <td>train</td>\n",
       "      <td>32.713854</td>\n",
       "      <td>44.609398</td>\n",
       "      <td>55</td>\n",
       "      <td>54</td>\n",
       "      <td>data/dataset/train_data/images/no_plume/202302...</td>\n",
       "    </tr>\n",
       "    <tr>\n",
       "      <th>429</th>\n",
       "      <td>20230330</td>\n",
       "      <td>id_6609</td>\n",
       "      <td>0</td>\n",
       "      <td>train</td>\n",
       "      <td>47.758979</td>\n",
       "      <td>27.801630</td>\n",
       "      <td>21</td>\n",
       "      <td>15</td>\n",
       "      <td>data/dataset/train_data/images/no_plume/202303...</td>\n",
       "    </tr>\n",
       "  </tbody>\n",
       "</table>\n",
       "<p>430 rows × 9 columns</p>\n",
       "</div>"
      ],
      "text/plain": [
       "         date id_coord  plume    set        lat         lon  coord_x  coord_y  \\\n",
       "0    20230223  id_6675      1  train  31.528750   74.330625       24       47   \n",
       "1    20230103  id_2542      1  train  35.538000  112.524000       42       37   \n",
       "2    20230301  id_6546      1  train  21.060000   84.936667       58       15   \n",
       "3    20230225  id_6084      1  train  26.756667   80.973333       28       62   \n",
       "4    20230105  id_2012      1  train  34.800000   40.770000       59       44   \n",
       "..        ...      ...    ...    ...        ...         ...      ...      ...   \n",
       "425  20230302  id_6658      0  train  30.965619   34.541283       39       36   \n",
       "426  20230218  id_4690      0  train  35.950275   40.267652       29       28   \n",
       "427  20230213  id_2519      0  train  49.963801    6.016938       23       10   \n",
       "428  20230213  id_5510      0  train  32.713854   44.609398       55       54   \n",
       "429  20230330  id_6609      0  train  47.758979   27.801630       21       15   \n",
       "\n",
       "                                                  path  \n",
       "0    data/dataset/train_data/images/plume/20230223_...  \n",
       "1    data/dataset/train_data/images/plume/20230103_...  \n",
       "2    data/dataset/train_data/images/plume/20230301_...  \n",
       "3    data/dataset/train_data/images/plume/20230225_...  \n",
       "4    data/dataset/train_data/images/plume/20230105_...  \n",
       "..                                                 ...  \n",
       "425  data/dataset/train_data/images/no_plume/202303...  \n",
       "426  data/dataset/train_data/images/no_plume/202302...  \n",
       "427  data/dataset/train_data/images/no_plume/202302...  \n",
       "428  data/dataset/train_data/images/no_plume/202302...  \n",
       "429  data/dataset/train_data/images/no_plume/202303...  \n",
       "\n",
       "[430 rows x 9 columns]"
      ]
     },
     "execution_count": 119,
     "metadata": {},
     "output_type": "execute_result"
    }
   ],
   "source": [
    "meta_df"
   ]
  },
  {
   "cell_type": "code",
   "execution_count": 120,
   "metadata": {},
   "outputs": [
    {
     "name": "stderr",
     "output_type": "stream",
     "text": [
      "c:\\Users\\Rehan Ibrahim\\AppData\\Local\\Programs\\Python\\Python310\\lib\\site-packages\\rasterio\\__init__.py:320: NotGeoreferencedWarning: Dataset has no geotransform, gcps, or rpcs. The identity matrix will be returned.\n",
      "  dataset = DatasetReader(path, driver=driver, sharing=sharing, **kwargs)\n"
     ]
    },
    {
     "data": {
      "image/png": "[encoded data removed]",
      "text/plain": [
       "<Figure size 1200x1200 with 2 Axes>"
      ]
     },
     "metadata": {},
     "output_type": "display_data"
    },
    {
     "data": {
      "text/plain": [
       "<AxesSubplot: >"
      ]
     },
     "execution_count": 120,
     "metadata": {},
     "output_type": "execute_result"
    }
   ],
   "source": [
    "with rasterio.open('data/dataset/train_data/images/plume/20230223_methane_mixing_ratio_id_6675.tif') as src:\n",
    "    img = src.read(1)\n",
    "ep.plot_bands(img)"
   ]
  },
  {
   "cell_type": "code",
   "execution_count": 121,
   "metadata": {},
   "outputs": [],
   "source": [
    "image_data = []\n",
    "plume_labels = []\n",
    "\n",
    "# Loop through the metadata and load images\n",
    "for index, row in meta_df.iterrows():\n",
    "    image_path = row['path']\n",
    "    plume_label = row['plume']\n",
    "\n",
    "    # Read the TIFF image using rasterio\n",
    "    try:\n",
    "        with rasterio.open(image_path) as src:\n",
    "            image = src.read(1)  # Assuming single-band image, adjust if necessary\n",
    "            # You may want to resize or preprocess the image here if necessary\n",
    "\n",
    "        # Append the image data and plume label to their respective lists\n",
    "        image_data.append(image)\n",
    "        plume_labels.append(plume_label)\n",
    "    except Exception as e:\n",
    "        print(f\"Error loading image at {image_path}: {e}\")\n",
    "\n",
    "# Convert the lists into NumPy arrays\n",
    "image_data = np.array(image_data)\n",
    "plume_labels = np.array(plume_labels)"
   ]
  },
  {
   "cell_type": "code",
   "execution_count": 122,
   "metadata": {},
   "outputs": [
    {
     "data": {
      "text/plain": [
       "array([1, 1, 1, 1, 1, 1, 1, 1, 1, 1, 1, 1, 1, 1, 1, 1, 1, 1, 1, 1, 1, 1,\n",
       "       1, 1, 1, 1, 1, 1, 1, 1, 1, 1, 1, 1, 1, 1, 1, 1, 1, 1, 1, 1, 1, 1,\n",
       "       1, 1, 1, 1, 1, 1, 1, 1, 1, 1, 1, 1, 1, 1, 1, 1, 1, 1, 1, 1, 1, 1,\n",
       "       1, 1, 1, 1, 1, 1, 1, 1, 1, 1, 1, 1, 1, 1, 1, 1, 1, 1, 1, 1, 1, 1,\n",
       "       1, 1, 1, 1, 1, 1, 1, 1, 1, 1, 1, 1, 1, 1, 1, 1, 1, 1, 1, 1, 1, 1,\n",
       "       1, 1, 1, 1, 1, 1, 1, 1, 1, 1, 1, 1, 1, 1, 1, 1, 1, 1, 1, 1, 1, 1,\n",
       "       1, 1, 1, 1, 1, 1, 1, 1, 1, 1, 1, 1, 1, 1, 1, 1, 1, 1, 1, 1, 1, 1,\n",
       "       1, 1, 1, 1, 1, 1, 1, 1, 1, 1, 1, 1, 1, 1, 1, 1, 1, 1, 1, 1, 1, 1,\n",
       "       1, 1, 1, 1, 1, 1, 1, 1, 1, 1, 1, 1, 1, 1, 1, 1, 1, 1, 1, 1, 1, 1,\n",
       "       1, 1, 1, 1, 1, 1, 1, 1, 1, 1, 1, 1, 1, 1, 1, 1, 1, 1, 0, 0, 0, 0,\n",
       "       0, 0, 0, 0, 0, 0, 0, 0, 0, 0, 0, 0, 0, 0, 0, 0, 0, 0, 0, 0, 0, 0,\n",
       "       0, 0, 0, 0, 0, 0, 0, 0, 0, 0, 0, 0, 0, 0, 0, 0, 0, 0, 0, 0, 0, 0,\n",
       "       0, 0, 0, 0, 0, 0, 0, 0, 0, 0, 0, 0, 0, 0, 0, 0, 0, 0, 0, 0, 0, 0,\n",
       "       0, 0, 0, 0, 0, 0, 0, 0, 0, 0, 0, 0, 0, 0, 0, 0, 0, 0, 0, 0, 0, 0,\n",
       "       0, 0, 0, 0, 0, 0, 0, 0, 0, 0, 0, 0, 0, 0, 0, 0, 0, 0, 0, 0, 0, 0,\n",
       "       0, 0, 0, 0, 0, 0, 0, 0, 0, 0, 0, 0, 0, 0, 0, 0, 0, 0, 0, 0, 0, 0,\n",
       "       0, 0, 0, 0, 0, 0, 0, 0, 0, 0, 0, 0, 0, 0, 0, 0, 0, 0, 0, 0, 0, 0,\n",
       "       0, 0, 0, 0, 0, 0, 0, 0, 0, 0, 0, 0, 0, 0, 0, 0, 0, 0, 0, 0, 0, 0,\n",
       "       0, 0, 0, 0, 0, 0, 0, 0, 0, 0, 0, 0, 0, 0, 0, 0, 0, 0, 0, 0, 0, 0,\n",
       "       0, 0, 0, 0, 0, 0, 0, 0, 0, 0, 0, 0])"
      ]
     },
     "execution_count": 122,
     "metadata": {},
     "output_type": "execute_result"
    }
   ],
   "source": [
    "plume_labels"
   ]
  },
  {
   "cell_type": "code",
   "execution_count": 123,
   "metadata": {},
   "outputs": [
    {
     "data": {
      "text/plain": [
       "array([[[15373, 23745, 23745, ...,     0,     0,     0],\n",
       "        [21083, 22849, 22849, ...,     0,     0,     0],\n",
       "        [21083, 22849, 22849, ...,     0,  3348,  3348],\n",
       "        ...,\n",
       "        [49287, 49287, 43637, ..., 22215, 29933, 29933],\n",
       "        [49287, 43637, 43637, ..., 13711, 14626, 14626],\n",
       "        [49834, 48903, 48903, ..., 13711, 14626, 14626]],\n",
       "\n",
       "       [[    0,     0,     0, ...,     0,     0,     0],\n",
       "        [ 6386, 11516,  1537, ...,     0,     0,     0],\n",
       "        [ 6386, 11516,  1537, ...,     0,     0,     0],\n",
       "        ...,\n",
       "        [ 3878,  6976,  6548, ...,     0,     0,     0],\n",
       "        [ 3878,  6976,  6548, ...,     0,     0,     0],\n",
       "        [ 4225,     0,  4100, ...,     0,     0,     0]],\n",
       "\n",
       "       [[14118,  9487,  9487, ..., 25601, 22138, 22138],\n",
       "        [16914,  5666,  5666, ..., 30095, 26363, 26363],\n",
       "        [16914,  5666,  5666, ..., 30095, 26363, 26363],\n",
       "        ...,\n",
       "        [14918, 14918, 16676, ..., 18546,     0,     0],\n",
       "        [14918, 14918, 16676, ..., 18546,     0,     0],\n",
       "        [    0,     0,     0, ...,  6638,     0,     0]],\n",
       "\n",
       "       ...,\n",
       "\n",
       "       [[42516, 41205, 45212, ..., 15059, 32915, 32915],\n",
       "        [    0, 48178, 45978, ..., 15059, 32915, 32915],\n",
       "        [    0, 48178, 45978, ..., 11351,  3934,  3934],\n",
       "        ...,\n",
       "        [    0,     0,     0, ...,     0,     0,     0],\n",
       "        [    0,     0,     0, ...,     0,     0,     0],\n",
       "        [    0,     0,     0, ...,     0,     0,     0]],\n",
       "\n",
       "       [[11184, 12509, 12509, ...,     0,     0,     0],\n",
       "        [11184, 12509, 12509, ...,     0,     0,     0],\n",
       "        [13173, 14030, 14030, ...,     0,     0,     0],\n",
       "        ...,\n",
       "        [27451, 27451, 27451, ...,     0,     0,     0],\n",
       "        [24843, 24843, 24843, ...,     0,     0,     0],\n",
       "        [24843, 24843, 24843, ...,     0,     0,     0]],\n",
       "\n",
       "       [[16737,     0,  7920, ..., 14995, 38241, 17538],\n",
       "        [15144, 16789, 24014, ..., 14995, 38241, 17538],\n",
       "        [15144, 16789, 24014, ...,  3623, 29676, 41046],\n",
       "        ...,\n",
       "        [    0,     0, 17724, ...,     0,     0,  1133],\n",
       "        [    0,     0, 17724, ..., 18202, 37727, 46228],\n",
       "        [    0,     0,  1945, ..., 18202, 37727, 46228]]], dtype=uint16)"
      ]
     },
     "execution_count": 123,
     "metadata": {},
     "output_type": "execute_result"
    }
   ],
   "source": [
    "image_data"
   ]
  },
  {
   "cell_type": "code",
   "execution_count": 124,
   "metadata": {},
   "outputs": [
    {
     "data": {
      "text/plain": [
       "array([[[0.23457694, 0.36232547, 0.36232547, ..., 0.        ,\n",
       "         0.        , 0.        ],\n",
       "        [0.32170596, 0.34865339, 0.34865339, ..., 0.        ,\n",
       "         0.        , 0.        ],\n",
       "        [0.32170596, 0.34865339, 0.34865339, ..., 0.        ,\n",
       "         0.05108721, 0.05108721],\n",
       "        ...,\n",
       "        [0.75207141, 0.75207141, 0.66585794, ..., 0.33897917,\n",
       "         0.4567483 , 0.4567483 ],\n",
       "        [0.75207141, 0.66585794, 0.66585794, ..., 0.20921645,\n",
       "         0.22317845, 0.22317845],\n",
       "        [0.7604181 , 0.74621195, 0.74621195, ..., 0.20921645,\n",
       "         0.22317845, 0.22317845]],\n",
       "\n",
       "       [[0.        , 0.        , 0.        , ..., 0.        ,\n",
       "         0.        , 0.        ],\n",
       "        [0.09744411, 0.1757229 , 0.02345312, ..., 0.        ,\n",
       "         0.        , 0.        ],\n",
       "        [0.09744411, 0.1757229 , 0.02345312, ..., 0.        ,\n",
       "         0.        , 0.        ],\n",
       "        ...,\n",
       "        [0.05917449, 0.10644694, 0.09991608, ..., 0.        ,\n",
       "         0.        , 0.        ],\n",
       "        [0.05917449, 0.10644694, 0.09991608, ..., 0.        ,\n",
       "         0.        , 0.        ],\n",
       "        [0.06446937, 0.        , 0.06256199, ..., 0.        ,\n",
       "         0.        , 0.        ]],\n",
       "\n",
       "       [[0.21542687, 0.14476234, 0.14476234, ..., 0.39064622,\n",
       "         0.33780423, 0.33780423],\n",
       "        [0.2580911 , 0.08645762, 0.08645762, ..., 0.45922026,\n",
       "         0.40227359, 0.40227359],\n",
       "        [0.2580911 , 0.08645762, 0.08645762, ..., 0.45922026,\n",
       "         0.40227359, 0.40227359],\n",
       "        ...,\n",
       "        [0.22763409, 0.22763409, 0.25445945, ..., 0.28299382,\n",
       "         0.        , 0.        ],\n",
       "        [0.22763409, 0.22763409, 0.25445945, ..., 0.28299382,\n",
       "         0.        , 0.        ],\n",
       "        [0.        , 0.        , 0.        , ..., 0.10128939,\n",
       "         0.        , 0.        ]],\n",
       "\n",
       "       ...,\n",
       "\n",
       "       [[0.64875257, 0.628748  , 0.6898909 , ..., 0.22978561,\n",
       "         0.50225071, 0.50225071],\n",
       "        [0.        , 0.73514916, 0.70157931, ..., 0.22978561,\n",
       "         0.50225071, 0.50225071],\n",
       "        [0.        , 0.73514916, 0.70157931, ..., 0.17320516,\n",
       "         0.06002899, 0.06002899],\n",
       "        ...,\n",
       "        [0.        , 0.        , 0.        , ..., 0.        ,\n",
       "         0.        , 0.        ],\n",
       "        [0.        , 0.        , 0.        , ..., 0.        ,\n",
       "         0.        , 0.        ],\n",
       "        [0.        , 0.        , 0.        , ..., 0.        ,\n",
       "         0.        , 0.        ]],\n",
       "\n",
       "       [[0.1706569 , 0.1908751 , 0.1908751 , ..., 0.        ,\n",
       "         0.        , 0.        ],\n",
       "        [0.1706569 , 0.1908751 , 0.1908751 , ..., 0.        ,\n",
       "         0.        , 0.        ],\n",
       "        [0.2010071 , 0.21408408, 0.21408408, ..., 0.        ,\n",
       "         0.        , 0.        ],\n",
       "        ...,\n",
       "        [0.41887541, 0.41887541, 0.41887541, ..., 0.        ,\n",
       "         0.        , 0.        ],\n",
       "        [0.37907988, 0.37907988, 0.37907988, ..., 0.        ,\n",
       "         0.        , 0.        ],\n",
       "        [0.37907988, 0.37907988, 0.37907988, ..., 0.        ,\n",
       "         0.        , 0.        ]],\n",
       "\n",
       "       [[0.25539025, 0.        , 0.12085145, ..., 0.22880903,\n",
       "         0.58352026, 0.26761273],\n",
       "        [0.23108263, 0.25618372, 0.36643015, ..., 0.22880903,\n",
       "         0.58352026, 0.26761273],\n",
       "        [0.23108263, 0.25618372, 0.36643015, ..., 0.05528344,\n",
       "         0.45282673, 0.62632181],\n",
       "        ...,\n",
       "        [0.        , 0.        , 0.2704509 , ..., 0.        ,\n",
       "         0.        , 0.01728847],\n",
       "        [0.        , 0.        , 0.2704509 , ..., 0.27774472,\n",
       "         0.57567712, 0.70539406],\n",
       "        [0.        , 0.        , 0.0296788 , ..., 0.27774472,\n",
       "         0.57567712, 0.70539406]]])"
      ]
     },
     "execution_count": 124,
     "metadata": {},
     "output_type": "execute_result"
    }
   ],
   "source": [
    "min_val = image_data.min()\n",
    "max_val = image_data.max()\n",
    "\n",
    "# Normalize the image data\n",
    "normalized_image_data = (image_data - min_val) / (max_val - min_val)\n",
    "normalized_image_data"
   ]
  },
  {
   "cell_type": "code",
   "execution_count": 125,
   "metadata": {},
   "outputs": [
    {
     "name": "stdout",
     "output_type": "stream",
     "text": [
      "X_train shape: (344, 64, 64)\n",
      "X_test shape: (86, 64, 64)\n"
     ]
    }
   ],
   "source": [
    "X = normalized_image_data\n",
    "y = plume_labels\n",
    "\n",
    "\n",
    "#X = [np.transpose(image, (1, 2, 0)) for image in X]\n",
    "\n",
    "#X = np.array(X)\n",
    "np.random.seed(101)\n",
    "X_train, X_test, y_train, y_test = train_test_split(X, y, test_size=0.2, random_state=42,shuffle=True)\n",
    "\n",
    "print(\"X_train shape:\", X_train.shape)\n",
    "print(\"X_test shape:\", X_test.shape)"
   ]
  },
  {
   "cell_type": "code",
   "execution_count": 126,
   "metadata": {},
   "outputs": [
    {
     "data": {
      "text/plain": [
       "array([1, 1, 0, 1, 1, 0, 1, 0, 0, 0, 0, 0, 1, 1, 0, 0, 0, 0, 1, 0, 1, 0,\n",
       "       1, 1, 0, 1, 0, 0, 1, 1, 0, 1, 1, 0, 1, 1, 1, 1, 0, 0, 1, 1, 0, 0,\n",
       "       1, 1, 1, 0, 0, 1, 0, 0, 0, 1, 1, 1, 0, 1, 0, 0, 1, 0, 1, 1, 1, 1,\n",
       "       1, 0, 0, 0, 0, 0, 0, 1, 0, 0, 1, 1, 0, 0, 0, 0, 1, 1, 0, 0, 1, 0,\n",
       "       0, 1, 1, 1, 0, 1, 1, 0, 0, 1, 0, 0, 0, 1, 0, 1, 0, 1, 1, 1, 1, 1,\n",
       "       1, 0, 1, 1, 1, 0, 0, 1, 0, 1, 1, 1, 1, 1, 0, 1, 1, 1, 0, 0, 0, 0,\n",
       "       0, 0, 0, 1, 1, 0, 0, 0, 1, 0, 0, 0, 0, 0, 0, 0, 1, 0, 0, 0, 0, 1,\n",
       "       1, 1, 0, 1, 0, 0, 1, 1, 0, 0, 0, 0, 1, 0, 0, 0, 0, 0, 0, 1, 1, 1,\n",
       "       0, 0, 1, 1, 0, 0, 0, 1, 0, 1, 0, 1, 0, 1, 0, 1, 1, 0, 1, 1, 1, 1,\n",
       "       1, 1, 1, 0, 0, 0, 1, 1, 0, 0, 0, 1, 1, 0, 1, 0, 0, 0, 1, 0, 0, 1,\n",
       "       0, 0, 1, 1, 1, 0, 1, 1, 1, 1, 0, 1, 0, 1, 0, 0, 0, 0, 1, 0, 1, 1,\n",
       "       1, 1, 1, 0, 1, 0, 1, 1, 1, 0, 0, 0, 0, 0, 0, 0, 1, 1, 0, 0, 0, 0,\n",
       "       0, 0, 0, 0, 1, 1, 1, 0, 1, 0, 0, 1, 1, 1, 0, 1, 1, 1, 1, 0, 0, 1,\n",
       "       0, 1, 0, 0, 0, 1, 0, 1, 0, 1, 0, 0, 1, 0, 0, 0, 0, 1, 0, 1, 1, 1,\n",
       "       0, 1, 1, 1, 1, 0, 0, 0, 1, 0, 1, 0, 1, 0, 0, 0, 0, 0, 1, 1, 1, 0,\n",
       "       1, 0, 1, 0, 1, 1, 0, 1, 1, 1, 1, 0, 0, 1])"
      ]
     },
     "execution_count": 126,
     "metadata": {},
     "output_type": "execute_result"
    }
   ],
   "source": [
    "y_train"
   ]
  },
  {
   "cell_type": "code",
   "execution_count": 127,
   "metadata": {},
   "outputs": [],
   "source": [
    "datagen = ImageDataGenerator(\n",
    "    rotation_range=10,\n",
    "    width_shift_range=0.1,\n",
    "    height_shift_range=0.1,\n",
    "    shear_range=0.2,\n",
    "    horizontal_flip=True,\n",
    "    fill_mode='nearest'\n",
    ")\n",
    "X_train = X_train.reshape(-1,64,64,1)\n",
    "batch_size=32\n",
    "steps_per_epoch = len(X_train) // batch_size\n",
    "# Fit the data augmentation generator to your training data\n",
    "datagen.fit(X_train)\n",
    "\n",
    "augmented_images = []\n",
    "augmented_labels = []\n",
    "\n",
    "# Generate augmented images and labels\n",
    "for X_batch, y_batch in datagen.flow(X_train, y_train, batch_size=batch_size,shuffle=True):\n",
    "    augmented_images.append(X_batch)\n",
    "    augmented_labels.append(y_batch)\n",
    "    if len(augmented_images) >= len(X_train):\n",
    "        break\n",
    "\n",
    "X_train_augmented = np.concatenate(augmented_images)\n",
    "y_train_augmented = np.concatenate(augmented_labels)\n",
    "\n",
    "y_train_augmented = y_train_augmented.astype(int)"
   ]
  },
  {
   "cell_type": "code",
   "execution_count": 128,
   "metadata": {},
   "outputs": [
    {
     "name": "stdout",
     "output_type": "stream",
     "text": [
      "Model: \"sequential_3\"\n",
      "_________________________________________________________________\n",
      " Layer (type)                Output Shape              Param #   \n",
      "=================================================================\n",
      " conv2d_6 (Conv2D)           (None, 62, 62, 32)        320       \n",
      "                                                                 \n",
      " max_pooling2d_6 (MaxPoolin  (None, 31, 31, 32)        0         \n",
      " g2D)                                                            \n",
      "                                                                 \n",
      " conv2d_7 (Conv2D)           (None, 29, 29, 64)        18496     \n",
      "                                                                 \n",
      " max_pooling2d_7 (MaxPoolin  (None, 14, 14, 64)        0         \n",
      " g2D)                                                            \n",
      "                                                                 \n",
      " conv2d_8 (Conv2D)           (None, 12, 12, 128)       73856     \n",
      "                                                                 \n",
      " max_pooling2d_8 (MaxPoolin  (None, 6, 6, 128)         0         \n",
      " g2D)                                                            \n",
      "                                                                 \n",
      " flatten_3 (Flatten)         (None, 4608)              0         \n",
      "                                                                 \n",
      " dense_9 (Dense)             (None, 128)               589952    \n",
      "                                                                 \n",
      " dropout_6 (Dropout)         (None, 128)               0         \n",
      "                                                                 \n",
      " dense_10 (Dense)            (None, 64)                8256      \n",
      "                                                                 \n",
      " dropout_7 (Dropout)         (None, 64)                0         \n",
      "                                                                 \n",
      " dense_11 (Dense)            (None, 1)                 65        \n",
      "                                                                 \n",
      "=================================================================\n",
      "Total params: 690945 (2.64 MB)\n",
      "Trainable params: 690945 (2.64 MB)\n",
      "Non-trainable params: 0 (0.00 Byte)\n",
      "_________________________________________________________________\n"
     ]
    }
   ],
   "source": [
    "import tensorflow as tf\n",
    "from tensorflow.keras import layers\n",
    "\n",
    "# Set the random seed for reproducibility\n",
    "tf.random.set_seed(1234)\n",
    "\n",
    "# Define the CNN model\n",
    "model = tf.keras.Sequential([\n",
    "    # Convolutional layers\n",
    "    layers.Conv2D(32, (3, 3), activation='relu', input_shape=(64, 64, 1)),\n",
    "    layers.MaxPooling2D((2, 2)),\n",
    "    layers.Conv2D(64, (3, 3), activation='relu'),\n",
    "    layers.MaxPooling2D((2, 2)),\n",
    "    layers.Conv2D(128, (3, 3), activation='relu'),\n",
    "    layers.MaxPooling2D((2, 2)),\n",
    "    \n",
    "    # Flatten the output for fully connected layers\n",
    "    layers.Flatten(),\n",
    "    \n",
    "    # Fully connected layers\n",
    "    layers.Dense(128, activation='relu'),\n",
    "    layers.Dropout(0.5),  \n",
    "    layers.Dense(64, activation='relu'),\n",
    "    layers.Dropout(0.5),\n",
    "    layers.Dense(1, activation='sigmoid')  # Use 'sigmoid' for binary classification\n",
    "])\n",
    "\n",
    "# Compile the model\n",
    "model.compile(optimizer='adam',\n",
    "              loss='binary_crossentropy',  # Use 'binary_crossentropy' for binary classification\n",
    "              metrics=['accuracy'])\n",
    "\n",
    "# Print the model summary to view the architecture\n",
    "model.summary()\n",
    "\n",
    "# Define early stopping\n",
    "early_stopping = tf.keras.callbacks.EarlyStopping(\n",
    "    monitor='val_loss', \n",
    "    patience=5,           \n",
    "    restore_best_weights=True)\n"
   ]
  },
  {
   "cell_type": "code",
   "execution_count": 129,
   "metadata": {},
   "outputs": [
    {
     "name": "stdout",
     "output_type": "stream",
     "text": [
      "Epoch 1/100\n",
      "269/269 [==============================] - 21s 74ms/step - loss: 0.5121 - accuracy: 0.7492 - val_loss: 0.3252 - val_accuracy: 0.8634\n",
      "Epoch 2/100\n",
      "269/269 [==============================] - 20s 74ms/step - loss: 0.2956 - accuracy: 0.8823 - val_loss: 0.2574 - val_accuracy: 0.8941\n",
      "Epoch 3/100\n",
      "269/269 [==============================] - 20s 73ms/step - loss: 0.1752 - accuracy: 0.9345 - val_loss: 0.1232 - val_accuracy: 0.9531\n",
      "Epoch 4/100\n",
      "269/269 [==============================] - 19s 72ms/step - loss: 0.0914 - accuracy: 0.9691 - val_loss: 0.0876 - val_accuracy: 0.9693\n",
      "Epoch 5/100\n",
      "269/269 [==============================] - 20s 74ms/step - loss: 0.0571 - accuracy: 0.9809 - val_loss: 0.0590 - val_accuracy: 0.9782\n",
      "Epoch 6/100\n",
      "269/269 [==============================] - 21s 76ms/step - loss: 0.0322 - accuracy: 0.9892 - val_loss: 0.0469 - val_accuracy: 0.9837\n",
      "Epoch 7/100\n",
      "269/269 [==============================] - 20s 73ms/step - loss: 0.0357 - accuracy: 0.9884 - val_loss: 0.0437 - val_accuracy: 0.9875\n",
      "Epoch 8/100\n",
      "269/269 [==============================] - 20s 76ms/step - loss: 0.0233 - accuracy: 0.9926 - val_loss: 0.0410 - val_accuracy: 0.9865\n",
      "Epoch 9/100\n",
      "269/269 [==============================] - 20s 76ms/step - loss: 0.0270 - accuracy: 0.9897 - val_loss: 0.0473 - val_accuracy: 0.9847\n",
      "Epoch 10/100\n",
      "269/269 [==============================] - 20s 73ms/step - loss: 0.0136 - accuracy: 0.9956 - val_loss: 0.0692 - val_accuracy: 0.9796\n",
      "Epoch 11/100\n",
      "269/269 [==============================] - 20s 76ms/step - loss: 0.0252 - accuracy: 0.9913 - val_loss: 0.0524 - val_accuracy: 0.9837\n",
      "Epoch 12/100\n",
      "269/269 [==============================] - 20s 73ms/step - loss: 0.0130 - accuracy: 0.9963 - val_loss: 0.0460 - val_accuracy: 0.9902\n",
      "Epoch 13/100\n",
      "269/269 [==============================] - 19s 72ms/step - loss: 0.0219 - accuracy: 0.9926 - val_loss: 0.0318 - val_accuracy: 0.9879\n",
      "Epoch 14/100\n",
      "269/269 [==============================] - 20s 73ms/step - loss: 0.0163 - accuracy: 0.9955 - val_loss: 0.0659 - val_accuracy: 0.9805\n",
      "Epoch 15/100\n",
      "269/269 [==============================] - 19s 69ms/step - loss: 0.0102 - accuracy: 0.9963 - val_loss: 0.0375 - val_accuracy: 0.9907\n",
      "Epoch 16/100\n",
      "269/269 [==============================] - 19s 72ms/step - loss: 0.0251 - accuracy: 0.9928 - val_loss: 0.0475 - val_accuracy: 0.9879\n",
      "Epoch 17/100\n",
      "269/269 [==============================] - 19s 72ms/step - loss: 0.0124 - accuracy: 0.9957 - val_loss: 0.0390 - val_accuracy: 0.9916\n",
      "Epoch 18/100\n",
      "269/269 [==============================] - 19s 71ms/step - loss: 0.0063 - accuracy: 0.9980 - val_loss: 0.0244 - val_accuracy: 0.9930\n",
      "Epoch 19/100\n",
      "269/269 [==============================] - 19s 72ms/step - loss: 0.0067 - accuracy: 0.9980 - val_loss: 0.0373 - val_accuracy: 0.9907\n",
      "Epoch 20/100\n",
      "269/269 [==============================] - 19s 72ms/step - loss: 0.0199 - accuracy: 0.9943 - val_loss: 0.0470 - val_accuracy: 0.9875\n",
      "Epoch 21/100\n",
      "269/269 [==============================] - 19s 72ms/step - loss: 0.0200 - accuracy: 0.9940 - val_loss: 0.0970 - val_accuracy: 0.9679\n",
      "Epoch 22/100\n",
      "269/269 [==============================] - 19s 72ms/step - loss: 0.0070 - accuracy: 0.9973 - val_loss: 0.0360 - val_accuracy: 0.9926\n",
      "Epoch 23/100\n",
      "269/269 [==============================] - 19s 72ms/step - loss: 0.0192 - accuracy: 0.9938 - val_loss: 0.0284 - val_accuracy: 0.9916\n"
     ]
    },
    {
     "data": {
      "text/plain": [
       "<keras.src.callbacks.History at 0x15aaf35ff10>"
      ]
     },
     "execution_count": 129,
     "metadata": {},
     "output_type": "execute_result"
    }
   ],
   "source": [
    "batch_size = 32\n",
    "epochs = 100\n",
    "model.fit(X_train_augmented,y_train_augmented, epochs=epochs, batch_size=batch_size, validation_split=0.2,callbacks=[early_stopping])"
   ]
  },
  {
   "cell_type": "code",
   "execution_count": 168,
   "metadata": {},
   "outputs": [
    {
     "name": "stderr",
     "output_type": "stream",
     "text": [
      "c:\\Users\\Rehan Ibrahim\\AppData\\Local\\Programs\\Python\\Python310\\lib\\site-packages\\keras\\src\\engine\\training.py:3079: UserWarning: You are saving your model as an HDF5 file via `model.save()`. This file format is considered legacy. We recommend using instead the native Keras format, e.g. `model.save('my_model.keras')`.\n",
      "  saving_api.save_model(\n"
     ]
    }
   ],
   "source": [
    "model.save(\"model/CNN_First_Model.h5\")"
   ]
  },
  {
   "cell_type": "code",
   "execution_count": 130,
   "metadata": {},
   "outputs": [
    {
     "name": "stdout",
     "output_type": "stream",
     "text": [
      "3/3 [==============================] - 0s 16ms/step\n"
     ]
    },
    {
     "data": {
      "text/plain": [
       "array([[4.1755436e-12],\n",
       "       [8.9634472e-01],\n",
       "       [3.0690448e-03],\n",
       "       [9.9999958e-01],\n",
       "       [1.9437704e-10],\n",
       "       [1.2793563e-01],\n",
       "       [1.0000000e+00],\n",
       "       [9.9998891e-01],\n",
       "       [9.9999917e-01],\n",
       "       [9.3689197e-01],\n",
       "       [1.9350306e-09],\n",
       "       [1.6774448e-10],\n",
       "       [7.4215030e-04],\n",
       "       [6.2807065e-11],\n",
       "       [1.8900858e-02],\n",
       "       [9.9998963e-01],\n",
       "       [1.5340964e-05],\n",
       "       [1.9775535e-04],\n",
       "       [9.9977165e-01],\n",
       "       [3.8588076e-04],\n",
       "       [4.2477090e-13],\n",
       "       [2.2096899e-08],\n",
       "       [2.8495845e-10],\n",
       "       [1.0000000e+00],\n",
       "       [1.2613340e-02],\n",
       "       [9.9979597e-01],\n",
       "       [1.0000000e+00],\n",
       "       [1.9737528e-20],\n",
       "       [5.8920227e-07],\n",
       "       [2.6393187e-21],\n",
       "       [9.9999523e-01],\n",
       "       [4.9444795e-20],\n",
       "       [2.9801487e-03],\n",
       "       [2.4215495e-03],\n",
       "       [2.0544002e-19],\n",
       "       [1.0000000e+00],\n",
       "       [9.9999970e-01],\n",
       "       [9.7769045e-35],\n",
       "       [1.4081822e-09],\n",
       "       [3.7753052e-12],\n",
       "       [7.3168784e-17],\n",
       "       [5.2981430e-01],\n",
       "       [9.9992472e-01],\n",
       "       [1.0000000e+00],\n",
       "       [1.2689477e-01],\n",
       "       [9.9449950e-01],\n",
       "       [1.4794472e-07],\n",
       "       [6.5017877e-05],\n",
       "       [6.1538622e-06],\n",
       "       [2.4384832e-08],\n",
       "       [9.9999976e-01],\n",
       "       [1.4566563e-04],\n",
       "       [9.9999207e-01],\n",
       "       [9.9999917e-01],\n",
       "       [9.1827232e-01],\n",
       "       [9.9991635e-23],\n",
       "       [2.8495845e-10],\n",
       "       [1.0000000e+00],\n",
       "       [9.9939996e-01],\n",
       "       [1.0000000e+00],\n",
       "       [9.9999988e-01],\n",
       "       [5.8675298e-08],\n",
       "       [9.9999714e-01],\n",
       "       [1.0000000e+00],\n",
       "       [4.5496744e-13],\n",
       "       [9.9972415e-01],\n",
       "       [2.6808984e-05],\n",
       "       [8.4819943e-02],\n",
       "       [9.9926281e-01],\n",
       "       [5.5324459e-01],\n",
       "       [1.0000000e+00],\n",
       "       [4.8120355e-17],\n",
       "       [9.9917293e-01],\n",
       "       [9.9980855e-01],\n",
       "       [3.1442856e-03],\n",
       "       [2.4163474e-04],\n",
       "       [9.4642448e-01],\n",
       "       [9.9813795e-01],\n",
       "       [9.9999988e-01],\n",
       "       [1.0000000e+00],\n",
       "       [1.5404469e-02],\n",
       "       [1.9661599e-23],\n",
       "       [9.9999982e-01],\n",
       "       [9.9999446e-01],\n",
       "       [9.9973130e-01],\n",
       "       [9.9899465e-01]], dtype=float32)"
      ]
     },
     "execution_count": 130,
     "metadata": {},
     "output_type": "execute_result"
    }
   ],
   "source": [
    "# Make predictions on the test dataset\n",
    "predictions = model.predict(X_test)\n",
    "predictions"
   ]
  },
  {
   "cell_type": "code",
   "execution_count": 131,
   "metadata": {},
   "outputs": [],
   "source": [
    "# Apply threshold to obtain binary predictions (0 or 1)\n",
    "threshold = 0.5\n",
    "binary_predictions = (predictions >= threshold).astype(int)"
   ]
  },
  {
   "cell_type": "code",
   "execution_count": 132,
   "metadata": {},
   "outputs": [
    {
     "name": "stdout",
     "output_type": "stream",
     "text": [
      "Accuracy: 84.88%\n"
     ]
    }
   ],
   "source": [
    "accuracy = accuracy_score(y_test, binary_predictions)\n",
    "print(f\"Accuracy: {accuracy*100:.2f}%\")"
   ]
  },
  {
   "cell_type": "code",
   "execution_count": 133,
   "metadata": {},
   "outputs": [
    {
     "data": {
      "text/plain": [
       "(array([42.,  2.,  0.,  0.,  0.,  2.,  0.,  0.,  1., 39.]),\n",
       " array([9.77690450e-35, 1.00000001e-01, 2.00000003e-01, 3.00000012e-01,\n",
       "        4.00000006e-01, 5.00000000e-01, 6.00000024e-01, 6.99999988e-01,\n",
       "        8.00000012e-01, 8.99999976e-01, 1.00000000e+00]),\n",
       " <BarContainer object of 10 artists>)"
      ]
     },
     "execution_count": 133,
     "metadata": {},
     "output_type": "execute_result"
    },
    {
     "data": {
      "image/png": "[encoded data removed]",
      "text/plain": [
       "<Figure size 640x480 with 1 Axes>"
      ]
     },
     "metadata": {},
     "output_type": "display_data"
    }
   ],
   "source": [
    "plt.hist(predictions.squeeze())"
   ]
  },
  {
   "cell_type": "code",
   "execution_count": 134,
   "metadata": {},
   "outputs": [],
   "source": [
    "tn,fp,fn,tp = confusion_matrix(y_test, binary_predictions).ravel()"
   ]
  },
  {
   "cell_type": "code",
   "execution_count": 135,
   "metadata": {},
   "outputs": [
    {
     "name": "stdout",
     "output_type": "stream",
     "text": [
      "Classification Report:\n",
      "              precision    recall  f1-score   support\n",
      "\n",
      "           0       0.75      0.94      0.84        35\n",
      "           1       0.95      0.78      0.86        51\n",
      "\n",
      "    accuracy                           0.85        86\n",
      "   macro avg       0.85      0.86      0.85        86\n",
      "weighted avg       0.87      0.85      0.85        86\n",
      "\n"
     ]
    }
   ],
   "source": [
    "class_report = classification_report(y_test, binary_predictions)\n",
    "print(\"Classification Report:\")\n",
    "print(class_report)"
   ]
  },
  {
   "cell_type": "code",
   "execution_count": 136,
   "metadata": {},
   "outputs": [
    {
     "data": {
      "text/plain": [
       "0    44\n",
       "1    42\n",
       "dtype: int64"
      ]
     },
     "execution_count": 136,
     "metadata": {},
     "output_type": "execute_result"
    }
   ],
   "source": [
    "pd.Series(binary_predictions.squeeze()).value_counts()"
   ]
  },
  {
   "cell_type": "markdown",
   "metadata": {},
   "source": [
    "# Test Model"
   ]
  },
  {
   "cell_type": "code",
   "execution_count": 145,
   "metadata": {},
   "outputs": [
    {
     "name": "stdout",
     "output_type": "stream",
     "text": [
      "0      data/dataset/test_data/images\\20230101_methane...\n",
      "1      data/dataset/test_data/images\\20230101_methane...\n",
      "2      data/dataset/test_data/images\\20230101_methane...\n",
      "3      data/dataset/test_data/images\\20230103_methane...\n",
      "4      data/dataset/test_data/images\\20230103_methane...\n",
      "                             ...                        \n",
      "103    data/dataset/test_data/images\\20230404_methane...\n",
      "104    data/dataset/test_data/images\\20230404_methane...\n",
      "105    data/dataset/test_data/images\\20230405_methane...\n",
      "106    data/dataset/test_data/images\\20230405_methane...\n",
      "107    data/dataset/test_data/images\\20230406_methane...\n",
      "Length: 108, dtype: object\n"
     ]
    }
   ],
   "source": [
    "# Specify the path to the folder containing TIFF files\n",
    "folder_path = \"data/dataset/test_data/images/\"\n",
    "\n",
    "# Use glob to get a list of TIFF files in the folder\n",
    "tiff_files = glob.glob(folder_path + \"/*.tif\")\n",
    "\n",
    "# Create a Pandas Series from the list of file paths\n",
    "file_series = pd.Series(tiff_files)\n",
    "\n",
    "# Display the Pandas Series\n",
    "print(file_series)"
   ]
  },
  {
   "cell_type": "code",
   "execution_count": 146,
   "metadata": {},
   "outputs": [
    {
     "data": {
      "text/html": [
       "<div>\n",
       "<style scoped>\n",
       "    .dataframe tbody tr th:only-of-type {\n",
       "        vertical-align: middle;\n",
       "    }\n",
       "\n",
       "    .dataframe tbody tr th {\n",
       "        vertical-align: top;\n",
       "    }\n",
       "\n",
       "    .dataframe thead th {\n",
       "        text-align: right;\n",
       "    }\n",
       "</style>\n",
       "<table border=\"1\" class=\"dataframe\">\n",
       "  <thead>\n",
       "    <tr style=\"text-align: right;\">\n",
       "      <th></th>\n",
       "      <th>date</th>\n",
       "      <th>id_coord</th>\n",
       "      <th>lat</th>\n",
       "      <th>lon</th>\n",
       "      <th>coord_x</th>\n",
       "      <th>coord_y</th>\n",
       "    </tr>\n",
       "  </thead>\n",
       "  <tbody>\n",
       "    <tr>\n",
       "      <th>0</th>\n",
       "      <td>20230213</td>\n",
       "      <td>id_6148</td>\n",
       "      <td>23.437500</td>\n",
       "      <td>90.645000</td>\n",
       "      <td>54</td>\n",
       "      <td>10</td>\n",
       "    </tr>\n",
       "    <tr>\n",
       "      <th>1</th>\n",
       "      <td>20230206</td>\n",
       "      <td>id_3348</td>\n",
       "      <td>33.513333</td>\n",
       "      <td>-87.203333</td>\n",
       "      <td>31</td>\n",
       "      <td>55</td>\n",
       "    </tr>\n",
       "    <tr>\n",
       "      <th>2</th>\n",
       "      <td>20230121</td>\n",
       "      <td>id_3733</td>\n",
       "      <td>26.424286</td>\n",
       "      <td>80.284286</td>\n",
       "      <td>33</td>\n",
       "      <td>44</td>\n",
       "    </tr>\n",
       "    <tr>\n",
       "      <th>3</th>\n",
       "      <td>20230204</td>\n",
       "      <td>id_5491</td>\n",
       "      <td>30.246667</td>\n",
       "      <td>71.483333</td>\n",
       "      <td>59</td>\n",
       "      <td>59</td>\n",
       "    </tr>\n",
       "    <tr>\n",
       "      <th>4</th>\n",
       "      <td>20230130</td>\n",
       "      <td>id_4287</td>\n",
       "      <td>23.763333</td>\n",
       "      <td>86.396667</td>\n",
       "      <td>46</td>\n",
       "      <td>46</td>\n",
       "    </tr>\n",
       "  </tbody>\n",
       "</table>\n",
       "</div>"
      ],
      "text/plain": [
       "       date id_coord        lat        lon  coord_x  coord_y\n",
       "0  20230213  id_6148  23.437500  90.645000       54       10\n",
       "1  20230206  id_3348  33.513333 -87.203333       31       55\n",
       "2  20230121  id_3733  26.424286  80.284286       33       44\n",
       "3  20230204  id_5491  30.246667  71.483333       59       59\n",
       "4  20230130  id_4287  23.763333  86.396667       46       46"
      ]
     },
     "execution_count": 146,
     "metadata": {},
     "output_type": "execute_result"
    }
   ],
   "source": [
    "t_df = pd.read_csv('data/dataset/test_data/metadata.csv')\n",
    "t_df.head()"
   ]
  },
  {
   "cell_type": "code",
   "execution_count": 147,
   "metadata": {},
   "outputs": [
    {
     "name": "stdout",
     "output_type": "stream",
     "text": [
      "0      data/dataset/test_data/images\\20230101_methane...\n",
      "1      data/dataset/test_data/images\\20230101_methane...\n",
      "2      data/dataset/test_data/images\\20230101_methane...\n",
      "3      data/dataset/test_data/images\\20230103_methane...\n",
      "4      data/dataset/test_data/images\\20230103_methane...\n",
      "                             ...                        \n",
      "103    data/dataset/test_data/images\\20230404_methane...\n",
      "104    data/dataset/test_data/images\\20230404_methane...\n",
      "105    data/dataset/test_data/images\\20230405_methane...\n",
      "106    data/dataset/test_data/images\\20230405_methane...\n",
      "107    data/dataset/test_data/images\\20230406_methane...\n",
      "Length: 108, dtype: object\n"
     ]
    }
   ],
   "source": [
    "# Replace forward slashes with backslashes in the Pandas Series\n",
    "file_series = file_series.str.replace('//', '/')\n",
    "\n",
    "# Display the modified Pandas Series\n",
    "print(file_series)"
   ]
  },
  {
   "cell_type": "code",
   "execution_count": 148,
   "metadata": {},
   "outputs": [
    {
     "data": {
      "text/plain": [
       "0      data/dataset/test_data/images\\20230101_methane...\n",
       "1      data/dataset/test_data/images\\20230101_methane...\n",
       "2      data/dataset/test_data/images\\20230101_methane...\n",
       "3      data/dataset/test_data/images\\20230103_methane...\n",
       "4      data/dataset/test_data/images\\20230103_methane...\n",
       "                             ...                        \n",
       "103    data/dataset/test_data/images\\20230404_methane...\n",
       "104    data/dataset/test_data/images\\20230404_methane...\n",
       "105    data/dataset/test_data/images\\20230405_methane...\n",
       "106    data/dataset/test_data/images\\20230405_methane...\n",
       "107    data/dataset/test_data/images\\20230406_methane...\n",
       "Length: 108, dtype: object"
      ]
     },
     "execution_count": 148,
     "metadata": {},
     "output_type": "execute_result"
    }
   ],
   "source": [
    "file_series"
   ]
  },
  {
   "cell_type": "code",
   "execution_count": 159,
   "metadata": {},
   "outputs": [],
   "source": [
    "file_series = pd.Series(file_series)"
   ]
  },
  {
   "cell_type": "code",
   "execution_count": 160,
   "metadata": {},
   "outputs": [
    {
     "name": "stderr",
     "output_type": "stream",
     "text": [
      "c:\\Users\\Rehan Ibrahim\\AppData\\Local\\Programs\\Python\\Python310\\lib\\site-packages\\rasterio\\__init__.py:320: NotGeoreferencedWarning: Dataset has no geotransform, gcps, or rpcs. The identity matrix will be returned.\n",
      "  dataset = DatasetReader(path, driver=driver, sharing=sharing, **kwargs)\n"
     ]
    }
   ],
   "source": [
    "import rasterio\n",
    "import numpy as np\n",
    "\n",
    "image_data_test = []\n",
    "\n",
    "# Loop through the file paths and load images\n",
    "for image_path in file_series:\n",
    "    # Read the TIFF image using rasterio\n",
    "    try:\n",
    "        with rasterio.open(image_path) as src:\n",
    "            image = src.read(1)  # Assuming single-band image, adjust if necessary\n",
    "            # You may want to resize or preprocess the image here if necessary\n",
    "\n",
    "        # Append the image data to the list\n",
    "        image_data_test.append(image)\n",
    "    except Exception as e:\n",
    "        print(f\"Error loading image at {image_path}: {e}\")\n",
    "\n",
    "# Convert the list of images into a NumPy array\n",
    "image_data_test = np.array(image_data_test)"
   ]
  },
  {
   "cell_type": "code",
   "execution_count": 161,
   "metadata": {},
   "outputs": [
    {
     "data": {
      "text/plain": [
       "array([[[0.        , 0.        , 0.        , ..., 0.        ,\n",
       "         0.        , 0.        ],\n",
       "        [0.        , 0.        , 0.        , ..., 0.45293355,\n",
       "         0.        , 0.        ],\n",
       "        [0.        , 0.        , 0.        , ..., 0.45293355,\n",
       "         0.        , 0.        ],\n",
       "        ...,\n",
       "        [0.        , 0.        , 0.        , ..., 0.        ,\n",
       "         0.        , 0.        ],\n",
       "        [0.        , 0.        , 0.        , ..., 0.        ,\n",
       "         0.        , 0.        ],\n",
       "        [0.        , 0.        , 0.        , ..., 0.        ,\n",
       "         0.        , 0.        ]],\n",
       "\n",
       "       [[0.38403906, 0.44130617, 0.44130617, ..., 0.        ,\n",
       "         0.        , 0.        ],\n",
       "        [0.345449  , 0.36951247, 0.36951247, ..., 0.        ,\n",
       "         0.        , 0.        ],\n",
       "        [0.345449  , 0.36951247, 0.36951247, ..., 0.        ,\n",
       "         0.        , 0.        ],\n",
       "        ...,\n",
       "        [0.        , 0.        , 0.        , ..., 0.20677501,\n",
       "         0.20677501, 0.11776913],\n",
       "        [0.        , 0.        , 0.        , ..., 0.14799725,\n",
       "         0.14799725, 0.12776379],\n",
       "        [0.        , 0.09881743, 0.09881743, ..., 0.14799725,\n",
       "         0.14799725, 0.12776379]],\n",
       "\n",
       "       [[0.18472572, 0.18472572, 0.18472572, ..., 0.        ,\n",
       "         0.        , 0.        ],\n",
       "        [0.18472572, 0.18472572, 0.18472572, ..., 0.        ,\n",
       "         0.        , 0.        ],\n",
       "        [0.23006027, 0.23006027, 0.20358587, ..., 0.        ,\n",
       "         0.        , 0.        ],\n",
       "        ...,\n",
       "        [0.        , 0.        , 0.        , ..., 0.10867475,\n",
       "         0.10867475, 0.10867475],\n",
       "        [0.        , 0.        , 0.        , ..., 0.13492027,\n",
       "         0.13492027, 0.13492027],\n",
       "        [0.        , 0.        , 0.        , ..., 0.13492027,\n",
       "         0.13492027, 0.13492027]],\n",
       "\n",
       "       ...,\n",
       "\n",
       "       [[0.42406348, 0.0153048 , 0.0153048 , ..., 0.        ,\n",
       "         0.        , 0.        ],\n",
       "        [0.45383383, 0.11711299, 0.11711299, ..., 0.        ,\n",
       "         0.        , 0.        ],\n",
       "        [0.45383383, 0.11711299, 0.11711299, ..., 0.        ,\n",
       "         0.        , 0.        ],\n",
       "        ...,\n",
       "        [0.83324941, 0.88427558, 0.88427558, ..., 0.57047379,\n",
       "         0.72700084, 0.72700084],\n",
       "        [0.83324941, 0.88427558, 0.88427558, ..., 0.36891737,\n",
       "         0.74445716, 0.74445716],\n",
       "        [0.40695811, 0.91978332, 0.91978332, ..., 0.36891737,\n",
       "         0.74445716, 0.74445716]],\n",
       "\n",
       "       [[0.47014572, 0.51519036, 0.51519036, ..., 0.15761044,\n",
       "         0.15761044, 0.36720836],\n",
       "        [0.61063554, 0.62539101, 0.62539101, ..., 0.15761044,\n",
       "         0.15761044, 0.36720836],\n",
       "        [0.61063554, 0.62539101, 0.62539101, ..., 0.        ,\n",
       "         0.        , 0.        ],\n",
       "        ...,\n",
       "        [0.48699168, 0.48699168, 0.50133516, ..., 0.102327  ,\n",
       "         0.        , 0.        ],\n",
       "        [0.15317006, 0.15317006, 0.34924849, ..., 0.        ,\n",
       "         0.        , 0.        ],\n",
       "        [0.16054017, 0.16054017, 0.37341878, ..., 0.        ,\n",
       "         0.        , 0.        ]],\n",
       "\n",
       "       [[0.36319524, 0.33180743, 0.26903182, ..., 0.72259098,\n",
       "         0.57167926, 0.52866407],\n",
       "        [0.36319524, 0.33180743, 0.26903182, ..., 0.67342641,\n",
       "         0.63114366, 0.60999466],\n",
       "        [0.36665904, 0.34885176, 0.27650874, ..., 0.67342641,\n",
       "         0.63114366, 0.63114366],\n",
       "        ...,\n",
       "        [0.        , 0.01052873, 0.01052873, ..., 0.18844892,\n",
       "         0.29440757, 0.29440757],\n",
       "        [0.        , 0.01052873, 0.01052873, ..., 0.18844892,\n",
       "         0.29440757, 0.29440757],\n",
       "        [0.        , 0.        , 0.        , ..., 0.23057908,\n",
       "         0.35074388, 0.37270161]]])"
      ]
     },
     "execution_count": 161,
     "metadata": {},
     "output_type": "execute_result"
    }
   ],
   "source": [
    "min_val = image_data_test.min()\n",
    "max_val = image_data_test.max()\n",
    "\n",
    "# Normalize the image data\n",
    "normalized_image_data_test = (image_data_test - min_val) / (max_val - min_val)\n",
    "normalized_image_data_test"
   ]
  },
  {
   "cell_type": "code",
   "execution_count": 163,
   "metadata": {},
   "outputs": [
    {
     "data": {
      "text/plain": [
       "(108, 64, 64)"
      ]
     },
     "execution_count": 163,
     "metadata": {},
     "output_type": "execute_result"
    }
   ],
   "source": [
    "normalized_image_data_test.shape"
   ]
  },
  {
   "cell_type": "code",
   "execution_count": 164,
   "metadata": {},
   "outputs": [
    {
     "name": "stdout",
     "output_type": "stream",
     "text": [
      "4/4 [==============================] - 0s 14ms/step\n"
     ]
    },
    {
     "data": {
      "text/plain": [
       "array([[4.3958659e-09],\n",
       "       [9.9999452e-01],\n",
       "       [9.1565645e-01],\n",
       "       [4.2716368e-09],\n",
       "       [1.0000000e+00],\n",
       "       [6.7662680e-01],\n",
       "       [9.9999887e-01],\n",
       "       [9.1631114e-10],\n",
       "       [1.0000000e+00],\n",
       "       [5.1347685e-01],\n",
       "       [9.9999958e-01],\n",
       "       [1.0000000e+00],\n",
       "       [1.0000000e+00],\n",
       "       [9.3088567e-01],\n",
       "       [9.9999893e-01],\n",
       "       [9.9974763e-01],\n",
       "       [8.7243736e-01],\n",
       "       [1.9620736e-11],\n",
       "       [1.0000000e+00],\n",
       "       [2.8495845e-10],\n",
       "       [2.3164158e-04],\n",
       "       [1.2708483e-12],\n",
       "       [1.0000000e+00],\n",
       "       [7.3601049e-31],\n",
       "       [1.5471473e-15],\n",
       "       [1.6146092e-20],\n",
       "       [2.0288231e-09],\n",
       "       [9.9988949e-01],\n",
       "       [1.7977793e-05],\n",
       "       [7.3169459e-10],\n",
       "       [1.0000000e+00],\n",
       "       [6.4364201e-08],\n",
       "       [1.0000000e+00],\n",
       "       [1.0000000e+00],\n",
       "       [1.4559673e-04],\n",
       "       [5.8675298e-08],\n",
       "       [4.0774212e-05],\n",
       "       [7.6466757e-01],\n",
       "       [2.0899103e-12],\n",
       "       [3.9168121e-19],\n",
       "       [2.7564628e-04],\n",
       "       [9.9999988e-01],\n",
       "       [9.9688548e-01],\n",
       "       [7.2542043e-14],\n",
       "       [1.6882655e-13],\n",
       "       [9.9999785e-01],\n",
       "       [1.0000000e+00],\n",
       "       [2.4643112e-02],\n",
       "       [4.9278950e-18],\n",
       "       [1.0000000e+00],\n",
       "       [9.9999905e-01],\n",
       "       [9.9920142e-01],\n",
       "       [9.9905056e-01],\n",
       "       [9.7077191e-01],\n",
       "       [1.0160729e-02],\n",
       "       [9.9828482e-01],\n",
       "       [1.0000000e+00],\n",
       "       [9.9993360e-01],\n",
       "       [1.0000000e+00],\n",
       "       [9.9999624e-01],\n",
       "       [9.9999946e-01],\n",
       "       [1.0000000e+00],\n",
       "       [1.7080457e-13],\n",
       "       [6.2197846e-06],\n",
       "       [9.7911078e-01],\n",
       "       [5.7962141e-04],\n",
       "       [4.0359946e-06],\n",
       "       [3.0337819e-11],\n",
       "       [9.9999589e-01],\n",
       "       [3.1232573e-06],\n",
       "       [1.9690296e-13],\n",
       "       [9.9996811e-01],\n",
       "       [6.6193764e-19],\n",
       "       [9.9996811e-01],\n",
       "       [2.5280951e-02],\n",
       "       [9.9996811e-01],\n",
       "       [2.0298234e-05],\n",
       "       [2.1359308e-07],\n",
       "       [1.0000000e+00],\n",
       "       [9.9999827e-01],\n",
       "       [9.9999136e-01],\n",
       "       [8.1559640e-01],\n",
       "       [1.0000000e+00],\n",
       "       [1.0000000e+00],\n",
       "       [1.0000000e+00],\n",
       "       [6.4434280e-10],\n",
       "       [6.7215890e-12],\n",
       "       [2.2600914e-06],\n",
       "       [8.5677714e-09],\n",
       "       [2.7635300e-10],\n",
       "       [2.7635300e-10],\n",
       "       [8.3844826e-19],\n",
       "       [2.4613344e-06],\n",
       "       [9.9998921e-01],\n",
       "       [2.0648221e-08],\n",
       "       [9.9997127e-01],\n",
       "       [3.9875104e-08],\n",
       "       [9.1849017e-09],\n",
       "       [6.5795082e-04],\n",
       "       [1.6966957e-04],\n",
       "       [5.6279564e-01],\n",
       "       [5.0568265e-11],\n",
       "       [2.7410701e-06],\n",
       "       [2.2531248e-09],\n",
       "       [9.9999166e-01],\n",
       "       [4.9949924e-09],\n",
       "       [6.6413412e-07],\n",
       "       [1.2681734e-05]], dtype=float32)"
      ]
     },
     "execution_count": 164,
     "metadata": {},
     "output_type": "execute_result"
    }
   ],
   "source": [
    "# Make predictions on the test dataset\n",
    "predictions_test = model.predict(normalized_image_data_test)\n",
    "predictions_test"
   ]
  },
  {
   "cell_type": "code",
   "execution_count": 165,
   "metadata": {},
   "outputs": [],
   "source": [
    "# Apply threshold to obtain binary predictions (0 or 1)\n",
    "threshold = 0.5\n",
    "binary_predictions_test = (predictions_test >= threshold).astype(int)"
   ]
  },
  {
   "cell_type": "code",
   "execution_count": 166,
   "metadata": {},
   "outputs": [
    {
     "data": {
      "text/plain": [
       "0    55\n",
       "1    53\n",
       "dtype: int64"
      ]
     },
     "execution_count": 166,
     "metadata": {},
     "output_type": "execute_result"
    }
   ],
   "source": [
    "pd.Series(binary_predictions_test.squeeze()).value_counts()"
   ]
  },
  {
   "cell_type": "code",
   "execution_count": 169,
   "metadata": {},
   "outputs": [
    {
     "name": "stdout",
     "output_type": "stream",
     "text": [
      "WARNING:tensorflow:`input_shape` is undefined or non-square, or `rows` is not in [96, 128, 160, 192, 224]. Weights for input shape (224, 224) will be loaded as the default.\n",
      "Model: \"sequential_5\"\n",
      "_________________________________________________________________\n",
      " Layer (type)                Output Shape              Param #   \n",
      "=================================================================\n",
      " resizing_2 (Resizing)       (None, 64, 64, 1)         0         \n",
      "                                                                 \n",
      " lambda_2 (Lambda)           (None, 64, 64, 3)         0         \n",
      "                                                                 \n",
      " mobilenetv2_1.00_224 (Func  (None, 2, 2, 1280)        2257984   \n",
      " tional)                                                         \n",
      "                                                                 \n",
      " flatten_5 (Flatten)         (None, 5120)              0         \n",
      "                                                                 \n",
      " dense_15 (Dense)            (None, 128)               655488    \n",
      "                                                                 \n",
      " dropout_10 (Dropout)        (None, 128)               0         \n",
      "                                                                 \n",
      " dense_16 (Dense)            (None, 64)                8256      \n",
      "                                                                 \n",
      " dropout_11 (Dropout)        (None, 64)                0         \n",
      "                                                                 \n",
      " dense_17 (Dense)            (None, 1)                 65        \n",
      "                                                                 \n",
      "=================================================================\n",
      "Total params: 2921793 (11.15 MB)\n",
      "Trainable params: 663809 (2.53 MB)\n",
      "Non-trainable params: 2257984 (8.61 MB)\n",
      "_________________________________________________________________\n"
     ]
    }
   ],
   "source": [
    "import tensorflow as tf\n",
    "from tensorflow.keras import layers\n",
    "from tensorflow.keras.applications import MobileNetV2\n",
    "from tensorflow.keras.layers.experimental.preprocessing import Resizing\n",
    "\n",
    "# Set the random seed for reproducibility\n",
    "tf.random.set_seed(1234)\n",
    "\n",
    "# Create the MobileNetV2 model with the correct input shape\n",
    "mobilenetv2_model = MobileNetV2(include_top=False, weights='imagenet', input_shape=(64, 64, 3))\n",
    "mobilenetv2_model.trainable = False  # Freeze the pretrained MobileNetV2 layers\n",
    "\n",
    "# Define the CNN model\n",
    "model2 = tf.keras.Sequential([\n",
    "    Resizing(64, 64, input_shape=(64, 64, 1)),  # Resize input images to (64, 64) without rescaling\n",
    "    layers.Lambda(lambda x: tf.image.grayscale_to_rgb(x)),  # Convert grayscale to RGB\n",
    "    mobilenetv2_model,  # Add the MobileNetV2 model as a layer\n",
    "    layers.Flatten(),\n",
    "    layers.Dense(128, activation='relu'),\n",
    "    layers.Dropout(0.5),\n",
    "    layers.Dense(64, activation='relu'),\n",
    "    layers.Dropout(0.5),\n",
    "    layers.Dense(1, activation='sigmoid')  # Use 'sigmoid' for binary classification\n",
    "])\n",
    "\n",
    "# Compile the model\n",
    "model2.compile(optimizer='adam',\n",
    "              loss='binary_crossentropy',  # Use 'binary_crossentropy' for binary classification\n",
    "              metrics=['accuracy'])\n",
    "\n",
    "# Print the model summary to view the architecture\n",
    "model2.summary()\n",
    "\n",
    "# Define early stopping\n",
    "early_stopping = tf.keras.callbacks.EarlyStopping(\n",
    "    monitor='val_loss', \n",
    "    patience=5,           \n",
    "    restore_best_weights=True)\n"
   ]
  },
  {
   "cell_type": "code",
   "execution_count": 170,
   "metadata": {},
   "outputs": [
    {
     "name": "stdout",
     "output_type": "stream",
     "text": [
      "Epoch 1/100\n",
      "303/303 [==============================] - 25s 74ms/step - loss: 0.5345 - accuracy: 0.7489 - val_loss: 0.3599 - val_accuracy: 0.8383\n",
      "Epoch 2/100\n",
      "303/303 [==============================] - 21s 68ms/step - loss: 0.3791 - accuracy: 0.8313 - val_loss: 0.2945 - val_accuracy: 0.8745\n",
      "Epoch 3/100\n",
      "303/303 [==============================] - 21s 68ms/step - loss: 0.3256 - accuracy: 0.8598 - val_loss: 0.2698 - val_accuracy: 0.8931\n",
      "Epoch 4/100\n",
      "303/303 [==============================] - 21s 68ms/step - loss: 0.2804 - accuracy: 0.8826 - val_loss: 0.2570 - val_accuracy: 0.8885\n",
      "Epoch 5/100\n",
      "303/303 [==============================] - 21s 69ms/step - loss: 0.2392 - accuracy: 0.8975 - val_loss: 0.2201 - val_accuracy: 0.9117\n",
      "Epoch 6/100\n",
      "303/303 [==============================] - 21s 68ms/step - loss: 0.2208 - accuracy: 0.9111 - val_loss: 0.1759 - val_accuracy: 0.9303\n",
      "Epoch 7/100\n",
      "303/303 [==============================] - 20s 67ms/step - loss: 0.1981 - accuracy: 0.9154 - val_loss: 0.1975 - val_accuracy: 0.9173\n",
      "Epoch 8/100\n",
      "303/303 [==============================] - 20s 67ms/step - loss: 0.1847 - accuracy: 0.9231 - val_loss: 0.1760 - val_accuracy: 0.9303\n",
      "Epoch 9/100\n",
      "303/303 [==============================] - 20s 67ms/step - loss: 0.1713 - accuracy: 0.9268 - val_loss: 0.1673 - val_accuracy: 0.9396\n",
      "Epoch 10/100\n",
      "303/303 [==============================] - 19s 62ms/step - loss: 0.1519 - accuracy: 0.9386 - val_loss: 0.1717 - val_accuracy: 0.9331\n",
      "Epoch 11/100\n",
      "303/303 [==============================] - 20s 65ms/step - loss: 0.1372 - accuracy: 0.9413 - val_loss: 0.1800 - val_accuracy: 0.9294\n",
      "Epoch 12/100\n",
      "303/303 [==============================] - 21s 69ms/step - loss: 0.1389 - accuracy: 0.9401 - val_loss: 0.1873 - val_accuracy: 0.9340\n",
      "Epoch 13/100\n",
      "303/303 [==============================] - 21s 68ms/step - loss: 0.1428 - accuracy: 0.9403 - val_loss: 0.1572 - val_accuracy: 0.9526\n",
      "Epoch 14/100\n",
      "303/303 [==============================] - 20s 66ms/step - loss: 0.1227 - accuracy: 0.9488 - val_loss: 0.1623 - val_accuracy: 0.9452\n",
      "Epoch 15/100\n",
      "303/303 [==============================] - 20s 66ms/step - loss: 0.1174 - accuracy: 0.9495 - val_loss: 0.1694 - val_accuracy: 0.9433\n",
      "Epoch 16/100\n",
      "303/303 [==============================] - 20s 65ms/step - loss: 0.1042 - accuracy: 0.9545 - val_loss: 0.1537 - val_accuracy: 0.9424\n",
      "Epoch 17/100\n",
      "303/303 [==============================] - 20s 64ms/step - loss: 0.1094 - accuracy: 0.9550 - val_loss: 0.1745 - val_accuracy: 0.9452\n",
      "Epoch 18/100\n",
      "303/303 [==============================] - 21s 68ms/step - loss: 0.1051 - accuracy: 0.9564 - val_loss: 0.1651 - val_accuracy: 0.9424\n",
      "Epoch 19/100\n",
      "303/303 [==============================] - 21s 69ms/step - loss: 0.1126 - accuracy: 0.9551 - val_loss: 0.1770 - val_accuracy: 0.9433\n",
      "Epoch 20/100\n",
      "303/303 [==============================] - 20s 64ms/step - loss: 0.1031 - accuracy: 0.9547 - val_loss: 0.1702 - val_accuracy: 0.9461\n",
      "Epoch 21/100\n",
      "303/303 [==============================] - 20s 65ms/step - loss: 0.0961 - accuracy: 0.9589 - val_loss: 0.1665 - val_accuracy: 0.9442\n"
     ]
    },
    {
     "data": {
      "text/plain": [
       "<keras.src.callbacks.History at 0x15ac37991b0>"
      ]
     },
     "execution_count": 170,
     "metadata": {},
     "output_type": "execute_result"
    }
   ],
   "source": [
    "batch_size = 32\n",
    "epochs = 100\n",
    "model2.fit(X_train_augmented,y_train_augmented, epochs=epochs, batch_size=batch_size, validation_split=0.1,callbacks=[early_stopping])"
   ]
  },
  {
   "cell_type": "code",
   "execution_count": 175,
   "metadata": {},
   "outputs": [
    {
     "name": "stdout",
     "output_type": "stream",
     "text": [
      "3/3 [==============================] - 0s 51ms/step\n"
     ]
    },
    {
     "data": {
      "text/plain": [
       "array([[1.1048848e-07],\n",
       "       [6.5262444e-02],\n",
       "       [8.1741357e-01],\n",
       "       [9.9999994e-01],\n",
       "       [9.9985909e-01],\n",
       "       [4.6964706e-05],\n",
       "       [1.0000000e+00],\n",
       "       [2.6278234e-01],\n",
       "       [9.5176727e-01],\n",
       "       [9.9999601e-01],\n",
       "       [8.4959376e-01],\n",
       "       [9.9989086e-01],\n",
       "       [9.8281044e-01],\n",
       "       [3.8396913e-04],\n",
       "       [9.0666443e-01],\n",
       "       [8.8933700e-01],\n",
       "       [7.8033757e-01],\n",
       "       [9.6299291e-02],\n",
       "       [9.4659597e-01],\n",
       "       [1.3751871e-04],\n",
       "       [1.7990329e-05],\n",
       "       [4.7603064e-07],\n",
       "       [5.5574612e-05],\n",
       "       [8.2968020e-01],\n",
       "       [1.5143803e-01],\n",
       "       [9.6084380e-01],\n",
       "       [9.5376086e-01],\n",
       "       [3.2505942e-13],\n",
       "       [2.1266331e-01],\n",
       "       [1.7632203e-02],\n",
       "       [1.5408730e-02],\n",
       "       [1.7635127e-09],\n",
       "       [2.8364649e-01],\n",
       "       [5.3165463e-04],\n",
       "       [1.0266244e-05],\n",
       "       [9.9940866e-01],\n",
       "       [4.6980458e-01],\n",
       "       [2.6285483e-07],\n",
       "       [9.2667527e-03],\n",
       "       [1.9872932e-01],\n",
       "       [3.8108587e-02],\n",
       "       [9.9761724e-01],\n",
       "       [9.9996680e-01],\n",
       "       [9.9991423e-01],\n",
       "       [2.5519017e-02],\n",
       "       [8.6655056e-01],\n",
       "       [5.4604904e-04],\n",
       "       [9.9418533e-01],\n",
       "       [3.1282344e-01],\n",
       "       [8.7364607e-02],\n",
       "       [2.7154222e-01],\n",
       "       [1.3246729e-02],\n",
       "       [9.3906367e-01],\n",
       "       [1.0000000e+00],\n",
       "       [4.7668852e-02],\n",
       "       [2.4927341e-04],\n",
       "       [5.5574612e-05],\n",
       "       [8.0290931e-01],\n",
       "       [2.7549970e-01],\n",
       "       [9.9996221e-01],\n",
       "       [1.0000000e+00],\n",
       "       [8.6353019e-08],\n",
       "       [9.9988627e-01],\n",
       "       [9.9999094e-01],\n",
       "       [1.6469362e-11],\n",
       "       [9.9991280e-01],\n",
       "       [5.1992156e-02],\n",
       "       [2.8814298e-01],\n",
       "       [9.9992567e-01],\n",
       "       [5.8170222e-03],\n",
       "       [9.9997216e-01],\n",
       "       [3.2897893e-07],\n",
       "       [9.8978758e-01],\n",
       "       [9.9964136e-01],\n",
       "       [6.5789424e-02],\n",
       "       [1.2794238e-16],\n",
       "       [2.5561762e-01],\n",
       "       [8.2481720e-02],\n",
       "       [9.9961126e-01],\n",
       "       [9.9967629e-01],\n",
       "       [9.9988568e-01],\n",
       "       [5.8654210e-21],\n",
       "       [9.1460097e-01],\n",
       "       [9.9993736e-01],\n",
       "       [8.1040658e-02],\n",
       "       [9.8928648e-01]], dtype=float32)"
      ]
     },
     "execution_count": 175,
     "metadata": {},
     "output_type": "execute_result"
    }
   ],
   "source": [
    "# Make predictions on the test dataset\n",
    "predictions2 = model2.predict(X_test)\n",
    "predictions2"
   ]
  },
  {
   "cell_type": "code",
   "execution_count": 176,
   "metadata": {},
   "outputs": [],
   "source": [
    "# Apply threshold to obtain binary predictions (0 or 1)\n",
    "threshold = 0.5\n",
    "binary_predictions2 = (predictions2 >= threshold).astype(int)"
   ]
  },
  {
   "cell_type": "code",
   "execution_count": 177,
   "metadata": {},
   "outputs": [
    {
     "name": "stdout",
     "output_type": "stream",
     "text": [
      "Classification Report:\n",
      "              precision    recall  f1-score   support\n",
      "\n",
      "           0       0.65      0.86      0.74        35\n",
      "           1       0.88      0.69      0.77        51\n",
      "\n",
      "    accuracy                           0.76        86\n",
      "   macro avg       0.76      0.77      0.75        86\n",
      "weighted avg       0.78      0.76      0.76        86\n",
      "\n"
     ]
    }
   ],
   "source": [
    "class_report2 = classification_report(y_test, binary_predictions2)\n",
    "print(\"Classification Report:\")\n",
    "print(class_report2)"
   ]
  },
  {
   "cell_type": "code",
   "execution_count": 179,
   "metadata": {},
   "outputs": [
    {
     "name": "stdout",
     "output_type": "stream",
     "text": [
      "Accuracy: 75.58%\n"
     ]
    }
   ],
   "source": [
    "# Calculate accuracy using one-hot encoded labels\n",
    "accuracy2 = accuracy_score(y_test, binary_predictions2)\n",
    "print(f\"Accuracy: {accuracy2*100:.2f}%\")"
   ]
  }
 ],
 "metadata": {
  "kernelspec": {
   "display_name": "Python 3",
   "language": "python",
   "name": "python3"
  },
  "language_info": {
   "codemirror_mode": {
    "name": "ipython",
    "version": 3
   },
   "file_extension": ".py",
   "mimetype": "text/x-python",
   "name": "python",
   "nbconvert_exporter": "python",
   "pygments_lexer": "ipython3",
   "version": "3.10.0"
  }
 },
 "nbformat": 4,
 "nbformat_minor": 2
}
