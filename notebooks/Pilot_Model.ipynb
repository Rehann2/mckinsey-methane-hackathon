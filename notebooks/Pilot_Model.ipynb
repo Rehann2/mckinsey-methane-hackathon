{
 "cells": [
  {
   "cell_type": "code",
   "execution_count": 75,
   "metadata": {},
   "outputs": [],
   "source": [
    "import pandas as pd\n",
    "import numpy as np\n",
    "import rasterio\n",
    "import geopandas as gpd\n",
    "import earthpy.plot as ep\n",
    "import os\n",
    "import imageio\n",
    "os.getcwd()\n",
    "import pandas as pd\n",
    "import numpy as np\n",
    "import matplotlib.pyplot as plt\n",
    "import tensorflow as tf\n",
    "from tensorflow import keras\n",
    "from tensorflow.keras import layers\n",
    "from sklearn.model_selection import train_test_split\n",
    "from sklearn.metrics import accuracy_score, classification_report, confusion_matrix\n",
    "from sklearn.preprocessing import LabelBinarizer\n",
    "from imblearn.over_sampling import SMOTE\n",
    "from tensorflow.keras.preprocessing.image import ImageDataGenerator\n",
    "from tensorflow.keras.utils import to_categorical\n",
    "from tensorflow import keras\n",
    "from tensorflow.keras import layers\n",
    "from tensorflow.keras.callbacks import EarlyStopping\n",
    "from sklearn.preprocessing import LabelBinarizer\n",
    "from sklearn.preprocessing import LabelEncoder\n",
    "import cv2"
   ]
  },
  {
   "cell_type": "code",
   "execution_count": 8,
   "metadata": {},
   "outputs": [
    {
     "name": "stderr",
     "output_type": "stream",
     "text": [
      "c:\\Users\\Rehan Ibrahim\\AppData\\Local\\Programs\\Python\\Python310\\lib\\site-packages\\rasterio\\__init__.py:320: NotGeoreferencedWarning: Dataset has no geotransform, gcps, or rpcs. The identity matrix will be returned.\n",
      "  dataset = DatasetReader(path, driver=driver, sharing=sharing, **kwargs)\n"
     ]
    },
    {
     "data": {
      "text/plain": [
       "(1.0, 1.0)"
      ]
     },
     "execution_count": 8,
     "metadata": {},
     "output_type": "execute_result"
    }
   ],
   "source": [
    "with rasterio.open(\"train_data/images/plume/20230101_methane_mixing_ratio_id_4928.tif\") as src:\n",
    "    img = src.read(1)\n",
    "    \n",
    "img_meta =src.meta\n",
    "img_meta\n",
    "src.res"
   ]
  },
  {
   "cell_type": "code",
   "execution_count": 7,
   "metadata": {},
   "outputs": [],
   "source": [
    "meta_df = pd.read_csv('train_data/metadata.csv')"
   ]
  },
  {
   "cell_type": "code",
   "execution_count": 25,
   "metadata": {},
   "outputs": [
    {
     "data": {
      "text/plain": [
       "lat        lon       \n",
       "29.631951   35.952379    21\n",
       "32.713854   44.609398    19\n",
       "33.990812   39.641866    18\n",
       "28.510000   77.442400    17\n",
       "36.596520   38.321405    15\n",
       "                         ..\n",
       "21.039986  -77.824694     1\n",
       "24.907500   67.023000     1\n",
       "23.763333   86.396667     1\n",
       "23.740000   90.595000     1\n",
       "68.570113   25.563059     1\n",
       "Length: 101, dtype: int64"
      ]
     },
     "execution_count": 25,
     "metadata": {},
     "output_type": "execute_result"
    }
   ],
   "source": [
    "meta_df[['lat','lon']].value_counts()"
   ]
  },
  {
   "cell_type": "code",
   "execution_count": 26,
   "metadata": {},
   "outputs": [
    {
     "data": {
      "text/html": [
       "<div>\n",
       "<style scoped>\n",
       "    .dataframe tbody tr th:only-of-type {\n",
       "        vertical-align: middle;\n",
       "    }\n",
       "\n",
       "    .dataframe tbody tr th {\n",
       "        vertical-align: top;\n",
       "    }\n",
       "\n",
       "    .dataframe thead th {\n",
       "        text-align: right;\n",
       "    }\n",
       "</style>\n",
       "<table border=\"1\" class=\"dataframe\">\n",
       "  <thead>\n",
       "    <tr style=\"text-align: right;\">\n",
       "      <th></th>\n",
       "      <th>date</th>\n",
       "      <th>id_coord</th>\n",
       "      <th>plume</th>\n",
       "      <th>set</th>\n",
       "      <th>lat</th>\n",
       "      <th>lon</th>\n",
       "      <th>coord_x</th>\n",
       "      <th>coord_y</th>\n",
       "      <th>path</th>\n",
       "    </tr>\n",
       "  </thead>\n",
       "  <tbody>\n",
       "    <tr>\n",
       "      <th>0</th>\n",
       "      <td>20230223</td>\n",
       "      <td>id_6675</td>\n",
       "      <td>yes</td>\n",
       "      <td>train</td>\n",
       "      <td>31.528750</td>\n",
       "      <td>74.330625</td>\n",
       "      <td>24</td>\n",
       "      <td>47</td>\n",
       "      <td>images/plume/20230223_methane_mixing_ratio_id_...</td>\n",
       "    </tr>\n",
       "    <tr>\n",
       "      <th>1</th>\n",
       "      <td>20230103</td>\n",
       "      <td>id_2542</td>\n",
       "      <td>yes</td>\n",
       "      <td>train</td>\n",
       "      <td>35.538000</td>\n",
       "      <td>112.524000</td>\n",
       "      <td>42</td>\n",
       "      <td>37</td>\n",
       "      <td>images/plume/20230103_methane_mixing_ratio_id_...</td>\n",
       "    </tr>\n",
       "    <tr>\n",
       "      <th>2</th>\n",
       "      <td>20230301</td>\n",
       "      <td>id_6546</td>\n",
       "      <td>yes</td>\n",
       "      <td>train</td>\n",
       "      <td>21.060000</td>\n",
       "      <td>84.936667</td>\n",
       "      <td>58</td>\n",
       "      <td>15</td>\n",
       "      <td>images/plume/20230301_methane_mixing_ratio_id_...</td>\n",
       "    </tr>\n",
       "    <tr>\n",
       "      <th>3</th>\n",
       "      <td>20230225</td>\n",
       "      <td>id_6084</td>\n",
       "      <td>yes</td>\n",
       "      <td>train</td>\n",
       "      <td>26.756667</td>\n",
       "      <td>80.973333</td>\n",
       "      <td>28</td>\n",
       "      <td>62</td>\n",
       "      <td>images/plume/20230225_methane_mixing_ratio_id_...</td>\n",
       "    </tr>\n",
       "    <tr>\n",
       "      <th>4</th>\n",
       "      <td>20230105</td>\n",
       "      <td>id_2012</td>\n",
       "      <td>yes</td>\n",
       "      <td>train</td>\n",
       "      <td>34.800000</td>\n",
       "      <td>40.770000</td>\n",
       "      <td>59</td>\n",
       "      <td>44</td>\n",
       "      <td>images/plume/20230105_methane_mixing_ratio_id_...</td>\n",
       "    </tr>\n",
       "  </tbody>\n",
       "</table>\n",
       "</div>"
      ],
      "text/plain": [
       "       date id_coord plume    set        lat         lon  coord_x  coord_y  \\\n",
       "0  20230223  id_6675   yes  train  31.528750   74.330625       24       47   \n",
       "1  20230103  id_2542   yes  train  35.538000  112.524000       42       37   \n",
       "2  20230301  id_6546   yes  train  21.060000   84.936667       58       15   \n",
       "3  20230225  id_6084   yes  train  26.756667   80.973333       28       62   \n",
       "4  20230105  id_2012   yes  train  34.800000   40.770000       59       44   \n",
       "\n",
       "                                                path  \n",
       "0  images/plume/20230223_methane_mixing_ratio_id_...  \n",
       "1  images/plume/20230103_methane_mixing_ratio_id_...  \n",
       "2  images/plume/20230301_methane_mixing_ratio_id_...  \n",
       "3  images/plume/20230225_methane_mixing_ratio_id_...  \n",
       "4  images/plume/20230105_methane_mixing_ratio_id_...  "
      ]
     },
     "execution_count": 26,
     "metadata": {},
     "output_type": "execute_result"
    }
   ],
   "source": [
    "meta_df.head()"
   ]
  },
  {
   "cell_type": "code",
   "execution_count": 60,
   "metadata": {},
   "outputs": [],
   "source": [
    "meta_df['path'] = meta_df['path'].astype(str) + '.tif'"
   ]
  },
  {
   "cell_type": "code",
   "execution_count": 62,
   "metadata": {},
   "outputs": [
    {
     "name": "stderr",
     "output_type": "stream",
     "text": [
      "c:\\Users\\Rehan Ibrahim\\AppData\\Local\\Programs\\Python\\Python310\\lib\\site-packages\\rasterio\\__init__.py:320: NotGeoreferencedWarning: Dataset has no geotransform, gcps, or rpcs. The identity matrix will be returned.\n",
      "  dataset = DatasetReader(path, driver=driver, sharing=sharing, **kwargs)\n"
     ]
    },
    {
     "data": {
      "image/png": "[encoded data removed]",
      "text/plain": [
       "<Figure size 1200x1200 with 2 Axes>"
      ]
     },
     "metadata": {},
     "output_type": "display_data"
    },
    {
     "data": {
      "text/plain": [
       "<AxesSubplot: >"
      ]
     },
     "execution_count": 62,
     "metadata": {},
     "output_type": "execute_result"
    }
   ],
   "source": [
    "with rasterio.open('images/plume/20230223_methane_mixing_ratio_id_6675.tif') as src:\n",
    "    img = src.read(1)\n",
    "ep.plot_bands(img)"
   ]
  },
  {
   "cell_type": "code",
   "execution_count": 63,
   "metadata": {},
   "outputs": [
    {
     "name": "stderr",
     "output_type": "stream",
     "text": [
      "c:\\Users\\Rehan Ibrahim\\AppData\\Local\\Programs\\Python\\Python310\\lib\\site-packages\\rasterio\\__init__.py:320: NotGeoreferencedWarning: Dataset has no geotransform, gcps, or rpcs. The identity matrix will be returned.\n",
      "  dataset = DatasetReader(path, driver=driver, sharing=sharing, **kwargs)\n"
     ]
    }
   ],
   "source": [
    "import pandas as pd\n",
    "import numpy as np\n",
    "import rasterio\n",
    "\n",
    "\n",
    "image_data = []\n",
    "plume_labels = []\n",
    "\n",
    "# Loop through the metadata and load images\n",
    "for index, row in meta_df.iterrows():\n",
    "    image_path = row['path']\n",
    "    plume_label = row['plume']\n",
    "\n",
    "    # Read the TIFF image using rasterio\n",
    "    try:\n",
    "        with rasterio.open(image_path) as src:\n",
    "            image = src.read(1)  # Assuming single-band image, adjust if necessary\n",
    "            # You may want to resize or preprocess the image here if necessary\n",
    "\n",
    "        # Append the image data and plume label to their respective lists\n",
    "        image_data.append(image)\n",
    "        plume_labels.append(plume_label)\n",
    "    except Exception as e:\n",
    "        print(f\"Error loading image at {image_path}: {e}\")\n",
    "\n",
    "# Convert the lists into NumPy arrays\n",
    "image_data = np.array(image_data)\n",
    "plume_labels = np.array(plume_labels)"
   ]
  },
  {
   "cell_type": "code",
   "execution_count": 110,
   "metadata": {},
   "outputs": [
    {
     "data": {
      "text/plain": [
       "array([[[15373, 23745, 23745, ...,     0,     0,     0],\n",
       "        [21083, 22849, 22849, ...,     0,     0,     0],\n",
       "        [21083, 22849, 22849, ...,     0,  3348,  3348],\n",
       "        ...,\n",
       "        [49287, 49287, 43637, ..., 22215, 29933, 29933],\n",
       "        [49287, 43637, 43637, ..., 13711, 14626, 14626],\n",
       "        [49834, 48903, 48903, ..., 13711, 14626, 14626]],\n",
       "\n",
       "       [[    0,     0,     0, ...,     0,     0,     0],\n",
       "        [ 6386, 11516,  1537, ...,     0,     0,     0],\n",
       "        [ 6386, 11516,  1537, ...,     0,     0,     0],\n",
       "        ...,\n",
       "        [ 3878,  6976,  6548, ...,     0,     0,     0],\n",
       "        [ 3878,  6976,  6548, ...,     0,     0,     0],\n",
       "        [ 4225,     0,  4100, ...,     0,     0,     0]],\n",
       "\n",
       "       [[14118,  9487,  9487, ..., 25601, 22138, 22138],\n",
       "        [16914,  5666,  5666, ..., 30095, 26363, 26363],\n",
       "        [16914,  5666,  5666, ..., 30095, 26363, 26363],\n",
       "        ...,\n",
       "        [14918, 14918, 16676, ..., 18546,     0,     0],\n",
       "        [14918, 14918, 16676, ..., 18546,     0,     0],\n",
       "        [    0,     0,     0, ...,  6638,     0,     0]],\n",
       "\n",
       "       ...,\n",
       "\n",
       "       [[42516, 41205, 45212, ..., 15059, 32915, 32915],\n",
       "        [    0, 48178, 45978, ..., 15059, 32915, 32915],\n",
       "        [    0, 48178, 45978, ..., 11351,  3934,  3934],\n",
       "        ...,\n",
       "        [    0,     0,     0, ...,     0,     0,     0],\n",
       "        [    0,     0,     0, ...,     0,     0,     0],\n",
       "        [    0,     0,     0, ...,     0,     0,     0]],\n",
       "\n",
       "       [[11184, 12509, 12509, ...,     0,     0,     0],\n",
       "        [11184, 12509, 12509, ...,     0,     0,     0],\n",
       "        [13173, 14030, 14030, ...,     0,     0,     0],\n",
       "        ...,\n",
       "        [27451, 27451, 27451, ...,     0,     0,     0],\n",
       "        [24843, 24843, 24843, ...,     0,     0,     0],\n",
       "        [24843, 24843, 24843, ...,     0,     0,     0]],\n",
       "\n",
       "       [[16737,     0,  7920, ..., 14995, 38241, 17538],\n",
       "        [15144, 16789, 24014, ..., 14995, 38241, 17538],\n",
       "        [15144, 16789, 24014, ...,  3623, 29676, 41046],\n",
       "        ...,\n",
       "        [    0,     0, 17724, ...,     0,     0,  1133],\n",
       "        [    0,     0, 17724, ..., 18202, 37727, 46228],\n",
       "        [    0,     0,  1945, ..., 18202, 37727, 46228]]], dtype=uint16)"
      ]
     },
     "execution_count": 110,
     "metadata": {},
     "output_type": "execute_result"
    }
   ],
   "source": [
    "image_data"
   ]
  },
  {
   "cell_type": "code",
   "execution_count": 77,
   "metadata": {},
   "outputs": [
    {
     "data": {
      "text/plain": [
       "array([[[0.23457694, 0.36232547, 0.36232547, ..., 0.        ,\n",
       "         0.        , 0.        ],\n",
       "        [0.32170596, 0.34865339, 0.34865339, ..., 0.        ,\n",
       "         0.        , 0.        ],\n",
       "        [0.32170596, 0.34865339, 0.34865339, ..., 0.        ,\n",
       "         0.05108721, 0.05108721],\n",
       "        ...,\n",
       "        [0.75207141, 0.75207141, 0.66585794, ..., 0.33897917,\n",
       "         0.4567483 , 0.4567483 ],\n",
       "        [0.75207141, 0.66585794, 0.66585794, ..., 0.20921645,\n",
       "         0.22317845, 0.22317845],\n",
       "        [0.7604181 , 0.74621195, 0.74621195, ..., 0.20921645,\n",
       "         0.22317845, 0.22317845]],\n",
       "\n",
       "       [[0.        , 0.        , 0.        , ..., 0.        ,\n",
       "         0.        , 0.        ],\n",
       "        [0.09744411, 0.1757229 , 0.02345312, ..., 0.        ,\n",
       "         0.        , 0.        ],\n",
       "        [0.09744411, 0.1757229 , 0.02345312, ..., 0.        ,\n",
       "         0.        , 0.        ],\n",
       "        ...,\n",
       "        [0.05917449, 0.10644694, 0.09991608, ..., 0.        ,\n",
       "         0.        , 0.        ],\n",
       "        [0.05917449, 0.10644694, 0.09991608, ..., 0.        ,\n",
       "         0.        , 0.        ],\n",
       "        [0.06446937, 0.        , 0.06256199, ..., 0.        ,\n",
       "         0.        , 0.        ]],\n",
       "\n",
       "       [[0.21542687, 0.14476234, 0.14476234, ..., 0.39064622,\n",
       "         0.33780423, 0.33780423],\n",
       "        [0.2580911 , 0.08645762, 0.08645762, ..., 0.45922026,\n",
       "         0.40227359, 0.40227359],\n",
       "        [0.2580911 , 0.08645762, 0.08645762, ..., 0.45922026,\n",
       "         0.40227359, 0.40227359],\n",
       "        ...,\n",
       "        [0.22763409, 0.22763409, 0.25445945, ..., 0.28299382,\n",
       "         0.        , 0.        ],\n",
       "        [0.22763409, 0.22763409, 0.25445945, ..., 0.28299382,\n",
       "         0.        , 0.        ],\n",
       "        [0.        , 0.        , 0.        , ..., 0.10128939,\n",
       "         0.        , 0.        ]],\n",
       "\n",
       "       ...,\n",
       "\n",
       "       [[0.64875257, 0.628748  , 0.6898909 , ..., 0.22978561,\n",
       "         0.50225071, 0.50225071],\n",
       "        [0.        , 0.73514916, 0.70157931, ..., 0.22978561,\n",
       "         0.50225071, 0.50225071],\n",
       "        [0.        , 0.73514916, 0.70157931, ..., 0.17320516,\n",
       "         0.06002899, 0.06002899],\n",
       "        ...,\n",
       "        [0.        , 0.        , 0.        , ..., 0.        ,\n",
       "         0.        , 0.        ],\n",
       "        [0.        , 0.        , 0.        , ..., 0.        ,\n",
       "         0.        , 0.        ],\n",
       "        [0.        , 0.        , 0.        , ..., 0.        ,\n",
       "         0.        , 0.        ]],\n",
       "\n",
       "       [[0.1706569 , 0.1908751 , 0.1908751 , ..., 0.        ,\n",
       "         0.        , 0.        ],\n",
       "        [0.1706569 , 0.1908751 , 0.1908751 , ..., 0.        ,\n",
       "         0.        , 0.        ],\n",
       "        [0.2010071 , 0.21408408, 0.21408408, ..., 0.        ,\n",
       "         0.        , 0.        ],\n",
       "        ...,\n",
       "        [0.41887541, 0.41887541, 0.41887541, ..., 0.        ,\n",
       "         0.        , 0.        ],\n",
       "        [0.37907988, 0.37907988, 0.37907988, ..., 0.        ,\n",
       "         0.        , 0.        ],\n",
       "        [0.37907988, 0.37907988, 0.37907988, ..., 0.        ,\n",
       "         0.        , 0.        ]],\n",
       "\n",
       "       [[0.25539025, 0.        , 0.12085145, ..., 0.22880903,\n",
       "         0.58352026, 0.26761273],\n",
       "        [0.23108263, 0.25618372, 0.36643015, ..., 0.22880903,\n",
       "         0.58352026, 0.26761273],\n",
       "        [0.23108263, 0.25618372, 0.36643015, ..., 0.05528344,\n",
       "         0.45282673, 0.62632181],\n",
       "        ...,\n",
       "        [0.        , 0.        , 0.2704509 , ..., 0.        ,\n",
       "         0.        , 0.01728847],\n",
       "        [0.        , 0.        , 0.2704509 , ..., 0.27774472,\n",
       "         0.57567712, 0.70539406],\n",
       "        [0.        , 0.        , 0.0296788 , ..., 0.27774472,\n",
       "         0.57567712, 0.70539406]]])"
      ]
     },
     "execution_count": 77,
     "metadata": {},
     "output_type": "execute_result"
    }
   ],
   "source": [
    "min_val = image_data.min()\n",
    "max_val = image_data.max()\n",
    "\n",
    "# Normalize the image data\n",
    "normalized_image_data = (image_data - min_val) / (max_val - min_val)\n",
    "normalized_image_data"
   ]
  },
  {
   "cell_type": "code",
   "execution_count": 105,
   "metadata": {},
   "outputs": [
    {
     "name": "stdout",
     "output_type": "stream",
     "text": [
      "X_train shape: (344, 64, 64)\n",
      "X_test shape: (86, 64, 64)\n"
     ]
    }
   ],
   "source": [
    "X = normalized_image_data\n",
    "y = plume_labels\n",
    "\n",
    "\n",
    "#X = [np.transpose(image, (1, 2, 0)) for image in X]\n",
    "\n",
    "#X = np.array(X)\n",
    "np.random.seed(101)\n",
    "X_train, X_test, y_train, y_test = train_test_split(X, y, test_size=0.2, random_state=42,shuffle=True)\n",
    "\n",
    "print(\"X_train shape:\", X_train.shape)\n",
    "print(\"X_test shape:\", X_test.shape)"
   ]
  },
  {
   "cell_type": "code",
   "execution_count": 106,
   "metadata": {},
   "outputs": [
    {
     "data": {
      "text/plain": [
       "array([1, 1, 0, 1, 1, 0, 1, 0, 0, 0, 0, 0, 1, 1, 0, 0, 0, 0, 1, 0, 1, 0,\n",
       "       1, 1, 0, 1, 0, 0, 1, 1, 0, 1, 1, 0, 1, 1, 1, 1, 0, 0, 1, 1, 0, 0,\n",
       "       1, 1, 1, 0, 0, 1, 0, 0, 0, 1, 1, 1, 0, 1, 0, 0, 1, 0, 1, 1, 1, 1,\n",
       "       1, 0, 0, 0, 0, 0, 0, 1, 0, 0, 1, 1, 0, 0, 0, 0, 1, 1, 0, 0, 1, 0,\n",
       "       0, 1, 1, 1, 0, 1, 1, 0, 0, 1, 0, 0, 0, 1, 0, 1, 0, 1, 1, 1, 1, 1,\n",
       "       1, 0, 1, 1, 1, 0, 0, 1, 0, 1, 1, 1, 1, 1, 0, 1, 1, 1, 0, 0, 0, 0,\n",
       "       0, 0, 0, 1, 1, 0, 0, 0, 1, 0, 0, 0, 0, 0, 0, 0, 1, 0, 0, 0, 0, 1,\n",
       "       1, 1, 0, 1, 0, 0, 1, 1, 0, 0, 0, 0, 1, 0, 0, 0, 0, 0, 0, 1, 1, 1,\n",
       "       0, 0, 1, 1, 0, 0, 0, 1, 0, 1, 0, 1, 0, 1, 0, 1, 1, 0, 1, 1, 1, 1,\n",
       "       1, 1, 1, 0, 0, 0, 1, 1, 0, 0, 0, 1, 1, 0, 1, 0, 0, 0, 1, 0, 0, 1,\n",
       "       0, 0, 1, 1, 1, 0, 1, 1, 1, 1, 0, 1, 0, 1, 0, 0, 0, 0, 1, 0, 1, 1,\n",
       "       1, 1, 1, 0, 1, 0, 1, 1, 1, 0, 0, 0, 0, 0, 0, 0, 1, 1, 0, 0, 0, 0,\n",
       "       0, 0, 0, 0, 1, 1, 1, 0, 1, 0, 0, 1, 1, 1, 0, 1, 1, 1, 1, 0, 0, 1,\n",
       "       0, 1, 0, 0, 0, 1, 0, 1, 0, 1, 0, 0, 1, 0, 0, 0, 0, 1, 0, 1, 1, 1,\n",
       "       0, 1, 1, 1, 1, 0, 0, 0, 1, 0, 1, 0, 1, 0, 0, 0, 0, 0, 1, 1, 1, 0,\n",
       "       1, 0, 1, 0, 1, 1, 0, 1, 1, 1, 1, 0, 0, 1])"
      ]
     },
     "execution_count": 106,
     "metadata": {},
     "output_type": "execute_result"
    }
   ],
   "source": [
    "y_train"
   ]
  },
  {
   "cell_type": "code",
   "execution_count": 116,
   "metadata": {},
   "outputs": [
    {
     "name": "stdout",
     "output_type": "stream",
     "text": [
      "Model: \"sequential_9\"\n",
      "_________________________________________________________________\n",
      " Layer (type)                Output Shape              Param #   \n",
      "=================================================================\n",
      " conv2d_27 (Conv2D)          (None, 62, 62, 32)        320       \n",
      "                                                                 \n",
      " batch_normalization_30 (Ba  (None, 62, 62, 32)        128       \n",
      " tchNormalization)                                               \n",
      "                                                                 \n",
      " max_pooling2d_27 (MaxPooli  (None, 31, 31, 32)        0         \n",
      " ng2D)                                                           \n",
      "                                                                 \n",
      " conv2d_28 (Conv2D)          (None, 29, 29, 64)        18496     \n",
      "                                                                 \n",
      " batch_normalization_31 (Ba  (None, 29, 29, 64)        256       \n",
      " tchNormalization)                                               \n",
      "                                                                 \n",
      " max_pooling2d_28 (MaxPooli  (None, 14, 14, 64)        0         \n",
      " ng2D)                                                           \n",
      "                                                                 \n",
      " conv2d_29 (Conv2D)          (None, 12, 12, 128)       73856     \n",
      "                                                                 \n",
      " batch_normalization_32 (Ba  (None, 12, 12, 128)       512       \n",
      " tchNormalization)                                               \n",
      "                                                                 \n",
      " max_pooling2d_29 (MaxPooli  (None, 6, 6, 128)         0         \n",
      " ng2D)                                                           \n",
      "                                                                 \n",
      " flatten_9 (Flatten)         (None, 4608)              0         \n",
      "                                                                 \n",
      " dense_32 (Dense)            (None, 256)               1179904   \n",
      "                                                                 \n",
      " batch_normalization_33 (Ba  (None, 256)               1024      \n",
      " tchNormalization)                                               \n",
      "                                                                 \n",
      " dropout_23 (Dropout)        (None, 256)               0         \n",
      "                                                                 \n",
      " dense_33 (Dense)            (None, 128)               32896     \n",
      "                                                                 \n",
      " batch_normalization_34 (Ba  (None, 128)               512       \n",
      " tchNormalization)                                               \n",
      "                                                                 \n",
      " dropout_24 (Dropout)        (None, 128)               0         \n",
      "                                                                 \n",
      " dense_34 (Dense)            (None, 64)                8256      \n",
      "                                                                 \n",
      " batch_normalization_35 (Ba  (None, 64)                256       \n",
      " tchNormalization)                                               \n",
      "                                                                 \n",
      " dropout_25 (Dropout)        (None, 64)                0         \n",
      "                                                                 \n",
      " dense_35 (Dense)            (None, 1)                 65        \n",
      "                                                                 \n",
      "=================================================================\n",
      "Total params: 1316481 (5.02 MB)\n",
      "Trainable params: 1315137 (5.02 MB)\n",
      "Non-trainable params: 1344 (5.25 KB)\n",
      "_________________________________________________________________\n"
     ]
    }
   ],
   "source": [
    "tf.random.set_seed(1234)\n",
    "model = keras.Sequential([\n",
    "    # Convolutional layers\n",
    "    layers.Conv2D(32, (3, 3), activation='relu', input_shape=(64,64,1)),\n",
    "    layers.BatchNormalization(),\n",
    "    layers.MaxPooling2D((2, 2)),\n",
    "    layers.Conv2D(64, (3, 3), activation='relu'),\n",
    "    layers.BatchNormalization(),\n",
    "    layers.MaxPooling2D((2, 2)),\n",
    "    layers.Conv2D(128, (3, 3), activation='relu'),\n",
    "    layers.BatchNormalization(),\n",
    "    layers.MaxPooling2D((2, 2)),\n",
    "    \n",
    "    layers.Flatten(),\n",
    "    \n",
    "    # Fully connected layers\n",
    "    layers.Dense(256, activation='relu'),\n",
    "    layers.BatchNormalization(),\n",
    "    layers.Dropout(0.5),\n",
    "    layers.Dense(128, activation='relu'),\n",
    "    layers.BatchNormalization(),\n",
    "    layers.Dropout(0.5),\n",
    "    layers.Dense(64, activation='relu'),\n",
    "    layers.BatchNormalization(),\n",
    "    layers.Dropout(0.5),\n",
    "    layers.Dense(1,'sigmoid') \n",
    "])\n",
    "\n",
    "# Compile the model\n",
    "model.compile(optimizer='adam',\n",
    "              loss='categorical_crossentropy',  \n",
    "              metrics=['accuracy'])\n",
    "\n",
    "\n",
    "model.summary()\n",
    "\n",
    "# Define early stopping\n",
    "early_stopping = EarlyStopping(\n",
    "    monitor='val_loss', \n",
    "    patience=10,           \n",
    "    restore_best_weights=True  )\n"
   ]
  },
  {
   "cell_type": "code",
   "execution_count": 114,
   "metadata": {},
   "outputs": [
    {
     "name": "stdout",
     "output_type": "stream",
     "text": [
      "Epoch 1/100\n"
     ]
    },
    {
     "name": "stderr",
     "output_type": "stream",
     "text": [
      "c:\\Users\\Rehan Ibrahim\\AppData\\Local\\Programs\\Python\\Python310\\lib\\site-packages\\tensorflow\\python\\util\\dispatch.py:1260: SyntaxWarning: In loss categorical_crossentropy, expected y_pred.shape to be (batch_size, num_classes) with num_classes > 1. Received: y_pred.shape=(32, 1). Consider using 'binary_crossentropy' if you only have 2 classes.\n",
      "  return dispatch_target(*args, **kwargs)\n"
     ]
    },
    {
     "name": "stdout",
     "output_type": "stream",
     "text": [
      "10/10 [==============================] - ETA: 0s - loss: 5.6325e-08 - accuracy: 0.4757"
     ]
    },
    {
     "name": "stderr",
     "output_type": "stream",
     "text": [
      "c:\\Users\\Rehan Ibrahim\\AppData\\Local\\Programs\\Python\\Python310\\lib\\site-packages\\tensorflow\\python\\util\\dispatch.py:1260: SyntaxWarning: In loss categorical_crossentropy, expected y_pred.shape to be (batch_size, num_classes) with num_classes > 1. Received: y_pred.shape=(21, 1). Consider using 'binary_crossentropy' if you only have 2 classes.\n",
      "  return dispatch_target(*args, **kwargs)\n"
     ]
    },
    {
     "name": "stdout",
     "output_type": "stream",
     "text": [
      "10/10 [==============================] - 3s 254ms/step - loss: 5.6325e-08 - accuracy: 0.4757 - val_loss: 6.4714e-08 - val_accuracy: 0.4571\n",
      "Epoch 2/100\n"
     ]
    },
    {
     "name": "stderr",
     "output_type": "stream",
     "text": [
      "c:\\Users\\Rehan Ibrahim\\AppData\\Local\\Programs\\Python\\Python310\\lib\\site-packages\\tensorflow\\python\\util\\dispatch.py:1260: SyntaxWarning: In loss categorical_crossentropy, expected y_pred.shape to be (batch_size, num_classes) with num_classes > 1. Received: y_pred.shape=(3, 1). Consider using 'binary_crossentropy' if you only have 2 classes.\n",
      "  return dispatch_target(*args, **kwargs)\n"
     ]
    },
    {
     "name": "stdout",
     "output_type": "stream",
     "text": [
      "10/10 [==============================] - 2s 248ms/step - loss: 5.6325e-08 - accuracy: 0.4563 - val_loss: 6.4714e-08 - val_accuracy: 0.4571\n",
      "Epoch 3/100\n",
      "10/10 [==============================] - 3s 261ms/step - loss: 5.6325e-08 - accuracy: 0.4628 - val_loss: 6.4714e-08 - val_accuracy: 0.4571\n",
      "Epoch 4/100\n",
      "10/10 [==============================] - 3s 258ms/step - loss: 5.6325e-08 - accuracy: 0.3981 - val_loss: 6.4714e-08 - val_accuracy: 0.4571\n",
      "Epoch 5/100\n",
      "10/10 [==============================] - 3s 249ms/step - loss: 5.6325e-08 - accuracy: 0.5113 - val_loss: 6.4714e-08 - val_accuracy: 0.4571\n",
      "Epoch 6/100\n",
      "10/10 [==============================] - 3s 252ms/step - loss: 5.6325e-08 - accuracy: 0.5049 - val_loss: 6.4714e-08 - val_accuracy: 0.4571\n",
      "Epoch 7/100\n",
      "10/10 [==============================] - 2s 246ms/step - loss: 5.6325e-08 - accuracy: 0.5049 - val_loss: 6.4714e-08 - val_accuracy: 0.4571\n",
      "Epoch 8/100\n",
      "10/10 [==============================] - 2s 244ms/step - loss: 5.6325e-08 - accuracy: 0.4725 - val_loss: 6.4714e-08 - val_accuracy: 0.4571\n",
      "Epoch 9/100\n",
      "10/10 [==============================] - 2s 246ms/step - loss: 5.6325e-08 - accuracy: 0.4790 - val_loss: 6.4714e-08 - val_accuracy: 0.4571\n",
      "Epoch 10/100\n",
      "10/10 [==============================] - 3s 258ms/step - loss: 5.6325e-08 - accuracy: 0.4757 - val_loss: 6.4714e-08 - val_accuracy: 0.4571\n",
      "Epoch 11/100\n",
      "10/10 [==============================] - 2s 242ms/step - loss: 5.6325e-08 - accuracy: 0.5178 - val_loss: 6.4714e-08 - val_accuracy: 0.4571\n",
      "3/3 [==============================] - 0s 49ms/step\n"
     ]
    },
    {
     "data": {
      "text/plain": [
       "array([[-0.09827216],\n",
       "       [-0.08192681],\n",
       "       [-0.0915883 ],\n",
       "       [-0.0961287 ],\n",
       "       [-0.09889433],\n",
       "       [-0.08765416],\n",
       "       [-0.09381773],\n",
       "       [-0.09744976],\n",
       "       [-0.07570173],\n",
       "       [-0.09609266],\n",
       "       [-0.09907931],\n",
       "       [-0.07299833],\n",
       "       [-0.09237508],\n",
       "       [-0.08895603],\n",
       "       [-0.11001974],\n",
       "       [-0.08935541],\n",
       "       [-0.05746715],\n",
       "       [-0.08595195],\n",
       "       [-0.09152779],\n",
       "       [-0.06517696],\n",
       "       [-0.09570194],\n",
       "       [-0.06344479],\n",
       "       [-0.07693685],\n",
       "       [-0.10386357],\n",
       "       [-0.09069167],\n",
       "       [-0.08180904],\n",
       "       [-0.08711955],\n",
       "       [-0.08827946],\n",
       "       [-0.07938663],\n",
       "       [-0.07595599],\n",
       "       [-0.07930546],\n",
       "       [-0.07686095],\n",
       "       [-0.07955829],\n",
       "       [-0.10865806],\n",
       "       [-0.09886743],\n",
       "       [-0.08877713],\n",
       "       [-0.1058296 ],\n",
       "       [-0.07596882],\n",
       "       [-0.08423045],\n",
       "       [-0.10337202],\n",
       "       [-0.08806871],\n",
       "       [-0.09237681],\n",
       "       [-0.10394506],\n",
       "       [-0.09324187],\n",
       "       [-0.09423209],\n",
       "       [-0.10359763],\n",
       "       [-0.09176094],\n",
       "       [-0.08504888],\n",
       "       [-0.10368795],\n",
       "       [-0.09293245],\n",
       "       [-0.08140635],\n",
       "       [-0.0919892 ],\n",
       "       [-0.1066599 ],\n",
       "       [-0.07276127],\n",
       "       [-0.09342572],\n",
       "       [-0.07447639],\n",
       "       [-0.07693685],\n",
       "       [-0.10609463],\n",
       "       [-0.10353101],\n",
       "       [-0.08807932],\n",
       "       [-0.0797984 ],\n",
       "       [-0.07546756],\n",
       "       [-0.08775634],\n",
       "       [-0.10574055],\n",
       "       [-0.07112756],\n",
       "       [-0.07308124],\n",
       "       [-0.08232224],\n",
       "       [-0.0877754 ],\n",
       "       [-0.09776314],\n",
       "       [-0.08993809],\n",
       "       [-0.10112366],\n",
       "       [-0.08231935],\n",
       "       [-0.09608284],\n",
       "       [-0.08348967],\n",
       "       [-0.06731203],\n",
       "       [-0.0865225 ],\n",
       "       [-0.08656673],\n",
       "       [-0.07684478],\n",
       "       [-0.10738057],\n",
       "       [-0.10514174],\n",
       "       [-0.09474708],\n",
       "       [-0.08404976],\n",
       "       [-0.09345004],\n",
       "       [-0.08873735],\n",
       "       [-0.10564624],\n",
       "       [-0.08457388]], dtype=float32)"
      ]
     },
     "execution_count": 114,
     "metadata": {},
     "output_type": "execute_result"
    }
   ],
   "source": [
    "batch_size = 32\n",
    "epochs = 100\n",
    "model.fit(X_train,y_train, epochs=epochs, batch_size=batch_size, validation_split=0.1,callbacks=[early_stopping])\n",
    "\n",
    "# Make predictions on the test dataset\n",
    "predictions = model.predict(X_test)\n",
    "predictions"
   ]
  },
  {
   "cell_type": "code",
   "execution_count": 115,
   "metadata": {},
   "outputs": [
    {
     "ename": "ValueError",
     "evalue": "Classification metrics can't handle a mix of binary and continuous targets",
     "output_type": "error",
     "traceback": [
      "\u001b[1;31m---------------------------------------------------------------------------\u001b[0m",
      "\u001b[1;31mValueError\u001b[0m                                Traceback (most recent call last)",
      "\u001b[1;32mc:\\Users\\Rehan Ibrahim\\OneDrive - HEC Paris\\Desktop\\data\\Untitled-1.ipynb Cell 15\u001b[0m line \u001b[0;36m1\n\u001b[1;32m----> <a href='vscode-notebook-cell:/c%3A/Users/Rehan%20Ibrahim/OneDrive%20-%20HEC%20Paris/Desktop/data/Untitled-1.ipynb#X35sZmlsZQ%3D%3D?line=0'>1</a>\u001b[0m class_report \u001b[39m=\u001b[39m classification_report(y_test, predictions)\n\u001b[0;32m      <a href='vscode-notebook-cell:/c%3A/Users/Rehan%20Ibrahim/OneDrive%20-%20HEC%20Paris/Desktop/data/Untitled-1.ipynb#X35sZmlsZQ%3D%3D?line=1'>2</a>\u001b[0m \u001b[39mprint\u001b[39m(\u001b[39m\"\u001b[39m\u001b[39mClassification Report:\u001b[39m\u001b[39m\"\u001b[39m)\n\u001b[0;32m      <a href='vscode-notebook-cell:/c%3A/Users/Rehan%20Ibrahim/OneDrive%20-%20HEC%20Paris/Desktop/data/Untitled-1.ipynb#X35sZmlsZQ%3D%3D?line=2'>3</a>\u001b[0m \u001b[39mprint\u001b[39m(class_report)\n",
      "File \u001b[1;32mc:\\Users\\Rehan Ibrahim\\AppData\\Local\\Programs\\Python\\Python310\\lib\\site-packages\\sklearn\\metrics\\_classification.py:2310\u001b[0m, in \u001b[0;36mclassification_report\u001b[1;34m(y_true, y_pred, labels, target_names, sample_weight, digits, output_dict, zero_division)\u001b[0m\n\u001b[0;32m   2195\u001b[0m \u001b[39mdef\u001b[39;00m \u001b[39mclassification_report\u001b[39m(\n\u001b[0;32m   2196\u001b[0m     y_true,\n\u001b[0;32m   2197\u001b[0m     y_pred,\n\u001b[1;32m   (...)\u001b[0m\n\u001b[0;32m   2204\u001b[0m     zero_division\u001b[39m=\u001b[39m\u001b[39m\"\u001b[39m\u001b[39mwarn\u001b[39m\u001b[39m\"\u001b[39m,\n\u001b[0;32m   2205\u001b[0m ):\n\u001b[0;32m   2206\u001b[0m     \u001b[39m\"\"\"Build a text report showing the main classification metrics.\u001b[39;00m\n\u001b[0;32m   2207\u001b[0m \n\u001b[0;32m   2208\u001b[0m \u001b[39m    Read more in the :ref:`User Guide <classification_report>`.\u001b[39;00m\n\u001b[1;32m   (...)\u001b[0m\n\u001b[0;32m   2307\u001b[0m \u001b[39m    <BLANKLINE>\u001b[39;00m\n\u001b[0;32m   2308\u001b[0m \u001b[39m    \"\"\"\u001b[39;00m\n\u001b[1;32m-> 2310\u001b[0m     y_type, y_true, y_pred \u001b[39m=\u001b[39m _check_targets(y_true, y_pred)\n\u001b[0;32m   2312\u001b[0m     \u001b[39mif\u001b[39;00m labels \u001b[39mis\u001b[39;00m \u001b[39mNone\u001b[39;00m:\n\u001b[0;32m   2313\u001b[0m         labels \u001b[39m=\u001b[39m unique_labels(y_true, y_pred)\n",
      "File \u001b[1;32mc:\\Users\\Rehan Ibrahim\\AppData\\Local\\Programs\\Python\\Python310\\lib\\site-packages\\sklearn\\metrics\\_classification.py:95\u001b[0m, in \u001b[0;36m_check_targets\u001b[1;34m(y_true, y_pred)\u001b[0m\n\u001b[0;32m     92\u001b[0m     y_type \u001b[39m=\u001b[39m {\u001b[39m\"\u001b[39m\u001b[39mmulticlass\u001b[39m\u001b[39m\"\u001b[39m}\n\u001b[0;32m     94\u001b[0m \u001b[39mif\u001b[39;00m \u001b[39mlen\u001b[39m(y_type) \u001b[39m>\u001b[39m \u001b[39m1\u001b[39m:\n\u001b[1;32m---> 95\u001b[0m     \u001b[39mraise\u001b[39;00m \u001b[39mValueError\u001b[39;00m(\n\u001b[0;32m     96\u001b[0m         \u001b[39m\"\u001b[39m\u001b[39mClassification metrics can\u001b[39m\u001b[39m'\u001b[39m\u001b[39mt handle a mix of \u001b[39m\u001b[39m{0}\u001b[39;00m\u001b[39m and \u001b[39m\u001b[39m{1}\u001b[39;00m\u001b[39m targets\u001b[39m\u001b[39m\"\u001b[39m\u001b[39m.\u001b[39mformat(\n\u001b[0;32m     97\u001b[0m             type_true, type_pred\n\u001b[0;32m     98\u001b[0m         )\n\u001b[0;32m     99\u001b[0m     )\n\u001b[0;32m    101\u001b[0m \u001b[39m# We can't have more than one value on y_type => The set is no more needed\u001b[39;00m\n\u001b[0;32m    102\u001b[0m y_type \u001b[39m=\u001b[39m y_type\u001b[39m.\u001b[39mpop()\n",
      "\u001b[1;31mValueError\u001b[0m: Classification metrics can't handle a mix of binary and continuous targets"
     ]
    }
   ],
   "source": [
    "class_report = classification_report(y_test, predictions)\n",
    "print(\"Classification Report:\")\n",
    "print(class_report)"
   ]
  },
  {
   "cell_type": "code",
   "execution_count": 102,
   "metadata": {},
   "outputs": [
    {
     "data": {
      "text/plain": [
       "1.0    86\n",
       "dtype: int64"
      ]
     },
     "execution_count": 102,
     "metadata": {},
     "output_type": "execute_result"
    }
   ],
   "source": [
    "pd.Series(predictions.squeeze()).value_counts()"
   ]
  },
  {
   "cell_type": "code",
   "execution_count": 96,
   "metadata": {},
   "outputs": [
    {
     "name": "stdout",
     "output_type": "stream",
     "text": [
      "Accuracy: 59.30%\n"
     ]
    }
   ],
   "source": [
    "# Calculate accuracy using one-hot encoded labels\n",
    "accuracy = accuracy_score(y_test, predictions)\n",
    "print(f\"Accuracy: {accuracy*100:.2f}%\")"
   ]
  },
  {
   "cell_type": "code",
   "execution_count": null,
   "metadata": {},
   "outputs": [],
   "source": []
  }
 ],
 "metadata": {
  "kernelspec": {
   "display_name": "Python 3",
   "language": "python",
   "name": "python3"
  },
  "language_info": {
   "codemirror_mode": {
    "name": "ipython",
    "version": 3
   },
   "file_extension": ".py",
   "mimetype": "text/x-python",
   "name": "python",
   "nbconvert_exporter": "python",
   "pygments_lexer": "ipython3",
   "version": "3.10.0"
  }
 },
 "nbformat": 4,
 "nbformat_minor": 2
}
