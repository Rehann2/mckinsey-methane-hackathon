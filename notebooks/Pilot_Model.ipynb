{
 "cells": [
  {
   "cell_type": "markdown",
   "metadata": {},
   "source": [
    "# Imports"
   ]
  },
  {
   "cell_type": "code",
   "execution_count": 3,
   "metadata": {},
   "outputs": [],
   "source": [
    "import pandas as pd\n",
    "import numpy as np\n",
    "import rasterio\n",
    "import geopandas as gpd\n",
    "import earthpy.plot as ep\n",
    "import os\n",
    "import imageio\n",
    "import cv2\n",
    "os.getcwd()\n",
    "import pandas as pd\n",
    "import numpy as np\n",
    "import matplotlib.pyplot as plt\n",
    "import tensorflow as tf\n",
    "from tensorflow import keras\n",
    "from tensorflow.keras import layers\n",
    "from sklearn.model_selection import train_test_split\n",
    "from sklearn.metrics import accuracy_score, classification_report, confusion_matrix\n",
    "from tensorflow.keras.preprocessing.image import ImageDataGenerator\n",
    "from tensorflow.keras.utils import to_categorical\n",
    "from tensorflow import keras\n",
    "from tensorflow.keras import layers\n",
    "import glob\n",
    "from tensorflow.keras.callbacks import EarlyStopping\n",
    "from sklearn.preprocessing import LabelBinarizer\n",
    "from sklearn.preprocessing import LabelEncoder\n",
    "import cv2\n",
    "keras.utils.set_random_seed(101)\n",
    "from tensorflow.keras.applications import MobileNetV2, EfficientNetB0"
   ]
  },
  {
   "cell_type": "markdown",
   "metadata": {},
   "source": [
    "# Path"
   ]
  },
  {
   "cell_type": "code",
   "execution_count": 4,
   "metadata": {},
   "outputs": [
    {
     "data": {
      "text/plain": [
       "'c:\\\\Users\\\\Rehan Ibrahim\\\\OneDrive - HEC Paris\\\\Desktop\\\\mckinsey-methane-hackathon\\\\notebooks'"
      ]
     },
     "execution_count": 4,
     "metadata": {},
     "output_type": "execute_result"
    }
   ],
   "source": [
    "os.getcwd()"
   ]
  },
  {
   "cell_type": "code",
   "execution_count": 5,
   "metadata": {},
   "outputs": [
    {
     "name": "stdout",
     "output_type": "stream",
     "text": [
      "c:\\Users\\Rehan Ibrahim\\OneDrive - HEC Paris\\Desktop\\mckinsey-methane-hackathon\n"
     ]
    }
   ],
   "source": [
    "cd .."
   ]
  },
  {
   "cell_type": "markdown",
   "metadata": {},
   "source": [
    "# Loading and EDA"
   ]
  },
  {
   "cell_type": "code",
   "execution_count": 6,
   "metadata": {},
   "outputs": [
    {
     "name": "stderr",
     "output_type": "stream",
     "text": [
      "c:\\Users\\Rehan Ibrahim\\AppData\\Local\\Programs\\Python\\Python310\\lib\\site-packages\\rasterio\\__init__.py:320: NotGeoreferencedWarning: Dataset has no geotransform, gcps, or rpcs. The identity matrix will be returned.\n",
      "  dataset = DatasetReader(path, driver=driver, sharing=sharing, **kwargs)\n"
     ]
    },
    {
     "data": {
      "text/plain": [
       "(1.0, 1.0)"
      ]
     },
     "execution_count": 6,
     "metadata": {},
     "output_type": "execute_result"
    }
   ],
   "source": [
    "with rasterio.open(\"data/dataset/train_data/images/plume/20230101_methane_mixing_ratio_id_4928.tif\") as src:\n",
    "    img = src.read(1)\n",
    "    \n",
    "img_meta =src.meta\n",
    "img_meta\n",
    "src.res"
   ]
  },
  {
   "cell_type": "code",
   "execution_count": 7,
   "metadata": {},
   "outputs": [],
   "source": [
    "meta_df = pd.read_csv('data/dataset/train_data/metadata.csv')"
   ]
  },
  {
   "cell_type": "code",
   "execution_count": 8,
   "metadata": {},
   "outputs": [
    {
     "data": {
      "text/plain": [
       "lat        lon       \n",
       "29.631951   35.952379    21\n",
       "32.713854   44.609398    19\n",
       "33.990812   39.641866    18\n",
       "28.510000   77.442400    17\n",
       "36.596520   38.321405    15\n",
       "                         ..\n",
       "21.039986  -77.824694     1\n",
       "24.907500   67.023000     1\n",
       "23.763333   86.396667     1\n",
       "23.740000   90.595000     1\n",
       "68.570113   25.563059     1\n",
       "Length: 101, dtype: int64"
      ]
     },
     "execution_count": 8,
     "metadata": {},
     "output_type": "execute_result"
    }
   ],
   "source": [
    "meta_df[['lat','lon']].value_counts()"
   ]
  },
  {
   "cell_type": "code",
   "execution_count": 9,
   "metadata": {},
   "outputs": [
    {
     "data": {
      "text/html": [
       "<div>\n",
       "<style scoped>\n",
       "    .dataframe tbody tr th:only-of-type {\n",
       "        vertical-align: middle;\n",
       "    }\n",
       "\n",
       "    .dataframe tbody tr th {\n",
       "        vertical-align: top;\n",
       "    }\n",
       "\n",
       "    .dataframe thead th {\n",
       "        text-align: right;\n",
       "    }\n",
       "</style>\n",
       "<table border=\"1\" class=\"dataframe\">\n",
       "  <thead>\n",
       "    <tr style=\"text-align: right;\">\n",
       "      <th></th>\n",
       "      <th>date</th>\n",
       "      <th>id_coord</th>\n",
       "      <th>plume</th>\n",
       "      <th>set</th>\n",
       "      <th>lat</th>\n",
       "      <th>lon</th>\n",
       "      <th>coord_x</th>\n",
       "      <th>coord_y</th>\n",
       "      <th>path</th>\n",
       "    </tr>\n",
       "  </thead>\n",
       "  <tbody>\n",
       "    <tr>\n",
       "      <th>0</th>\n",
       "      <td>20230223</td>\n",
       "      <td>id_6675</td>\n",
       "      <td>yes</td>\n",
       "      <td>train</td>\n",
       "      <td>31.528750</td>\n",
       "      <td>74.330625</td>\n",
       "      <td>24</td>\n",
       "      <td>47</td>\n",
       "      <td>images/plume/20230223_methane_mixing_ratio_id_...</td>\n",
       "    </tr>\n",
       "    <tr>\n",
       "      <th>1</th>\n",
       "      <td>20230103</td>\n",
       "      <td>id_2542</td>\n",
       "      <td>yes</td>\n",
       "      <td>train</td>\n",
       "      <td>35.538000</td>\n",
       "      <td>112.524000</td>\n",
       "      <td>42</td>\n",
       "      <td>37</td>\n",
       "      <td>images/plume/20230103_methane_mixing_ratio_id_...</td>\n",
       "    </tr>\n",
       "    <tr>\n",
       "      <th>2</th>\n",
       "      <td>20230301</td>\n",
       "      <td>id_6546</td>\n",
       "      <td>yes</td>\n",
       "      <td>train</td>\n",
       "      <td>21.060000</td>\n",
       "      <td>84.936667</td>\n",
       "      <td>58</td>\n",
       "      <td>15</td>\n",
       "      <td>images/plume/20230301_methane_mixing_ratio_id_...</td>\n",
       "    </tr>\n",
       "    <tr>\n",
       "      <th>3</th>\n",
       "      <td>20230225</td>\n",
       "      <td>id_6084</td>\n",
       "      <td>yes</td>\n",
       "      <td>train</td>\n",
       "      <td>26.756667</td>\n",
       "      <td>80.973333</td>\n",
       "      <td>28</td>\n",
       "      <td>62</td>\n",
       "      <td>images/plume/20230225_methane_mixing_ratio_id_...</td>\n",
       "    </tr>\n",
       "    <tr>\n",
       "      <th>4</th>\n",
       "      <td>20230105</td>\n",
       "      <td>id_2012</td>\n",
       "      <td>yes</td>\n",
       "      <td>train</td>\n",
       "      <td>34.800000</td>\n",
       "      <td>40.770000</td>\n",
       "      <td>59</td>\n",
       "      <td>44</td>\n",
       "      <td>images/plume/20230105_methane_mixing_ratio_id_...</td>\n",
       "    </tr>\n",
       "  </tbody>\n",
       "</table>\n",
       "</div>"
      ],
      "text/plain": [
       "       date id_coord plume    set        lat         lon  coord_x  coord_y  \\\n",
       "0  20230223  id_6675   yes  train  31.528750   74.330625       24       47   \n",
       "1  20230103  id_2542   yes  train  35.538000  112.524000       42       37   \n",
       "2  20230301  id_6546   yes  train  21.060000   84.936667       58       15   \n",
       "3  20230225  id_6084   yes  train  26.756667   80.973333       28       62   \n",
       "4  20230105  id_2012   yes  train  34.800000   40.770000       59       44   \n",
       "\n",
       "                                                path  \n",
       "0  images/plume/20230223_methane_mixing_ratio_id_...  \n",
       "1  images/plume/20230103_methane_mixing_ratio_id_...  \n",
       "2  images/plume/20230301_methane_mixing_ratio_id_...  \n",
       "3  images/plume/20230225_methane_mixing_ratio_id_...  \n",
       "4  images/plume/20230105_methane_mixing_ratio_id_...  "
      ]
     },
     "execution_count": 9,
     "metadata": {},
     "output_type": "execute_result"
    }
   ],
   "source": [
    "meta_df.head()"
   ]
  },
  {
   "cell_type": "code",
   "execution_count": 10,
   "metadata": {},
   "outputs": [],
   "source": [
    "meta_df['path'] = 'data/dataset/train_data/' + meta_df['path'].astype(str) \n",
    "meta_df['path'] =  meta_df['path'].astype(str) +'.tif'"
   ]
  },
  {
   "cell_type": "code",
   "execution_count": 11,
   "metadata": {},
   "outputs": [
    {
     "data": {
      "text/html": [
       "<div>\n",
       "<style scoped>\n",
       "    .dataframe tbody tr th:only-of-type {\n",
       "        vertical-align: middle;\n",
       "    }\n",
       "\n",
       "    .dataframe tbody tr th {\n",
       "        vertical-align: top;\n",
       "    }\n",
       "\n",
       "    .dataframe thead th {\n",
       "        text-align: right;\n",
       "    }\n",
       "</style>\n",
       "<table border=\"1\" class=\"dataframe\">\n",
       "  <thead>\n",
       "    <tr style=\"text-align: right;\">\n",
       "      <th></th>\n",
       "      <th>date</th>\n",
       "      <th>id_coord</th>\n",
       "      <th>plume</th>\n",
       "      <th>set</th>\n",
       "      <th>lat</th>\n",
       "      <th>lon</th>\n",
       "      <th>coord_x</th>\n",
       "      <th>coord_y</th>\n",
       "      <th>path</th>\n",
       "    </tr>\n",
       "  </thead>\n",
       "  <tbody>\n",
       "    <tr>\n",
       "      <th>0</th>\n",
       "      <td>20230223</td>\n",
       "      <td>id_6675</td>\n",
       "      <td>yes</td>\n",
       "      <td>train</td>\n",
       "      <td>31.528750</td>\n",
       "      <td>74.330625</td>\n",
       "      <td>24</td>\n",
       "      <td>47</td>\n",
       "      <td>data/dataset/train_data/images/plume/20230223_...</td>\n",
       "    </tr>\n",
       "    <tr>\n",
       "      <th>1</th>\n",
       "      <td>20230103</td>\n",
       "      <td>id_2542</td>\n",
       "      <td>yes</td>\n",
       "      <td>train</td>\n",
       "      <td>35.538000</td>\n",
       "      <td>112.524000</td>\n",
       "      <td>42</td>\n",
       "      <td>37</td>\n",
       "      <td>data/dataset/train_data/images/plume/20230103_...</td>\n",
       "    </tr>\n",
       "    <tr>\n",
       "      <th>2</th>\n",
       "      <td>20230301</td>\n",
       "      <td>id_6546</td>\n",
       "      <td>yes</td>\n",
       "      <td>train</td>\n",
       "      <td>21.060000</td>\n",
       "      <td>84.936667</td>\n",
       "      <td>58</td>\n",
       "      <td>15</td>\n",
       "      <td>data/dataset/train_data/images/plume/20230301_...</td>\n",
       "    </tr>\n",
       "    <tr>\n",
       "      <th>3</th>\n",
       "      <td>20230225</td>\n",
       "      <td>id_6084</td>\n",
       "      <td>yes</td>\n",
       "      <td>train</td>\n",
       "      <td>26.756667</td>\n",
       "      <td>80.973333</td>\n",
       "      <td>28</td>\n",
       "      <td>62</td>\n",
       "      <td>data/dataset/train_data/images/plume/20230225_...</td>\n",
       "    </tr>\n",
       "    <tr>\n",
       "      <th>4</th>\n",
       "      <td>20230105</td>\n",
       "      <td>id_2012</td>\n",
       "      <td>yes</td>\n",
       "      <td>train</td>\n",
       "      <td>34.800000</td>\n",
       "      <td>40.770000</td>\n",
       "      <td>59</td>\n",
       "      <td>44</td>\n",
       "      <td>data/dataset/train_data/images/plume/20230105_...</td>\n",
       "    </tr>\n",
       "    <tr>\n",
       "      <th>...</th>\n",
       "      <td>...</td>\n",
       "      <td>...</td>\n",
       "      <td>...</td>\n",
       "      <td>...</td>\n",
       "      <td>...</td>\n",
       "      <td>...</td>\n",
       "      <td>...</td>\n",
       "      <td>...</td>\n",
       "      <td>...</td>\n",
       "    </tr>\n",
       "    <tr>\n",
       "      <th>425</th>\n",
       "      <td>20230302</td>\n",
       "      <td>id_6658</td>\n",
       "      <td>no</td>\n",
       "      <td>train</td>\n",
       "      <td>30.965619</td>\n",
       "      <td>34.541283</td>\n",
       "      <td>39</td>\n",
       "      <td>36</td>\n",
       "      <td>data/dataset/train_data/images/no_plume/202303...</td>\n",
       "    </tr>\n",
       "    <tr>\n",
       "      <th>426</th>\n",
       "      <td>20230218</td>\n",
       "      <td>id_4690</td>\n",
       "      <td>no</td>\n",
       "      <td>train</td>\n",
       "      <td>35.950275</td>\n",
       "      <td>40.267652</td>\n",
       "      <td>29</td>\n",
       "      <td>28</td>\n",
       "      <td>data/dataset/train_data/images/no_plume/202302...</td>\n",
       "    </tr>\n",
       "    <tr>\n",
       "      <th>427</th>\n",
       "      <td>20230213</td>\n",
       "      <td>id_2519</td>\n",
       "      <td>no</td>\n",
       "      <td>train</td>\n",
       "      <td>49.963801</td>\n",
       "      <td>6.016938</td>\n",
       "      <td>23</td>\n",
       "      <td>10</td>\n",
       "      <td>data/dataset/train_data/images/no_plume/202302...</td>\n",
       "    </tr>\n",
       "    <tr>\n",
       "      <th>428</th>\n",
       "      <td>20230213</td>\n",
       "      <td>id_5510</td>\n",
       "      <td>no</td>\n",
       "      <td>train</td>\n",
       "      <td>32.713854</td>\n",
       "      <td>44.609398</td>\n",
       "      <td>55</td>\n",
       "      <td>54</td>\n",
       "      <td>data/dataset/train_data/images/no_plume/202302...</td>\n",
       "    </tr>\n",
       "    <tr>\n",
       "      <th>429</th>\n",
       "      <td>20230330</td>\n",
       "      <td>id_6609</td>\n",
       "      <td>no</td>\n",
       "      <td>train</td>\n",
       "      <td>47.758979</td>\n",
       "      <td>27.801630</td>\n",
       "      <td>21</td>\n",
       "      <td>15</td>\n",
       "      <td>data/dataset/train_data/images/no_plume/202303...</td>\n",
       "    </tr>\n",
       "  </tbody>\n",
       "</table>\n",
       "<p>430 rows × 9 columns</p>\n",
       "</div>"
      ],
      "text/plain": [
       "         date id_coord plume    set        lat         lon  coord_x  coord_y  \\\n",
       "0    20230223  id_6675   yes  train  31.528750   74.330625       24       47   \n",
       "1    20230103  id_2542   yes  train  35.538000  112.524000       42       37   \n",
       "2    20230301  id_6546   yes  train  21.060000   84.936667       58       15   \n",
       "3    20230225  id_6084   yes  train  26.756667   80.973333       28       62   \n",
       "4    20230105  id_2012   yes  train  34.800000   40.770000       59       44   \n",
       "..        ...      ...   ...    ...        ...         ...      ...      ...   \n",
       "425  20230302  id_6658    no  train  30.965619   34.541283       39       36   \n",
       "426  20230218  id_4690    no  train  35.950275   40.267652       29       28   \n",
       "427  20230213  id_2519    no  train  49.963801    6.016938       23       10   \n",
       "428  20230213  id_5510    no  train  32.713854   44.609398       55       54   \n",
       "429  20230330  id_6609    no  train  47.758979   27.801630       21       15   \n",
       "\n",
       "                                                  path  \n",
       "0    data/dataset/train_data/images/plume/20230223_...  \n",
       "1    data/dataset/train_data/images/plume/20230103_...  \n",
       "2    data/dataset/train_data/images/plume/20230301_...  \n",
       "3    data/dataset/train_data/images/plume/20230225_...  \n",
       "4    data/dataset/train_data/images/plume/20230105_...  \n",
       "..                                                 ...  \n",
       "425  data/dataset/train_data/images/no_plume/202303...  \n",
       "426  data/dataset/train_data/images/no_plume/202302...  \n",
       "427  data/dataset/train_data/images/no_plume/202302...  \n",
       "428  data/dataset/train_data/images/no_plume/202302...  \n",
       "429  data/dataset/train_data/images/no_plume/202303...  \n",
       "\n",
       "[430 rows x 9 columns]"
      ]
     },
     "execution_count": 11,
     "metadata": {},
     "output_type": "execute_result"
    }
   ],
   "source": [
    "meta_df"
   ]
  },
  {
   "cell_type": "code",
   "execution_count": 12,
   "metadata": {},
   "outputs": [],
   "source": [
    "meta_df['plume'] = meta_df['plume'].map({'yes': 1, 'no': 0})"
   ]
  },
  {
   "cell_type": "code",
   "execution_count": 13,
   "metadata": {},
   "outputs": [
    {
     "data": {
      "text/html": [
       "<div>\n",
       "<style scoped>\n",
       "    .dataframe tbody tr th:only-of-type {\n",
       "        vertical-align: middle;\n",
       "    }\n",
       "\n",
       "    .dataframe tbody tr th {\n",
       "        vertical-align: top;\n",
       "    }\n",
       "\n",
       "    .dataframe thead th {\n",
       "        text-align: right;\n",
       "    }\n",
       "</style>\n",
       "<table border=\"1\" class=\"dataframe\">\n",
       "  <thead>\n",
       "    <tr style=\"text-align: right;\">\n",
       "      <th></th>\n",
       "      <th>date</th>\n",
       "      <th>id_coord</th>\n",
       "      <th>plume</th>\n",
       "      <th>set</th>\n",
       "      <th>lat</th>\n",
       "      <th>lon</th>\n",
       "      <th>coord_x</th>\n",
       "      <th>coord_y</th>\n",
       "      <th>path</th>\n",
       "    </tr>\n",
       "  </thead>\n",
       "  <tbody>\n",
       "    <tr>\n",
       "      <th>0</th>\n",
       "      <td>20230223</td>\n",
       "      <td>id_6675</td>\n",
       "      <td>1</td>\n",
       "      <td>train</td>\n",
       "      <td>31.528750</td>\n",
       "      <td>74.330625</td>\n",
       "      <td>24</td>\n",
       "      <td>47</td>\n",
       "      <td>data/dataset/train_data/images/plume/20230223_...</td>\n",
       "    </tr>\n",
       "    <tr>\n",
       "      <th>1</th>\n",
       "      <td>20230103</td>\n",
       "      <td>id_2542</td>\n",
       "      <td>1</td>\n",
       "      <td>train</td>\n",
       "      <td>35.538000</td>\n",
       "      <td>112.524000</td>\n",
       "      <td>42</td>\n",
       "      <td>37</td>\n",
       "      <td>data/dataset/train_data/images/plume/20230103_...</td>\n",
       "    </tr>\n",
       "    <tr>\n",
       "      <th>2</th>\n",
       "      <td>20230301</td>\n",
       "      <td>id_6546</td>\n",
       "      <td>1</td>\n",
       "      <td>train</td>\n",
       "      <td>21.060000</td>\n",
       "      <td>84.936667</td>\n",
       "      <td>58</td>\n",
       "      <td>15</td>\n",
       "      <td>data/dataset/train_data/images/plume/20230301_...</td>\n",
       "    </tr>\n",
       "    <tr>\n",
       "      <th>3</th>\n",
       "      <td>20230225</td>\n",
       "      <td>id_6084</td>\n",
       "      <td>1</td>\n",
       "      <td>train</td>\n",
       "      <td>26.756667</td>\n",
       "      <td>80.973333</td>\n",
       "      <td>28</td>\n",
       "      <td>62</td>\n",
       "      <td>data/dataset/train_data/images/plume/20230225_...</td>\n",
       "    </tr>\n",
       "    <tr>\n",
       "      <th>4</th>\n",
       "      <td>20230105</td>\n",
       "      <td>id_2012</td>\n",
       "      <td>1</td>\n",
       "      <td>train</td>\n",
       "      <td>34.800000</td>\n",
       "      <td>40.770000</td>\n",
       "      <td>59</td>\n",
       "      <td>44</td>\n",
       "      <td>data/dataset/train_data/images/plume/20230105_...</td>\n",
       "    </tr>\n",
       "    <tr>\n",
       "      <th>...</th>\n",
       "      <td>...</td>\n",
       "      <td>...</td>\n",
       "      <td>...</td>\n",
       "      <td>...</td>\n",
       "      <td>...</td>\n",
       "      <td>...</td>\n",
       "      <td>...</td>\n",
       "      <td>...</td>\n",
       "      <td>...</td>\n",
       "    </tr>\n",
       "    <tr>\n",
       "      <th>425</th>\n",
       "      <td>20230302</td>\n",
       "      <td>id_6658</td>\n",
       "      <td>0</td>\n",
       "      <td>train</td>\n",
       "      <td>30.965619</td>\n",
       "      <td>34.541283</td>\n",
       "      <td>39</td>\n",
       "      <td>36</td>\n",
       "      <td>data/dataset/train_data/images/no_plume/202303...</td>\n",
       "    </tr>\n",
       "    <tr>\n",
       "      <th>426</th>\n",
       "      <td>20230218</td>\n",
       "      <td>id_4690</td>\n",
       "      <td>0</td>\n",
       "      <td>train</td>\n",
       "      <td>35.950275</td>\n",
       "      <td>40.267652</td>\n",
       "      <td>29</td>\n",
       "      <td>28</td>\n",
       "      <td>data/dataset/train_data/images/no_plume/202302...</td>\n",
       "    </tr>\n",
       "    <tr>\n",
       "      <th>427</th>\n",
       "      <td>20230213</td>\n",
       "      <td>id_2519</td>\n",
       "      <td>0</td>\n",
       "      <td>train</td>\n",
       "      <td>49.963801</td>\n",
       "      <td>6.016938</td>\n",
       "      <td>23</td>\n",
       "      <td>10</td>\n",
       "      <td>data/dataset/train_data/images/no_plume/202302...</td>\n",
       "    </tr>\n",
       "    <tr>\n",
       "      <th>428</th>\n",
       "      <td>20230213</td>\n",
       "      <td>id_5510</td>\n",
       "      <td>0</td>\n",
       "      <td>train</td>\n",
       "      <td>32.713854</td>\n",
       "      <td>44.609398</td>\n",
       "      <td>55</td>\n",
       "      <td>54</td>\n",
       "      <td>data/dataset/train_data/images/no_plume/202302...</td>\n",
       "    </tr>\n",
       "    <tr>\n",
       "      <th>429</th>\n",
       "      <td>20230330</td>\n",
       "      <td>id_6609</td>\n",
       "      <td>0</td>\n",
       "      <td>train</td>\n",
       "      <td>47.758979</td>\n",
       "      <td>27.801630</td>\n",
       "      <td>21</td>\n",
       "      <td>15</td>\n",
       "      <td>data/dataset/train_data/images/no_plume/202303...</td>\n",
       "    </tr>\n",
       "  </tbody>\n",
       "</table>\n",
       "<p>430 rows × 9 columns</p>\n",
       "</div>"
      ],
      "text/plain": [
       "         date id_coord  plume    set        lat         lon  coord_x  coord_y  \\\n",
       "0    20230223  id_6675      1  train  31.528750   74.330625       24       47   \n",
       "1    20230103  id_2542      1  train  35.538000  112.524000       42       37   \n",
       "2    20230301  id_6546      1  train  21.060000   84.936667       58       15   \n",
       "3    20230225  id_6084      1  train  26.756667   80.973333       28       62   \n",
       "4    20230105  id_2012      1  train  34.800000   40.770000       59       44   \n",
       "..        ...      ...    ...    ...        ...         ...      ...      ...   \n",
       "425  20230302  id_6658      0  train  30.965619   34.541283       39       36   \n",
       "426  20230218  id_4690      0  train  35.950275   40.267652       29       28   \n",
       "427  20230213  id_2519      0  train  49.963801    6.016938       23       10   \n",
       "428  20230213  id_5510      0  train  32.713854   44.609398       55       54   \n",
       "429  20230330  id_6609      0  train  47.758979   27.801630       21       15   \n",
       "\n",
       "                                                  path  \n",
       "0    data/dataset/train_data/images/plume/20230223_...  \n",
       "1    data/dataset/train_data/images/plume/20230103_...  \n",
       "2    data/dataset/train_data/images/plume/20230301_...  \n",
       "3    data/dataset/train_data/images/plume/20230225_...  \n",
       "4    data/dataset/train_data/images/plume/20230105_...  \n",
       "..                                                 ...  \n",
       "425  data/dataset/train_data/images/no_plume/202303...  \n",
       "426  data/dataset/train_data/images/no_plume/202302...  \n",
       "427  data/dataset/train_data/images/no_plume/202302...  \n",
       "428  data/dataset/train_data/images/no_plume/202302...  \n",
       "429  data/dataset/train_data/images/no_plume/202303...  \n",
       "\n",
       "[430 rows x 9 columns]"
      ]
     },
     "execution_count": 13,
     "metadata": {},
     "output_type": "execute_result"
    }
   ],
   "source": [
    "meta_df"
   ]
  },
  {
   "cell_type": "code",
   "execution_count": 14,
   "metadata": {},
   "outputs": [
    {
     "name": "stderr",
     "output_type": "stream",
     "text": [
      "c:\\Users\\Rehan Ibrahim\\AppData\\Local\\Programs\\Python\\Python310\\lib\\site-packages\\rasterio\\__init__.py:320: NotGeoreferencedWarning: Dataset has no geotransform, gcps, or rpcs. The identity matrix will be returned.\n",
      "  dataset = DatasetReader(path, driver=driver, sharing=sharing, **kwargs)\n"
     ]
    },
    {
     "data": {
      "image/png": "[encoded data removed]",
      "text/plain": [
       "<Figure size 1200x1200 with 2 Axes>"
      ]
     },
     "metadata": {},
     "output_type": "display_data"
    },
    {
     "data": {
      "text/plain": [
       "<AxesSubplot: >"
      ]
     },
     "execution_count": 14,
     "metadata": {},
     "output_type": "execute_result"
    }
   ],
   "source": [
    "with rasterio.open('data/dataset/train_data/images/plume/20230223_methane_mixing_ratio_id_6675.tif') as src:\n",
    "    img = src.read(1)\n",
    "ep.plot_bands(img)"
   ]
  },
  {
   "cell_type": "code",
   "execution_count": 16,
   "metadata": {},
   "outputs": [],
   "source": [
    "image_data = []\n",
    "plume_labels = []\n",
    "\n",
    "# Loop through the metadata and load images\n",
    "for index, row in meta_df.iterrows():\n",
    "    image_path = row['path']\n",
    "    plume_label = row['plume']\n",
    "\n",
    "    # Read the TIFF image using rasterio\n",
    "    try:\n",
    "        with rasterio.open(image_path) as src:\n",
    "            image = src.read(1)  # Assuming single-band image, adjust if necessary\n",
    "            # You may want to resize or preprocess the image here if necessary\n",
    "\n",
    "        # Append the image data and plume label to their respective lists\n",
    "        image_data.append(image)\n",
    "        plume_labels.append(plume_label)\n",
    "    except Exception as e:\n",
    "        print(f\"Error loading image at {image_path}: {e}\")\n",
    "\n",
    "# Convert the lists into NumPy arrays\n",
    "image_data = np.array(image_data)\n",
    "plume_labels = np.array(plume_labels)"
   ]
  },
  {
   "cell_type": "code",
   "execution_count": 17,
   "metadata": {},
   "outputs": [
    {
     "data": {
      "text/plain": [
       "array([1, 1, 1, 1, 1, 1, 1, 1, 1, 1, 1, 1, 1, 1, 1, 1, 1, 1, 1, 1, 1, 1,\n",
       "       1, 1, 1, 1, 1, 1, 1, 1, 1, 1, 1, 1, 1, 1, 1, 1, 1, 1, 1, 1, 1, 1,\n",
       "       1, 1, 1, 1, 1, 1, 1, 1, 1, 1, 1, 1, 1, 1, 1, 1, 1, 1, 1, 1, 1, 1,\n",
       "       1, 1, 1, 1, 1, 1, 1, 1, 1, 1, 1, 1, 1, 1, 1, 1, 1, 1, 1, 1, 1, 1,\n",
       "       1, 1, 1, 1, 1, 1, 1, 1, 1, 1, 1, 1, 1, 1, 1, 1, 1, 1, 1, 1, 1, 1,\n",
       "       1, 1, 1, 1, 1, 1, 1, 1, 1, 1, 1, 1, 1, 1, 1, 1, 1, 1, 1, 1, 1, 1,\n",
       "       1, 1, 1, 1, 1, 1, 1, 1, 1, 1, 1, 1, 1, 1, 1, 1, 1, 1, 1, 1, 1, 1,\n",
       "       1, 1, 1, 1, 1, 1, 1, 1, 1, 1, 1, 1, 1, 1, 1, 1, 1, 1, 1, 1, 1, 1,\n",
       "       1, 1, 1, 1, 1, 1, 1, 1, 1, 1, 1, 1, 1, 1, 1, 1, 1, 1, 1, 1, 1, 1,\n",
       "       1, 1, 1, 1, 1, 1, 1, 1, 1, 1, 1, 1, 1, 1, 1, 1, 1, 1, 0, 0, 0, 0,\n",
       "       0, 0, 0, 0, 0, 0, 0, 0, 0, 0, 0, 0, 0, 0, 0, 0, 0, 0, 0, 0, 0, 0,\n",
       "       0, 0, 0, 0, 0, 0, 0, 0, 0, 0, 0, 0, 0, 0, 0, 0, 0, 0, 0, 0, 0, 0,\n",
       "       0, 0, 0, 0, 0, 0, 0, 0, 0, 0, 0, 0, 0, 0, 0, 0, 0, 0, 0, 0, 0, 0,\n",
       "       0, 0, 0, 0, 0, 0, 0, 0, 0, 0, 0, 0, 0, 0, 0, 0, 0, 0, 0, 0, 0, 0,\n",
       "       0, 0, 0, 0, 0, 0, 0, 0, 0, 0, 0, 0, 0, 0, 0, 0, 0, 0, 0, 0, 0, 0,\n",
       "       0, 0, 0, 0, 0, 0, 0, 0, 0, 0, 0, 0, 0, 0, 0, 0, 0, 0, 0, 0, 0, 0,\n",
       "       0, 0, 0, 0, 0, 0, 0, 0, 0, 0, 0, 0, 0, 0, 0, 0, 0, 0, 0, 0, 0, 0,\n",
       "       0, 0, 0, 0, 0, 0, 0, 0, 0, 0, 0, 0, 0, 0, 0, 0, 0, 0, 0, 0, 0, 0,\n",
       "       0, 0, 0, 0, 0, 0, 0, 0, 0, 0, 0, 0, 0, 0, 0, 0, 0, 0, 0, 0, 0, 0,\n",
       "       0, 0, 0, 0, 0, 0, 0, 0, 0, 0, 0, 0])"
      ]
     },
     "execution_count": 17,
     "metadata": {},
     "output_type": "execute_result"
    }
   ],
   "source": [
    "plume_labels"
   ]
  },
  {
   "cell_type": "code",
   "execution_count": 18,
   "metadata": {},
   "outputs": [
    {
     "data": {
      "text/plain": [
       "array([[[15373, 23745, 23745, ...,     0,     0,     0],\n",
       "        [21083, 22849, 22849, ...,     0,     0,     0],\n",
       "        [21083, 22849, 22849, ...,     0,  3348,  3348],\n",
       "        ...,\n",
       "        [49287, 49287, 43637, ..., 22215, 29933, 29933],\n",
       "        [49287, 43637, 43637, ..., 13711, 14626, 14626],\n",
       "        [49834, 48903, 48903, ..., 13711, 14626, 14626]],\n",
       "\n",
       "       [[    0,     0,     0, ...,     0,     0,     0],\n",
       "        [ 6386, 11516,  1537, ...,     0,     0,     0],\n",
       "        [ 6386, 11516,  1537, ...,     0,     0,     0],\n",
       "        ...,\n",
       "        [ 3878,  6976,  6548, ...,     0,     0,     0],\n",
       "        [ 3878,  6976,  6548, ...,     0,     0,     0],\n",
       "        [ 4225,     0,  4100, ...,     0,     0,     0]],\n",
       "\n",
       "       [[14118,  9487,  9487, ..., 25601, 22138, 22138],\n",
       "        [16914,  5666,  5666, ..., 30095, 26363, 26363],\n",
       "        [16914,  5666,  5666, ..., 30095, 26363, 26363],\n",
       "        ...,\n",
       "        [14918, 14918, 16676, ..., 18546,     0,     0],\n",
       "        [14918, 14918, 16676, ..., 18546,     0,     0],\n",
       "        [    0,     0,     0, ...,  6638,     0,     0]],\n",
       "\n",
       "       ...,\n",
       "\n",
       "       [[42516, 41205, 45212, ..., 15059, 32915, 32915],\n",
       "        [    0, 48178, 45978, ..., 15059, 32915, 32915],\n",
       "        [    0, 48178, 45978, ..., 11351,  3934,  3934],\n",
       "        ...,\n",
       "        [    0,     0,     0, ...,     0,     0,     0],\n",
       "        [    0,     0,     0, ...,     0,     0,     0],\n",
       "        [    0,     0,     0, ...,     0,     0,     0]],\n",
       "\n",
       "       [[11184, 12509, 12509, ...,     0,     0,     0],\n",
       "        [11184, 12509, 12509, ...,     0,     0,     0],\n",
       "        [13173, 14030, 14030, ...,     0,     0,     0],\n",
       "        ...,\n",
       "        [27451, 27451, 27451, ...,     0,     0,     0],\n",
       "        [24843, 24843, 24843, ...,     0,     0,     0],\n",
       "        [24843, 24843, 24843, ...,     0,     0,     0]],\n",
       "\n",
       "       [[16737,     0,  7920, ..., 14995, 38241, 17538],\n",
       "        [15144, 16789, 24014, ..., 14995, 38241, 17538],\n",
       "        [15144, 16789, 24014, ...,  3623, 29676, 41046],\n",
       "        ...,\n",
       "        [    0,     0, 17724, ...,     0,     0,  1133],\n",
       "        [    0,     0, 17724, ..., 18202, 37727, 46228],\n",
       "        [    0,     0,  1945, ..., 18202, 37727, 46228]]], dtype=uint16)"
      ]
     },
     "execution_count": 18,
     "metadata": {},
     "output_type": "execute_result"
    }
   ],
   "source": [
    "image_data"
   ]
  },
  {
   "cell_type": "code",
   "execution_count": 19,
   "metadata": {},
   "outputs": [
    {
     "data": {
      "text/plain": [
       "array([[[0.23457694, 0.36232547, 0.36232547, ..., 0.        ,\n",
       "         0.        , 0.        ],\n",
       "        [0.32170596, 0.34865339, 0.34865339, ..., 0.        ,\n",
       "         0.        , 0.        ],\n",
       "        [0.32170596, 0.34865339, 0.34865339, ..., 0.        ,\n",
       "         0.05108721, 0.05108721],\n",
       "        ...,\n",
       "        [0.75207141, 0.75207141, 0.66585794, ..., 0.33897917,\n",
       "         0.4567483 , 0.4567483 ],\n",
       "        [0.75207141, 0.66585794, 0.66585794, ..., 0.20921645,\n",
       "         0.22317845, 0.22317845],\n",
       "        [0.7604181 , 0.74621195, 0.74621195, ..., 0.20921645,\n",
       "         0.22317845, 0.22317845]],\n",
       "\n",
       "       [[0.        , 0.        , 0.        , ..., 0.        ,\n",
       "         0.        , 0.        ],\n",
       "        [0.09744411, 0.1757229 , 0.02345312, ..., 0.        ,\n",
       "         0.        , 0.        ],\n",
       "        [0.09744411, 0.1757229 , 0.02345312, ..., 0.        ,\n",
       "         0.        , 0.        ],\n",
       "        ...,\n",
       "        [0.05917449, 0.10644694, 0.09991608, ..., 0.        ,\n",
       "         0.        , 0.        ],\n",
       "        [0.05917449, 0.10644694, 0.09991608, ..., 0.        ,\n",
       "         0.        , 0.        ],\n",
       "        [0.06446937, 0.        , 0.06256199, ..., 0.        ,\n",
       "         0.        , 0.        ]],\n",
       "\n",
       "       [[0.21542687, 0.14476234, 0.14476234, ..., 0.39064622,\n",
       "         0.33780423, 0.33780423],\n",
       "        [0.2580911 , 0.08645762, 0.08645762, ..., 0.45922026,\n",
       "         0.40227359, 0.40227359],\n",
       "        [0.2580911 , 0.08645762, 0.08645762, ..., 0.45922026,\n",
       "         0.40227359, 0.40227359],\n",
       "        ...,\n",
       "        [0.22763409, 0.22763409, 0.25445945, ..., 0.28299382,\n",
       "         0.        , 0.        ],\n",
       "        [0.22763409, 0.22763409, 0.25445945, ..., 0.28299382,\n",
       "         0.        , 0.        ],\n",
       "        [0.        , 0.        , 0.        , ..., 0.10128939,\n",
       "         0.        , 0.        ]],\n",
       "\n",
       "       ...,\n",
       "\n",
       "       [[0.64875257, 0.628748  , 0.6898909 , ..., 0.22978561,\n",
       "         0.50225071, 0.50225071],\n",
       "        [0.        , 0.73514916, 0.70157931, ..., 0.22978561,\n",
       "         0.50225071, 0.50225071],\n",
       "        [0.        , 0.73514916, 0.70157931, ..., 0.17320516,\n",
       "         0.06002899, 0.06002899],\n",
       "        ...,\n",
       "        [0.        , 0.        , 0.        , ..., 0.        ,\n",
       "         0.        , 0.        ],\n",
       "        [0.        , 0.        , 0.        , ..., 0.        ,\n",
       "         0.        , 0.        ],\n",
       "        [0.        , 0.        , 0.        , ..., 0.        ,\n",
       "         0.        , 0.        ]],\n",
       "\n",
       "       [[0.1706569 , 0.1908751 , 0.1908751 , ..., 0.        ,\n",
       "         0.        , 0.        ],\n",
       "        [0.1706569 , 0.1908751 , 0.1908751 , ..., 0.        ,\n",
       "         0.        , 0.        ],\n",
       "        [0.2010071 , 0.21408408, 0.21408408, ..., 0.        ,\n",
       "         0.        , 0.        ],\n",
       "        ...,\n",
       "        [0.41887541, 0.41887541, 0.41887541, ..., 0.        ,\n",
       "         0.        , 0.        ],\n",
       "        [0.37907988, 0.37907988, 0.37907988, ..., 0.        ,\n",
       "         0.        , 0.        ],\n",
       "        [0.37907988, 0.37907988, 0.37907988, ..., 0.        ,\n",
       "         0.        , 0.        ]],\n",
       "\n",
       "       [[0.25539025, 0.        , 0.12085145, ..., 0.22880903,\n",
       "         0.58352026, 0.26761273],\n",
       "        [0.23108263, 0.25618372, 0.36643015, ..., 0.22880903,\n",
       "         0.58352026, 0.26761273],\n",
       "        [0.23108263, 0.25618372, 0.36643015, ..., 0.05528344,\n",
       "         0.45282673, 0.62632181],\n",
       "        ...,\n",
       "        [0.        , 0.        , 0.2704509 , ..., 0.        ,\n",
       "         0.        , 0.01728847],\n",
       "        [0.        , 0.        , 0.2704509 , ..., 0.27774472,\n",
       "         0.57567712, 0.70539406],\n",
       "        [0.        , 0.        , 0.0296788 , ..., 0.27774472,\n",
       "         0.57567712, 0.70539406]]])"
      ]
     },
     "execution_count": 19,
     "metadata": {},
     "output_type": "execute_result"
    }
   ],
   "source": [
    "min_val = image_data.min()\n",
    "max_val = image_data.max()\n",
    "\n",
    "# Normalize the image data\n",
    "normalized_image_data = (image_data - min_val) / (max_val - min_val)\n",
    "normalized_image_data"
   ]
  },
  {
   "cell_type": "code",
   "execution_count": 20,
   "metadata": {},
   "outputs": [
    {
     "name": "stdout",
     "output_type": "stream",
     "text": [
      "X_train shape: (258, 64, 64)\n",
      "X_test shape: (172, 64, 64)\n"
     ]
    }
   ],
   "source": [
    "X = normalized_image_data\n",
    "y = plume_labels\n",
    "\n",
    "\n",
    "#X = [np.transpose(image, (1, 2, 0)) for image in X]\n",
    "\n",
    "#X = np.array(X)\n",
    "np.random.seed(101)\n",
    "X_train, X_test, y_train, y_test = train_test_split(X, y, test_size=0.4, random_state=42,shuffle=True)\n",
    "\n",
    "print(\"X_train shape:\", X_train.shape)\n",
    "print(\"X_test shape:\", X_test.shape)"
   ]
  },
  {
   "cell_type": "code",
   "execution_count": 21,
   "metadata": {},
   "outputs": [
    {
     "data": {
      "text/plain": [
       "array([1, 0, 0, 1, 1, 1, 0, 1, 1, 0, 0, 1, 0, 0, 0, 1, 0, 1, 0, 1, 1, 1,\n",
       "       1, 1, 1, 0, 1, 1, 1, 0, 0, 1, 0, 1, 1, 1, 1, 1, 0, 1, 1, 1, 0, 0,\n",
       "       0, 0, 0, 0, 0, 1, 1, 0, 0, 0, 1, 0, 0, 0, 0, 0, 0, 0, 1, 0, 0, 0,\n",
       "       0, 1, 1, 1, 0, 1, 0, 0, 1, 1, 0, 0, 0, 0, 1, 0, 0, 0, 0, 0, 0, 1,\n",
       "       1, 1, 0, 0, 1, 1, 0, 0, 0, 1, 0, 1, 0, 1, 0, 1, 0, 1, 1, 0, 1, 1,\n",
       "       1, 1, 1, 1, 1, 0, 0, 0, 1, 1, 0, 0, 0, 1, 1, 0, 1, 0, 0, 0, 1, 0,\n",
       "       0, 1, 0, 0, 1, 1, 1, 0, 1, 1, 1, 1, 0, 1, 0, 1, 0, 0, 0, 0, 1, 0,\n",
       "       1, 1, 1, 1, 1, 0, 1, 0, 1, 1, 1, 0, 0, 0, 0, 0, 0, 0, 1, 1, 0, 0,\n",
       "       0, 0, 0, 0, 0, 0, 1, 1, 1, 0, 1, 0, 0, 1, 1, 1, 0, 1, 1, 1, 1, 0,\n",
       "       0, 1, 0, 1, 0, 0, 0, 1, 0, 1, 0, 1, 0, 0, 1, 0, 0, 0, 0, 1, 0, 1,\n",
       "       1, 1, 0, 1, 1, 1, 1, 0, 0, 0, 1, 0, 1, 0, 1, 0, 0, 0, 0, 0, 1, 1,\n",
       "       1, 0, 1, 0, 1, 0, 1, 1, 0, 1, 1, 1, 1, 0, 0, 1])"
      ]
     },
     "execution_count": 21,
     "metadata": {},
     "output_type": "execute_result"
    }
   ],
   "source": [
    "y_train"
   ]
  },
  {
   "cell_type": "markdown",
   "metadata": {},
   "source": [
    "# Data Augmentation"
   ]
  },
  {
   "cell_type": "code",
   "execution_count": 69,
   "metadata": {},
   "outputs": [],
   "source": [
    "datagen = ImageDataGenerator(\n",
    "    rotation_range=10,\n",
    "    width_shift_range=0.1,\n",
    "    height_shift_range=0.1,\n",
    "    shear_range=0.2,\n",
    "    horizontal_flip=True,\n",
    "    fill_mode='nearest'\n",
    ")\n",
    "X_train = X_train.reshape(-1,64,64,1)\n",
    "batch_size=64\n",
    "steps_per_epoch = len(X_train) // batch_size\n",
    "# Fit the data augmentation generator to your training data\n",
    "datagen.fit(X_train)\n",
    "\n",
    "augmented_images = []\n",
    "augmented_labels = []\n",
    "\n",
    "# Generate augmented images and labels\n",
    "for X_batch, y_batch in datagen.flow(X_train, y_train, batch_size=batch_size,shuffle=True):\n",
    "    augmented_images.append(X_batch)\n",
    "    augmented_labels.append(y_batch)\n",
    "    if len(augmented_images) >= len(X_train):\n",
    "        break\n",
    "\n",
    "X_train_augmented = np.concatenate(augmented_images)\n",
    "y_train_augmented = np.concatenate(augmented_labels)\n",
    "\n",
    "y_train_augmented = y_train_augmented.astype(int)"
   ]
  },
  {
   "cell_type": "markdown",
   "metadata": {},
   "source": [
    "# Model 1(Pilot)"
   ]
  },
  {
   "cell_type": "code",
   "execution_count": 82,
   "metadata": {},
   "outputs": [],
   "source": [
    "from sklearn import metrics\n",
    "from keras import backend as K\n",
    "\n",
    "def auc(y_true, y_pred):\n",
    "    auc = tf.metrics.auc(y_true, y_pred)[1]\n",
    "    K.get_session().run(tf.local_variables_initializer())\n",
    "    return auc"
   ]
  },
  {
   "cell_type": "code",
   "execution_count": 85,
   "metadata": {},
   "outputs": [
    {
     "name": "stdout",
     "output_type": "stream",
     "text": [
      "Model: \"sequential_6\"\n",
      "_________________________________________________________________\n",
      " Layer (type)                Output Shape              Param #   \n",
      "=================================================================\n",
      " conv2d_15 (Conv2D)          (None, 62, 62, 32)        320       \n",
      "                                                                 \n",
      " max_pooling2d_15 (MaxPooli  (None, 31, 31, 32)        0         \n",
      " ng2D)                                                           \n",
      "                                                                 \n",
      " conv2d_16 (Conv2D)          (None, 29, 29, 64)        18496     \n",
      "                                                                 \n",
      " max_pooling2d_16 (MaxPooli  (None, 14, 14, 64)        0         \n",
      " ng2D)                                                           \n",
      "                                                                 \n",
      " conv2d_17 (Conv2D)          (None, 12, 12, 128)       73856     \n",
      "                                                                 \n",
      " max_pooling2d_17 (MaxPooli  (None, 6, 6, 128)         0         \n",
      " ng2D)                                                           \n",
      "                                                                 \n",
      " flatten_6 (Flatten)         (None, 4608)              0         \n",
      "                                                                 \n",
      " dense_18 (Dense)            (None, 128)               589952    \n",
      "                                                                 \n",
      " dropout_12 (Dropout)        (None, 128)               0         \n",
      "                                                                 \n",
      " dense_19 (Dense)            (None, 64)                8256      \n",
      "                                                                 \n",
      " dropout_13 (Dropout)        (None, 64)                0         \n",
      "                                                                 \n",
      " dense_20 (Dense)            (None, 1)                 65        \n",
      "                                                                 \n",
      "=================================================================\n",
      "Total params: 690945 (2.64 MB)\n",
      "Trainable params: 690945 (2.64 MB)\n",
      "Non-trainable params: 0 (0.00 Byte)\n",
      "_________________________________________________________________\n"
     ]
    }
   ],
   "source": [
    "import tensorflow as tf\n",
    "from tensorflow.keras import layers\n",
    "\n",
    "# Set the random seed for reproducibility\n",
    "tf.random.set_seed(1234)\n",
    "\n",
    "# Define the CNN model\n",
    "model = tf.keras.Sequential([\n",
    "    # Convolutional layers\n",
    "    layers.Conv2D(32, (3, 3), activation='relu', input_shape=(64, 64, 1)),\n",
    "    layers.MaxPooling2D((2, 2)),\n",
    "    layers.Conv2D(64, (3, 3), activation='relu'),\n",
    "    layers.MaxPooling2D((2, 2)),\n",
    "    layers.Conv2D(128, (3, 3), activation='relu'),\n",
    "    layers.MaxPooling2D((2, 2)),\n",
    "    \n",
    "    # Flatten the output for fully connected layers\n",
    "    layers.Flatten(),\n",
    "    \n",
    "    # Fully connected layers\n",
    "    layers.Dense(128, activation='relu'),\n",
    "    layers.Dropout(0.5),  \n",
    "    layers.Dense(64, activation='relu'),\n",
    "    layers.Dropout(0.5),\n",
    "    layers.Dense(1, activation='sigmoid')  # Use 'sigmoid' for binary classification\n",
    "])\n",
    "\n",
    "# Compile the model\n",
    "model.compile(optimizer='adam',\n",
    "              loss='binary_crossentropy',  # Use 'binary_crossentropy' for binary classification\n",
    "              metrics=[tf.keras.metrics.AUC()])\n",
    "\n",
    "# Print the model summary to view the architecture\n",
    "model.summary()\n",
    "\n",
    "# Define early stopping\n",
    "early_stopping = tf.keras.callbacks.EarlyStopping(\n",
    "    monitor='val_loss', \n",
    "    patience=5,           \n",
    "    restore_best_weights=True)\n"
   ]
  },
  {
   "cell_type": "code",
   "execution_count": 86,
   "metadata": {},
   "outputs": [
    {
     "name": "stdout",
     "output_type": "stream",
     "text": [
      "Epoch 1/100\n",
      "334/334 [==============================] - 37s 100ms/step - loss: 0.4728 - auc: 0.8560 - val_loss: 0.2680 - val_auc: 0.9586\n",
      "Epoch 2/100\n",
      "334/334 [==============================] - 32s 96ms/step - loss: 0.2089 - auc: 0.9729 - val_loss: 0.1444 - val_auc: 0.9911\n",
      "Epoch 3/100\n",
      "334/334 [==============================] - 32s 96ms/step - loss: 0.0943 - auc: 0.9939 - val_loss: 0.0568 - val_auc: 0.9990\n",
      "Epoch 4/100\n",
      "334/334 [==============================] - 32s 95ms/step - loss: 0.0461 - auc: 0.9982 - val_loss: 0.0418 - val_auc: 0.9983\n",
      "Epoch 5/100\n",
      "334/334 [==============================] - 32s 95ms/step - loss: 0.0380 - auc: 0.9987 - val_loss: 0.0706 - val_auc: 0.9952\n",
      "Epoch 6/100\n",
      "334/334 [==============================] - 31s 94ms/step - loss: 0.0297 - auc: 0.9993 - val_loss: 0.0269 - val_auc: 0.9996\n",
      "Epoch 7/100\n",
      "334/334 [==============================] - 31s 94ms/step - loss: 0.0283 - auc: 0.9993 - val_loss: 0.0211 - val_auc: 0.9997\n",
      "Epoch 8/100\n",
      "334/334 [==============================] - 31s 93ms/step - loss: 0.0240 - auc: 0.9991 - val_loss: 0.0500 - val_auc: 0.9979\n",
      "Epoch 9/100\n",
      "334/334 [==============================] - 32s 97ms/step - loss: 0.0286 - auc: 0.9987 - val_loss: 0.0425 - val_auc: 0.9989\n",
      "Epoch 10/100\n",
      "334/334 [==============================] - 32s 95ms/step - loss: 0.0125 - auc: 0.9998 - val_loss: 0.0326 - val_auc: 0.9979\n",
      "Epoch 11/100\n",
      "334/334 [==============================] - 32s 97ms/step - loss: 0.0215 - auc: 0.9994 - val_loss: 0.0645 - val_auc: 0.9962\n",
      "Epoch 12/100\n",
      "334/334 [==============================] - 32s 96ms/step - loss: 0.0238 - auc: 0.9991 - val_loss: 0.0265 - val_auc: 0.9989\n"
     ]
    },
    {
     "data": {
      "text/plain": [
       "<keras.src.callbacks.History at 0x19d09df48e0>"
      ]
     },
     "execution_count": 86,
     "metadata": {},
     "output_type": "execute_result"
    }
   ],
   "source": [
    "batch_size = 32\n",
    "epochs = 100\n",
    "model.fit(X_train_augmented,y_train_augmented, epochs=epochs, batch_size=batch_size, validation_split=0.2,callbacks=[early_stopping])"
   ]
  },
  {
   "cell_type": "code",
   "execution_count": 72,
   "metadata": {},
   "outputs": [
    {
     "name": "stderr",
     "output_type": "stream",
     "text": [
      "c:\\Users\\Rehan Ibrahim\\AppData\\Local\\Programs\\Python\\Python310\\lib\\site-packages\\keras\\src\\engine\\training.py:3079: UserWarning: You are saving your model as an HDF5 file via `model.save()`. This file format is considered legacy. We recommend using instead the native Keras format, e.g. `model.save('my_model.keras')`.\n",
      "  saving_api.save_model(\n"
     ]
    }
   ],
   "source": [
    "model.save(\"model/CNN_First_Model.h5\")"
   ]
  },
  {
   "cell_type": "code",
   "execution_count": 87,
   "metadata": {},
   "outputs": [
    {
     "name": "stdout",
     "output_type": "stream",
     "text": [
      "6/6 [==============================] - 0s 24ms/step\n"
     ]
    },
    {
     "data": {
      "text/plain": [
       "array([[2.2929227e-07],\n",
       "       [9.9898654e-01],\n",
       "       [5.7503808e-02],\n",
       "       [9.9999988e-01],\n",
       "       [2.1710357e-06],\n",
       "       [3.6265588e-01],\n",
       "       [1.0000000e+00],\n",
       "       [9.9999970e-01],\n",
       "       [9.9988967e-01],\n",
       "       [6.7789316e-01],\n",
       "       [1.6937511e-05],\n",
       "       [1.0560088e-08],\n",
       "       [5.0081834e-03],\n",
       "       [7.8054245e-06],\n",
       "       [7.5282037e-01],\n",
       "       [9.9886197e-01],\n",
       "       [8.1779152e-05],\n",
       "       [9.8308353e-03],\n",
       "       [9.9994397e-01],\n",
       "       [6.9796620e-08],\n",
       "       [2.6861702e-09],\n",
       "       [7.2335423e-12],\n",
       "       [3.3676208e-08],\n",
       "       [1.0000000e+00],\n",
       "       [1.2656397e-05],\n",
       "       [1.4431784e-02],\n",
       "       [1.0000000e+00],\n",
       "       [8.2363700e-13],\n",
       "       [1.6582788e-04],\n",
       "       [1.6036596e-11],\n",
       "       [9.9943066e-01],\n",
       "       [1.7120701e-10],\n",
       "       [1.0656968e-06],\n",
       "       [1.1139044e-02],\n",
       "       [1.0369749e-16],\n",
       "       [9.9999672e-01],\n",
       "       [9.9999094e-01],\n",
       "       [8.1162443e-24],\n",
       "       [6.5521221e-05],\n",
       "       [3.5080930e-07],\n",
       "       [3.1932274e-18],\n",
       "       [9.9997723e-01],\n",
       "       [9.9994045e-01],\n",
       "       [1.0000000e+00],\n",
       "       [9.9914759e-01],\n",
       "       [2.5709320e-02],\n",
       "       [1.2126537e-03],\n",
       "       [9.9585021e-01],\n",
       "       [9.8259419e-01],\n",
       "       [1.7182274e-06],\n",
       "       [9.9999154e-01],\n",
       "       [1.7128664e-04],\n",
       "       [9.9999005e-01],\n",
       "       [9.8597771e-01],\n",
       "       [9.9984962e-01],\n",
       "       [5.0125458e-08],\n",
       "       [3.3676208e-08],\n",
       "       [9.9259847e-01],\n",
       "       [1.0083229e-03],\n",
       "       [9.9999982e-01],\n",
       "       [9.9990833e-01],\n",
       "       [2.5777431e-04],\n",
       "       [8.8061529e-01],\n",
       "       [9.9984258e-01],\n",
       "       [1.6996206e-06],\n",
       "       [2.8919810e-02],\n",
       "       [6.5798100e-05],\n",
       "       [6.0102236e-01],\n",
       "       [9.9947256e-01],\n",
       "       [9.5599139e-01],\n",
       "       [9.9999988e-01],\n",
       "       [1.3448257e-08],\n",
       "       [9.9998444e-01],\n",
       "       [9.9894893e-01],\n",
       "       [4.3469634e-02],\n",
       "       [4.7238379e-07],\n",
       "       [7.5984395e-01],\n",
       "       [9.9999791e-01],\n",
       "       [9.9999660e-01],\n",
       "       [1.0000000e+00],\n",
       "       [9.8660034e-01],\n",
       "       [1.8879157e-11],\n",
       "       [9.9999982e-01],\n",
       "       [9.9999499e-01],\n",
       "       [9.9963957e-01],\n",
       "       [9.8294479e-01],\n",
       "       [9.9999666e-01],\n",
       "       [9.9999899e-01],\n",
       "       [1.0257253e-03],\n",
       "       [3.2419854e-01],\n",
       "       [9.9998796e-01],\n",
       "       [7.1019986e-16],\n",
       "       [9.9999976e-01],\n",
       "       [1.6278823e-04],\n",
       "       [2.4848191e-08],\n",
       "       [8.9677185e-01],\n",
       "       [9.9099833e-01],\n",
       "       [1.0412790e-06],\n",
       "       [9.9978256e-01],\n",
       "       [9.9999028e-01],\n",
       "       [5.7916372e-07],\n",
       "       [5.4185598e-06],\n",
       "       [7.7247764e-09],\n",
       "       [2.9598737e-06],\n",
       "       [9.9999154e-01],\n",
       "       [4.0006722e-09],\n",
       "       [9.4430864e-01],\n",
       "       [9.9014163e-02],\n",
       "       [1.0083229e-03],\n",
       "       [1.0000000e+00],\n",
       "       [5.2473649e-08],\n",
       "       [9.9236536e-01],\n",
       "       [2.4257716e-09],\n",
       "       [3.0873969e-01],\n",
       "       [8.4432769e-01],\n",
       "       [9.9150157e-01],\n",
       "       [6.5059920e-13],\n",
       "       [1.7216319e-03],\n",
       "       [9.9875230e-01],\n",
       "       [5.1398639e-04],\n",
       "       [9.9999768e-01],\n",
       "       [9.9999970e-01],\n",
       "       [1.0000000e+00],\n",
       "       [9.9997759e-01],\n",
       "       [2.7021734e-08],\n",
       "       [1.3219651e-03],\n",
       "       [9.9999630e-01],\n",
       "       [1.0000000e+00],\n",
       "       [1.5878162e-09],\n",
       "       [2.2799608e-05],\n",
       "       [9.9999881e-01],\n",
       "       [9.9990833e-01],\n",
       "       [9.9999982e-01],\n",
       "       [3.8587010e-01],\n",
       "       [4.6770545e-03],\n",
       "       [1.2409524e-02],\n",
       "       [7.1019986e-16],\n",
       "       [3.9890309e-12],\n",
       "       [4.1710630e-02],\n",
       "       [9.9912089e-01],\n",
       "       [9.9973470e-01],\n",
       "       [9.9968606e-01],\n",
       "       [4.0506003e-03],\n",
       "       [1.0000000e+00],\n",
       "       [2.7343123e-12],\n",
       "       [1.3701845e-04],\n",
       "       [4.4862831e-01],\n",
       "       [9.5766687e-01],\n",
       "       [1.0000000e+00],\n",
       "       [9.9999982e-01],\n",
       "       [1.0000000e+00],\n",
       "       [9.9999976e-01],\n",
       "       [9.9964476e-01],\n",
       "       [9.7820626e-18],\n",
       "       [1.7916493e-04],\n",
       "       [1.1069954e-09],\n",
       "       [9.9953067e-01],\n",
       "       [2.2866709e-02],\n",
       "       [6.9772112e-01],\n",
       "       [9.9926788e-01],\n",
       "       [2.1452636e-10],\n",
       "       [9.9972588e-01],\n",
       "       [9.9601686e-01],\n",
       "       [9.9999869e-01],\n",
       "       [1.8406381e-07],\n",
       "       [1.0649550e-12],\n",
       "       [1.5039623e-04],\n",
       "       [4.6822803e-11],\n",
       "       [7.7586272e-03],\n",
       "       [9.9813420e-01],\n",
       "       [1.7322433e-08],\n",
       "       [6.5798100e-05]], dtype=float32)"
      ]
     },
     "execution_count": 87,
     "metadata": {},
     "output_type": "execute_result"
    }
   ],
   "source": [
    "# Make predictions on the test dataset\n",
    "predictions = model.predict(X_test)\n",
    "predictions"
   ]
  },
  {
   "cell_type": "markdown",
   "metadata": {},
   "source": [
    "## Eval Metrics"
   ]
  },
  {
   "cell_type": "code",
   "execution_count": 88,
   "metadata": {},
   "outputs": [],
   "source": [
    "# Apply threshold to obtain binary predictions (0 or 1)\n",
    "threshold = 0.5\n",
    "binary_predictions = (predictions >= threshold).astype(int)"
   ]
  },
  {
   "cell_type": "code",
   "execution_count": 95,
   "metadata": {},
   "outputs": [
    {
     "data": {
      "text/plain": [
       "0.9366847826086955"
      ]
     },
     "execution_count": 95,
     "metadata": {},
     "output_type": "execute_result"
    }
   ],
   "source": [
    "from sklearn.metrics import roc_auc_score\n",
    "roc_auc_score(y_test,predictions)"
   ]
  },
  {
   "cell_type": "code",
   "execution_count": 99,
   "metadata": {},
   "outputs": [
    {
     "name": "stdout",
     "output_type": "stream",
     "text": [
      "Accuracy: 85.47%\n"
     ]
    }
   ],
   "source": [
    "accuracy = accuracy_score(y_test, binary_predictions)\n",
    "print(f\"Accuracy: {accuracy*100:.2f}%\")"
   ]
  },
  {
   "cell_type": "code",
   "execution_count": 100,
   "metadata": {},
   "outputs": [
    {
     "data": {
      "text/plain": [
       "(array([82.,  0.,  0.,  4.,  1.,  0.,  3.,  2.,  3., 77.]),\n",
       " array([8.11624433e-24, 1.00000001e-01, 2.00000003e-01, 3.00000012e-01,\n",
       "        4.00000006e-01, 5.00000000e-01, 6.00000024e-01, 6.99999988e-01,\n",
       "        8.00000012e-01, 8.99999976e-01, 1.00000000e+00]),\n",
       " <BarContainer object of 10 artists>)"
      ]
     },
     "execution_count": 100,
     "metadata": {},
     "output_type": "execute_result"
    },
    {
     "data": {
      "image/png": "[encoded data removed]",
      "text/plain": [
       "<Figure size 640x480 with 1 Axes>"
      ]
     },
     "metadata": {},
     "output_type": "display_data"
    }
   ],
   "source": [
    "plt.hist(predictions.squeeze())"
   ]
  },
  {
   "cell_type": "code",
   "execution_count": 101,
   "metadata": {},
   "outputs": [
    {
     "data": {
      "text/plain": [
       "array([71,  9, 16, 76], dtype=int64)"
      ]
     },
     "execution_count": 101,
     "metadata": {},
     "output_type": "execute_result"
    }
   ],
   "source": [
    "confusion_matrix(y_test, binary_predictions).ravel()"
   ]
  },
  {
   "cell_type": "code",
   "execution_count": 102,
   "metadata": {},
   "outputs": [],
   "source": [
    "tn,fp,fn,tp = confusion_matrix(y_test, binary_predictions).ravel()"
   ]
  },
  {
   "cell_type": "code",
   "execution_count": 104,
   "metadata": {},
   "outputs": [
    {
     "name": "stdout",
     "output_type": "stream",
     "text": [
      "Classification Report:\n",
      "              precision    recall  f1-score   support\n",
      "\n",
      "           0       0.82      0.89      0.85        80\n",
      "           1       0.89      0.83      0.86        92\n",
      "\n",
      "    accuracy                           0.85       172\n",
      "   macro avg       0.86      0.86      0.85       172\n",
      "weighted avg       0.86      0.85      0.85       172\n",
      "\n"
     ]
    }
   ],
   "source": [
    "class_report = classification_report(y_test, binary_predictions)\n",
    "print(\"Classification Report:\")\n",
    "print(class_report)"
   ]
  },
  {
   "cell_type": "code",
   "execution_count": 105,
   "metadata": {},
   "outputs": [
    {
     "data": {
      "text/plain": [
       "0    87\n",
       "1    85\n",
       "dtype: int64"
      ]
     },
     "execution_count": 105,
     "metadata": {},
     "output_type": "execute_result"
    }
   ],
   "source": [
    "pd.Series(binary_predictions.squeeze()).value_counts()"
   ]
  },
  {
   "cell_type": "markdown",
   "metadata": {},
   "source": [
    "# Test Datasets"
   ]
  },
  {
   "cell_type": "markdown",
   "metadata": {},
   "source": [
    "## Loading"
   ]
  },
  {
   "cell_type": "code",
   "execution_count": 106,
   "metadata": {},
   "outputs": [
    {
     "name": "stdout",
     "output_type": "stream",
     "text": [
      "0      data/dataset/test_data/images\\20230101_methane...\n",
      "1      data/dataset/test_data/images\\20230101_methane...\n",
      "2      data/dataset/test_data/images\\20230101_methane...\n",
      "3      data/dataset/test_data/images\\20230103_methane...\n",
      "4      data/dataset/test_data/images\\20230103_methane...\n",
      "                             ...                        \n",
      "103    data/dataset/test_data/images\\20230404_methane...\n",
      "104    data/dataset/test_data/images\\20230404_methane...\n",
      "105    data/dataset/test_data/images\\20230405_methane...\n",
      "106    data/dataset/test_data/images\\20230405_methane...\n",
      "107    data/dataset/test_data/images\\20230406_methane...\n",
      "Length: 108, dtype: object\n"
     ]
    }
   ],
   "source": [
    "# Specify the path to the folder containing TIFF files\n",
    "folder_path = \"data/dataset/test_data/images/\"\n",
    "\n",
    "# Use glob to get a list of TIFF files in the folder\n",
    "tiff_files = glob.glob(folder_path + \"/*.tif\")\n",
    "\n",
    "# Create a Pandas Series from the list of file paths\n",
    "file_series = pd.Series(tiff_files)\n",
    "\n",
    "# Display the Pandas Series\n",
    "print(file_series)"
   ]
  },
  {
   "cell_type": "code",
   "execution_count": 107,
   "metadata": {},
   "outputs": [
    {
     "data": {
      "text/html": [
       "<div>\n",
       "<style scoped>\n",
       "    .dataframe tbody tr th:only-of-type {\n",
       "        vertical-align: middle;\n",
       "    }\n",
       "\n",
       "    .dataframe tbody tr th {\n",
       "        vertical-align: top;\n",
       "    }\n",
       "\n",
       "    .dataframe thead th {\n",
       "        text-align: right;\n",
       "    }\n",
       "</style>\n",
       "<table border=\"1\" class=\"dataframe\">\n",
       "  <thead>\n",
       "    <tr style=\"text-align: right;\">\n",
       "      <th></th>\n",
       "      <th>date</th>\n",
       "      <th>id_coord</th>\n",
       "      <th>lat</th>\n",
       "      <th>lon</th>\n",
       "      <th>coord_x</th>\n",
       "      <th>coord_y</th>\n",
       "    </tr>\n",
       "  </thead>\n",
       "  <tbody>\n",
       "    <tr>\n",
       "      <th>0</th>\n",
       "      <td>20230213</td>\n",
       "      <td>id_6148</td>\n",
       "      <td>23.437500</td>\n",
       "      <td>90.645000</td>\n",
       "      <td>54</td>\n",
       "      <td>10</td>\n",
       "    </tr>\n",
       "    <tr>\n",
       "      <th>1</th>\n",
       "      <td>20230206</td>\n",
       "      <td>id_3348</td>\n",
       "      <td>33.513333</td>\n",
       "      <td>-87.203333</td>\n",
       "      <td>31</td>\n",
       "      <td>55</td>\n",
       "    </tr>\n",
       "    <tr>\n",
       "      <th>2</th>\n",
       "      <td>20230121</td>\n",
       "      <td>id_3733</td>\n",
       "      <td>26.424286</td>\n",
       "      <td>80.284286</td>\n",
       "      <td>33</td>\n",
       "      <td>44</td>\n",
       "    </tr>\n",
       "    <tr>\n",
       "      <th>3</th>\n",
       "      <td>20230204</td>\n",
       "      <td>id_5491</td>\n",
       "      <td>30.246667</td>\n",
       "      <td>71.483333</td>\n",
       "      <td>59</td>\n",
       "      <td>59</td>\n",
       "    </tr>\n",
       "    <tr>\n",
       "      <th>4</th>\n",
       "      <td>20230130</td>\n",
       "      <td>id_4287</td>\n",
       "      <td>23.763333</td>\n",
       "      <td>86.396667</td>\n",
       "      <td>46</td>\n",
       "      <td>46</td>\n",
       "    </tr>\n",
       "  </tbody>\n",
       "</table>\n",
       "</div>"
      ],
      "text/plain": [
       "       date id_coord        lat        lon  coord_x  coord_y\n",
       "0  20230213  id_6148  23.437500  90.645000       54       10\n",
       "1  20230206  id_3348  33.513333 -87.203333       31       55\n",
       "2  20230121  id_3733  26.424286  80.284286       33       44\n",
       "3  20230204  id_5491  30.246667  71.483333       59       59\n",
       "4  20230130  id_4287  23.763333  86.396667       46       46"
      ]
     },
     "execution_count": 107,
     "metadata": {},
     "output_type": "execute_result"
    }
   ],
   "source": [
    "t_df = pd.read_csv('data/dataset/test_data/metadata.csv')\n",
    "t_df.head()"
   ]
  },
  {
   "cell_type": "code",
   "execution_count": 108,
   "metadata": {},
   "outputs": [
    {
     "name": "stdout",
     "output_type": "stream",
     "text": [
      "0      data/dataset/test_data/images\\20230101_methane...\n",
      "1      data/dataset/test_data/images\\20230101_methane...\n",
      "2      data/dataset/test_data/images\\20230101_methane...\n",
      "3      data/dataset/test_data/images\\20230103_methane...\n",
      "4      data/dataset/test_data/images\\20230103_methane...\n",
      "                             ...                        \n",
      "103    data/dataset/test_data/images\\20230404_methane...\n",
      "104    data/dataset/test_data/images\\20230404_methane...\n",
      "105    data/dataset/test_data/images\\20230405_methane...\n",
      "106    data/dataset/test_data/images\\20230405_methane...\n",
      "107    data/dataset/test_data/images\\20230406_methane...\n",
      "Length: 108, dtype: object\n"
     ]
    }
   ],
   "source": [
    "# Replace forward slashes with backslashes in the Pandas Series\n",
    "file_series = file_series.str.replace('//', '/')\n",
    "\n",
    "# Display the modified Pandas Series\n",
    "print(file_series)"
   ]
  },
  {
   "cell_type": "code",
   "execution_count": 109,
   "metadata": {},
   "outputs": [
    {
     "data": {
      "text/plain": [
       "0      data/dataset/test_data/images\\20230101_methane...\n",
       "1      data/dataset/test_data/images\\20230101_methane...\n",
       "2      data/dataset/test_data/images\\20230101_methane...\n",
       "3      data/dataset/test_data/images\\20230103_methane...\n",
       "4      data/dataset/test_data/images\\20230103_methane...\n",
       "                             ...                        \n",
       "103    data/dataset/test_data/images\\20230404_methane...\n",
       "104    data/dataset/test_data/images\\20230404_methane...\n",
       "105    data/dataset/test_data/images\\20230405_methane...\n",
       "106    data/dataset/test_data/images\\20230405_methane...\n",
       "107    data/dataset/test_data/images\\20230406_methane...\n",
       "Length: 108, dtype: object"
      ]
     },
     "execution_count": 109,
     "metadata": {},
     "output_type": "execute_result"
    }
   ],
   "source": [
    "file_series"
   ]
  },
  {
   "cell_type": "code",
   "execution_count": 110,
   "metadata": {},
   "outputs": [],
   "source": [
    "file_series = pd.Series(file_series)"
   ]
  },
  {
   "cell_type": "code",
   "execution_count": 111,
   "metadata": {},
   "outputs": [
    {
     "name": "stderr",
     "output_type": "stream",
     "text": [
      "c:\\Users\\Rehan Ibrahim\\AppData\\Local\\Programs\\Python\\Python310\\lib\\site-packages\\rasterio\\__init__.py:320: NotGeoreferencedWarning: Dataset has no geotransform, gcps, or rpcs. The identity matrix will be returned.\n",
      "  dataset = DatasetReader(path, driver=driver, sharing=sharing, **kwargs)\n"
     ]
    }
   ],
   "source": [
    "import rasterio\n",
    "import numpy as np\n",
    "\n",
    "image_data_test = []\n",
    "\n",
    "# Loop through the file paths and load images\n",
    "for image_path in file_series:\n",
    "    # Read the TIFF image using rasterio\n",
    "    try:\n",
    "        with rasterio.open(image_path) as src:\n",
    "            image = src.read(1)  # Assuming single-band image, adjust if necessary\n",
    "            # You may want to resize or preprocess the image here if necessary\n",
    "\n",
    "        # Append the image data to the list\n",
    "        image_data_test.append(image)\n",
    "    except Exception as e:\n",
    "        print(f\"Error loading image at {image_path}: {e}\")\n",
    "\n",
    "# Convert the list of images into a NumPy array\n",
    "image_data_test = np.array(image_data_test)"
   ]
  },
  {
   "cell_type": "markdown",
   "metadata": {},
   "source": [
    "## Transformations"
   ]
  },
  {
   "cell_type": "code",
   "execution_count": 112,
   "metadata": {},
   "outputs": [
    {
     "data": {
      "text/plain": [
       "array([[[0.        , 0.        , 0.        , ..., 0.        ,\n",
       "         0.        , 0.        ],\n",
       "        [0.        , 0.        , 0.        , ..., 0.45293355,\n",
       "         0.        , 0.        ],\n",
       "        [0.        , 0.        , 0.        , ..., 0.45293355,\n",
       "         0.        , 0.        ],\n",
       "        ...,\n",
       "        [0.        , 0.        , 0.        , ..., 0.        ,\n",
       "         0.        , 0.        ],\n",
       "        [0.        , 0.        , 0.        , ..., 0.        ,\n",
       "         0.        , 0.        ],\n",
       "        [0.        , 0.        , 0.        , ..., 0.        ,\n",
       "         0.        , 0.        ]],\n",
       "\n",
       "       [[0.38403906, 0.44130617, 0.44130617, ..., 0.        ,\n",
       "         0.        , 0.        ],\n",
       "        [0.345449  , 0.36951247, 0.36951247, ..., 0.        ,\n",
       "         0.        , 0.        ],\n",
       "        [0.345449  , 0.36951247, 0.36951247, ..., 0.        ,\n",
       "         0.        , 0.        ],\n",
       "        ...,\n",
       "        [0.        , 0.        , 0.        , ..., 0.20677501,\n",
       "         0.20677501, 0.11776913],\n",
       "        [0.        , 0.        , 0.        , ..., 0.14799725,\n",
       "         0.14799725, 0.12776379],\n",
       "        [0.        , 0.09881743, 0.09881743, ..., 0.14799725,\n",
       "         0.14799725, 0.12776379]],\n",
       "\n",
       "       [[0.18472572, 0.18472572, 0.18472572, ..., 0.        ,\n",
       "         0.        , 0.        ],\n",
       "        [0.18472572, 0.18472572, 0.18472572, ..., 0.        ,\n",
       "         0.        , 0.        ],\n",
       "        [0.23006027, 0.23006027, 0.20358587, ..., 0.        ,\n",
       "         0.        , 0.        ],\n",
       "        ...,\n",
       "        [0.        , 0.        , 0.        , ..., 0.10867475,\n",
       "         0.10867475, 0.10867475],\n",
       "        [0.        , 0.        , 0.        , ..., 0.13492027,\n",
       "         0.13492027, 0.13492027],\n",
       "        [0.        , 0.        , 0.        , ..., 0.13492027,\n",
       "         0.13492027, 0.13492027]],\n",
       "\n",
       "       ...,\n",
       "\n",
       "       [[0.42406348, 0.0153048 , 0.0153048 , ..., 0.        ,\n",
       "         0.        , 0.        ],\n",
       "        [0.45383383, 0.11711299, 0.11711299, ..., 0.        ,\n",
       "         0.        , 0.        ],\n",
       "        [0.45383383, 0.11711299, 0.11711299, ..., 0.        ,\n",
       "         0.        , 0.        ],\n",
       "        ...,\n",
       "        [0.83324941, 0.88427558, 0.88427558, ..., 0.57047379,\n",
       "         0.72700084, 0.72700084],\n",
       "        [0.83324941, 0.88427558, 0.88427558, ..., 0.36891737,\n",
       "         0.74445716, 0.74445716],\n",
       "        [0.40695811, 0.91978332, 0.91978332, ..., 0.36891737,\n",
       "         0.74445716, 0.74445716]],\n",
       "\n",
       "       [[0.47014572, 0.51519036, 0.51519036, ..., 0.15761044,\n",
       "         0.15761044, 0.36720836],\n",
       "        [0.61063554, 0.62539101, 0.62539101, ..., 0.15761044,\n",
       "         0.15761044, 0.36720836],\n",
       "        [0.61063554, 0.62539101, 0.62539101, ..., 0.        ,\n",
       "         0.        , 0.        ],\n",
       "        ...,\n",
       "        [0.48699168, 0.48699168, 0.50133516, ..., 0.102327  ,\n",
       "         0.        , 0.        ],\n",
       "        [0.15317006, 0.15317006, 0.34924849, ..., 0.        ,\n",
       "         0.        , 0.        ],\n",
       "        [0.16054017, 0.16054017, 0.37341878, ..., 0.        ,\n",
       "         0.        , 0.        ]],\n",
       "\n",
       "       [[0.36319524, 0.33180743, 0.26903182, ..., 0.72259098,\n",
       "         0.57167926, 0.52866407],\n",
       "        [0.36319524, 0.33180743, 0.26903182, ..., 0.67342641,\n",
       "         0.63114366, 0.60999466],\n",
       "        [0.36665904, 0.34885176, 0.27650874, ..., 0.67342641,\n",
       "         0.63114366, 0.63114366],\n",
       "        ...,\n",
       "        [0.        , 0.01052873, 0.01052873, ..., 0.18844892,\n",
       "         0.29440757, 0.29440757],\n",
       "        [0.        , 0.01052873, 0.01052873, ..., 0.18844892,\n",
       "         0.29440757, 0.29440757],\n",
       "        [0.        , 0.        , 0.        , ..., 0.23057908,\n",
       "         0.35074388, 0.37270161]]])"
      ]
     },
     "execution_count": 112,
     "metadata": {},
     "output_type": "execute_result"
    }
   ],
   "source": [
    "min_val = image_data_test.min()\n",
    "max_val = image_data_test.max()\n",
    "\n",
    "# Normalize the image data\n",
    "normalized_image_data_test = (image_data_test - min_val) / (max_val - min_val)\n",
    "normalized_image_data_test"
   ]
  },
  {
   "cell_type": "code",
   "execution_count": 113,
   "metadata": {},
   "outputs": [
    {
     "data": {
      "text/plain": [
       "(108, 64, 64)"
      ]
     },
     "execution_count": 113,
     "metadata": {},
     "output_type": "execute_result"
    }
   ],
   "source": [
    "normalized_image_data_test.shape"
   ]
  },
  {
   "cell_type": "markdown",
   "metadata": {},
   "source": [
    "## Predictions"
   ]
  },
  {
   "cell_type": "code",
   "execution_count": 121,
   "metadata": {},
   "outputs": [
    {
     "data": {
      "text/plain": [
       "(108, 1)"
      ]
     },
     "execution_count": 121,
     "metadata": {},
     "output_type": "execute_result"
    }
   ],
   "source": [
    "predictions_test.shape"
   ]
  },
  {
   "cell_type": "code",
   "execution_count": 114,
   "metadata": {},
   "outputs": [
    {
     "name": "stdout",
     "output_type": "stream",
     "text": [
      "4/4 [==============================] - 0s 18ms/step\n"
     ]
    },
    {
     "data": {
      "text/plain": [
       "array([[1.1035744e-08],\n",
       "       [8.6040282e-01],\n",
       "       [2.3464318e-03],\n",
       "       [9.9953067e-01],\n",
       "       [9.9999166e-01],\n",
       "       [9.3746826e-02],\n",
       "       [9.9963170e-01],\n",
       "       [6.7812513e-15],\n",
       "       [9.9999142e-01],\n",
       "       [7.5517279e-01],\n",
       "       [9.9999994e-01],\n",
       "       [9.9997264e-01],\n",
       "       [9.9999869e-01],\n",
       "       [9.9994493e-01],\n",
       "       [9.9999851e-01],\n",
       "       [9.9519461e-01],\n",
       "       [5.3467885e-02],\n",
       "       [3.7318285e-15],\n",
       "       [1.0000000e+00],\n",
       "       [3.3676208e-08],\n",
       "       [9.9820858e-01],\n",
       "       [2.4490536e-09],\n",
       "       [1.0000000e+00],\n",
       "       [6.1439327e-28],\n",
       "       [3.0450875e-14],\n",
       "       [6.2238394e-25],\n",
       "       [4.8821259e-04],\n",
       "       [9.9996829e-01],\n",
       "       [1.1024952e-06],\n",
       "       [1.7046292e-05],\n",
       "       [1.0000000e+00],\n",
       "       [3.0424908e-07],\n",
       "       [1.0000000e+00],\n",
       "       [1.0000000e+00],\n",
       "       [1.8060279e-04],\n",
       "       [2.5777431e-04],\n",
       "       [1.3547535e-05],\n",
       "       [9.5749749e-03],\n",
       "       [3.9217510e-05],\n",
       "       [2.6001832e-22],\n",
       "       [6.0743414e-04],\n",
       "       [9.9990898e-01],\n",
       "       [9.9999088e-01],\n",
       "       [1.3991501e-15],\n",
       "       [1.9928721e-06],\n",
       "       [9.9999988e-01],\n",
       "       [9.9997622e-01],\n",
       "       [7.7509594e-07],\n",
       "       [5.1087434e-10],\n",
       "       [1.0000000e+00],\n",
       "       [9.9998665e-01],\n",
       "       [9.4592440e-01],\n",
       "       [7.0509273e-01],\n",
       "       [9.9181616e-01],\n",
       "       [1.6110048e-04],\n",
       "       [9.9880373e-01],\n",
       "       [1.0000000e+00],\n",
       "       [9.9998432e-01],\n",
       "       [1.0000000e+00],\n",
       "       [1.4087661e-01],\n",
       "       [9.9999845e-01],\n",
       "       [9.9356484e-01],\n",
       "       [8.3589775e-09],\n",
       "       [1.0763147e-01],\n",
       "       [9.7485566e-01],\n",
       "       [9.9070698e-01],\n",
       "       [5.8327828e-06],\n",
       "       [2.4491037e-05],\n",
       "       [1.0000000e+00],\n",
       "       [6.7628032e-05],\n",
       "       [2.5768974e-16],\n",
       "       [9.9648231e-01],\n",
       "       [4.4802087e-12],\n",
       "       [9.9648231e-01],\n",
       "       [9.4662082e-01],\n",
       "       [9.9648231e-01],\n",
       "       [1.0873329e-05],\n",
       "       [2.4745628e-10],\n",
       "       [9.9998671e-01],\n",
       "       [9.9998379e-01],\n",
       "       [9.9830931e-01],\n",
       "       [9.8023313e-01],\n",
       "       [1.0000000e+00],\n",
       "       [9.9886954e-01],\n",
       "       [1.0000000e+00],\n",
       "       [4.6165977e-10],\n",
       "       [1.6949388e-12],\n",
       "       [5.9239060e-04],\n",
       "       [1.2671035e-05],\n",
       "       [3.5467215e-06],\n",
       "       [3.5467215e-06],\n",
       "       [3.3292452e-11],\n",
       "       [4.4803615e-05],\n",
       "       [9.9999863e-01],\n",
       "       [1.2926683e-06],\n",
       "       [9.9923450e-01],\n",
       "       [9.5815640e-03],\n",
       "       [4.8886362e-09],\n",
       "       [1.2997615e-06],\n",
       "       [3.9719000e-01],\n",
       "       [5.7391262e-01],\n",
       "       [1.1139918e-12],\n",
       "       [4.2441983e-02],\n",
       "       [4.9221854e-10],\n",
       "       [9.9677026e-01],\n",
       "       [4.5153048e-08],\n",
       "       [2.1794683e-03],\n",
       "       [1.3212323e-04]], dtype=float32)"
      ]
     },
     "execution_count": 114,
     "metadata": {},
     "output_type": "execute_result"
    }
   ],
   "source": [
    "# Make predictions on the test dataset\n",
    "predictions_test = model.predict(normalized_image_data_test)\n",
    "predictions_test"
   ]
  },
  {
   "cell_type": "code",
   "execution_count": 123,
   "metadata": {},
   "outputs": [],
   "source": [
    "import csv\n",
    "# Your NumPy array\n",
    "data = np.array(predictions_test)\n",
    "\n",
    "# Define the file path for saving the CSV file\n",
    "csv_path = 'output_test.csv'\n",
    "\n",
    "# Save the array as a CSV file\n",
    "with open(csv_path, 'w', newline='') as csvfile:\n",
    "    writer = csv.writer(csvfile)\n",
    "    writer.writerows(data)"
   ]
  },
  {
   "cell_type": "code",
   "execution_count": 119,
   "metadata": {},
   "outputs": [],
   "source": [
    "# Apply threshold to obtain binary predictions (0 or 1)\n",
    "threshold = 0.5\n",
    "binary_predictions_test = (predictions_test >= threshold).astype(int)"
   ]
  },
  {
   "cell_type": "code",
   "execution_count": 120,
   "metadata": {},
   "outputs": [
    {
     "data": {
      "text/plain": [
       "0    56\n",
       "1    52\n",
       "dtype: int64"
      ]
     },
     "execution_count": 120,
     "metadata": {},
     "output_type": "execute_result"
    }
   ],
   "source": [
    "pd.Series(binary_predictions_test.squeeze()).value_counts()"
   ]
  },
  {
   "cell_type": "markdown",
   "metadata": {},
   "source": [
    "# Model 2(Pre-trained)"
   ]
  },
  {
   "cell_type": "code",
   "execution_count": 42,
   "metadata": {},
   "outputs": [
    {
     "name": "stdout",
     "output_type": "stream",
     "text": [
      "WARNING:tensorflow:`input_shape` is undefined or non-square, or `rows` is not in [96, 128, 160, 192, 224]. Weights for input shape (224, 224) will be loaded as the default.\n"
     ]
    },
    {
     "name": "stdout",
     "output_type": "stream",
     "text": [
      "Model: \"sequential_1\"\n",
      "_________________________________________________________________\n",
      " Layer (type)                Output Shape              Param #   \n",
      "=================================================================\n",
      " resizing (Resizing)         (None, 64, 64, 1)         0         \n",
      "                                                                 \n",
      " lambda (Lambda)             (None, 64, 64, 3)         0         \n",
      "                                                                 \n",
      " mobilenetv2_1.00_224 (Func  (None, 2, 2, 1280)        2257984   \n",
      " tional)                                                         \n",
      "                                                                 \n",
      " flatten_1 (Flatten)         (None, 5120)              0         \n",
      "                                                                 \n",
      " dense_3 (Dense)             (None, 128)               655488    \n",
      "                                                                 \n",
      " dropout_2 (Dropout)         (None, 128)               0         \n",
      "                                                                 \n",
      " dense_4 (Dense)             (None, 64)                8256      \n",
      "                                                                 \n",
      " dropout_3 (Dropout)         (None, 64)                0         \n",
      "                                                                 \n",
      " dense_5 (Dense)             (None, 1)                 65        \n",
      "                                                                 \n",
      "=================================================================\n",
      "Total params: 2921793 (11.15 MB)\n",
      "Trainable params: 663809 (2.53 MB)\n",
      "Non-trainable params: 2257984 (8.61 MB)\n",
      "_________________________________________________________________\n"
     ]
    }
   ],
   "source": [
    "import tensorflow as tf\n",
    "from tensorflow.keras import layers\n",
    "from tensorflow.keras.applications import MobileNetV2\n",
    "from tensorflow.keras.layers.experimental.preprocessing import Resizing\n",
    "\n",
    "# Set the random seed for reproducibility\n",
    "tf.random.set_seed(1234)\n",
    "\n",
    "# Create the MobileNetV2 model with the correct input shape\n",
    "mobilenetv2_model = MobileNetV2(include_top=False, weights='imagenet', input_shape=(64, 64, 3))\n",
    "mobilenetv2_model.trainable = False  # Freeze the pretrained MobileNetV2 layers\n",
    "\n",
    "# Define the CNN model\n",
    "model2 = tf.keras.Sequential([\n",
    "    Resizing(64, 64, input_shape=(64, 64, 1)),  # Resize input images to (64, 64) without rescaling\n",
    "    layers.Lambda(lambda x: tf.image.grayscale_to_rgb(x)),  # Convert grayscale to RGB\n",
    "    mobilenetv2_model,  # Add the MobileNetV2 model as a layer\n",
    "    layers.Flatten(),\n",
    "    layers.Dense(128, activation='relu'),\n",
    "    layers.Dropout(0.5),\n",
    "    layers.Dense(64, activation='relu'),\n",
    "    layers.Dropout(0.5),\n",
    "    layers.Dense(1, activation='sigmoid')  # Use 'sigmoid' for binary classification\n",
    "])\n",
    "\n",
    "# Compile the model\n",
    "model2.compile(optimizer='adam',\n",
    "              loss='binary_crossentropy',  # Use 'binary_crossentropy' for binary classification\n",
    "              metrics=['accuracy'])\n",
    "\n",
    "# Print the model summary to view the architecture\n",
    "model2.summary()\n",
    "\n",
    "# Define early stopping\n",
    "early_stopping = tf.keras.callbacks.EarlyStopping(\n",
    "    monitor='val_loss', \n",
    "    patience=5,           \n",
    "    restore_best_weights=True)\n"
   ]
  },
  {
   "cell_type": "code",
   "execution_count": 43,
   "metadata": {},
   "outputs": [
    {
     "name": "stdout",
     "output_type": "stream",
     "text": [
      "Epoch 1/100\n",
      "376/376 [==============================] - 36s 83ms/step - loss: 0.4985 - accuracy: 0.7678 - val_loss: 0.2913 - val_accuracy: 0.8794\n",
      "Epoch 2/100\n",
      "376/376 [==============================] - 27s 73ms/step - loss: 0.3342 - accuracy: 0.8555 - val_loss: 0.2306 - val_accuracy: 0.9079\n",
      "Epoch 3/100\n",
      "376/376 [==============================] - 26s 70ms/step - loss: 0.2632 - accuracy: 0.8910 - val_loss: 0.2172 - val_accuracy: 0.9191\n",
      "Epoch 4/100\n",
      "376/376 [==============================] - 25s 68ms/step - loss: 0.2236 - accuracy: 0.9079 - val_loss: 0.2006 - val_accuracy: 0.9341\n",
      "Epoch 5/100\n",
      "376/376 [==============================] - 26s 68ms/step - loss: 0.1972 - accuracy: 0.9203 - val_loss: 0.1839 - val_accuracy: 0.9386\n",
      "Epoch 6/100\n",
      "376/376 [==============================] - 26s 68ms/step - loss: 0.1795 - accuracy: 0.9257 - val_loss: 0.1662 - val_accuracy: 0.9378\n",
      "Epoch 7/100\n",
      "376/376 [==============================] - 27s 71ms/step - loss: 0.1713 - accuracy: 0.9301 - val_loss: 0.1526 - val_accuracy: 0.9446\n",
      "Epoch 8/100\n",
      "376/376 [==============================] - 27s 73ms/step - loss: 0.1409 - accuracy: 0.9454 - val_loss: 0.1585 - val_accuracy: 0.9393\n",
      "Epoch 9/100\n",
      "376/376 [==============================] - 29s 78ms/step - loss: 0.1382 - accuracy: 0.9446 - val_loss: 0.1452 - val_accuracy: 0.9506\n",
      "Epoch 10/100\n",
      "376/376 [==============================] - 29s 78ms/step - loss: 0.1297 - accuracy: 0.9486 - val_loss: 0.1428 - val_accuracy: 0.9476\n",
      "Epoch 11/100\n",
      "376/376 [==============================] - 27s 72ms/step - loss: 0.1163 - accuracy: 0.9539 - val_loss: 0.1513 - val_accuracy: 0.9468\n",
      "Epoch 12/100\n",
      "376/376 [==============================] - 29s 77ms/step - loss: 0.1122 - accuracy: 0.9544 - val_loss: 0.1334 - val_accuracy: 0.9536\n",
      "Epoch 13/100\n",
      "376/376 [==============================] - 30s 79ms/step - loss: 0.1009 - accuracy: 0.9590 - val_loss: 0.1437 - val_accuracy: 0.9491\n",
      "Epoch 14/100\n",
      "376/376 [==============================] - 29s 78ms/step - loss: 0.1090 - accuracy: 0.9584 - val_loss: 0.1324 - val_accuracy: 0.9521\n",
      "Epoch 15/100\n",
      "376/376 [==============================] - 27s 73ms/step - loss: 0.0950 - accuracy: 0.9617 - val_loss: 0.1566 - val_accuracy: 0.9536\n",
      "Epoch 16/100\n",
      "376/376 [==============================] - 27s 73ms/step - loss: 0.0920 - accuracy: 0.9655 - val_loss: 0.1488 - val_accuracy: 0.9521\n",
      "Epoch 17/100\n",
      "376/376 [==============================] - 28s 74ms/step - loss: 0.0942 - accuracy: 0.9638 - val_loss: 0.1405 - val_accuracy: 0.9558\n",
      "Epoch 18/100\n",
      "376/376 [==============================] - 26s 69ms/step - loss: 0.0833 - accuracy: 0.9655 - val_loss: 0.1686 - val_accuracy: 0.9476\n",
      "Epoch 19/100\n",
      "376/376 [==============================] - 26s 69ms/step - loss: 0.0844 - accuracy: 0.9679 - val_loss: 0.1539 - val_accuracy: 0.9588\n"
     ]
    },
    {
     "data": {
      "text/plain": [
       "<keras.src.callbacks.History at 0x19d02a99150>"
      ]
     },
     "execution_count": 43,
     "metadata": {},
     "output_type": "execute_result"
    }
   ],
   "source": [
    "batch_size = 32\n",
    "epochs = 100\n",
    "model2.fit(X_train_augmented,y_train_augmented, epochs=epochs, batch_size=batch_size, validation_split=0.1,callbacks=[early_stopping])"
   ]
  },
  {
   "cell_type": "code",
   "execution_count": 44,
   "metadata": {},
   "outputs": [
    {
     "name": "stdout",
     "output_type": "stream",
     "text": [
      "6/6 [==============================] - 1s 51ms/step\n"
     ]
    },
    {
     "data": {
      "text/plain": [
       "array([[1.7245313e-04],\n",
       "       [5.2354358e-02],\n",
       "       [8.1176275e-01],\n",
       "       [9.9999994e-01],\n",
       "       [9.9994904e-01],\n",
       "       [5.4276221e-05],\n",
       "       [9.9999917e-01],\n",
       "       [7.7475947e-01],\n",
       "       [9.9115002e-01],\n",
       "       [9.9966455e-01],\n",
       "       [1.9564349e-03],\n",
       "       [1.4803109e-01],\n",
       "       [8.6577952e-01],\n",
       "       [1.9834926e-02],\n",
       "       [1.3746515e-01],\n",
       "       [1.1252341e-01],\n",
       "       [3.0020952e-01],\n",
       "       [8.3177316e-01],\n",
       "       [1.8485196e-01],\n",
       "       [5.0101116e-02],\n",
       "       [7.5935991e-03],\n",
       "       [1.5088619e-04],\n",
       "       [1.1477867e-02],\n",
       "       [9.6897721e-01],\n",
       "       [2.1942696e-01],\n",
       "       [9.9394697e-01],\n",
       "       [9.7280943e-01],\n",
       "       [2.6475189e-12],\n",
       "       [3.7065125e-01],\n",
       "       [8.3959782e-01],\n",
       "       [2.8477836e-02],\n",
       "       [6.1293804e-06],\n",
       "       [5.0418466e-02],\n",
       "       [5.9656082e-03],\n",
       "       [1.9283958e-02],\n",
       "       [9.9933553e-01],\n",
       "       [5.9970289e-01],\n",
       "       [4.0533319e-09],\n",
       "       [1.6566401e-02],\n",
       "       [7.6097786e-01],\n",
       "       [1.4899983e-03],\n",
       "       [9.9720126e-01],\n",
       "       [9.7577226e-01],\n",
       "       [9.9697304e-01],\n",
       "       [2.2578511e-01],\n",
       "       [9.2649633e-01],\n",
       "       [1.0452251e-03],\n",
       "       [9.5964873e-01],\n",
       "       [6.6222620e-01],\n",
       "       [4.6569120e-02],\n",
       "       [6.9103503e-01],\n",
       "       [2.4840055e-02],\n",
       "       [9.2794818e-01],\n",
       "       [1.0000000e+00],\n",
       "       [4.2287114e-01],\n",
       "       [3.9616016e-01],\n",
       "       [1.1477867e-02],\n",
       "       [4.5138273e-02],\n",
       "       [9.0919068e-04],\n",
       "       [9.9972034e-01],\n",
       "       [1.0000000e+00],\n",
       "       [1.4768346e-05],\n",
       "       [9.8450619e-01],\n",
       "       [9.9999553e-01],\n",
       "       [3.1741185e-10],\n",
       "       [9.8773956e-01],\n",
       "       [3.2309419e-01],\n",
       "       [9.7940856e-01],\n",
       "       [9.5804107e-01],\n",
       "       [8.7423921e-03],\n",
       "       [9.9988508e-01],\n",
       "       [5.0511071e-06],\n",
       "       [9.4915241e-01],\n",
       "       [9.9948275e-01],\n",
       "       [7.5125295e-01],\n",
       "       [7.5855550e-10],\n",
       "       [1.3636528e-02],\n",
       "       [3.5651445e-01],\n",
       "       [9.9521750e-01],\n",
       "       [9.9994934e-01],\n",
       "       [9.9996173e-01],\n",
       "       [1.0818692e-21],\n",
       "       [9.1157013e-01],\n",
       "       [9.9955398e-01],\n",
       "       [8.1237888e-01],\n",
       "       [9.8380083e-01],\n",
       "       [4.9679202e-01],\n",
       "       [1.3476054e-01],\n",
       "       [1.3247259e-03],\n",
       "       [6.2382221e-01],\n",
       "       [2.5194985e-01],\n",
       "       [3.7249776e-03],\n",
       "       [3.9133716e-01],\n",
       "       [6.0493141e-05],\n",
       "       [1.1155926e-09],\n",
       "       [1.4294536e-04],\n",
       "       [1.0756482e-03],\n",
       "       [5.4768325e-08],\n",
       "       [2.1549949e-01],\n",
       "       [9.9536186e-01],\n",
       "       [8.3718397e-12],\n",
       "       [1.5337229e-03],\n",
       "       [1.3494246e-01],\n",
       "       [1.5290876e-11],\n",
       "       [6.9103503e-01],\n",
       "       [3.9328060e-07],\n",
       "       [6.4069442e-03],\n",
       "       [3.1675225e-01],\n",
       "       [9.0919068e-04],\n",
       "       [9.9999803e-01],\n",
       "       [3.6329544e-01],\n",
       "       [7.6434886e-01],\n",
       "       [5.7964972e-03],\n",
       "       [8.3673036e-01],\n",
       "       [9.7075409e-01],\n",
       "       [9.9995393e-01],\n",
       "       [1.8560940e-04],\n",
       "       [9.8306179e-01],\n",
       "       [9.6941757e-01],\n",
       "       [4.9762129e-06],\n",
       "       [9.9996454e-01],\n",
       "       [9.9999291e-01],\n",
       "       [9.9999917e-01],\n",
       "       [9.9985808e-01],\n",
       "       [2.1651497e-02],\n",
       "       [5.6716418e-01],\n",
       "       [9.9999690e-01],\n",
       "       [9.9999988e-01],\n",
       "       [1.0394076e-05],\n",
       "       [4.7633969e-04],\n",
       "       [1.3305911e-01],\n",
       "       [1.0000000e+00],\n",
       "       [9.9899954e-01],\n",
       "       [9.9309504e-01],\n",
       "       [7.7307993e-04],\n",
       "       [9.9985200e-01],\n",
       "       [3.7249776e-03],\n",
       "       [1.1151064e-11],\n",
       "       [8.2356519e-01],\n",
       "       [9.8416072e-01],\n",
       "       [8.7106667e-02],\n",
       "       [9.5032007e-01],\n",
       "       [1.0126157e-05],\n",
       "       [9.9957210e-01],\n",
       "       [2.7927486e-04],\n",
       "       [1.1912092e-02],\n",
       "       [9.9971217e-01],\n",
       "       [9.9132806e-01],\n",
       "       [9.9999881e-01],\n",
       "       [6.1083549e-01],\n",
       "       [9.5369589e-01],\n",
       "       [9.9619704e-01],\n",
       "       [9.5553285e-01],\n",
       "       [2.7860303e-12],\n",
       "       [9.9861813e-01],\n",
       "       [2.1490995e-03],\n",
       "       [9.6630740e-01],\n",
       "       [7.4892210e-05],\n",
       "       [9.9530977e-01],\n",
       "       [9.8354632e-01],\n",
       "       [2.6682536e-03],\n",
       "       [2.2020777e-05],\n",
       "       [9.7173429e-01],\n",
       "       [9.7584826e-01],\n",
       "       [3.1609030e-08],\n",
       "       [3.4779396e-03],\n",
       "       [5.5728859e-01],\n",
       "       [1.4049500e-05],\n",
       "       [8.7670004e-01],\n",
       "       [4.8619825e-01],\n",
       "       [1.8580775e-09],\n",
       "       [3.2308996e-01]], dtype=float32)"
      ]
     },
     "execution_count": 44,
     "metadata": {},
     "output_type": "execute_result"
    }
   ],
   "source": [
    "# Make predictions on the test dataset\n",
    "predictions2 = model2.predict(X_test)\n",
    "predictions2"
   ]
  },
  {
   "cell_type": "markdown",
   "metadata": {},
   "source": [
    "## Eval Metrics"
   ]
  },
  {
   "cell_type": "code",
   "execution_count": 45,
   "metadata": {},
   "outputs": [],
   "source": [
    "# Apply threshold to obtain binary predictions (0 or 1)\n",
    "threshold = 0.5\n",
    "binary_predictions2 = (predictions2 >= threshold).astype(int)"
   ]
  },
  {
   "cell_type": "code",
   "execution_count": 46,
   "metadata": {},
   "outputs": [
    {
     "name": "stdout",
     "output_type": "stream",
     "text": [
      "Classification Report:\n",
      "              precision    recall  f1-score   support\n",
      "\n",
      "           0       0.72      0.80      0.76        80\n",
      "           1       0.81      0.73      0.77        92\n",
      "\n",
      "    accuracy                           0.76       172\n",
      "   macro avg       0.76      0.76      0.76       172\n",
      "weighted avg       0.77      0.76      0.76       172\n",
      "\n"
     ]
    }
   ],
   "source": [
    "class_report2 = classification_report(y_test, binary_predictions2)\n",
    "print(\"Classification Report:\")\n",
    "print(class_report2)"
   ]
  },
  {
   "cell_type": "code",
   "execution_count": 47,
   "metadata": {},
   "outputs": [
    {
     "name": "stdout",
     "output_type": "stream",
     "text": [
      "Accuracy: 76.16%\n"
     ]
    }
   ],
   "source": [
    "# Calculate accuracy using one-hot encoded labels\n",
    "accuracy2 = accuracy_score(y_test, binary_predictions2)\n",
    "print(f\"Accuracy: {accuracy2*100:.2f}%\")"
   ]
  },
  {
   "cell_type": "markdown",
   "metadata": {},
   "source": [
    "# Gaussian Blurring and Histogram Equalization "
   ]
  },
  {
   "cell_type": "code",
   "execution_count": 22,
   "metadata": {},
   "outputs": [
    {
     "data": {
      "text/plain": [
       "array([[[0.23457694, 0.36232547, 0.36232547, ..., 0.        ,\n",
       "         0.        , 0.        ],\n",
       "        [0.32170596, 0.34865339, 0.34865339, ..., 0.        ,\n",
       "         0.        , 0.        ],\n",
       "        [0.32170596, 0.34865339, 0.34865339, ..., 0.        ,\n",
       "         0.05108721, 0.05108721],\n",
       "        ...,\n",
       "        [0.75207141, 0.75207141, 0.66585794, ..., 0.33897917,\n",
       "         0.4567483 , 0.4567483 ],\n",
       "        [0.75207141, 0.66585794, 0.66585794, ..., 0.20921645,\n",
       "         0.22317845, 0.22317845],\n",
       "        [0.7604181 , 0.74621195, 0.74621195, ..., 0.20921645,\n",
       "         0.22317845, 0.22317845]],\n",
       "\n",
       "       [[0.        , 0.        , 0.        , ..., 0.        ,\n",
       "         0.        , 0.        ],\n",
       "        [0.09744411, 0.1757229 , 0.02345312, ..., 0.        ,\n",
       "         0.        , 0.        ],\n",
       "        [0.09744411, 0.1757229 , 0.02345312, ..., 0.        ,\n",
       "         0.        , 0.        ],\n",
       "        ...,\n",
       "        [0.05917449, 0.10644694, 0.09991608, ..., 0.        ,\n",
       "         0.        , 0.        ],\n",
       "        [0.05917449, 0.10644694, 0.09991608, ..., 0.        ,\n",
       "         0.        , 0.        ],\n",
       "        [0.06446937, 0.        , 0.06256199, ..., 0.        ,\n",
       "         0.        , 0.        ]],\n",
       "\n",
       "       [[0.21542687, 0.14476234, 0.14476234, ..., 0.39064622,\n",
       "         0.33780423, 0.33780423],\n",
       "        [0.2580911 , 0.08645762, 0.08645762, ..., 0.45922026,\n",
       "         0.40227359, 0.40227359],\n",
       "        [0.2580911 , 0.08645762, 0.08645762, ..., 0.45922026,\n",
       "         0.40227359, 0.40227359],\n",
       "        ...,\n",
       "        [0.22763409, 0.22763409, 0.25445945, ..., 0.28299382,\n",
       "         0.        , 0.        ],\n",
       "        [0.22763409, 0.22763409, 0.25445945, ..., 0.28299382,\n",
       "         0.        , 0.        ],\n",
       "        [0.        , 0.        , 0.        , ..., 0.10128939,\n",
       "         0.        , 0.        ]],\n",
       "\n",
       "       ...,\n",
       "\n",
       "       [[0.64875257, 0.628748  , 0.6898909 , ..., 0.22978561,\n",
       "         0.50225071, 0.50225071],\n",
       "        [0.        , 0.73514916, 0.70157931, ..., 0.22978561,\n",
       "         0.50225071, 0.50225071],\n",
       "        [0.        , 0.73514916, 0.70157931, ..., 0.17320516,\n",
       "         0.06002899, 0.06002899],\n",
       "        ...,\n",
       "        [0.        , 0.        , 0.        , ..., 0.        ,\n",
       "         0.        , 0.        ],\n",
       "        [0.        , 0.        , 0.        , ..., 0.        ,\n",
       "         0.        , 0.        ],\n",
       "        [0.        , 0.        , 0.        , ..., 0.        ,\n",
       "         0.        , 0.        ]],\n",
       "\n",
       "       [[0.1706569 , 0.1908751 , 0.1908751 , ..., 0.        ,\n",
       "         0.        , 0.        ],\n",
       "        [0.1706569 , 0.1908751 , 0.1908751 , ..., 0.        ,\n",
       "         0.        , 0.        ],\n",
       "        [0.2010071 , 0.21408408, 0.21408408, ..., 0.        ,\n",
       "         0.        , 0.        ],\n",
       "        ...,\n",
       "        [0.41887541, 0.41887541, 0.41887541, ..., 0.        ,\n",
       "         0.        , 0.        ],\n",
       "        [0.37907988, 0.37907988, 0.37907988, ..., 0.        ,\n",
       "         0.        , 0.        ],\n",
       "        [0.37907988, 0.37907988, 0.37907988, ..., 0.        ,\n",
       "         0.        , 0.        ]],\n",
       "\n",
       "       [[0.25539025, 0.        , 0.12085145, ..., 0.22880903,\n",
       "         0.58352026, 0.26761273],\n",
       "        [0.23108263, 0.25618372, 0.36643015, ..., 0.22880903,\n",
       "         0.58352026, 0.26761273],\n",
       "        [0.23108263, 0.25618372, 0.36643015, ..., 0.05528344,\n",
       "         0.45282673, 0.62632181],\n",
       "        ...,\n",
       "        [0.        , 0.        , 0.2704509 , ..., 0.        ,\n",
       "         0.        , 0.01728847],\n",
       "        [0.        , 0.        , 0.2704509 , ..., 0.27774472,\n",
       "         0.57567712, 0.70539406],\n",
       "        [0.        , 0.        , 0.0296788 , ..., 0.27774472,\n",
       "         0.57567712, 0.70539406]]])"
      ]
     },
     "execution_count": 22,
     "metadata": {},
     "output_type": "execute_result"
    }
   ],
   "source": [
    "min_val = image_data.min()\n",
    "max_val = image_data.max()\n",
    "\n",
    "# Normalize the image data\n",
    "normalized_image_data = (image_data - min_val) / (max_val - min_val)\n",
    "normalized_image_data"
   ]
  },
  {
   "cell_type": "code",
   "execution_count": 23,
   "metadata": {},
   "outputs": [
    {
     "name": "stdout",
     "output_type": "stream",
     "text": [
      "X_train shape: (258, 64, 64)\n",
      "X_test shape: (172, 64, 64)\n"
     ]
    }
   ],
   "source": [
    "X = normalized_image_data\n",
    "y = plume_labels\n",
    "\n",
    "\n",
    "#X = [np.transpose(image, (1, 2, 0)) for image in X]\n",
    "\n",
    "#X = np.array(X)\n",
    "np.random.seed(101)\n",
    "X_train, X_test, y_train, y_test = train_test_split(X, y, test_size=0.4, random_state=42,shuffle=True)\n",
    "\n",
    "print(\"X_train shape:\", X_train.shape)\n",
    "print(\"X_test shape:\", X_test.shape)"
   ]
  },
  {
   "cell_type": "code",
   "execution_count": 37,
   "metadata": {},
   "outputs": [],
   "source": [
    "datagen = ImageDataGenerator(\n",
    "    rotation_range=10,\n",
    "    width_shift_range=0.1,\n",
    "    height_shift_range=0.1,\n",
    "    shear_range=0.2,\n",
    "    horizontal_flip=True,\n",
    "    fill_mode='nearest'\n",
    ")\n",
    "X_train = X_train.reshape(-1,64,64,1)\n",
    "batch_size=64\n",
    "steps_per_epoch = len(X_train) // batch_size\n",
    "# Fit the data augmentation generator to your training data\n",
    "datagen.fit(X_train)\n",
    "\n",
    "augmented_images = []\n",
    "augmented_labels = []\n",
    "\n",
    "# Generate augmented images and labels\n",
    "for X_batch, y_batch in datagen.flow(X_train, y_train, batch_size=batch_size,shuffle=True):\n",
    "    augmented_images.append(X_batch)\n",
    "    augmented_labels.append(y_batch)\n",
    "    if len(augmented_images) >= len(X_train):\n",
    "        break\n",
    "\n",
    "X_train_augmented = np.concatenate(augmented_images)\n",
    "y_train_augmented = np.concatenate(augmented_labels)\n",
    "\n",
    "y_train_augmented = y_train_augmented.astype(int)"
   ]
  },
  {
   "cell_type": "code",
   "execution_count": 25,
   "metadata": {},
   "outputs": [],
   "source": [
    "blurred_X_train = []\n",
    "blurred_y_train = []\n",
    "\n",
    "# Loop through the loaded images\n",
    "for image, label in zip(X_train_augmented, y_train_augmented):\n",
    "    if image.dtype != np.uint8:\n",
    "        # Convert to 8-bit (if not already)\n",
    "        image = (image / np.max(image) * 255).astype(np.uint8)\n",
    "    \n",
    "    # Check if it's not already grayscale (single channel)\n",
    "    if len(image.shape) > 2 and image.shape[2] != 1:\n",
    "        # Convert to grayscale\n",
    "        image = cv2.cvtColor(image, cv2.COLOR_BGR2GRAY)\n",
    "\n",
    "    # Apply Gaussian Blurring\n",
    "    blurred_image = cv2.GaussianBlur(image, (5, 5), 0)  # Adjust kernel size as needed\n",
    "    blurred_X_train.append(blurred_image)\n",
    "    blurred_y_train.append(label)\n",
    "\n",
    "# Convert the lists of preprocessed images into NumPy arrays\n",
    "blurred_X_train = np.array(blurred_X_train)\n",
    "blurred_y_train = np.array(blurred_y_train)"
   ]
  },
  {
   "cell_type": "code",
   "execution_count": 30,
   "metadata": {},
   "outputs": [],
   "source": [
    "X_train_augmented = np.concatenate(blurred_X_train)"
   ]
  },
  {
   "cell_type": "code",
   "execution_count": 38,
   "metadata": {},
   "outputs": [
    {
     "data": {
      "text/plain": [
       "(13350,)"
      ]
     },
     "execution_count": 38,
     "metadata": {},
     "output_type": "execute_result"
    }
   ],
   "source": [
    "y_train_augmented.shape"
   ]
  },
  {
   "cell_type": "code",
   "execution_count": 39,
   "metadata": {},
   "outputs": [
    {
     "data": {
      "text/plain": [
       "(13350, 64, 64, 1)"
      ]
     },
     "execution_count": 39,
     "metadata": {},
     "output_type": "execute_result"
    }
   ],
   "source": [
    "X_train_augmented.shape"
   ]
  },
  {
   "cell_type": "code",
   "execution_count": 52,
   "metadata": {},
   "outputs": [
    {
     "name": "stdout",
     "output_type": "stream",
     "text": [
      "Model: \"sequential_2\"\n",
      "_________________________________________________________________\n",
      " Layer (type)                Output Shape              Param #   \n",
      "=================================================================\n",
      " conv2d_3 (Conv2D)           (None, 62, 62, 32)        320       \n",
      "                                                                 \n",
      " max_pooling2d_3 (MaxPoolin  (None, 31, 31, 32)        0         \n",
      " g2D)                                                            \n",
      "                                                                 \n",
      " conv2d_4 (Conv2D)           (None, 29, 29, 64)        18496     \n",
      "                                                                 \n",
      " max_pooling2d_4 (MaxPoolin  (None, 14, 14, 64)        0         \n",
      " g2D)                                                            \n",
      "                                                                 \n",
      " conv2d_5 (Conv2D)           (None, 12, 12, 128)       73856     \n",
      "                                                                 \n",
      " max_pooling2d_5 (MaxPoolin  (None, 6, 6, 128)         0         \n",
      " g2D)                                                            \n",
      "                                                                 \n",
      " flatten_2 (Flatten)         (None, 4608)              0         \n",
      "                                                                 \n",
      " dense_6 (Dense)             (None, 128)               589952    \n",
      "                                                                 \n",
      " dropout_4 (Dropout)         (None, 128)               0         \n",
      "                                                                 \n",
      " dense_7 (Dense)             (None, 64)                8256      \n",
      "                                                                 \n",
      " dropout_5 (Dropout)         (None, 64)                0         \n",
      "                                                                 \n",
      " dense_8 (Dense)             (None, 1)                 65        \n",
      "                                                                 \n",
      "=================================================================\n",
      "Total params: 690945 (2.64 MB)\n",
      "Trainable params: 690945 (2.64 MB)\n",
      "Non-trainable params: 0 (0.00 Byte)\n",
      "_________________________________________________________________\n"
     ]
    }
   ],
   "source": [
    "import tensorflow as tf\n",
    "from tensorflow.keras import layers\n",
    "\n",
    "# Set the random seed for reproducibility\n",
    "tf.random.set_seed(1234)\n",
    "\n",
    "# Define the CNN model\n",
    "model = tf.keras.Sequential([\n",
    "    # Convolutional layers\n",
    "    layers.Conv2D(32, (3, 3), activation='relu', input_shape=(64, 64, 1)),\n",
    "    layers.MaxPooling2D((2, 2)),\n",
    "    layers.Conv2D(64, (3, 3), activation='relu'),\n",
    "    layers.MaxPooling2D((2, 2)),\n",
    "    layers.Conv2D(128, (3, 3), activation='relu'),\n",
    "    layers.MaxPooling2D((2, 2)),\n",
    "    \n",
    "    # Flatten the output for fully connected layers\n",
    "    layers.Flatten(),\n",
    "    \n",
    "    # Fully connected layers\n",
    "    layers.Dense(128, activation='relu'),\n",
    "    layers.Dropout(0.5),  \n",
    "    layers.Dense(64, activation='relu'),\n",
    "    layers.Dropout(0.5),\n",
    "    layers.Dense(1, activation='sigmoid')  # Use 'sigmoid' for binary classification\n",
    "])\n",
    "\n",
    "# Compile the model\n",
    "model.compile(optimizer='adam',\n",
    "              loss='binary_crossentropy',  # Use 'binary_crossentropy' for binary classification\n",
    "              metrics=['accuracy'])\n",
    "\n",
    "# Print the model summary to view the architecture\n",
    "model.summary()\n",
    "\n",
    "# Define early stopping\n",
    "early_stopping = tf.keras.callbacks.EarlyStopping(\n",
    "    monitor='val_loss', \n",
    "    patience=5,           \n",
    "    restore_best_weights=True)\n"
   ]
  },
  {
   "cell_type": "code",
   "execution_count": 53,
   "metadata": {},
   "outputs": [
    {
     "name": "stdout",
     "output_type": "stream",
     "text": [
      "Epoch 1/100\n",
      "334/334 [==============================] - 24s 69ms/step - loss: 0.8083 - accuracy: 0.6045 - val_loss: 0.5174 - val_accuracy: 0.7633\n",
      "Epoch 2/100\n",
      "334/334 [==============================] - 23s 70ms/step - loss: 0.5088 - accuracy: 0.7569 - val_loss: 0.4210 - val_accuracy: 0.8101\n",
      "Epoch 3/100\n",
      "334/334 [==============================] - 24s 71ms/step - loss: 0.3762 - accuracy: 0.8373 - val_loss: 0.2762 - val_accuracy: 0.8921\n",
      "Epoch 4/100\n",
      "334/334 [==============================] - 24s 71ms/step - loss: 0.2843 - accuracy: 0.8890 - val_loss: 0.1802 - val_accuracy: 0.9285\n",
      "Epoch 5/100\n",
      "334/334 [==============================] - 23s 70ms/step - loss: 0.2123 - accuracy: 0.9180 - val_loss: 0.1555 - val_accuracy: 0.9375\n",
      "Epoch 6/100\n",
      "334/334 [==============================] - 24s 72ms/step - loss: 0.1590 - accuracy: 0.9417 - val_loss: 0.1357 - val_accuracy: 0.9476\n",
      "Epoch 7/100\n",
      "334/334 [==============================] - 24s 72ms/step - loss: 0.1167 - accuracy: 0.9547 - val_loss: 0.0938 - val_accuracy: 0.9655\n",
      "Epoch 8/100\n",
      "334/334 [==============================] - 24s 70ms/step - loss: 0.1088 - accuracy: 0.9605 - val_loss: 0.1115 - val_accuracy: 0.9614\n",
      "Epoch 9/100\n",
      "334/334 [==============================] - 23s 70ms/step - loss: 0.0964 - accuracy: 0.9648 - val_loss: 0.0652 - val_accuracy: 0.9757\n",
      "Epoch 10/100\n",
      "334/334 [==============================] - 23s 70ms/step - loss: 0.0771 - accuracy: 0.9713 - val_loss: 0.0767 - val_accuracy: 0.9749\n",
      "Epoch 11/100\n",
      "334/334 [==============================] - 23s 69ms/step - loss: 0.0767 - accuracy: 0.9727 - val_loss: 0.0532 - val_accuracy: 0.9816\n",
      "Epoch 12/100\n",
      "334/334 [==============================] - 24s 73ms/step - loss: 0.0675 - accuracy: 0.9757 - val_loss: 0.0465 - val_accuracy: 0.9835\n",
      "Epoch 13/100\n",
      "334/334 [==============================] - 24s 73ms/step - loss: 0.0547 - accuracy: 0.9815 - val_loss: 0.0566 - val_accuracy: 0.9824\n",
      "Epoch 14/100\n",
      "334/334 [==============================] - 24s 72ms/step - loss: 0.0612 - accuracy: 0.9788 - val_loss: 0.0652 - val_accuracy: 0.9798\n",
      "Epoch 15/100\n",
      "334/334 [==============================] - 24s 72ms/step - loss: 0.0547 - accuracy: 0.9828 - val_loss: 0.0627 - val_accuracy: 0.9816\n",
      "Epoch 16/100\n",
      "334/334 [==============================] - 24s 72ms/step - loss: 0.0390 - accuracy: 0.9863 - val_loss: 0.0573 - val_accuracy: 0.9787\n",
      "Epoch 17/100\n",
      "334/334 [==============================] - 24s 72ms/step - loss: 0.0414 - accuracy: 0.9856 - val_loss: 0.0505 - val_accuracy: 0.9869\n"
     ]
    },
    {
     "data": {
      "text/plain": [
       "<keras.src.callbacks.History at 0x19d021d26b0>"
      ]
     },
     "execution_count": 53,
     "metadata": {},
     "output_type": "execute_result"
    }
   ],
   "source": [
    "batch_size = 32\n",
    "epochs = 100\n",
    "model.fit(blurred_images,y_train_augmented, epochs=epochs, batch_size=batch_size, validation_split=0.2,callbacks=[early_stopping])"
   ]
  },
  {
   "cell_type": "code",
   "execution_count": 54,
   "metadata": {},
   "outputs": [
    {
     "name": "stdout",
     "output_type": "stream",
     "text": [
      "6/6 [==============================] - 0s 16ms/step\n"
     ]
    },
    {
     "data": {
      "text/plain": [
       "array([[7.2388834e-01],\n",
       "       [2.0866580e-02],\n",
       "       [1.8047015e-01],\n",
       "       [1.4396644e-01],\n",
       "       [1.4056118e-01],\n",
       "       [1.9980338e-01],\n",
       "       [2.4207735e-02],\n",
       "       [1.0758678e-01],\n",
       "       [4.2469326e-01],\n",
       "       [3.4518036e-01],\n",
       "       [9.9744171e-01],\n",
       "       [7.5738484e-01],\n",
       "       [9.9992275e-01],\n",
       "       [8.1953859e-01],\n",
       "       [4.6136833e-04],\n",
       "       [2.2330556e-02],\n",
       "       [9.9638540e-01],\n",
       "       [9.8570532e-01],\n",
       "       [5.6200129e-01],\n",
       "       [3.9668536e-01],\n",
       "       [1.1325398e-01],\n",
       "       [1.4137918e-02],\n",
       "       [9.9475086e-01],\n",
       "       [1.2933786e-01],\n",
       "       [1.3016126e-01],\n",
       "       [6.2132078e-01],\n",
       "       [3.0744722e-01],\n",
       "       [2.1422084e-01],\n",
       "       [3.4065971e-01],\n",
       "       [8.7502110e-04],\n",
       "       [1.1761299e-02],\n",
       "       [3.3960198e-03],\n",
       "       [3.2241531e-02],\n",
       "       [9.9669671e-01],\n",
       "       [1.3016450e-01],\n",
       "       [6.7152190e-01],\n",
       "       [1.4821310e-01],\n",
       "       [2.3809543e-02],\n",
       "       [1.9781928e-01],\n",
       "       [2.7970308e-01],\n",
       "       [7.2051785e-03],\n",
       "       [4.6778581e-01],\n",
       "       [5.3848523e-01],\n",
       "       [2.5991349e-02],\n",
       "       [9.6912968e-01],\n",
       "       [9.9998409e-01],\n",
       "       [8.2591403e-04],\n",
       "       [1.8447416e-01],\n",
       "       [6.9345915e-01],\n",
       "       [2.7164362e-02],\n",
       "       [4.2010087e-01],\n",
       "       [7.5484812e-01],\n",
       "       [1.5200427e-01],\n",
       "       [1.5510324e-03],\n",
       "       [2.6103336e-01],\n",
       "       [9.9823320e-01],\n",
       "       [9.9475086e-01],\n",
       "       [3.2511660e-01],\n",
       "       [9.9604815e-01],\n",
       "       [1.7859645e-01],\n",
       "       [3.2619584e-01],\n",
       "       [4.0369660e-02],\n",
       "       [6.4130771e-01],\n",
       "       [9.9958414e-01],\n",
       "       [7.4277002e-01],\n",
       "       [9.7473508e-01],\n",
       "       [4.2217416e-01],\n",
       "       [9.9849224e-01],\n",
       "       [9.9991709e-01],\n",
       "       [1.3422021e-03],\n",
       "       [5.3273179e-02],\n",
       "       [7.8244799e-01],\n",
       "       [2.4688600e-03],\n",
       "       [3.8197343e-03],\n",
       "       [2.3874141e-01],\n",
       "       [6.6889495e-02],\n",
       "       [5.3019831e-03],\n",
       "       [2.1424331e-01],\n",
       "       [4.9822068e-01],\n",
       "       [8.6126214e-01],\n",
       "       [9.9831331e-01],\n",
       "       [5.2714771e-01],\n",
       "       [9.5478725e-05],\n",
       "       [4.9218827e-01],\n",
       "       [2.2422050e-01],\n",
       "       [9.9560779e-01],\n",
       "       [7.3880434e-01],\n",
       "       [4.1015912e-02],\n",
       "       [6.2768966e-01],\n",
       "       [2.2071160e-02],\n",
       "       [1.9227175e-01],\n",
       "       [3.0733868e-02],\n",
       "       [1.0367759e-01],\n",
       "       [1.7392090e-01],\n",
       "       [7.0658076e-01],\n",
       "       [9.9499738e-01],\n",
       "       [9.9203601e-02],\n",
       "       [9.1912574e-01],\n",
       "       [5.7729673e-01],\n",
       "       [9.2701375e-01],\n",
       "       [9.1411650e-01],\n",
       "       [7.3255920e-01],\n",
       "       [1.3882697e-02],\n",
       "       [5.8124354e-03],\n",
       "       [4.2010087e-01],\n",
       "       [5.5396521e-01],\n",
       "       [7.9019797e-01],\n",
       "       [9.4896293e-01],\n",
       "       [9.9604815e-01],\n",
       "       [3.4846076e-01],\n",
       "       [8.2060301e-01],\n",
       "       [1.7497899e-01],\n",
       "       [2.2363217e-01],\n",
       "       [9.4756532e-01],\n",
       "       [9.5080251e-01],\n",
       "       [5.2410823e-01],\n",
       "       [5.9095159e-02],\n",
       "       [9.9986589e-01],\n",
       "       [4.6833742e-01],\n",
       "       [8.1142771e-01],\n",
       "       [5.4560465e-01],\n",
       "       [2.7551346e-03],\n",
       "       [2.4207735e-02],\n",
       "       [2.8809111e-03],\n",
       "       [1.7370893e-02],\n",
       "       [2.9805874e-02],\n",
       "       [6.4265281e-02],\n",
       "       [8.3076656e-03],\n",
       "       [2.7823646e-04],\n",
       "       [9.9843723e-01],\n",
       "       [3.8378157e-03],\n",
       "       [3.2619584e-01],\n",
       "       [8.4582120e-02],\n",
       "       [7.6852838e-04],\n",
       "       [3.8441978e-03],\n",
       "       [7.3099577e-01],\n",
       "       [3.0733868e-02],\n",
       "       [1.4243881e-02],\n",
       "       [9.9995714e-01],\n",
       "       [9.9891579e-01],\n",
       "       [3.0767798e-02],\n",
       "       [9.0013707e-01],\n",
       "       [5.0601986e-04],\n",
       "       [1.9851139e-01],\n",
       "       [4.1720569e-01],\n",
       "       [2.4673465e-01],\n",
       "       [9.9627876e-01],\n",
       "       [6.7630714e-01],\n",
       "       [9.9695009e-01],\n",
       "       [1.6521637e-03],\n",
       "       [1.7677487e-01],\n",
       "       [1.2239782e-01],\n",
       "       [3.4847346e-01],\n",
       "       [2.6733597e-04],\n",
       "       [9.3593651e-01],\n",
       "       [2.3621401e-02],\n",
       "       [9.2201507e-01],\n",
       "       [1.5457365e-01],\n",
       "       [9.9990946e-01],\n",
       "       [1.2093881e-03],\n",
       "       [3.9681405e-02],\n",
       "       [9.9981433e-01],\n",
       "       [1.8343321e-04],\n",
       "       [9.9703139e-01],\n",
       "       [4.6790950e-02],\n",
       "       [1.5329492e-03],\n",
       "       [4.0270123e-01],\n",
       "       [4.1030979e-01],\n",
       "       [2.1010276e-02],\n",
       "       [1.2139728e-02],\n",
       "       [4.7538551e-03],\n",
       "       [4.2217416e-01]], dtype=float32)"
      ]
     },
     "execution_count": 54,
     "metadata": {},
     "output_type": "execute_result"
    }
   ],
   "source": [
    "# Make predictions on the test dataset\n",
    "predictions = model.predict(X_test)\n",
    "predictions"
   ]
  },
  {
   "cell_type": "markdown",
   "metadata": {},
   "source": [
    "## Eval Metrics"
   ]
  },
  {
   "cell_type": "code",
   "execution_count": 55,
   "metadata": {},
   "outputs": [],
   "source": [
    "# Apply threshold to obtain binary predictions (0 or 1)\n",
    "threshold = 0.5\n",
    "binary_predictions = (predictions >= threshold).astype(int)"
   ]
  },
  {
   "cell_type": "code",
   "execution_count": 56,
   "metadata": {},
   "outputs": [
    {
     "name": "stdout",
     "output_type": "stream",
     "text": [
      "Accuracy: 48.84%\n"
     ]
    }
   ],
   "source": [
    "accuracy = accuracy_score(y_test, binary_predictions)\n",
    "print(f\"Accuracy: {accuracy*100:.2f}%\")"
   ]
  },
  {
   "cell_type": "code",
   "execution_count": 57,
   "metadata": {},
   "outputs": [
    {
     "data": {
      "text/plain": [
       "(array([57., 22.,  8.,  9., 12.,  7.,  6., 10.,  4., 37.]),\n",
       " array([9.54787247e-05, 1.00084342e-01, 2.00073197e-01, 3.00062060e-01,\n",
       "        4.00050908e-01, 5.00039756e-01, 6.00028634e-01, 7.00017512e-01,\n",
       "        8.00006390e-01, 8.99995208e-01, 9.99984086e-01]),\n",
       " <BarContainer object of 10 artists>)"
      ]
     },
     "execution_count": 57,
     "metadata": {},
     "output_type": "execute_result"
    },
    {
     "data": {
      "image/png": "[encoded data removed]",
      "text/plain": [
       "<Figure size 640x480 with 1 Axes>"
      ]
     },
     "metadata": {},
     "output_type": "display_data"
    }
   ],
   "source": [
    "plt.hist(predictions.squeeze())"
   ]
  },
  {
   "cell_type": "code",
   "execution_count": 58,
   "metadata": {},
   "outputs": [
    {
     "name": "stdout",
     "output_type": "stream",
     "text": [
      "Classification Report:\n",
      "              precision    recall  f1-score   support\n",
      "\n",
      "           0       0.46      0.62      0.53        80\n",
      "           1       0.53      0.37      0.44        92\n",
      "\n",
      "    accuracy                           0.49       172\n",
      "   macro avg       0.50      0.50      0.48       172\n",
      "weighted avg       0.50      0.49      0.48       172\n",
      "\n"
     ]
    }
   ],
   "source": [
    "class_report = classification_report(y_test, binary_predictions)\n",
    "print(\"Classification Report:\")\n",
    "print(class_report)"
   ]
  }
 ],
 "metadata": {
  "kernelspec": {
   "display_name": "Python 3",
   "language": "python",
   "name": "python3"
  },
  "language_info": {
   "codemirror_mode": {
    "name": "ipython",
    "version": 3
   },
   "file_extension": ".py",
   "mimetype": "text/x-python",
   "name": "python",
   "nbconvert_exporter": "python",
   "pygments_lexer": "ipython3",
   "version": "3.10.0"
  }
 },
 "nbformat": 4,
 "nbformat_minor": 2
}
