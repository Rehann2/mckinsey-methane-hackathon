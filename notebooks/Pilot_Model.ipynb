{
 "cells": [
  {
   "cell_type": "markdown",
   "metadata": {},
   "source": [
    "# Imports"
   ]
  },
  {
   "cell_type": "code",
   "execution_count": 4,
   "metadata": {},
   "outputs": [],
   "source": [
    "import pandas as pd\n",
    "import numpy as np\n",
    "import rasterio\n",
    "import geopandas as gpd\n",
    "import earthpy.plot as ep\n",
    "import os\n",
    "import imageio\n",
    "import cv2\n",
    "os.getcwd()\n",
    "import pandas as pd\n",
    "import numpy as np\n",
    "import datetime\n",
    "import matplotlib.pyplot as plt\n",
    "import tensorflow as tf\n",
    "from tensorflow import keras\n",
    "from tensorflow.keras import layers\n",
    "from sklearn.model_selection import train_test_split\n",
    "from sklearn.metrics import accuracy_score, classification_report, confusion_matrix\n",
    "from tensorflow.keras.preprocessing.image import ImageDataGenerator\n",
    "from tensorflow.keras.utils import to_categorical\n",
    "from tensorflow import keras\n",
    "from tensorflow.keras import layers\n",
    "import glob\n",
    "from tensorflow.keras.callbacks import EarlyStopping\n",
    "from sklearn.preprocessing import LabelBinarizer\n",
    "from sklearn.preprocessing import LabelEncoder\n",
    "import cv2\n",
    "keras.utils.set_random_seed(101)\n",
    "from utils.dataloader import LoadData\n",
    "from tensorflow.keras.applications import MobileNetV2, EfficientNetB0"
   ]
  },
  {
   "cell_type": "markdown",
   "metadata": {},
   "source": [
    "# Path"
   ]
  },
  {
   "cell_type": "code",
   "execution_count": 6,
   "metadata": {},
   "outputs": [
    {
     "data": {
      "text/plain": [
       "'c:\\\\Users\\\\Rehan Ibrahim\\\\OneDrive - HEC Paris\\\\Desktop\\\\mckinsey-methane-hackathon'"
      ]
     },
     "execution_count": 6,
     "metadata": {},
     "output_type": "execute_result"
    }
   ],
   "source": [
    "os.getcwd()"
   ]
  },
  {
   "cell_type": "code",
   "execution_count": 3,
   "metadata": {},
   "outputs": [
    {
     "name": "stdout",
     "output_type": "stream",
     "text": [
      "c:\\Users\\Rehan Ibrahim\\OneDrive - HEC Paris\\Desktop\\mckinsey-methane-hackathon\n"
     ]
    }
   ],
   "source": [
    "cd .."
   ]
  },
  {
   "cell_type": "code",
   "execution_count": null,
   "metadata": {},
   "outputs": [],
   "source": []
  },
  {
   "cell_type": "markdown",
   "metadata": {},
   "source": [
    "# Loading and EDA"
   ]
  },
  {
   "cell_type": "code",
   "execution_count": 8,
   "metadata": {},
   "outputs": [
    {
     "data": {
      "text/plain": [
       "['.git',\n",
       " '.github',\n",
       " '.gitignore',\n",
       " 'app',\n",
       " 'data',\n",
       " 'EDA2.ipynb',\n",
       " 'logs',\n",
       " 'methane-detection-app.py',\n",
       " 'model',\n",
       " 'notebooks',\n",
       " 'output_test.csv',\n",
       " 'README.md',\n",
       " 'requirements.txt',\n",
       " 'tests',\n",
       " 'utils']"
      ]
     },
     "execution_count": 8,
     "metadata": {},
     "output_type": "execute_result"
    }
   ],
   "source": [
    "os.listdir()"
   ]
  },
  {
   "cell_type": "code",
   "execution_count": 7,
   "metadata": {},
   "outputs": [
    {
     "ename": "FileNotFoundError",
     "evalue": "[Errno 2] No such file or directory: 'data/train_data/metadata.csv'",
     "output_type": "error",
     "traceback": [
      "\u001b[1;31m---------------------------------------------------------------------------\u001b[0m",
      "\u001b[1;31mFileNotFoundError\u001b[0m                         Traceback (most recent call last)",
      "\u001b[1;32mc:\\Users\\Rehan Ibrahim\\OneDrive - HEC Paris\\Desktop\\mckinsey-methane-hackathon\\notebooks\\Pilot_Model.ipynb Cell 8\u001b[0m line \u001b[0;36m4\n\u001b[0;32m      <a href='vscode-notebook-cell:/c%3A/Users/Rehan%20Ibrahim/OneDrive%20-%20HEC%20Paris/Desktop/mckinsey-methane-hackathon/notebooks/Pilot_Model.ipynb#Y154sZmlsZQ%3D%3D?line=0'>1</a>\u001b[0m data \u001b[39m=\u001b[39m LoadData(metadata_path\u001b[39m=\u001b[39m\u001b[39m\"\u001b[39m\u001b[39mdata/train_data/metadata.csv\u001b[39m\u001b[39m\"\u001b[39m,\n\u001b[0;32m      <a href='vscode-notebook-cell:/c%3A/Users/Rehan%20Ibrahim/OneDrive%20-%20HEC%20Paris/Desktop/mckinsey-methane-hackathon/notebooks/Pilot_Model.ipynb#Y154sZmlsZQ%3D%3D?line=1'>2</a>\u001b[0m                 image_data_path\u001b[39m=\u001b[39m\u001b[39m\"\u001b[39m\u001b[39mdata/train_data/\u001b[39m\u001b[39m\"\u001b[39m)\n\u001b[1;32m----> <a href='vscode-notebook-cell:/c%3A/Users/Rehan%20Ibrahim/OneDrive%20-%20HEC%20Paris/Desktop/mckinsey-methane-hackathon/notebooks/Pilot_Model.ipynb#Y154sZmlsZQ%3D%3D?line=3'>4</a>\u001b[0m X_train_aug, X_test, y_train_aug, y_test \u001b[39m=\u001b[39m data\u001b[39m.\u001b[39;49mprep_data(normalize\u001b[39m=\u001b[39;49m\u001b[39mTrue\u001b[39;49;00m, augment\u001b[39m=\u001b[39;49m\u001b[39mTrue\u001b[39;49;00m)\n",
      "File \u001b[1;32mc:\\Users\\Rehan Ibrahim\\OneDrive - HEC Paris\\Desktop\\mckinsey-methane-hackathon\\utils\\dataloader.py:91\u001b[0m, in \u001b[0;36mLoadData.prep_data\u001b[1;34m(self, augment, normalize, group_split, test_size, seed)\u001b[0m\n\u001b[0;32m     90\u001b[0m \u001b[39mdef\u001b[39;00m \u001b[39mprep_data\u001b[39m(\u001b[39mself\u001b[39m, augment:\u001b[39mbool\u001b[39m\u001b[39m=\u001b[39m\u001b[39mTrue\u001b[39;00m, normalize:\u001b[39mbool\u001b[39m\u001b[39m=\u001b[39m\u001b[39mTrue\u001b[39;00m, group_split\u001b[39m=\u001b[39m\u001b[39mTrue\u001b[39;00m, test_size\u001b[39m=\u001b[39m\u001b[39m0.2\u001b[39m,seed\u001b[39m=\u001b[39m\u001b[39m123\u001b[39m):\n\u001b[1;32m---> 91\u001b[0m     X, y \u001b[39m=\u001b[39m \u001b[39mself\u001b[39;49m\u001b[39m.\u001b[39;49mget_train_data()\n\u001b[0;32m     92\u001b[0m     \u001b[39mif\u001b[39;00m normalize:\n\u001b[0;32m     93\u001b[0m         X \u001b[39m=\u001b[39m \u001b[39mself\u001b[39m\u001b[39m.\u001b[39mnormalize_data(X)\n",
      "File \u001b[1;32mc:\\Users\\Rehan Ibrahim\\OneDrive - HEC Paris\\Desktop\\mckinsey-methane-hackathon\\utils\\dataloader.py:23\u001b[0m, in \u001b[0;36mLoadData.get_train_data\u001b[1;34m(self)\u001b[0m\n\u001b[0;32m     20\u001b[0m image_data \u001b[39m=\u001b[39m []\n\u001b[0;32m     21\u001b[0m plume_labels \u001b[39m=\u001b[39m []\n\u001b[1;32m---> 23\u001b[0m \u001b[39mself\u001b[39m\u001b[39m.\u001b[39mmeta_df \u001b[39m=\u001b[39m pd\u001b[39m.\u001b[39;49mread_csv(\u001b[39mself\u001b[39;49m\u001b[39m.\u001b[39;49mmetadata_path)\n\u001b[0;32m     24\u001b[0m \u001b[39mself\u001b[39m\u001b[39m.\u001b[39mmeta_df[\u001b[39m\"\u001b[39m\u001b[39mpath\u001b[39m\u001b[39m\"\u001b[39m] \u001b[39m=\u001b[39m \u001b[39mself\u001b[39m\u001b[39m.\u001b[39mmeta_df[\u001b[39m'\u001b[39m\u001b[39mpath\u001b[39m\u001b[39m'\u001b[39m]\u001b[39m.\u001b[39mastype(\u001b[39mstr\u001b[39m) \u001b[39m+\u001b[39m \u001b[39m'\u001b[39m\u001b[39m.tif\u001b[39m\u001b[39m'\u001b[39m\n\u001b[0;32m     25\u001b[0m \u001b[39m# Loop through the metadata and load images\u001b[39;00m\n",
      "File \u001b[1;32mc:\\Users\\Rehan Ibrahim\\AppData\\Local\\Programs\\Python\\Python310\\lib\\site-packages\\pandas\\util\\_decorators.py:211\u001b[0m, in \u001b[0;36mdeprecate_kwarg.<locals>._deprecate_kwarg.<locals>.wrapper\u001b[1;34m(*args, **kwargs)\u001b[0m\n\u001b[0;32m    209\u001b[0m     \u001b[39melse\u001b[39;00m:\n\u001b[0;32m    210\u001b[0m         kwargs[new_arg_name] \u001b[39m=\u001b[39m new_arg_value\n\u001b[1;32m--> 211\u001b[0m \u001b[39mreturn\u001b[39;00m func(\u001b[39m*\u001b[39margs, \u001b[39m*\u001b[39m\u001b[39m*\u001b[39mkwargs)\n",
      "File \u001b[1;32mc:\\Users\\Rehan Ibrahim\\AppData\\Local\\Programs\\Python\\Python310\\lib\\site-packages\\pandas\\util\\_decorators.py:331\u001b[0m, in \u001b[0;36mdeprecate_nonkeyword_arguments.<locals>.decorate.<locals>.wrapper\u001b[1;34m(*args, **kwargs)\u001b[0m\n\u001b[0;32m    325\u001b[0m \u001b[39mif\u001b[39;00m \u001b[39mlen\u001b[39m(args) \u001b[39m>\u001b[39m num_allow_args:\n\u001b[0;32m    326\u001b[0m     warnings\u001b[39m.\u001b[39mwarn(\n\u001b[0;32m    327\u001b[0m         msg\u001b[39m.\u001b[39mformat(arguments\u001b[39m=\u001b[39m_format_argument_list(allow_args)),\n\u001b[0;32m    328\u001b[0m         \u001b[39mFutureWarning\u001b[39;00m,\n\u001b[0;32m    329\u001b[0m         stacklevel\u001b[39m=\u001b[39mfind_stack_level(),\n\u001b[0;32m    330\u001b[0m     )\n\u001b[1;32m--> 331\u001b[0m \u001b[39mreturn\u001b[39;00m func(\u001b[39m*\u001b[39margs, \u001b[39m*\u001b[39m\u001b[39m*\u001b[39mkwargs)\n",
      "File \u001b[1;32mc:\\Users\\Rehan Ibrahim\\AppData\\Local\\Programs\\Python\\Python310\\lib\\site-packages\\pandas\\io\\parsers\\readers.py:950\u001b[0m, in \u001b[0;36mread_csv\u001b[1;34m(filepath_or_buffer, sep, delimiter, header, names, index_col, usecols, squeeze, prefix, mangle_dupe_cols, dtype, engine, converters, true_values, false_values, skipinitialspace, skiprows, skipfooter, nrows, na_values, keep_default_na, na_filter, verbose, skip_blank_lines, parse_dates, infer_datetime_format, keep_date_col, date_parser, dayfirst, cache_dates, iterator, chunksize, compression, thousands, decimal, lineterminator, quotechar, quoting, doublequote, escapechar, comment, encoding, encoding_errors, dialect, error_bad_lines, warn_bad_lines, on_bad_lines, delim_whitespace, low_memory, memory_map, float_precision, storage_options)\u001b[0m\n\u001b[0;32m    935\u001b[0m kwds_defaults \u001b[39m=\u001b[39m _refine_defaults_read(\n\u001b[0;32m    936\u001b[0m     dialect,\n\u001b[0;32m    937\u001b[0m     delimiter,\n\u001b[1;32m   (...)\u001b[0m\n\u001b[0;32m    946\u001b[0m     defaults\u001b[39m=\u001b[39m{\u001b[39m\"\u001b[39m\u001b[39mdelimiter\u001b[39m\u001b[39m\"\u001b[39m: \u001b[39m\"\u001b[39m\u001b[39m,\u001b[39m\u001b[39m\"\u001b[39m},\n\u001b[0;32m    947\u001b[0m )\n\u001b[0;32m    948\u001b[0m kwds\u001b[39m.\u001b[39mupdate(kwds_defaults)\n\u001b[1;32m--> 950\u001b[0m \u001b[39mreturn\u001b[39;00m _read(filepath_or_buffer, kwds)\n",
      "File \u001b[1;32mc:\\Users\\Rehan Ibrahim\\AppData\\Local\\Programs\\Python\\Python310\\lib\\site-packages\\pandas\\io\\parsers\\readers.py:605\u001b[0m, in \u001b[0;36m_read\u001b[1;34m(filepath_or_buffer, kwds)\u001b[0m\n\u001b[0;32m    602\u001b[0m _validate_names(kwds\u001b[39m.\u001b[39mget(\u001b[39m\"\u001b[39m\u001b[39mnames\u001b[39m\u001b[39m\"\u001b[39m, \u001b[39mNone\u001b[39;00m))\n\u001b[0;32m    604\u001b[0m \u001b[39m# Create the parser.\u001b[39;00m\n\u001b[1;32m--> 605\u001b[0m parser \u001b[39m=\u001b[39m TextFileReader(filepath_or_buffer, \u001b[39m*\u001b[39m\u001b[39m*\u001b[39mkwds)\n\u001b[0;32m    607\u001b[0m \u001b[39mif\u001b[39;00m chunksize \u001b[39mor\u001b[39;00m iterator:\n\u001b[0;32m    608\u001b[0m     \u001b[39mreturn\u001b[39;00m parser\n",
      "File \u001b[1;32mc:\\Users\\Rehan Ibrahim\\AppData\\Local\\Programs\\Python\\Python310\\lib\\site-packages\\pandas\\io\\parsers\\readers.py:1442\u001b[0m, in \u001b[0;36mTextFileReader.__init__\u001b[1;34m(self, f, engine, **kwds)\u001b[0m\n\u001b[0;32m   1439\u001b[0m     \u001b[39mself\u001b[39m\u001b[39m.\u001b[39moptions[\u001b[39m\"\u001b[39m\u001b[39mhas_index_names\u001b[39m\u001b[39m\"\u001b[39m] \u001b[39m=\u001b[39m kwds[\u001b[39m\"\u001b[39m\u001b[39mhas_index_names\u001b[39m\u001b[39m\"\u001b[39m]\n\u001b[0;32m   1441\u001b[0m \u001b[39mself\u001b[39m\u001b[39m.\u001b[39mhandles: IOHandles \u001b[39m|\u001b[39m \u001b[39mNone\u001b[39;00m \u001b[39m=\u001b[39m \u001b[39mNone\u001b[39;00m\n\u001b[1;32m-> 1442\u001b[0m \u001b[39mself\u001b[39m\u001b[39m.\u001b[39m_engine \u001b[39m=\u001b[39m \u001b[39mself\u001b[39;49m\u001b[39m.\u001b[39;49m_make_engine(f, \u001b[39mself\u001b[39;49m\u001b[39m.\u001b[39;49mengine)\n",
      "File \u001b[1;32mc:\\Users\\Rehan Ibrahim\\AppData\\Local\\Programs\\Python\\Python310\\lib\\site-packages\\pandas\\io\\parsers\\readers.py:1735\u001b[0m, in \u001b[0;36mTextFileReader._make_engine\u001b[1;34m(self, f, engine)\u001b[0m\n\u001b[0;32m   1733\u001b[0m     \u001b[39mif\u001b[39;00m \u001b[39m\"\u001b[39m\u001b[39mb\u001b[39m\u001b[39m\"\u001b[39m \u001b[39mnot\u001b[39;00m \u001b[39min\u001b[39;00m mode:\n\u001b[0;32m   1734\u001b[0m         mode \u001b[39m+\u001b[39m\u001b[39m=\u001b[39m \u001b[39m\"\u001b[39m\u001b[39mb\u001b[39m\u001b[39m\"\u001b[39m\n\u001b[1;32m-> 1735\u001b[0m \u001b[39mself\u001b[39m\u001b[39m.\u001b[39mhandles \u001b[39m=\u001b[39m get_handle(\n\u001b[0;32m   1736\u001b[0m     f,\n\u001b[0;32m   1737\u001b[0m     mode,\n\u001b[0;32m   1738\u001b[0m     encoding\u001b[39m=\u001b[39;49m\u001b[39mself\u001b[39;49m\u001b[39m.\u001b[39;49moptions\u001b[39m.\u001b[39;49mget(\u001b[39m\"\u001b[39;49m\u001b[39mencoding\u001b[39;49m\u001b[39m\"\u001b[39;49m, \u001b[39mNone\u001b[39;49;00m),\n\u001b[0;32m   1739\u001b[0m     compression\u001b[39m=\u001b[39;49m\u001b[39mself\u001b[39;49m\u001b[39m.\u001b[39;49moptions\u001b[39m.\u001b[39;49mget(\u001b[39m\"\u001b[39;49m\u001b[39mcompression\u001b[39;49m\u001b[39m\"\u001b[39;49m, \u001b[39mNone\u001b[39;49;00m),\n\u001b[0;32m   1740\u001b[0m     memory_map\u001b[39m=\u001b[39;49m\u001b[39mself\u001b[39;49m\u001b[39m.\u001b[39;49moptions\u001b[39m.\u001b[39;49mget(\u001b[39m\"\u001b[39;49m\u001b[39mmemory_map\u001b[39;49m\u001b[39m\"\u001b[39;49m, \u001b[39mFalse\u001b[39;49;00m),\n\u001b[0;32m   1741\u001b[0m     is_text\u001b[39m=\u001b[39;49mis_text,\n\u001b[0;32m   1742\u001b[0m     errors\u001b[39m=\u001b[39;49m\u001b[39mself\u001b[39;49m\u001b[39m.\u001b[39;49moptions\u001b[39m.\u001b[39;49mget(\u001b[39m\"\u001b[39;49m\u001b[39mencoding_errors\u001b[39;49m\u001b[39m\"\u001b[39;49m, \u001b[39m\"\u001b[39;49m\u001b[39mstrict\u001b[39;49m\u001b[39m\"\u001b[39;49m),\n\u001b[0;32m   1743\u001b[0m     storage_options\u001b[39m=\u001b[39;49m\u001b[39mself\u001b[39;49m\u001b[39m.\u001b[39;49moptions\u001b[39m.\u001b[39;49mget(\u001b[39m\"\u001b[39;49m\u001b[39mstorage_options\u001b[39;49m\u001b[39m\"\u001b[39;49m, \u001b[39mNone\u001b[39;49;00m),\n\u001b[0;32m   1744\u001b[0m )\n\u001b[0;32m   1745\u001b[0m \u001b[39massert\u001b[39;00m \u001b[39mself\u001b[39m\u001b[39m.\u001b[39mhandles \u001b[39mis\u001b[39;00m \u001b[39mnot\u001b[39;00m \u001b[39mNone\u001b[39;00m\n\u001b[0;32m   1746\u001b[0m f \u001b[39m=\u001b[39m \u001b[39mself\u001b[39m\u001b[39m.\u001b[39mhandles\u001b[39m.\u001b[39mhandle\n",
      "File \u001b[1;32mc:\\Users\\Rehan Ibrahim\\AppData\\Local\\Programs\\Python\\Python310\\lib\\site-packages\\pandas\\io\\common.py:856\u001b[0m, in \u001b[0;36mget_handle\u001b[1;34m(path_or_buf, mode, encoding, compression, memory_map, is_text, errors, storage_options)\u001b[0m\n\u001b[0;32m    851\u001b[0m \u001b[39melif\u001b[39;00m \u001b[39misinstance\u001b[39m(handle, \u001b[39mstr\u001b[39m):\n\u001b[0;32m    852\u001b[0m     \u001b[39m# Check whether the filename is to be opened in binary mode.\u001b[39;00m\n\u001b[0;32m    853\u001b[0m     \u001b[39m# Binary mode does not support 'encoding' and 'newline'.\u001b[39;00m\n\u001b[0;32m    854\u001b[0m     \u001b[39mif\u001b[39;00m ioargs\u001b[39m.\u001b[39mencoding \u001b[39mand\u001b[39;00m \u001b[39m\"\u001b[39m\u001b[39mb\u001b[39m\u001b[39m\"\u001b[39m \u001b[39mnot\u001b[39;00m \u001b[39min\u001b[39;00m ioargs\u001b[39m.\u001b[39mmode:\n\u001b[0;32m    855\u001b[0m         \u001b[39m# Encoding\u001b[39;00m\n\u001b[1;32m--> 856\u001b[0m         handle \u001b[39m=\u001b[39m \u001b[39mopen\u001b[39;49m(\n\u001b[0;32m    857\u001b[0m             handle,\n\u001b[0;32m    858\u001b[0m             ioargs\u001b[39m.\u001b[39;49mmode,\n\u001b[0;32m    859\u001b[0m             encoding\u001b[39m=\u001b[39;49mioargs\u001b[39m.\u001b[39;49mencoding,\n\u001b[0;32m    860\u001b[0m             errors\u001b[39m=\u001b[39;49merrors,\n\u001b[0;32m    861\u001b[0m             newline\u001b[39m=\u001b[39;49m\u001b[39m\"\u001b[39;49m\u001b[39m\"\u001b[39;49m,\n\u001b[0;32m    862\u001b[0m         )\n\u001b[0;32m    863\u001b[0m     \u001b[39melse\u001b[39;00m:\n\u001b[0;32m    864\u001b[0m         \u001b[39m# Binary mode\u001b[39;00m\n\u001b[0;32m    865\u001b[0m         handle \u001b[39m=\u001b[39m \u001b[39mopen\u001b[39m(handle, ioargs\u001b[39m.\u001b[39mmode)\n",
      "\u001b[1;31mFileNotFoundError\u001b[0m: [Errno 2] No such file or directory: 'data/train_data/metadata.csv'"
     ]
    }
   ],
   "source": [
    "data = LoadData(metadata_path=\"data/train_data/metadata.csv\",\n",
    "                image_data_path=\"data/train_data/\")\n",
    "\n",
    "X_train_aug, X_test, y_train_aug, y_test = data.prep_data(normalize=True, augment=True)"
   ]
  },
  {
   "cell_type": "code",
   "execution_count": 5,
   "metadata": {},
   "outputs": [
    {
     "name": "stderr",
     "output_type": "stream",
     "text": [
      "c:\\Users\\Rehan Ibrahim\\AppData\\Local\\Programs\\Python\\Python310\\lib\\site-packages\\rasterio\\__init__.py:320: NotGeoreferencedWarning: Dataset has no geotransform, gcps, or rpcs. The identity matrix will be returned.\n",
      "  dataset = DatasetReader(path, driver=driver, sharing=sharing, **kwargs)\n"
     ]
    },
    {
     "data": {
      "text/plain": [
       "(1.0, 1.0)"
      ]
     },
     "execution_count": 5,
     "metadata": {},
     "output_type": "execute_result"
    }
   ],
   "source": [
    "with rasterio.open(\"data/dataset/train_data/images/plume/20230101_methane_mixing_ratio_id_4928.tif\") as src:\n",
    "    img = src.read(1)\n",
    "    \n",
    "img_meta =src.meta\n",
    "img_meta\n",
    "src.res"
   ]
  },
  {
   "cell_type": "code",
   "execution_count": 6,
   "metadata": {},
   "outputs": [],
   "source": [
    "meta_df = pd.read_csv('data/dataset/train_data/metadata.csv')"
   ]
  },
  {
   "cell_type": "code",
   "execution_count": 7,
   "metadata": {},
   "outputs": [
    {
     "data": {
      "text/plain": [
       "lat        lon       \n",
       "29.631951   35.952379    21\n",
       "32.713854   44.609398    19\n",
       "33.990812   39.641866    18\n",
       "28.510000   77.442400    17\n",
       "36.596520   38.321405    15\n",
       "                         ..\n",
       "21.039986  -77.824694     1\n",
       "24.907500   67.023000     1\n",
       "23.763333   86.396667     1\n",
       "23.740000   90.595000     1\n",
       "68.570113   25.563059     1\n",
       "Length: 101, dtype: int64"
      ]
     },
     "execution_count": 7,
     "metadata": {},
     "output_type": "execute_result"
    }
   ],
   "source": [
    "meta_df[['lat','lon']].value_counts()"
   ]
  },
  {
   "cell_type": "code",
   "execution_count": 8,
   "metadata": {},
   "outputs": [
    {
     "data": {
      "text/html": [
       "<div>\n",
       "<style scoped>\n",
       "    .dataframe tbody tr th:only-of-type {\n",
       "        vertical-align: middle;\n",
       "    }\n",
       "\n",
       "    .dataframe tbody tr th {\n",
       "        vertical-align: top;\n",
       "    }\n",
       "\n",
       "    .dataframe thead th {\n",
       "        text-align: right;\n",
       "    }\n",
       "</style>\n",
       "<table border=\"1\" class=\"dataframe\">\n",
       "  <thead>\n",
       "    <tr style=\"text-align: right;\">\n",
       "      <th></th>\n",
       "      <th>date</th>\n",
       "      <th>id_coord</th>\n",
       "      <th>plume</th>\n",
       "      <th>set</th>\n",
       "      <th>lat</th>\n",
       "      <th>lon</th>\n",
       "      <th>coord_x</th>\n",
       "      <th>coord_y</th>\n",
       "      <th>path</th>\n",
       "    </tr>\n",
       "  </thead>\n",
       "  <tbody>\n",
       "    <tr>\n",
       "      <th>0</th>\n",
       "      <td>20230223</td>\n",
       "      <td>id_6675</td>\n",
       "      <td>yes</td>\n",
       "      <td>train</td>\n",
       "      <td>31.528750</td>\n",
       "      <td>74.330625</td>\n",
       "      <td>24</td>\n",
       "      <td>47</td>\n",
       "      <td>images/plume/20230223_methane_mixing_ratio_id_...</td>\n",
       "    </tr>\n",
       "    <tr>\n",
       "      <th>1</th>\n",
       "      <td>20230103</td>\n",
       "      <td>id_2542</td>\n",
       "      <td>yes</td>\n",
       "      <td>train</td>\n",
       "      <td>35.538000</td>\n",
       "      <td>112.524000</td>\n",
       "      <td>42</td>\n",
       "      <td>37</td>\n",
       "      <td>images/plume/20230103_methane_mixing_ratio_id_...</td>\n",
       "    </tr>\n",
       "    <tr>\n",
       "      <th>2</th>\n",
       "      <td>20230301</td>\n",
       "      <td>id_6546</td>\n",
       "      <td>yes</td>\n",
       "      <td>train</td>\n",
       "      <td>21.060000</td>\n",
       "      <td>84.936667</td>\n",
       "      <td>58</td>\n",
       "      <td>15</td>\n",
       "      <td>images/plume/20230301_methane_mixing_ratio_id_...</td>\n",
       "    </tr>\n",
       "    <tr>\n",
       "      <th>3</th>\n",
       "      <td>20230225</td>\n",
       "      <td>id_6084</td>\n",
       "      <td>yes</td>\n",
       "      <td>train</td>\n",
       "      <td>26.756667</td>\n",
       "      <td>80.973333</td>\n",
       "      <td>28</td>\n",
       "      <td>62</td>\n",
       "      <td>images/plume/20230225_methane_mixing_ratio_id_...</td>\n",
       "    </tr>\n",
       "    <tr>\n",
       "      <th>4</th>\n",
       "      <td>20230105</td>\n",
       "      <td>id_2012</td>\n",
       "      <td>yes</td>\n",
       "      <td>train</td>\n",
       "      <td>34.800000</td>\n",
       "      <td>40.770000</td>\n",
       "      <td>59</td>\n",
       "      <td>44</td>\n",
       "      <td>images/plume/20230105_methane_mixing_ratio_id_...</td>\n",
       "    </tr>\n",
       "  </tbody>\n",
       "</table>\n",
       "</div>"
      ],
      "text/plain": [
       "       date id_coord plume    set        lat         lon  coord_x  coord_y  \\\n",
       "0  20230223  id_6675   yes  train  31.528750   74.330625       24       47   \n",
       "1  20230103  id_2542   yes  train  35.538000  112.524000       42       37   \n",
       "2  20230301  id_6546   yes  train  21.060000   84.936667       58       15   \n",
       "3  20230225  id_6084   yes  train  26.756667   80.973333       28       62   \n",
       "4  20230105  id_2012   yes  train  34.800000   40.770000       59       44   \n",
       "\n",
       "                                                path  \n",
       "0  images/plume/20230223_methane_mixing_ratio_id_...  \n",
       "1  images/plume/20230103_methane_mixing_ratio_id_...  \n",
       "2  images/plume/20230301_methane_mixing_ratio_id_...  \n",
       "3  images/plume/20230225_methane_mixing_ratio_id_...  \n",
       "4  images/plume/20230105_methane_mixing_ratio_id_...  "
      ]
     },
     "execution_count": 8,
     "metadata": {},
     "output_type": "execute_result"
    }
   ],
   "source": [
    "meta_df.head()"
   ]
  },
  {
   "cell_type": "code",
   "execution_count": 9,
   "metadata": {},
   "outputs": [],
   "source": [
    "meta_df['path'] = 'data/dataset/train_data/' + meta_df['path'].astype(str) \n",
    "meta_df['path'] =  meta_df['path'].astype(str) +'.tif'"
   ]
  },
  {
   "cell_type": "code",
   "execution_count": 10,
   "metadata": {},
   "outputs": [
    {
     "data": {
      "text/html": [
       "<div>\n",
       "<style scoped>\n",
       "    .dataframe tbody tr th:only-of-type {\n",
       "        vertical-align: middle;\n",
       "    }\n",
       "\n",
       "    .dataframe tbody tr th {\n",
       "        vertical-align: top;\n",
       "    }\n",
       "\n",
       "    .dataframe thead th {\n",
       "        text-align: right;\n",
       "    }\n",
       "</style>\n",
       "<table border=\"1\" class=\"dataframe\">\n",
       "  <thead>\n",
       "    <tr style=\"text-align: right;\">\n",
       "      <th></th>\n",
       "      <th>date</th>\n",
       "      <th>id_coord</th>\n",
       "      <th>plume</th>\n",
       "      <th>set</th>\n",
       "      <th>lat</th>\n",
       "      <th>lon</th>\n",
       "      <th>coord_x</th>\n",
       "      <th>coord_y</th>\n",
       "      <th>path</th>\n",
       "    </tr>\n",
       "  </thead>\n",
       "  <tbody>\n",
       "    <tr>\n",
       "      <th>0</th>\n",
       "      <td>20230223</td>\n",
       "      <td>id_6675</td>\n",
       "      <td>yes</td>\n",
       "      <td>train</td>\n",
       "      <td>31.528750</td>\n",
       "      <td>74.330625</td>\n",
       "      <td>24</td>\n",
       "      <td>47</td>\n",
       "      <td>data/dataset/train_data/images/plume/20230223_...</td>\n",
       "    </tr>\n",
       "    <tr>\n",
       "      <th>1</th>\n",
       "      <td>20230103</td>\n",
       "      <td>id_2542</td>\n",
       "      <td>yes</td>\n",
       "      <td>train</td>\n",
       "      <td>35.538000</td>\n",
       "      <td>112.524000</td>\n",
       "      <td>42</td>\n",
       "      <td>37</td>\n",
       "      <td>data/dataset/train_data/images/plume/20230103_...</td>\n",
       "    </tr>\n",
       "    <tr>\n",
       "      <th>2</th>\n",
       "      <td>20230301</td>\n",
       "      <td>id_6546</td>\n",
       "      <td>yes</td>\n",
       "      <td>train</td>\n",
       "      <td>21.060000</td>\n",
       "      <td>84.936667</td>\n",
       "      <td>58</td>\n",
       "      <td>15</td>\n",
       "      <td>data/dataset/train_data/images/plume/20230301_...</td>\n",
       "    </tr>\n",
       "    <tr>\n",
       "      <th>3</th>\n",
       "      <td>20230225</td>\n",
       "      <td>id_6084</td>\n",
       "      <td>yes</td>\n",
       "      <td>train</td>\n",
       "      <td>26.756667</td>\n",
       "      <td>80.973333</td>\n",
       "      <td>28</td>\n",
       "      <td>62</td>\n",
       "      <td>data/dataset/train_data/images/plume/20230225_...</td>\n",
       "    </tr>\n",
       "    <tr>\n",
       "      <th>4</th>\n",
       "      <td>20230105</td>\n",
       "      <td>id_2012</td>\n",
       "      <td>yes</td>\n",
       "      <td>train</td>\n",
       "      <td>34.800000</td>\n",
       "      <td>40.770000</td>\n",
       "      <td>59</td>\n",
       "      <td>44</td>\n",
       "      <td>data/dataset/train_data/images/plume/20230105_...</td>\n",
       "    </tr>\n",
       "    <tr>\n",
       "      <th>...</th>\n",
       "      <td>...</td>\n",
       "      <td>...</td>\n",
       "      <td>...</td>\n",
       "      <td>...</td>\n",
       "      <td>...</td>\n",
       "      <td>...</td>\n",
       "      <td>...</td>\n",
       "      <td>...</td>\n",
       "      <td>...</td>\n",
       "    </tr>\n",
       "    <tr>\n",
       "      <th>425</th>\n",
       "      <td>20230302</td>\n",
       "      <td>id_6658</td>\n",
       "      <td>no</td>\n",
       "      <td>train</td>\n",
       "      <td>30.965619</td>\n",
       "      <td>34.541283</td>\n",
       "      <td>39</td>\n",
       "      <td>36</td>\n",
       "      <td>data/dataset/train_data/images/no_plume/202303...</td>\n",
       "    </tr>\n",
       "    <tr>\n",
       "      <th>426</th>\n",
       "      <td>20230218</td>\n",
       "      <td>id_4690</td>\n",
       "      <td>no</td>\n",
       "      <td>train</td>\n",
       "      <td>35.950275</td>\n",
       "      <td>40.267652</td>\n",
       "      <td>29</td>\n",
       "      <td>28</td>\n",
       "      <td>data/dataset/train_data/images/no_plume/202302...</td>\n",
       "    </tr>\n",
       "    <tr>\n",
       "      <th>427</th>\n",
       "      <td>20230213</td>\n",
       "      <td>id_2519</td>\n",
       "      <td>no</td>\n",
       "      <td>train</td>\n",
       "      <td>49.963801</td>\n",
       "      <td>6.016938</td>\n",
       "      <td>23</td>\n",
       "      <td>10</td>\n",
       "      <td>data/dataset/train_data/images/no_plume/202302...</td>\n",
       "    </tr>\n",
       "    <tr>\n",
       "      <th>428</th>\n",
       "      <td>20230213</td>\n",
       "      <td>id_5510</td>\n",
       "      <td>no</td>\n",
       "      <td>train</td>\n",
       "      <td>32.713854</td>\n",
       "      <td>44.609398</td>\n",
       "      <td>55</td>\n",
       "      <td>54</td>\n",
       "      <td>data/dataset/train_data/images/no_plume/202302...</td>\n",
       "    </tr>\n",
       "    <tr>\n",
       "      <th>429</th>\n",
       "      <td>20230330</td>\n",
       "      <td>id_6609</td>\n",
       "      <td>no</td>\n",
       "      <td>train</td>\n",
       "      <td>47.758979</td>\n",
       "      <td>27.801630</td>\n",
       "      <td>21</td>\n",
       "      <td>15</td>\n",
       "      <td>data/dataset/train_data/images/no_plume/202303...</td>\n",
       "    </tr>\n",
       "  </tbody>\n",
       "</table>\n",
       "<p>430 rows × 9 columns</p>\n",
       "</div>"
      ],
      "text/plain": [
       "         date id_coord plume    set        lat         lon  coord_x  coord_y  \\\n",
       "0    20230223  id_6675   yes  train  31.528750   74.330625       24       47   \n",
       "1    20230103  id_2542   yes  train  35.538000  112.524000       42       37   \n",
       "2    20230301  id_6546   yes  train  21.060000   84.936667       58       15   \n",
       "3    20230225  id_6084   yes  train  26.756667   80.973333       28       62   \n",
       "4    20230105  id_2012   yes  train  34.800000   40.770000       59       44   \n",
       "..        ...      ...   ...    ...        ...         ...      ...      ...   \n",
       "425  20230302  id_6658    no  train  30.965619   34.541283       39       36   \n",
       "426  20230218  id_4690    no  train  35.950275   40.267652       29       28   \n",
       "427  20230213  id_2519    no  train  49.963801    6.016938       23       10   \n",
       "428  20230213  id_5510    no  train  32.713854   44.609398       55       54   \n",
       "429  20230330  id_6609    no  train  47.758979   27.801630       21       15   \n",
       "\n",
       "                                                  path  \n",
       "0    data/dataset/train_data/images/plume/20230223_...  \n",
       "1    data/dataset/train_data/images/plume/20230103_...  \n",
       "2    data/dataset/train_data/images/plume/20230301_...  \n",
       "3    data/dataset/train_data/images/plume/20230225_...  \n",
       "4    data/dataset/train_data/images/plume/20230105_...  \n",
       "..                                                 ...  \n",
       "425  data/dataset/train_data/images/no_plume/202303...  \n",
       "426  data/dataset/train_data/images/no_plume/202302...  \n",
       "427  data/dataset/train_data/images/no_plume/202302...  \n",
       "428  data/dataset/train_data/images/no_plume/202302...  \n",
       "429  data/dataset/train_data/images/no_plume/202303...  \n",
       "\n",
       "[430 rows x 9 columns]"
      ]
     },
     "execution_count": 10,
     "metadata": {},
     "output_type": "execute_result"
    }
   ],
   "source": [
    "meta_df"
   ]
  },
  {
   "cell_type": "code",
   "execution_count": 11,
   "metadata": {},
   "outputs": [],
   "source": [
    "meta_df['plume'] = meta_df['plume'].map({'yes': 1, 'no': 0})"
   ]
  },
  {
   "cell_type": "code",
   "execution_count": 12,
   "metadata": {},
   "outputs": [
    {
     "data": {
      "text/html": [
       "<div>\n",
       "<style scoped>\n",
       "    .dataframe tbody tr th:only-of-type {\n",
       "        vertical-align: middle;\n",
       "    }\n",
       "\n",
       "    .dataframe tbody tr th {\n",
       "        vertical-align: top;\n",
       "    }\n",
       "\n",
       "    .dataframe thead th {\n",
       "        text-align: right;\n",
       "    }\n",
       "</style>\n",
       "<table border=\"1\" class=\"dataframe\">\n",
       "  <thead>\n",
       "    <tr style=\"text-align: right;\">\n",
       "      <th></th>\n",
       "      <th>date</th>\n",
       "      <th>id_coord</th>\n",
       "      <th>plume</th>\n",
       "      <th>set</th>\n",
       "      <th>lat</th>\n",
       "      <th>lon</th>\n",
       "      <th>coord_x</th>\n",
       "      <th>coord_y</th>\n",
       "      <th>path</th>\n",
       "    </tr>\n",
       "  </thead>\n",
       "  <tbody>\n",
       "    <tr>\n",
       "      <th>0</th>\n",
       "      <td>20230223</td>\n",
       "      <td>id_6675</td>\n",
       "      <td>1</td>\n",
       "      <td>train</td>\n",
       "      <td>31.528750</td>\n",
       "      <td>74.330625</td>\n",
       "      <td>24</td>\n",
       "      <td>47</td>\n",
       "      <td>data/dataset/train_data/images/plume/20230223_...</td>\n",
       "    </tr>\n",
       "    <tr>\n",
       "      <th>1</th>\n",
       "      <td>20230103</td>\n",
       "      <td>id_2542</td>\n",
       "      <td>1</td>\n",
       "      <td>train</td>\n",
       "      <td>35.538000</td>\n",
       "      <td>112.524000</td>\n",
       "      <td>42</td>\n",
       "      <td>37</td>\n",
       "      <td>data/dataset/train_data/images/plume/20230103_...</td>\n",
       "    </tr>\n",
       "    <tr>\n",
       "      <th>2</th>\n",
       "      <td>20230301</td>\n",
       "      <td>id_6546</td>\n",
       "      <td>1</td>\n",
       "      <td>train</td>\n",
       "      <td>21.060000</td>\n",
       "      <td>84.936667</td>\n",
       "      <td>58</td>\n",
       "      <td>15</td>\n",
       "      <td>data/dataset/train_data/images/plume/20230301_...</td>\n",
       "    </tr>\n",
       "    <tr>\n",
       "      <th>3</th>\n",
       "      <td>20230225</td>\n",
       "      <td>id_6084</td>\n",
       "      <td>1</td>\n",
       "      <td>train</td>\n",
       "      <td>26.756667</td>\n",
       "      <td>80.973333</td>\n",
       "      <td>28</td>\n",
       "      <td>62</td>\n",
       "      <td>data/dataset/train_data/images/plume/20230225_...</td>\n",
       "    </tr>\n",
       "    <tr>\n",
       "      <th>4</th>\n",
       "      <td>20230105</td>\n",
       "      <td>id_2012</td>\n",
       "      <td>1</td>\n",
       "      <td>train</td>\n",
       "      <td>34.800000</td>\n",
       "      <td>40.770000</td>\n",
       "      <td>59</td>\n",
       "      <td>44</td>\n",
       "      <td>data/dataset/train_data/images/plume/20230105_...</td>\n",
       "    </tr>\n",
       "    <tr>\n",
       "      <th>...</th>\n",
       "      <td>...</td>\n",
       "      <td>...</td>\n",
       "      <td>...</td>\n",
       "      <td>...</td>\n",
       "      <td>...</td>\n",
       "      <td>...</td>\n",
       "      <td>...</td>\n",
       "      <td>...</td>\n",
       "      <td>...</td>\n",
       "    </tr>\n",
       "    <tr>\n",
       "      <th>425</th>\n",
       "      <td>20230302</td>\n",
       "      <td>id_6658</td>\n",
       "      <td>0</td>\n",
       "      <td>train</td>\n",
       "      <td>30.965619</td>\n",
       "      <td>34.541283</td>\n",
       "      <td>39</td>\n",
       "      <td>36</td>\n",
       "      <td>data/dataset/train_data/images/no_plume/202303...</td>\n",
       "    </tr>\n",
       "    <tr>\n",
       "      <th>426</th>\n",
       "      <td>20230218</td>\n",
       "      <td>id_4690</td>\n",
       "      <td>0</td>\n",
       "      <td>train</td>\n",
       "      <td>35.950275</td>\n",
       "      <td>40.267652</td>\n",
       "      <td>29</td>\n",
       "      <td>28</td>\n",
       "      <td>data/dataset/train_data/images/no_plume/202302...</td>\n",
       "    </tr>\n",
       "    <tr>\n",
       "      <th>427</th>\n",
       "      <td>20230213</td>\n",
       "      <td>id_2519</td>\n",
       "      <td>0</td>\n",
       "      <td>train</td>\n",
       "      <td>49.963801</td>\n",
       "      <td>6.016938</td>\n",
       "      <td>23</td>\n",
       "      <td>10</td>\n",
       "      <td>data/dataset/train_data/images/no_plume/202302...</td>\n",
       "    </tr>\n",
       "    <tr>\n",
       "      <th>428</th>\n",
       "      <td>20230213</td>\n",
       "      <td>id_5510</td>\n",
       "      <td>0</td>\n",
       "      <td>train</td>\n",
       "      <td>32.713854</td>\n",
       "      <td>44.609398</td>\n",
       "      <td>55</td>\n",
       "      <td>54</td>\n",
       "      <td>data/dataset/train_data/images/no_plume/202302...</td>\n",
       "    </tr>\n",
       "    <tr>\n",
       "      <th>429</th>\n",
       "      <td>20230330</td>\n",
       "      <td>id_6609</td>\n",
       "      <td>0</td>\n",
       "      <td>train</td>\n",
       "      <td>47.758979</td>\n",
       "      <td>27.801630</td>\n",
       "      <td>21</td>\n",
       "      <td>15</td>\n",
       "      <td>data/dataset/train_data/images/no_plume/202303...</td>\n",
       "    </tr>\n",
       "  </tbody>\n",
       "</table>\n",
       "<p>430 rows × 9 columns</p>\n",
       "</div>"
      ],
      "text/plain": [
       "         date id_coord  plume    set        lat         lon  coord_x  coord_y  \\\n",
       "0    20230223  id_6675      1  train  31.528750   74.330625       24       47   \n",
       "1    20230103  id_2542      1  train  35.538000  112.524000       42       37   \n",
       "2    20230301  id_6546      1  train  21.060000   84.936667       58       15   \n",
       "3    20230225  id_6084      1  train  26.756667   80.973333       28       62   \n",
       "4    20230105  id_2012      1  train  34.800000   40.770000       59       44   \n",
       "..        ...      ...    ...    ...        ...         ...      ...      ...   \n",
       "425  20230302  id_6658      0  train  30.965619   34.541283       39       36   \n",
       "426  20230218  id_4690      0  train  35.950275   40.267652       29       28   \n",
       "427  20230213  id_2519      0  train  49.963801    6.016938       23       10   \n",
       "428  20230213  id_5510      0  train  32.713854   44.609398       55       54   \n",
       "429  20230330  id_6609      0  train  47.758979   27.801630       21       15   \n",
       "\n",
       "                                                  path  \n",
       "0    data/dataset/train_data/images/plume/20230223_...  \n",
       "1    data/dataset/train_data/images/plume/20230103_...  \n",
       "2    data/dataset/train_data/images/plume/20230301_...  \n",
       "3    data/dataset/train_data/images/plume/20230225_...  \n",
       "4    data/dataset/train_data/images/plume/20230105_...  \n",
       "..                                                 ...  \n",
       "425  data/dataset/train_data/images/no_plume/202303...  \n",
       "426  data/dataset/train_data/images/no_plume/202302...  \n",
       "427  data/dataset/train_data/images/no_plume/202302...  \n",
       "428  data/dataset/train_data/images/no_plume/202302...  \n",
       "429  data/dataset/train_data/images/no_plume/202303...  \n",
       "\n",
       "[430 rows x 9 columns]"
      ]
     },
     "execution_count": 12,
     "metadata": {},
     "output_type": "execute_result"
    }
   ],
   "source": [
    "meta_df"
   ]
  },
  {
   "cell_type": "code",
   "execution_count": 13,
   "metadata": {},
   "outputs": [
    {
     "name": "stderr",
     "output_type": "stream",
     "text": [
      "c:\\Users\\Rehan Ibrahim\\AppData\\Local\\Programs\\Python\\Python310\\lib\\site-packages\\rasterio\\__init__.py:320: NotGeoreferencedWarning: Dataset has no geotransform, gcps, or rpcs. The identity matrix will be returned.\n",
      "  dataset = DatasetReader(path, driver=driver, sharing=sharing, **kwargs)\n"
     ]
    },
    {
     "data": {
      "image/png": "[encoded data removed]",
      "text/plain": [
       "<Figure size 1200x1200 with 2 Axes>"
      ]
     },
     "metadata": {},
     "output_type": "display_data"
    },
    {
     "data": {
      "text/plain": [
       "<AxesSubplot: >"
      ]
     },
     "execution_count": 13,
     "metadata": {},
     "output_type": "execute_result"
    }
   ],
   "source": [
    "with rasterio.open('data/dataset/train_data/images/plume/20230223_methane_mixing_ratio_id_6675.tif') as src:\n",
    "    img = src.read(1)\n",
    "ep.plot_bands(img)"
   ]
  },
  {
   "cell_type": "code",
   "execution_count": 14,
   "metadata": {},
   "outputs": [],
   "source": [
    "image_data = []\n",
    "plume_labels = []\n",
    "\n",
    "# Loop through the metadata and load images\n",
    "for index, row in meta_df.iterrows():\n",
    "    image_path = row['path']\n",
    "    plume_label = row['plume']\n",
    "\n",
    "    # Read the TIFF image using rasterio\n",
    "    try:\n",
    "        with rasterio.open(image_path) as src:\n",
    "            image = src.read(1)  # Assuming single-band image, adjust if necessary\n",
    "            # You may want to resize or preprocess the image here if necessary\n",
    "\n",
    "        # Append the image data and plume label to their respective lists\n",
    "        image_data.append(image)\n",
    "        plume_labels.append(plume_label)\n",
    "    except Exception as e:\n",
    "        print(f\"Error loading image at {image_path}: {e}\")\n",
    "\n",
    "# Convert the lists into NumPy arrays\n",
    "image_data = np.array(image_data)\n",
    "plume_labels = np.array(plume_labels)"
   ]
  },
  {
   "cell_type": "code",
   "execution_count": 15,
   "metadata": {},
   "outputs": [
    {
     "data": {
      "text/plain": [
       "array([1, 1, 1, 1, 1, 1, 1, 1, 1, 1, 1, 1, 1, 1, 1, 1, 1, 1, 1, 1, 1, 1,\n",
       "       1, 1, 1, 1, 1, 1, 1, 1, 1, 1, 1, 1, 1, 1, 1, 1, 1, 1, 1, 1, 1, 1,\n",
       "       1, 1, 1, 1, 1, 1, 1, 1, 1, 1, 1, 1, 1, 1, 1, 1, 1, 1, 1, 1, 1, 1,\n",
       "       1, 1, 1, 1, 1, 1, 1, 1, 1, 1, 1, 1, 1, 1, 1, 1, 1, 1, 1, 1, 1, 1,\n",
       "       1, 1, 1, 1, 1, 1, 1, 1, 1, 1, 1, 1, 1, 1, 1, 1, 1, 1, 1, 1, 1, 1,\n",
       "       1, 1, 1, 1, 1, 1, 1, 1, 1, 1, 1, 1, 1, 1, 1, 1, 1, 1, 1, 1, 1, 1,\n",
       "       1, 1, 1, 1, 1, 1, 1, 1, 1, 1, 1, 1, 1, 1, 1, 1, 1, 1, 1, 1, 1, 1,\n",
       "       1, 1, 1, 1, 1, 1, 1, 1, 1, 1, 1, 1, 1, 1, 1, 1, 1, 1, 1, 1, 1, 1,\n",
       "       1, 1, 1, 1, 1, 1, 1, 1, 1, 1, 1, 1, 1, 1, 1, 1, 1, 1, 1, 1, 1, 1,\n",
       "       1, 1, 1, 1, 1, 1, 1, 1, 1, 1, 1, 1, 1, 1, 1, 1, 1, 1, 0, 0, 0, 0,\n",
       "       0, 0, 0, 0, 0, 0, 0, 0, 0, 0, 0, 0, 0, 0, 0, 0, 0, 0, 0, 0, 0, 0,\n",
       "       0, 0, 0, 0, 0, 0, 0, 0, 0, 0, 0, 0, 0, 0, 0, 0, 0, 0, 0, 0, 0, 0,\n",
       "       0, 0, 0, 0, 0, 0, 0, 0, 0, 0, 0, 0, 0, 0, 0, 0, 0, 0, 0, 0, 0, 0,\n",
       "       0, 0, 0, 0, 0, 0, 0, 0, 0, 0, 0, 0, 0, 0, 0, 0, 0, 0, 0, 0, 0, 0,\n",
       "       0, 0, 0, 0, 0, 0, 0, 0, 0, 0, 0, 0, 0, 0, 0, 0, 0, 0, 0, 0, 0, 0,\n",
       "       0, 0, 0, 0, 0, 0, 0, 0, 0, 0, 0, 0, 0, 0, 0, 0, 0, 0, 0, 0, 0, 0,\n",
       "       0, 0, 0, 0, 0, 0, 0, 0, 0, 0, 0, 0, 0, 0, 0, 0, 0, 0, 0, 0, 0, 0,\n",
       "       0, 0, 0, 0, 0, 0, 0, 0, 0, 0, 0, 0, 0, 0, 0, 0, 0, 0, 0, 0, 0, 0,\n",
       "       0, 0, 0, 0, 0, 0, 0, 0, 0, 0, 0, 0, 0, 0, 0, 0, 0, 0, 0, 0, 0, 0,\n",
       "       0, 0, 0, 0, 0, 0, 0, 0, 0, 0, 0, 0])"
      ]
     },
     "execution_count": 15,
     "metadata": {},
     "output_type": "execute_result"
    }
   ],
   "source": [
    "plume_labels"
   ]
  },
  {
   "cell_type": "code",
   "execution_count": 16,
   "metadata": {},
   "outputs": [
    {
     "data": {
      "text/plain": [
       "array([[[15373, 23745, 23745, ...,     0,     0,     0],\n",
       "        [21083, 22849, 22849, ...,     0,     0,     0],\n",
       "        [21083, 22849, 22849, ...,     0,  3348,  3348],\n",
       "        ...,\n",
       "        [49287, 49287, 43637, ..., 22215, 29933, 29933],\n",
       "        [49287, 43637, 43637, ..., 13711, 14626, 14626],\n",
       "        [49834, 48903, 48903, ..., 13711, 14626, 14626]],\n",
       "\n",
       "       [[    0,     0,     0, ...,     0,     0,     0],\n",
       "        [ 6386, 11516,  1537, ...,     0,     0,     0],\n",
       "        [ 6386, 11516,  1537, ...,     0,     0,     0],\n",
       "        ...,\n",
       "        [ 3878,  6976,  6548, ...,     0,     0,     0],\n",
       "        [ 3878,  6976,  6548, ...,     0,     0,     0],\n",
       "        [ 4225,     0,  4100, ...,     0,     0,     0]],\n",
       "\n",
       "       [[14118,  9487,  9487, ..., 25601, 22138, 22138],\n",
       "        [16914,  5666,  5666, ..., 30095, 26363, 26363],\n",
       "        [16914,  5666,  5666, ..., 30095, 26363, 26363],\n",
       "        ...,\n",
       "        [14918, 14918, 16676, ..., 18546,     0,     0],\n",
       "        [14918, 14918, 16676, ..., 18546,     0,     0],\n",
       "        [    0,     0,     0, ...,  6638,     0,     0]],\n",
       "\n",
       "       ...,\n",
       "\n",
       "       [[42516, 41205, 45212, ..., 15059, 32915, 32915],\n",
       "        [    0, 48178, 45978, ..., 15059, 32915, 32915],\n",
       "        [    0, 48178, 45978, ..., 11351,  3934,  3934],\n",
       "        ...,\n",
       "        [    0,     0,     0, ...,     0,     0,     0],\n",
       "        [    0,     0,     0, ...,     0,     0,     0],\n",
       "        [    0,     0,     0, ...,     0,     0,     0]],\n",
       "\n",
       "       [[11184, 12509, 12509, ...,     0,     0,     0],\n",
       "        [11184, 12509, 12509, ...,     0,     0,     0],\n",
       "        [13173, 14030, 14030, ...,     0,     0,     0],\n",
       "        ...,\n",
       "        [27451, 27451, 27451, ...,     0,     0,     0],\n",
       "        [24843, 24843, 24843, ...,     0,     0,     0],\n",
       "        [24843, 24843, 24843, ...,     0,     0,     0]],\n",
       "\n",
       "       [[16737,     0,  7920, ..., 14995, 38241, 17538],\n",
       "        [15144, 16789, 24014, ..., 14995, 38241, 17538],\n",
       "        [15144, 16789, 24014, ...,  3623, 29676, 41046],\n",
       "        ...,\n",
       "        [    0,     0, 17724, ...,     0,     0,  1133],\n",
       "        [    0,     0, 17724, ..., 18202, 37727, 46228],\n",
       "        [    0,     0,  1945, ..., 18202, 37727, 46228]]], dtype=uint16)"
      ]
     },
     "execution_count": 16,
     "metadata": {},
     "output_type": "execute_result"
    }
   ],
   "source": [
    "image_data"
   ]
  },
  {
   "cell_type": "code",
   "execution_count": 17,
   "metadata": {},
   "outputs": [
    {
     "data": {
      "text/plain": [
       "array([[[0.23457694, 0.36232547, 0.36232547, ..., 0.        ,\n",
       "         0.        , 0.        ],\n",
       "        [0.32170596, 0.34865339, 0.34865339, ..., 0.        ,\n",
       "         0.        , 0.        ],\n",
       "        [0.32170596, 0.34865339, 0.34865339, ..., 0.        ,\n",
       "         0.05108721, 0.05108721],\n",
       "        ...,\n",
       "        [0.75207141, 0.75207141, 0.66585794, ..., 0.33897917,\n",
       "         0.4567483 , 0.4567483 ],\n",
       "        [0.75207141, 0.66585794, 0.66585794, ..., 0.20921645,\n",
       "         0.22317845, 0.22317845],\n",
       "        [0.7604181 , 0.74621195, 0.74621195, ..., 0.20921645,\n",
       "         0.22317845, 0.22317845]],\n",
       "\n",
       "       [[0.        , 0.        , 0.        , ..., 0.        ,\n",
       "         0.        , 0.        ],\n",
       "        [0.09744411, 0.1757229 , 0.02345312, ..., 0.        ,\n",
       "         0.        , 0.        ],\n",
       "        [0.09744411, 0.1757229 , 0.02345312, ..., 0.        ,\n",
       "         0.        , 0.        ],\n",
       "        ...,\n",
       "        [0.05917449, 0.10644694, 0.09991608, ..., 0.        ,\n",
       "         0.        , 0.        ],\n",
       "        [0.05917449, 0.10644694, 0.09991608, ..., 0.        ,\n",
       "         0.        , 0.        ],\n",
       "        [0.06446937, 0.        , 0.06256199, ..., 0.        ,\n",
       "         0.        , 0.        ]],\n",
       "\n",
       "       [[0.21542687, 0.14476234, 0.14476234, ..., 0.39064622,\n",
       "         0.33780423, 0.33780423],\n",
       "        [0.2580911 , 0.08645762, 0.08645762, ..., 0.45922026,\n",
       "         0.40227359, 0.40227359],\n",
       "        [0.2580911 , 0.08645762, 0.08645762, ..., 0.45922026,\n",
       "         0.40227359, 0.40227359],\n",
       "        ...,\n",
       "        [0.22763409, 0.22763409, 0.25445945, ..., 0.28299382,\n",
       "         0.        , 0.        ],\n",
       "        [0.22763409, 0.22763409, 0.25445945, ..., 0.28299382,\n",
       "         0.        , 0.        ],\n",
       "        [0.        , 0.        , 0.        , ..., 0.10128939,\n",
       "         0.        , 0.        ]],\n",
       "\n",
       "       ...,\n",
       "\n",
       "       [[0.64875257, 0.628748  , 0.6898909 , ..., 0.22978561,\n",
       "         0.50225071, 0.50225071],\n",
       "        [0.        , 0.73514916, 0.70157931, ..., 0.22978561,\n",
       "         0.50225071, 0.50225071],\n",
       "        [0.        , 0.73514916, 0.70157931, ..., 0.17320516,\n",
       "         0.06002899, 0.06002899],\n",
       "        ...,\n",
       "        [0.        , 0.        , 0.        , ..., 0.        ,\n",
       "         0.        , 0.        ],\n",
       "        [0.        , 0.        , 0.        , ..., 0.        ,\n",
       "         0.        , 0.        ],\n",
       "        [0.        , 0.        , 0.        , ..., 0.        ,\n",
       "         0.        , 0.        ]],\n",
       "\n",
       "       [[0.1706569 , 0.1908751 , 0.1908751 , ..., 0.        ,\n",
       "         0.        , 0.        ],\n",
       "        [0.1706569 , 0.1908751 , 0.1908751 , ..., 0.        ,\n",
       "         0.        , 0.        ],\n",
       "        [0.2010071 , 0.21408408, 0.21408408, ..., 0.        ,\n",
       "         0.        , 0.        ],\n",
       "        ...,\n",
       "        [0.41887541, 0.41887541, 0.41887541, ..., 0.        ,\n",
       "         0.        , 0.        ],\n",
       "        [0.37907988, 0.37907988, 0.37907988, ..., 0.        ,\n",
       "         0.        , 0.        ],\n",
       "        [0.37907988, 0.37907988, 0.37907988, ..., 0.        ,\n",
       "         0.        , 0.        ]],\n",
       "\n",
       "       [[0.25539025, 0.        , 0.12085145, ..., 0.22880903,\n",
       "         0.58352026, 0.26761273],\n",
       "        [0.23108263, 0.25618372, 0.36643015, ..., 0.22880903,\n",
       "         0.58352026, 0.26761273],\n",
       "        [0.23108263, 0.25618372, 0.36643015, ..., 0.05528344,\n",
       "         0.45282673, 0.62632181],\n",
       "        ...,\n",
       "        [0.        , 0.        , 0.2704509 , ..., 0.        ,\n",
       "         0.        , 0.01728847],\n",
       "        [0.        , 0.        , 0.2704509 , ..., 0.27774472,\n",
       "         0.57567712, 0.70539406],\n",
       "        [0.        , 0.        , 0.0296788 , ..., 0.27774472,\n",
       "         0.57567712, 0.70539406]]])"
      ]
     },
     "execution_count": 17,
     "metadata": {},
     "output_type": "execute_result"
    }
   ],
   "source": [
    "min_val = image_data.min()\n",
    "max_val = image_data.max()\n",
    "\n",
    "# Normalize the image data\n",
    "normalized_image_data = (image_data - min_val) / (max_val - min_val)\n",
    "normalized_image_data"
   ]
  },
  {
   "cell_type": "code",
   "execution_count": 18,
   "metadata": {},
   "outputs": [
    {
     "name": "stdout",
     "output_type": "stream",
     "text": [
      "X_train shape: (258, 64, 64)\n",
      "X_test shape: (172, 64, 64)\n"
     ]
    }
   ],
   "source": [
    "X = normalized_image_data\n",
    "y = plume_labels\n",
    "\n",
    "\n",
    "#X = [np.transpose(image, (1, 2, 0)) for image in X]\n",
    "\n",
    "#X = np.array(X)\n",
    "np.random.seed(101)\n",
    "X_train, X_test, y_train, y_test = train_test_split(X, y, test_size=0.4, random_state=42,shuffle=True)\n",
    "\n",
    "print(\"X_train shape:\", X_train.shape)\n",
    "print(\"X_test shape:\", X_test.shape)"
   ]
  },
  {
   "cell_type": "code",
   "execution_count": 19,
   "metadata": {},
   "outputs": [
    {
     "data": {
      "text/plain": [
       "array([1, 0, 0, 1, 1, 1, 0, 1, 1, 0, 0, 1, 0, 0, 0, 1, 0, 1, 0, 1, 1, 1,\n",
       "       1, 1, 1, 0, 1, 1, 1, 0, 0, 1, 0, 1, 1, 1, 1, 1, 0, 1, 1, 1, 0, 0,\n",
       "       0, 0, 0, 0, 0, 1, 1, 0, 0, 0, 1, 0, 0, 0, 0, 0, 0, 0, 1, 0, 0, 0,\n",
       "       0, 1, 1, 1, 0, 1, 0, 0, 1, 1, 0, 0, 0, 0, 1, 0, 0, 0, 0, 0, 0, 1,\n",
       "       1, 1, 0, 0, 1, 1, 0, 0, 0, 1, 0, 1, 0, 1, 0, 1, 0, 1, 1, 0, 1, 1,\n",
       "       1, 1, 1, 1, 1, 0, 0, 0, 1, 1, 0, 0, 0, 1, 1, 0, 1, 0, 0, 0, 1, 0,\n",
       "       0, 1, 0, 0, 1, 1, 1, 0, 1, 1, 1, 1, 0, 1, 0, 1, 0, 0, 0, 0, 1, 0,\n",
       "       1, 1, 1, 1, 1, 0, 1, 0, 1, 1, 1, 0, 0, 0, 0, 0, 0, 0, 1, 1, 0, 0,\n",
       "       0, 0, 0, 0, 0, 0, 1, 1, 1, 0, 1, 0, 0, 1, 1, 1, 0, 1, 1, 1, 1, 0,\n",
       "       0, 1, 0, 1, 0, 0, 0, 1, 0, 1, 0, 1, 0, 0, 1, 0, 0, 0, 0, 1, 0, 1,\n",
       "       1, 1, 0, 1, 1, 1, 1, 0, 0, 0, 1, 0, 1, 0, 1, 0, 0, 0, 0, 0, 1, 1,\n",
       "       1, 0, 1, 0, 1, 0, 1, 1, 0, 1, 1, 1, 1, 0, 0, 1])"
      ]
     },
     "execution_count": 19,
     "metadata": {},
     "output_type": "execute_result"
    }
   ],
   "source": [
    "y_train"
   ]
  },
  {
   "cell_type": "markdown",
   "metadata": {},
   "source": [
    "# Data Augmentation"
   ]
  },
  {
   "cell_type": "code",
   "execution_count": 69,
   "metadata": {},
   "outputs": [],
   "source": [
    "datagen = ImageDataGenerator(\n",
    "    rotation_range=10,\n",
    "    width_shift_range=0.1,\n",
    "    height_shift_range=0.1,\n",
    "    shear_range=0.2,\n",
    "    horizontal_flip=True,\n",
    "    fill_mode='nearest'\n",
    ")\n",
    "X_train = X_train.reshape(-1,64,64,1)\n",
    "batch_size=64\n",
    "steps_per_epoch = len(X_train) // batch_size\n",
    "# Fit the data augmentation generator to your training data\n",
    "datagen.fit(X_train)\n",
    "\n",
    "augmented_images = []\n",
    "augmented_labels = []\n",
    "\n",
    "# Generate augmented images and labels\n",
    "for X_batch, y_batch in datagen.flow(X_train, y_train, batch_size=batch_size,shuffle=True):\n",
    "    augmented_images.append(X_batch)\n",
    "    augmented_labels.append(y_batch)\n",
    "    if len(augmented_images) >= len(X_train):\n",
    "        break\n",
    "\n",
    "X_train_augmented = np.concatenate(augmented_images)\n",
    "y_train_augmented = np.concatenate(augmented_labels)\n",
    "\n",
    "y_train_augmented = y_train_augmented.astype(int)"
   ]
  },
  {
   "cell_type": "markdown",
   "metadata": {},
   "source": [
    "# Model 1(Pilot)"
   ]
  },
  {
   "cell_type": "code",
   "execution_count": 82,
   "metadata": {},
   "outputs": [],
   "source": [
    "from sklearn import metrics\n",
    "from keras import backend as K\n",
    "\n",
    "def auc(y_true, y_pred):\n",
    "    auc = tf.metrics.auc(y_true, y_pred)[1]\n",
    "    K.get_session().run(tf.local_variables_initializer())\n",
    "    return auc"
   ]
  },
  {
   "cell_type": "code",
   "execution_count": 85,
   "metadata": {},
   "outputs": [
    {
     "name": "stdout",
     "output_type": "stream",
     "text": [
      "Model: \"sequential_6\"\n",
      "_________________________________________________________________\n",
      " Layer (type)                Output Shape              Param #   \n",
      "=================================================================\n",
      " conv2d_15 (Conv2D)          (None, 62, 62, 32)        320       \n",
      "                                                                 \n",
      " max_pooling2d_15 (MaxPooli  (None, 31, 31, 32)        0         \n",
      " ng2D)                                                           \n",
      "                                                                 \n",
      " conv2d_16 (Conv2D)          (None, 29, 29, 64)        18496     \n",
      "                                                                 \n",
      " max_pooling2d_16 (MaxPooli  (None, 14, 14, 64)        0         \n",
      " ng2D)                                                           \n",
      "                                                                 \n",
      " conv2d_17 (Conv2D)          (None, 12, 12, 128)       73856     \n",
      "                                                                 \n",
      " max_pooling2d_17 (MaxPooli  (None, 6, 6, 128)         0         \n",
      " ng2D)                                                           \n",
      "                                                                 \n",
      " flatten_6 (Flatten)         (None, 4608)              0         \n",
      "                                                                 \n",
      " dense_18 (Dense)            (None, 128)               589952    \n",
      "                                                                 \n",
      " dropout_12 (Dropout)        (None, 128)               0         \n",
      "                                                                 \n",
      " dense_19 (Dense)            (None, 64)                8256      \n",
      "                                                                 \n",
      " dropout_13 (Dropout)        (None, 64)                0         \n",
      "                                                                 \n",
      " dense_20 (Dense)            (None, 1)                 65        \n",
      "                                                                 \n",
      "=================================================================\n",
      "Total params: 690945 (2.64 MB)\n",
      "Trainable params: 690945 (2.64 MB)\n",
      "Non-trainable params: 0 (0.00 Byte)\n",
      "_________________________________________________________________\n"
     ]
    }
   ],
   "source": [
    "import tensorflow as tf\n",
    "from tensorflow.keras import layers\n",
    "\n",
    "# Set the random seed for reproducibility\n",
    "tf.random.set_seed(1234)\n",
    "\n",
    "# Define the CNN model\n",
    "model = tf.keras.Sequential([\n",
    "    # Convolutional layers\n",
    "    layers.Conv2D(32, (3, 3), activation='relu', input_shape=(64, 64, 1)),\n",
    "    layers.MaxPooling2D((2, 2)),\n",
    "    layers.Conv2D(64, (3, 3), activation='relu'),\n",
    "    layers.MaxPooling2D((2, 2)),\n",
    "    layers.Conv2D(128, (3, 3), activation='relu'),\n",
    "    layers.MaxPooling2D((2, 2)),\n",
    "    \n",
    "    # Flatten the output for fully connected layers\n",
    "    layers.Flatten(),\n",
    "    \n",
    "    # Fully connected layers\n",
    "    layers.Dense(128, activation='relu'),\n",
    "    layers.Dropout(0.5),  \n",
    "    layers.Dense(64, activation='relu'),\n",
    "    layers.Dropout(0.5),\n",
    "    layers.Dense(1, activation='sigmoid')  # Use 'sigmoid' for binary classification\n",
    "])\n",
    "\n",
    "# Compile the model\n",
    "model.compile(optimizer='adam',\n",
    "              loss='binary_crossentropy',  # Use 'binary_crossentropy' for binary classification\n",
    "              metrics=[tf.keras.metrics.AUC()])\n",
    "\n",
    "# Print the model summary to view the architecture\n",
    "model.summary()\n",
    "\n",
    "# Define early stopping\n",
    "early_stopping = tf.keras.callbacks.EarlyStopping(\n",
    "    monitor='val_loss', \n",
    "    patience=5,           \n",
    "    restore_best_weights=True)\n",
    "\n",
    "log_dir = \"logs/fit/\" + datetime.datetime.now().strftime(\"%Y%m%d-%H%M%S\")\n",
    "tensorboard_callback = tf.keras.callbacks.TensorBoard(log_dir=log_dir, histogram_freq=1)"
   ]
  },
  {
   "cell_type": "code",
   "execution_count": 86,
   "metadata": {},
   "outputs": [
    {
     "name": "stdout",
     "output_type": "stream",
     "text": [
      "Epoch 1/100\n",
      "334/334 [==============================] - 37s 100ms/step - loss: 0.4728 - auc: 0.8560 - val_loss: 0.2680 - val_auc: 0.9586\n",
      "Epoch 2/100\n",
      "334/334 [==============================] - 32s 96ms/step - loss: 0.2089 - auc: 0.9729 - val_loss: 0.1444 - val_auc: 0.9911\n",
      "Epoch 3/100\n",
      "334/334 [==============================] - 32s 96ms/step - loss: 0.0943 - auc: 0.9939 - val_loss: 0.0568 - val_auc: 0.9990\n",
      "Epoch 4/100\n",
      "334/334 [==============================] - 32s 95ms/step - loss: 0.0461 - auc: 0.9982 - val_loss: 0.0418 - val_auc: 0.9983\n",
      "Epoch 5/100\n",
      "334/334 [==============================] - 32s 95ms/step - loss: 0.0380 - auc: 0.9987 - val_loss: 0.0706 - val_auc: 0.9952\n",
      "Epoch 6/100\n",
      "334/334 [==============================] - 31s 94ms/step - loss: 0.0297 - auc: 0.9993 - val_loss: 0.0269 - val_auc: 0.9996\n",
      "Epoch 7/100\n",
      "334/334 [==============================] - 31s 94ms/step - loss: 0.0283 - auc: 0.9993 - val_loss: 0.0211 - val_auc: 0.9997\n",
      "Epoch 8/100\n",
      "334/334 [==============================] - 31s 93ms/step - loss: 0.0240 - auc: 0.9991 - val_loss: 0.0500 - val_auc: 0.9979\n",
      "Epoch 9/100\n",
      "334/334 [==============================] - 32s 97ms/step - loss: 0.0286 - auc: 0.9987 - val_loss: 0.0425 - val_auc: 0.9989\n",
      "Epoch 10/100\n",
      "334/334 [==============================] - 32s 95ms/step - loss: 0.0125 - auc: 0.9998 - val_loss: 0.0326 - val_auc: 0.9979\n",
      "Epoch 11/100\n",
      "334/334 [==============================] - 32s 97ms/step - loss: 0.0215 - auc: 0.9994 - val_loss: 0.0645 - val_auc: 0.9962\n",
      "Epoch 12/100\n",
      "334/334 [==============================] - 32s 96ms/step - loss: 0.0238 - auc: 0.9991 - val_loss: 0.0265 - val_auc: 0.9989\n"
     ]
    },
    {
     "data": {
      "text/plain": [
       "<keras.src.callbacks.History at 0x19d09df48e0>"
      ]
     },
     "execution_count": 86,
     "metadata": {},
     "output_type": "execute_result"
    }
   ],
   "source": [
    "batch_size = 32\n",
    "epochs = 100\n",
    "model.fit(X_train_augmented,y_train_augmented, epochs=epochs, batch_size=batch_size, validation_split=0.2,callbacks=[early_stopping,tensorboard_callback])"
   ]
  },
  {
   "cell_type": "code",
   "execution_count": 72,
   "metadata": {},
   "outputs": [
    {
     "name": "stderr",
     "output_type": "stream",
     "text": [
      "c:\\Users\\Rehan Ibrahim\\AppData\\Local\\Programs\\Python\\Python310\\lib\\site-packages\\keras\\src\\engine\\training.py:3079: UserWarning: You are saving your model as an HDF5 file via `model.save()`. This file format is considered legacy. We recommend using instead the native Keras format, e.g. `model.save('my_model.keras')`.\n",
      "  saving_api.save_model(\n"
     ]
    }
   ],
   "source": [
    "model.save(\"model/CNN_First_Model.h5\")"
   ]
  },
  {
   "cell_type": "code",
   "execution_count": 87,
   "metadata": {},
   "outputs": [
    {
     "name": "stdout",
     "output_type": "stream",
     "text": [
      "6/6 [==============================] - 0s 24ms/step\n"
     ]
    },
    {
     "data": {
      "text/plain": [
       "array([[2.2929227e-07],\n",
       "       [9.9898654e-01],\n",
       "       [5.7503808e-02],\n",
       "       [9.9999988e-01],\n",
       "       [2.1710357e-06],\n",
       "       [3.6265588e-01],\n",
       "       [1.0000000e+00],\n",
       "       [9.9999970e-01],\n",
       "       [9.9988967e-01],\n",
       "       [6.7789316e-01],\n",
       "       [1.6937511e-05],\n",
       "       [1.0560088e-08],\n",
       "       [5.0081834e-03],\n",
       "       [7.8054245e-06],\n",
       "       [7.5282037e-01],\n",
       "       [9.9886197e-01],\n",
       "       [8.1779152e-05],\n",
       "       [9.8308353e-03],\n",
       "       [9.9994397e-01],\n",
       "       [6.9796620e-08],\n",
       "       [2.6861702e-09],\n",
       "       [7.2335423e-12],\n",
       "       [3.3676208e-08],\n",
       "       [1.0000000e+00],\n",
       "       [1.2656397e-05],\n",
       "       [1.4431784e-02],\n",
       "       [1.0000000e+00],\n",
       "       [8.2363700e-13],\n",
       "       [1.6582788e-04],\n",
       "       [1.6036596e-11],\n",
       "       [9.9943066e-01],\n",
       "       [1.7120701e-10],\n",
       "       [1.0656968e-06],\n",
       "       [1.1139044e-02],\n",
       "       [1.0369749e-16],\n",
       "       [9.9999672e-01],\n",
       "       [9.9999094e-01],\n",
       "       [8.1162443e-24],\n",
       "       [6.5521221e-05],\n",
       "       [3.5080930e-07],\n",
       "       [3.1932274e-18],\n",
       "       [9.9997723e-01],\n",
       "       [9.9994045e-01],\n",
       "       [1.0000000e+00],\n",
       "       [9.9914759e-01],\n",
       "       [2.5709320e-02],\n",
       "       [1.2126537e-03],\n",
       "       [9.9585021e-01],\n",
       "       [9.8259419e-01],\n",
       "       [1.7182274e-06],\n",
       "       [9.9999154e-01],\n",
       "       [1.7128664e-04],\n",
       "       [9.9999005e-01],\n",
       "       [9.8597771e-01],\n",
       "       [9.9984962e-01],\n",
       "       [5.0125458e-08],\n",
       "       [3.3676208e-08],\n",
       "       [9.9259847e-01],\n",
       "       [1.0083229e-03],\n",
       "       [9.9999982e-01],\n",
       "       [9.9990833e-01],\n",
       "       [2.5777431e-04],\n",
       "       [8.8061529e-01],\n",
       "       [9.9984258e-01],\n",
       "       [1.6996206e-06],\n",
       "       [2.8919810e-02],\n",
       "       [6.5798100e-05],\n",
       "       [6.0102236e-01],\n",
       "       [9.9947256e-01],\n",
       "       [9.5599139e-01],\n",
       "       [9.9999988e-01],\n",
       "       [1.3448257e-08],\n",
       "       [9.9998444e-01],\n",
       "       [9.9894893e-01],\n",
       "       [4.3469634e-02],\n",
       "       [4.7238379e-07],\n",
       "       [7.5984395e-01],\n",
       "       [9.9999791e-01],\n",
       "       [9.9999660e-01],\n",
       "       [1.0000000e+00],\n",
       "       [9.8660034e-01],\n",
       "       [1.8879157e-11],\n",
       "       [9.9999982e-01],\n",
       "       [9.9999499e-01],\n",
       "       [9.9963957e-01],\n",
       "       [9.8294479e-01],\n",
       "       [9.9999666e-01],\n",
       "       [9.9999899e-01],\n",
       "       [1.0257253e-03],\n",
       "       [3.2419854e-01],\n",
       "       [9.9998796e-01],\n",
       "       [7.1019986e-16],\n",
       "       [9.9999976e-01],\n",
       "       [1.6278823e-04],\n",
       "       [2.4848191e-08],\n",
       "       [8.9677185e-01],\n",
       "       [9.9099833e-01],\n",
       "       [1.0412790e-06],\n",
       "       [9.9978256e-01],\n",
       "       [9.9999028e-01],\n",
       "       [5.7916372e-07],\n",
       "       [5.4185598e-06],\n",
       "       [7.7247764e-09],\n",
       "       [2.9598737e-06],\n",
       "       [9.9999154e-01],\n",
       "       [4.0006722e-09],\n",
       "       [9.4430864e-01],\n",
       "       [9.9014163e-02],\n",
       "       [1.0083229e-03],\n",
       "       [1.0000000e+00],\n",
       "       [5.2473649e-08],\n",
       "       [9.9236536e-01],\n",
       "       [2.4257716e-09],\n",
       "       [3.0873969e-01],\n",
       "       [8.4432769e-01],\n",
       "       [9.9150157e-01],\n",
       "       [6.5059920e-13],\n",
       "       [1.7216319e-03],\n",
       "       [9.9875230e-01],\n",
       "       [5.1398639e-04],\n",
       "       [9.9999768e-01],\n",
       "       [9.9999970e-01],\n",
       "       [1.0000000e+00],\n",
       "       [9.9997759e-01],\n",
       "       [2.7021734e-08],\n",
       "       [1.3219651e-03],\n",
       "       [9.9999630e-01],\n",
       "       [1.0000000e+00],\n",
       "       [1.5878162e-09],\n",
       "       [2.2799608e-05],\n",
       "       [9.9999881e-01],\n",
       "       [9.9990833e-01],\n",
       "       [9.9999982e-01],\n",
       "       [3.8587010e-01],\n",
       "       [4.6770545e-03],\n",
       "       [1.2409524e-02],\n",
       "       [7.1019986e-16],\n",
       "       [3.9890309e-12],\n",
       "       [4.1710630e-02],\n",
       "       [9.9912089e-01],\n",
       "       [9.9973470e-01],\n",
       "       [9.9968606e-01],\n",
       "       [4.0506003e-03],\n",
       "       [1.0000000e+00],\n",
       "       [2.7343123e-12],\n",
       "       [1.3701845e-04],\n",
       "       [4.4862831e-01],\n",
       "       [9.5766687e-01],\n",
       "       [1.0000000e+00],\n",
       "       [9.9999982e-01],\n",
       "       [1.0000000e+00],\n",
       "       [9.9999976e-01],\n",
       "       [9.9964476e-01],\n",
       "       [9.7820626e-18],\n",
       "       [1.7916493e-04],\n",
       "       [1.1069954e-09],\n",
       "       [9.9953067e-01],\n",
       "       [2.2866709e-02],\n",
       "       [6.9772112e-01],\n",
       "       [9.9926788e-01],\n",
       "       [2.1452636e-10],\n",
       "       [9.9972588e-01],\n",
       "       [9.9601686e-01],\n",
       "       [9.9999869e-01],\n",
       "       [1.8406381e-07],\n",
       "       [1.0649550e-12],\n",
       "       [1.5039623e-04],\n",
       "       [4.6822803e-11],\n",
       "       [7.7586272e-03],\n",
       "       [9.9813420e-01],\n",
       "       [1.7322433e-08],\n",
       "       [6.5798100e-05]], dtype=float32)"
      ]
     },
     "execution_count": 87,
     "metadata": {},
     "output_type": "execute_result"
    }
   ],
   "source": [
    "# Make predictions on the test dataset\n",
    "predictions = model.predict(X_test)\n",
    "predictions"
   ]
  },
  {
   "cell_type": "markdown",
   "metadata": {},
   "source": [
    "## Eval Metrics"
   ]
  },
  {
   "cell_type": "code",
   "execution_count": 88,
   "metadata": {},
   "outputs": [],
   "source": [
    "# Apply threshold to obtain binary predictions (0 or 1)\n",
    "threshold = 0.5\n",
    "binary_predictions = (predictions >= threshold).astype(int)"
   ]
  },
  {
   "cell_type": "code",
   "execution_count": 95,
   "metadata": {},
   "outputs": [
    {
     "data": {
      "text/plain": [
       "0.9366847826086955"
      ]
     },
     "execution_count": 95,
     "metadata": {},
     "output_type": "execute_result"
    }
   ],
   "source": [
    "from sklearn.metrics import roc_auc_score\n",
    "roc_auc_score(y_test,predictions)"
   ]
  },
  {
   "cell_type": "code",
   "execution_count": 99,
   "metadata": {},
   "outputs": [
    {
     "name": "stdout",
     "output_type": "stream",
     "text": [
      "Accuracy: 85.47%\n"
     ]
    }
   ],
   "source": [
    "accuracy = accuracy_score(y_test, binary_predictions)\n",
    "print(f\"Accuracy: {accuracy*100:.2f}%\")"
   ]
  },
  {
   "cell_type": "code",
   "execution_count": 100,
   "metadata": {},
   "outputs": [
    {
     "data": {
      "text/plain": [
       "(array([82.,  0.,  0.,  4.,  1.,  0.,  3.,  2.,  3., 77.]),\n",
       " array([8.11624433e-24, 1.00000001e-01, 2.00000003e-01, 3.00000012e-01,\n",
       "        4.00000006e-01, 5.00000000e-01, 6.00000024e-01, 6.99999988e-01,\n",
       "        8.00000012e-01, 8.99999976e-01, 1.00000000e+00]),\n",
       " <BarContainer object of 10 artists>)"
      ]
     },
     "execution_count": 100,
     "metadata": {},
     "output_type": "execute_result"
    },
    {
     "data": {
      "image/png": "[encoded data removed]",
      "text/plain": [
       "<Figure size 640x480 with 1 Axes>"
      ]
     },
     "metadata": {},
     "output_type": "display_data"
    }
   ],
   "source": [
    "plt.hist(predictions.squeeze())"
   ]
  },
  {
   "cell_type": "code",
   "execution_count": 101,
   "metadata": {},
   "outputs": [
    {
     "data": {
      "text/plain": [
       "array([71,  9, 16, 76], dtype=int64)"
      ]
     },
     "execution_count": 101,
     "metadata": {},
     "output_type": "execute_result"
    }
   ],
   "source": [
    "confusion_matrix(y_test, binary_predictions).ravel()"
   ]
  },
  {
   "cell_type": "code",
   "execution_count": 102,
   "metadata": {},
   "outputs": [],
   "source": [
    "tn,fp,fn,tp = confusion_matrix(y_test, binary_predictions).ravel()"
   ]
  },
  {
   "cell_type": "code",
   "execution_count": 104,
   "metadata": {},
   "outputs": [
    {
     "name": "stdout",
     "output_type": "stream",
     "text": [
      "Classification Report:\n",
      "              precision    recall  f1-score   support\n",
      "\n",
      "           0       0.82      0.89      0.85        80\n",
      "           1       0.89      0.83      0.86        92\n",
      "\n",
      "    accuracy                           0.85       172\n",
      "   macro avg       0.86      0.86      0.85       172\n",
      "weighted avg       0.86      0.85      0.85       172\n",
      "\n"
     ]
    }
   ],
   "source": [
    "class_report = classification_report(y_test, binary_predictions)\n",
    "print(\"Classification Report:\")\n",
    "print(class_report)"
   ]
  },
  {
   "cell_type": "code",
   "execution_count": 105,
   "metadata": {},
   "outputs": [
    {
     "data": {
      "text/plain": [
       "0    87\n",
       "1    85\n",
       "dtype: int64"
      ]
     },
     "execution_count": 105,
     "metadata": {},
     "output_type": "execute_result"
    }
   ],
   "source": [
    "pd.Series(binary_predictions.squeeze()).value_counts()"
   ]
  },
  {
   "cell_type": "markdown",
   "metadata": {},
   "source": [
    "# Test Datasets"
   ]
  },
  {
   "cell_type": "markdown",
   "metadata": {},
   "source": [
    "## Loading"
   ]
  },
  {
   "cell_type": "code",
   "execution_count": 106,
   "metadata": {},
   "outputs": [
    {
     "name": "stdout",
     "output_type": "stream",
     "text": [
      "0      data/dataset/test_data/images\\20230101_methane...\n",
      "1      data/dataset/test_data/images\\20230101_methane...\n",
      "2      data/dataset/test_data/images\\20230101_methane...\n",
      "3      data/dataset/test_data/images\\20230103_methane...\n",
      "4      data/dataset/test_data/images\\20230103_methane...\n",
      "                             ...                        \n",
      "103    data/dataset/test_data/images\\20230404_methane...\n",
      "104    data/dataset/test_data/images\\20230404_methane...\n",
      "105    data/dataset/test_data/images\\20230405_methane...\n",
      "106    data/dataset/test_data/images\\20230405_methane...\n",
      "107    data/dataset/test_data/images\\20230406_methane...\n",
      "Length: 108, dtype: object\n"
     ]
    }
   ],
   "source": [
    "# Specify the path to the folder containing TIFF files\n",
    "folder_path = \"data/dataset/test_data/images/\"\n",
    "\n",
    "# Use glob to get a list of TIFF files in the folder\n",
    "tiff_files = glob.glob(folder_path + \"/*.tif\")\n",
    "\n",
    "# Create a Pandas Series from the list of file paths\n",
    "file_series = pd.Series(tiff_files)\n",
    "\n",
    "# Display the Pandas Series\n",
    "print(file_series)"
   ]
  },
  {
   "cell_type": "code",
   "execution_count": 107,
   "metadata": {},
   "outputs": [
    {
     "data": {
      "text/html": [
       "<div>\n",
       "<style scoped>\n",
       "    .dataframe tbody tr th:only-of-type {\n",
       "        vertical-align: middle;\n",
       "    }\n",
       "\n",
       "    .dataframe tbody tr th {\n",
       "        vertical-align: top;\n",
       "    }\n",
       "\n",
       "    .dataframe thead th {\n",
       "        text-align: right;\n",
       "    }\n",
       "</style>\n",
       "<table border=\"1\" class=\"dataframe\">\n",
       "  <thead>\n",
       "    <tr style=\"text-align: right;\">\n",
       "      <th></th>\n",
       "      <th>date</th>\n",
       "      <th>id_coord</th>\n",
       "      <th>lat</th>\n",
       "      <th>lon</th>\n",
       "      <th>coord_x</th>\n",
       "      <th>coord_y</th>\n",
       "    </tr>\n",
       "  </thead>\n",
       "  <tbody>\n",
       "    <tr>\n",
       "      <th>0</th>\n",
       "      <td>20230213</td>\n",
       "      <td>id_6148</td>\n",
       "      <td>23.437500</td>\n",
       "      <td>90.645000</td>\n",
       "      <td>54</td>\n",
       "      <td>10</td>\n",
       "    </tr>\n",
       "    <tr>\n",
       "      <th>1</th>\n",
       "      <td>20230206</td>\n",
       "      <td>id_3348</td>\n",
       "      <td>33.513333</td>\n",
       "      <td>-87.203333</td>\n",
       "      <td>31</td>\n",
       "      <td>55</td>\n",
       "    </tr>\n",
       "    <tr>\n",
       "      <th>2</th>\n",
       "      <td>20230121</td>\n",
       "      <td>id_3733</td>\n",
       "      <td>26.424286</td>\n",
       "      <td>80.284286</td>\n",
       "      <td>33</td>\n",
       "      <td>44</td>\n",
       "    </tr>\n",
       "    <tr>\n",
       "      <th>3</th>\n",
       "      <td>20230204</td>\n",
       "      <td>id_5491</td>\n",
       "      <td>30.246667</td>\n",
       "      <td>71.483333</td>\n",
       "      <td>59</td>\n",
       "      <td>59</td>\n",
       "    </tr>\n",
       "    <tr>\n",
       "      <th>4</th>\n",
       "      <td>20230130</td>\n",
       "      <td>id_4287</td>\n",
       "      <td>23.763333</td>\n",
       "      <td>86.396667</td>\n",
       "      <td>46</td>\n",
       "      <td>46</td>\n",
       "    </tr>\n",
       "  </tbody>\n",
       "</table>\n",
       "</div>"
      ],
      "text/plain": [
       "       date id_coord        lat        lon  coord_x  coord_y\n",
       "0  20230213  id_6148  23.437500  90.645000       54       10\n",
       "1  20230206  id_3348  33.513333 -87.203333       31       55\n",
       "2  20230121  id_3733  26.424286  80.284286       33       44\n",
       "3  20230204  id_5491  30.246667  71.483333       59       59\n",
       "4  20230130  id_4287  23.763333  86.396667       46       46"
      ]
     },
     "execution_count": 107,
     "metadata": {},
     "output_type": "execute_result"
    }
   ],
   "source": [
    "t_df = pd.read_csv('data/dataset/test_data/metadata.csv')\n",
    "t_df.head()"
   ]
  },
  {
   "cell_type": "code",
   "execution_count": 108,
   "metadata": {},
   "outputs": [
    {
     "name": "stdout",
     "output_type": "stream",
     "text": [
      "0      data/dataset/test_data/images\\20230101_methane...\n",
      "1      data/dataset/test_data/images\\20230101_methane...\n",
      "2      data/dataset/test_data/images\\20230101_methane...\n",
      "3      data/dataset/test_data/images\\20230103_methane...\n",
      "4      data/dataset/test_data/images\\20230103_methane...\n",
      "                             ...                        \n",
      "103    data/dataset/test_data/images\\20230404_methane...\n",
      "104    data/dataset/test_data/images\\20230404_methane...\n",
      "105    data/dataset/test_data/images\\20230405_methane...\n",
      "106    data/dataset/test_data/images\\20230405_methane...\n",
      "107    data/dataset/test_data/images\\20230406_methane...\n",
      "Length: 108, dtype: object\n"
     ]
    }
   ],
   "source": [
    "# Replace forward slashes with backslashes in the Pandas Series\n",
    "file_series = file_series.str.replace('//', '/')\n",
    "\n",
    "# Display the modified Pandas Series\n",
    "print(file_series)"
   ]
  },
  {
   "cell_type": "code",
   "execution_count": 109,
   "metadata": {},
   "outputs": [
    {
     "data": {
      "text/plain": [
       "0      data/dataset/test_data/images\\20230101_methane...\n",
       "1      data/dataset/test_data/images\\20230101_methane...\n",
       "2      data/dataset/test_data/images\\20230101_methane...\n",
       "3      data/dataset/test_data/images\\20230103_methane...\n",
       "4      data/dataset/test_data/images\\20230103_methane...\n",
       "                             ...                        \n",
       "103    data/dataset/test_data/images\\20230404_methane...\n",
       "104    data/dataset/test_data/images\\20230404_methane...\n",
       "105    data/dataset/test_data/images\\20230405_methane...\n",
       "106    data/dataset/test_data/images\\20230405_methane...\n",
       "107    data/dataset/test_data/images\\20230406_methane...\n",
       "Length: 108, dtype: object"
      ]
     },
     "execution_count": 109,
     "metadata": {},
     "output_type": "execute_result"
    }
   ],
   "source": [
    "file_series"
   ]
  },
  {
   "cell_type": "code",
   "execution_count": 110,
   "metadata": {},
   "outputs": [],
   "source": [
    "file_series = pd.Series(file_series)"
   ]
  },
  {
   "cell_type": "code",
   "execution_count": 111,
   "metadata": {},
   "outputs": [
    {
     "name": "stderr",
     "output_type": "stream",
     "text": [
      "c:\\Users\\Rehan Ibrahim\\AppData\\Local\\Programs\\Python\\Python310\\lib\\site-packages\\rasterio\\__init__.py:320: NotGeoreferencedWarning: Dataset has no geotransform, gcps, or rpcs. The identity matrix will be returned.\n",
      "  dataset = DatasetReader(path, driver=driver, sharing=sharing, **kwargs)\n"
     ]
    }
   ],
   "source": [
    "import rasterio\n",
    "import numpy as np\n",
    "\n",
    "image_data_test = []\n",
    "\n",
    "# Loop through the file paths and load images\n",
    "for image_path in file_series:\n",
    "    # Read the TIFF image using rasterio\n",
    "    try:\n",
    "        with rasterio.open(image_path) as src:\n",
    "            image = src.read(1)  # Assuming single-band image, adjust if necessary\n",
    "            # You may want to resize or preprocess the image here if necessary\n",
    "\n",
    "        # Append the image data to the list\n",
    "        image_data_test.append(image)\n",
    "    except Exception as e:\n",
    "        print(f\"Error loading image at {image_path}: {e}\")\n",
    "\n",
    "# Convert the list of images into a NumPy array\n",
    "image_data_test = np.array(image_data_test)"
   ]
  },
  {
   "cell_type": "markdown",
   "metadata": {},
   "source": [
    "## Transformations"
   ]
  },
  {
   "cell_type": "code",
   "execution_count": 112,
   "metadata": {},
   "outputs": [
    {
     "data": {
      "text/plain": [
       "array([[[0.        , 0.        , 0.        , ..., 0.        ,\n",
       "         0.        , 0.        ],\n",
       "        [0.        , 0.        , 0.        , ..., 0.45293355,\n",
       "         0.        , 0.        ],\n",
       "        [0.        , 0.        , 0.        , ..., 0.45293355,\n",
       "         0.        , 0.        ],\n",
       "        ...,\n",
       "        [0.        , 0.        , 0.        , ..., 0.        ,\n",
       "         0.        , 0.        ],\n",
       "        [0.        , 0.        , 0.        , ..., 0.        ,\n",
       "         0.        , 0.        ],\n",
       "        [0.        , 0.        , 0.        , ..., 0.        ,\n",
       "         0.        , 0.        ]],\n",
       "\n",
       "       [[0.38403906, 0.44130617, 0.44130617, ..., 0.        ,\n",
       "         0.        , 0.        ],\n",
       "        [0.345449  , 0.36951247, 0.36951247, ..., 0.        ,\n",
       "         0.        , 0.        ],\n",
       "        [0.345449  , 0.36951247, 0.36951247, ..., 0.        ,\n",
       "         0.        , 0.        ],\n",
       "        ...,\n",
       "        [0.        , 0.        , 0.        , ..., 0.20677501,\n",
       "         0.20677501, 0.11776913],\n",
       "        [0.        , 0.        , 0.        , ..., 0.14799725,\n",
       "         0.14799725, 0.12776379],\n",
       "        [0.        , 0.09881743, 0.09881743, ..., 0.14799725,\n",
       "         0.14799725, 0.12776379]],\n",
       "\n",
       "       [[0.18472572, 0.18472572, 0.18472572, ..., 0.        ,\n",
       "         0.        , 0.        ],\n",
       "        [0.18472572, 0.18472572, 0.18472572, ..., 0.        ,\n",
       "         0.        , 0.        ],\n",
       "        [0.23006027, 0.23006027, 0.20358587, ..., 0.        ,\n",
       "         0.        , 0.        ],\n",
       "        ...,\n",
       "        [0.        , 0.        , 0.        , ..., 0.10867475,\n",
       "         0.10867475, 0.10867475],\n",
       "        [0.        , 0.        , 0.        , ..., 0.13492027,\n",
       "         0.13492027, 0.13492027],\n",
       "        [0.        , 0.        , 0.        , ..., 0.13492027,\n",
       "         0.13492027, 0.13492027]],\n",
       "\n",
       "       ...,\n",
       "\n",
       "       [[0.42406348, 0.0153048 , 0.0153048 , ..., 0.        ,\n",
       "         0.        , 0.        ],\n",
       "        [0.45383383, 0.11711299, 0.11711299, ..., 0.        ,\n",
       "         0.        , 0.        ],\n",
       "        [0.45383383, 0.11711299, 0.11711299, ..., 0.        ,\n",
       "         0.        , 0.        ],\n",
       "        ...,\n",
       "        [0.83324941, 0.88427558, 0.88427558, ..., 0.57047379,\n",
       "         0.72700084, 0.72700084],\n",
       "        [0.83324941, 0.88427558, 0.88427558, ..., 0.36891737,\n",
       "         0.74445716, 0.74445716],\n",
       "        [0.40695811, 0.91978332, 0.91978332, ..., 0.36891737,\n",
       "         0.74445716, 0.74445716]],\n",
       "\n",
       "       [[0.47014572, 0.51519036, 0.51519036, ..., 0.15761044,\n",
       "         0.15761044, 0.36720836],\n",
       "        [0.61063554, 0.62539101, 0.62539101, ..., 0.15761044,\n",
       "         0.15761044, 0.36720836],\n",
       "        [0.61063554, 0.62539101, 0.62539101, ..., 0.        ,\n",
       "         0.        , 0.        ],\n",
       "        ...,\n",
       "        [0.48699168, 0.48699168, 0.50133516, ..., 0.102327  ,\n",
       "         0.        , 0.        ],\n",
       "        [0.15317006, 0.15317006, 0.34924849, ..., 0.        ,\n",
       "         0.        , 0.        ],\n",
       "        [0.16054017, 0.16054017, 0.37341878, ..., 0.        ,\n",
       "         0.        , 0.        ]],\n",
       "\n",
       "       [[0.36319524, 0.33180743, 0.26903182, ..., 0.72259098,\n",
       "         0.57167926, 0.52866407],\n",
       "        [0.36319524, 0.33180743, 0.26903182, ..., 0.67342641,\n",
       "         0.63114366, 0.60999466],\n",
       "        [0.36665904, 0.34885176, 0.27650874, ..., 0.67342641,\n",
       "         0.63114366, 0.63114366],\n",
       "        ...,\n",
       "        [0.        , 0.01052873, 0.01052873, ..., 0.18844892,\n",
       "         0.29440757, 0.29440757],\n",
       "        [0.        , 0.01052873, 0.01052873, ..., 0.18844892,\n",
       "         0.29440757, 0.29440757],\n",
       "        [0.        , 0.        , 0.        , ..., 0.23057908,\n",
       "         0.35074388, 0.37270161]]])"
      ]
     },
     "execution_count": 112,
     "metadata": {},
     "output_type": "execute_result"
    }
   ],
   "source": [
    "min_val = image_data_test.min()\n",
    "max_val = image_data_test.max()\n",
    "\n",
    "# Normalize the image data\n",
    "normalized_image_data_test = (image_data_test - min_val) / (max_val - min_val)\n",
    "normalized_image_data_test"
   ]
  },
  {
   "cell_type": "code",
   "execution_count": 113,
   "metadata": {},
   "outputs": [
    {
     "data": {
      "text/plain": [
       "(108, 64, 64)"
      ]
     },
     "execution_count": 113,
     "metadata": {},
     "output_type": "execute_result"
    }
   ],
   "source": [
    "normalized_image_data_test.shape"
   ]
  },
  {
   "cell_type": "markdown",
   "metadata": {},
   "source": [
    "## Predictions"
   ]
  },
  {
   "cell_type": "code",
   "execution_count": 121,
   "metadata": {},
   "outputs": [
    {
     "data": {
      "text/plain": [
       "(108, 1)"
      ]
     },
     "execution_count": 121,
     "metadata": {},
     "output_type": "execute_result"
    }
   ],
   "source": [
    "predictions_test.shape"
   ]
  },
  {
   "cell_type": "code",
   "execution_count": 114,
   "metadata": {},
   "outputs": [
    {
     "name": "stdout",
     "output_type": "stream",
     "text": [
      "4/4 [==============================] - 0s 18ms/step\n"
     ]
    },
    {
     "data": {
      "text/plain": [
       "array([[1.1035744e-08],\n",
       "       [8.6040282e-01],\n",
       "       [2.3464318e-03],\n",
       "       [9.9953067e-01],\n",
       "       [9.9999166e-01],\n",
       "       [9.3746826e-02],\n",
       "       [9.9963170e-01],\n",
       "       [6.7812513e-15],\n",
       "       [9.9999142e-01],\n",
       "       [7.5517279e-01],\n",
       "       [9.9999994e-01],\n",
       "       [9.9997264e-01],\n",
       "       [9.9999869e-01],\n",
       "       [9.9994493e-01],\n",
       "       [9.9999851e-01],\n",
       "       [9.9519461e-01],\n",
       "       [5.3467885e-02],\n",
       "       [3.7318285e-15],\n",
       "       [1.0000000e+00],\n",
       "       [3.3676208e-08],\n",
       "       [9.9820858e-01],\n",
       "       [2.4490536e-09],\n",
       "       [1.0000000e+00],\n",
       "       [6.1439327e-28],\n",
       "       [3.0450875e-14],\n",
       "       [6.2238394e-25],\n",
       "       [4.8821259e-04],\n",
       "       [9.9996829e-01],\n",
       "       [1.1024952e-06],\n",
       "       [1.7046292e-05],\n",
       "       [1.0000000e+00],\n",
       "       [3.0424908e-07],\n",
       "       [1.0000000e+00],\n",
       "       [1.0000000e+00],\n",
       "       [1.8060279e-04],\n",
       "       [2.5777431e-04],\n",
       "       [1.3547535e-05],\n",
       "       [9.5749749e-03],\n",
       "       [3.9217510e-05],\n",
       "       [2.6001832e-22],\n",
       "       [6.0743414e-04],\n",
       "       [9.9990898e-01],\n",
       "       [9.9999088e-01],\n",
       "       [1.3991501e-15],\n",
       "       [1.9928721e-06],\n",
       "       [9.9999988e-01],\n",
       "       [9.9997622e-01],\n",
       "       [7.7509594e-07],\n",
       "       [5.1087434e-10],\n",
       "       [1.0000000e+00],\n",
       "       [9.9998665e-01],\n",
       "       [9.4592440e-01],\n",
       "       [7.0509273e-01],\n",
       "       [9.9181616e-01],\n",
       "       [1.6110048e-04],\n",
       "       [9.9880373e-01],\n",
       "       [1.0000000e+00],\n",
       "       [9.9998432e-01],\n",
       "       [1.0000000e+00],\n",
       "       [1.4087661e-01],\n",
       "       [9.9999845e-01],\n",
       "       [9.9356484e-01],\n",
       "       [8.3589775e-09],\n",
       "       [1.0763147e-01],\n",
       "       [9.7485566e-01],\n",
       "       [9.9070698e-01],\n",
       "       [5.8327828e-06],\n",
       "       [2.4491037e-05],\n",
       "       [1.0000000e+00],\n",
       "       [6.7628032e-05],\n",
       "       [2.5768974e-16],\n",
       "       [9.9648231e-01],\n",
       "       [4.4802087e-12],\n",
       "       [9.9648231e-01],\n",
       "       [9.4662082e-01],\n",
       "       [9.9648231e-01],\n",
       "       [1.0873329e-05],\n",
       "       [2.4745628e-10],\n",
       "       [9.9998671e-01],\n",
       "       [9.9998379e-01],\n",
       "       [9.9830931e-01],\n",
       "       [9.8023313e-01],\n",
       "       [1.0000000e+00],\n",
       "       [9.9886954e-01],\n",
       "       [1.0000000e+00],\n",
       "       [4.6165977e-10],\n",
       "       [1.6949388e-12],\n",
       "       [5.9239060e-04],\n",
       "       [1.2671035e-05],\n",
       "       [3.5467215e-06],\n",
       "       [3.5467215e-06],\n",
       "       [3.3292452e-11],\n",
       "       [4.4803615e-05],\n",
       "       [9.9999863e-01],\n",
       "       [1.2926683e-06],\n",
       "       [9.9923450e-01],\n",
       "       [9.5815640e-03],\n",
       "       [4.8886362e-09],\n",
       "       [1.2997615e-06],\n",
       "       [3.9719000e-01],\n",
       "       [5.7391262e-01],\n",
       "       [1.1139918e-12],\n",
       "       [4.2441983e-02],\n",
       "       [4.9221854e-10],\n",
       "       [9.9677026e-01],\n",
       "       [4.5153048e-08],\n",
       "       [2.1794683e-03],\n",
       "       [1.3212323e-04]], dtype=float32)"
      ]
     },
     "execution_count": 114,
     "metadata": {},
     "output_type": "execute_result"
    }
   ],
   "source": [
    "# Make predictions on the test dataset\n",
    "predictions_test = model.predict(normalized_image_data_test)\n",
    "predictions_test"
   ]
  },
  {
   "cell_type": "code",
   "execution_count": 123,
   "metadata": {},
   "outputs": [],
   "source": [
    "import csv\n",
    "# Your NumPy array\n",
    "data = np.array(predictions_test)\n",
    "\n",
    "# Define the file path for saving the CSV file\n",
    "csv_path = 'output_test.csv'\n",
    "\n",
    "# Save the array as a CSV file\n",
    "with open(csv_path, 'w', newline='') as csvfile:\n",
    "    writer = csv.writer(csvfile)\n",
    "    writer.writerows(data)"
   ]
  },
  {
   "cell_type": "code",
   "execution_count": 119,
   "metadata": {},
   "outputs": [],
   "source": [
    "# Apply threshold to obtain binary predictions (0 or 1)\n",
    "threshold = 0.5\n",
    "binary_predictions_test = (predictions_test >= threshold).astype(int)"
   ]
  },
  {
   "cell_type": "code",
   "execution_count": 120,
   "metadata": {},
   "outputs": [
    {
     "data": {
      "text/plain": [
       "0    56\n",
       "1    52\n",
       "dtype: int64"
      ]
     },
     "execution_count": 120,
     "metadata": {},
     "output_type": "execute_result"
    }
   ],
   "source": [
    "pd.Series(binary_predictions_test.squeeze()).value_counts()"
   ]
  },
  {
   "cell_type": "markdown",
   "metadata": {},
   "source": [
    "# Model 2(Pre-trained)"
   ]
  },
  {
   "cell_type": "code",
   "execution_count": 42,
   "metadata": {},
   "outputs": [
    {
     "name": "stdout",
     "output_type": "stream",
     "text": [
      "WARNING:tensorflow:`input_shape` is undefined or non-square, or `rows` is not in [96, 128, 160, 192, 224]. Weights for input shape (224, 224) will be loaded as the default.\n"
     ]
    },
    {
     "name": "stdout",
     "output_type": "stream",
     "text": [
      "Model: \"sequential_1\"\n",
      "_________________________________________________________________\n",
      " Layer (type)                Output Shape              Param #   \n",
      "=================================================================\n",
      " resizing (Resizing)         (None, 64, 64, 1)         0         \n",
      "                                                                 \n",
      " lambda (Lambda)             (None, 64, 64, 3)         0         \n",
      "                                                                 \n",
      " mobilenetv2_1.00_224 (Func  (None, 2, 2, 1280)        2257984   \n",
      " tional)                                                         \n",
      "                                                                 \n",
      " flatten_1 (Flatten)         (None, 5120)              0         \n",
      "                                                                 \n",
      " dense_3 (Dense)             (None, 128)               655488    \n",
      "                                                                 \n",
      " dropout_2 (Dropout)         (None, 128)               0         \n",
      "                                                                 \n",
      " dense_4 (Dense)             (None, 64)                8256      \n",
      "                                                                 \n",
      " dropout_3 (Dropout)         (None, 64)                0         \n",
      "                                                                 \n",
      " dense_5 (Dense)             (None, 1)                 65        \n",
      "                                                                 \n",
      "=================================================================\n",
      "Total params: 2921793 (11.15 MB)\n",
      "Trainable params: 663809 (2.53 MB)\n",
      "Non-trainable params: 2257984 (8.61 MB)\n",
      "_________________________________________________________________\n"
     ]
    }
   ],
   "source": [
    "import tensorflow as tf\n",
    "from tensorflow.keras import layers\n",
    "from tensorflow.keras.applications import MobileNetV2\n",
    "from tensorflow.keras.layers.experimental.preprocessing import Resizing\n",
    "\n",
    "# Set the random seed for reproducibility\n",
    "tf.random.set_seed(1234)\n",
    "\n",
    "# Create the MobileNetV2 model with the correct input shape\n",
    "mobilenetv2_model = MobileNetV2(include_top=False, weights='imagenet', input_shape=(64, 64, 3))\n",
    "mobilenetv2_model.trainable = False  # Freeze the pretrained MobileNetV2 layers\n",
    "\n",
    "# Define the CNN model\n",
    "model2 = tf.keras.Sequential([\n",
    "    Resizing(64, 64, input_shape=(64, 64, 1)),  # Resize input images to (64, 64) without rescaling\n",
    "    layers.Lambda(lambda x: tf.image.grayscale_to_rgb(x)),  # Convert grayscale to RGB\n",
    "    mobilenetv2_model,  # Add the MobileNetV2 model as a layer\n",
    "    layers.Flatten(),\n",
    "    layers.Dense(128, activation='relu'),\n",
    "    layers.Dropout(0.5),\n",
    "    layers.Dense(64, activation='relu'),\n",
    "    layers.Dropout(0.5),\n",
    "    layers.Dense(1, activation='sigmoid')  # Use 'sigmoid' for binary classification\n",
    "])\n",
    "\n",
    "# Compile the model\n",
    "model2.compile(optimizer='adam',\n",
    "              loss='binary_crossentropy',  # Use 'binary_crossentropy' for binary classification\n",
    "              metrics=['accuracy'])\n",
    "\n",
    "# Print the model summary to view the architecture\n",
    "model2.summary()\n",
    "\n",
    "# Define early stopping\n",
    "early_stopping = tf.keras.callbacks.EarlyStopping(\n",
    "    monitor='val_loss', \n",
    "    patience=5,           \n",
    "    restore_best_weights=True)\n"
   ]
  },
  {
   "cell_type": "code",
   "execution_count": 43,
   "metadata": {},
   "outputs": [
    {
     "name": "stdout",
     "output_type": "stream",
     "text": [
      "Epoch 1/100\n",
      "376/376 [==============================] - 36s 83ms/step - loss: 0.4985 - accuracy: 0.7678 - val_loss: 0.2913 - val_accuracy: 0.8794\n",
      "Epoch 2/100\n",
      "376/376 [==============================] - 27s 73ms/step - loss: 0.3342 - accuracy: 0.8555 - val_loss: 0.2306 - val_accuracy: 0.9079\n",
      "Epoch 3/100\n",
      "376/376 [==============================] - 26s 70ms/step - loss: 0.2632 - accuracy: 0.8910 - val_loss: 0.2172 - val_accuracy: 0.9191\n",
      "Epoch 4/100\n",
      "376/376 [==============================] - 25s 68ms/step - loss: 0.2236 - accuracy: 0.9079 - val_loss: 0.2006 - val_accuracy: 0.9341\n",
      "Epoch 5/100\n",
      "376/376 [==============================] - 26s 68ms/step - loss: 0.1972 - accuracy: 0.9203 - val_loss: 0.1839 - val_accuracy: 0.9386\n",
      "Epoch 6/100\n",
      "376/376 [==============================] - 26s 68ms/step - loss: 0.1795 - accuracy: 0.9257 - val_loss: 0.1662 - val_accuracy: 0.9378\n",
      "Epoch 7/100\n",
      "376/376 [==============================] - 27s 71ms/step - loss: 0.1713 - accuracy: 0.9301 - val_loss: 0.1526 - val_accuracy: 0.9446\n",
      "Epoch 8/100\n",
      "376/376 [==============================] - 27s 73ms/step - loss: 0.1409 - accuracy: 0.9454 - val_loss: 0.1585 - val_accuracy: 0.9393\n",
      "Epoch 9/100\n",
      "376/376 [==============================] - 29s 78ms/step - loss: 0.1382 - accuracy: 0.9446 - val_loss: 0.1452 - val_accuracy: 0.9506\n",
      "Epoch 10/100\n",
      "376/376 [==============================] - 29s 78ms/step - loss: 0.1297 - accuracy: 0.9486 - val_loss: 0.1428 - val_accuracy: 0.9476\n",
      "Epoch 11/100\n",
      "376/376 [==============================] - 27s 72ms/step - loss: 0.1163 - accuracy: 0.9539 - val_loss: 0.1513 - val_accuracy: 0.9468\n",
      "Epoch 12/100\n",
      "376/376 [==============================] - 29s 77ms/step - loss: 0.1122 - accuracy: 0.9544 - val_loss: 0.1334 - val_accuracy: 0.9536\n",
      "Epoch 13/100\n",
      "376/376 [==============================] - 30s 79ms/step - loss: 0.1009 - accuracy: 0.9590 - val_loss: 0.1437 - val_accuracy: 0.9491\n",
      "Epoch 14/100\n",
      "376/376 [==============================] - 29s 78ms/step - loss: 0.1090 - accuracy: 0.9584 - val_loss: 0.1324 - val_accuracy: 0.9521\n",
      "Epoch 15/100\n",
      "376/376 [==============================] - 27s 73ms/step - loss: 0.0950 - accuracy: 0.9617 - val_loss: 0.1566 - val_accuracy: 0.9536\n",
      "Epoch 16/100\n",
      "376/376 [==============================] - 27s 73ms/step - loss: 0.0920 - accuracy: 0.9655 - val_loss: 0.1488 - val_accuracy: 0.9521\n",
      "Epoch 17/100\n",
      "376/376 [==============================] - 28s 74ms/step - loss: 0.0942 - accuracy: 0.9638 - val_loss: 0.1405 - val_accuracy: 0.9558\n",
      "Epoch 18/100\n",
      "376/376 [==============================] - 26s 69ms/step - loss: 0.0833 - accuracy: 0.9655 - val_loss: 0.1686 - val_accuracy: 0.9476\n",
      "Epoch 19/100\n",
      "376/376 [==============================] - 26s 69ms/step - loss: 0.0844 - accuracy: 0.9679 - val_loss: 0.1539 - val_accuracy: 0.9588\n"
     ]
    },
    {
     "data": {
      "text/plain": [
       "<keras.src.callbacks.History at 0x19d02a99150>"
      ]
     },
     "execution_count": 43,
     "metadata": {},
     "output_type": "execute_result"
    }
   ],
   "source": [
    "batch_size = 32\n",
    "epochs = 100\n",
    "model2.fit(X_train_augmented,y_train_augmented, epochs=epochs, batch_size=batch_size, validation_split=0.1,callbacks=[early_stopping])"
   ]
  },
  {
   "cell_type": "code",
   "execution_count": 44,
   "metadata": {},
   "outputs": [
    {
     "name": "stdout",
     "output_type": "stream",
     "text": [
      "6/6 [==============================] - 1s 51ms/step\n"
     ]
    },
    {
     "data": {
      "text/plain": [
       "array([[1.7245313e-04],\n",
       "       [5.2354358e-02],\n",
       "       [8.1176275e-01],\n",
       "       [9.9999994e-01],\n",
       "       [9.9994904e-01],\n",
       "       [5.4276221e-05],\n",
       "       [9.9999917e-01],\n",
       "       [7.7475947e-01],\n",
       "       [9.9115002e-01],\n",
       "       [9.9966455e-01],\n",
       "       [1.9564349e-03],\n",
       "       [1.4803109e-01],\n",
       "       [8.6577952e-01],\n",
       "       [1.9834926e-02],\n",
       "       [1.3746515e-01],\n",
       "       [1.1252341e-01],\n",
       "       [3.0020952e-01],\n",
       "       [8.3177316e-01],\n",
       "       [1.8485196e-01],\n",
       "       [5.0101116e-02],\n",
       "       [7.5935991e-03],\n",
       "       [1.5088619e-04],\n",
       "       [1.1477867e-02],\n",
       "       [9.6897721e-01],\n",
       "       [2.1942696e-01],\n",
       "       [9.9394697e-01],\n",
       "       [9.7280943e-01],\n",
       "       [2.6475189e-12],\n",
       "       [3.7065125e-01],\n",
       "       [8.3959782e-01],\n",
       "       [2.8477836e-02],\n",
       "       [6.1293804e-06],\n",
       "       [5.0418466e-02],\n",
       "       [5.9656082e-03],\n",
       "       [1.9283958e-02],\n",
       "       [9.9933553e-01],\n",
       "       [5.9970289e-01],\n",
       "       [4.0533319e-09],\n",
       "       [1.6566401e-02],\n",
       "       [7.6097786e-01],\n",
       "       [1.4899983e-03],\n",
       "       [9.9720126e-01],\n",
       "       [9.7577226e-01],\n",
       "       [9.9697304e-01],\n",
       "       [2.2578511e-01],\n",
       "       [9.2649633e-01],\n",
       "       [1.0452251e-03],\n",
       "       [9.5964873e-01],\n",
       "       [6.6222620e-01],\n",
       "       [4.6569120e-02],\n",
       "       [6.9103503e-01],\n",
       "       [2.4840055e-02],\n",
       "       [9.2794818e-01],\n",
       "       [1.0000000e+00],\n",
       "       [4.2287114e-01],\n",
       "       [3.9616016e-01],\n",
       "       [1.1477867e-02],\n",
       "       [4.5138273e-02],\n",
       "       [9.0919068e-04],\n",
       "       [9.9972034e-01],\n",
       "       [1.0000000e+00],\n",
       "       [1.4768346e-05],\n",
       "       [9.8450619e-01],\n",
       "       [9.9999553e-01],\n",
       "       [3.1741185e-10],\n",
       "       [9.8773956e-01],\n",
       "       [3.2309419e-01],\n",
       "       [9.7940856e-01],\n",
       "       [9.5804107e-01],\n",
       "       [8.7423921e-03],\n",
       "       [9.9988508e-01],\n",
       "       [5.0511071e-06],\n",
       "       [9.4915241e-01],\n",
       "       [9.9948275e-01],\n",
       "       [7.5125295e-01],\n",
       "       [7.5855550e-10],\n",
       "       [1.3636528e-02],\n",
       "       [3.5651445e-01],\n",
       "       [9.9521750e-01],\n",
       "       [9.9994934e-01],\n",
       "       [9.9996173e-01],\n",
       "       [1.0818692e-21],\n",
       "       [9.1157013e-01],\n",
       "       [9.9955398e-01],\n",
       "       [8.1237888e-01],\n",
       "       [9.8380083e-01],\n",
       "       [4.9679202e-01],\n",
       "       [1.3476054e-01],\n",
       "       [1.3247259e-03],\n",
       "       [6.2382221e-01],\n",
       "       [2.5194985e-01],\n",
       "       [3.7249776e-03],\n",
       "       [3.9133716e-01],\n",
       "       [6.0493141e-05],\n",
       "       [1.1155926e-09],\n",
       "       [1.4294536e-04],\n",
       "       [1.0756482e-03],\n",
       "       [5.4768325e-08],\n",
       "       [2.1549949e-01],\n",
       "       [9.9536186e-01],\n",
       "       [8.3718397e-12],\n",
       "       [1.5337229e-03],\n",
       "       [1.3494246e-01],\n",
       "       [1.5290876e-11],\n",
       "       [6.9103503e-01],\n",
       "       [3.9328060e-07],\n",
       "       [6.4069442e-03],\n",
       "       [3.1675225e-01],\n",
       "       [9.0919068e-04],\n",
       "       [9.9999803e-01],\n",
       "       [3.6329544e-01],\n",
       "       [7.6434886e-01],\n",
       "       [5.7964972e-03],\n",
       "       [8.3673036e-01],\n",
       "       [9.7075409e-01],\n",
       "       [9.9995393e-01],\n",
       "       [1.8560940e-04],\n",
       "       [9.8306179e-01],\n",
       "       [9.6941757e-01],\n",
       "       [4.9762129e-06],\n",
       "       [9.9996454e-01],\n",
       "       [9.9999291e-01],\n",
       "       [9.9999917e-01],\n",
       "       [9.9985808e-01],\n",
       "       [2.1651497e-02],\n",
       "       [5.6716418e-01],\n",
       "       [9.9999690e-01],\n",
       "       [9.9999988e-01],\n",
       "       [1.0394076e-05],\n",
       "       [4.7633969e-04],\n",
       "       [1.3305911e-01],\n",
       "       [1.0000000e+00],\n",
       "       [9.9899954e-01],\n",
       "       [9.9309504e-01],\n",
       "       [7.7307993e-04],\n",
       "       [9.9985200e-01],\n",
       "       [3.7249776e-03],\n",
       "       [1.1151064e-11],\n",
       "       [8.2356519e-01],\n",
       "       [9.8416072e-01],\n",
       "       [8.7106667e-02],\n",
       "       [9.5032007e-01],\n",
       "       [1.0126157e-05],\n",
       "       [9.9957210e-01],\n",
       "       [2.7927486e-04],\n",
       "       [1.1912092e-02],\n",
       "       [9.9971217e-01],\n",
       "       [9.9132806e-01],\n",
       "       [9.9999881e-01],\n",
       "       [6.1083549e-01],\n",
       "       [9.5369589e-01],\n",
       "       [9.9619704e-01],\n",
       "       [9.5553285e-01],\n",
       "       [2.7860303e-12],\n",
       "       [9.9861813e-01],\n",
       "       [2.1490995e-03],\n",
       "       [9.6630740e-01],\n",
       "       [7.4892210e-05],\n",
       "       [9.9530977e-01],\n",
       "       [9.8354632e-01],\n",
       "       [2.6682536e-03],\n",
       "       [2.2020777e-05],\n",
       "       [9.7173429e-01],\n",
       "       [9.7584826e-01],\n",
       "       [3.1609030e-08],\n",
       "       [3.4779396e-03],\n",
       "       [5.5728859e-01],\n",
       "       [1.4049500e-05],\n",
       "       [8.7670004e-01],\n",
       "       [4.8619825e-01],\n",
       "       [1.8580775e-09],\n",
       "       [3.2308996e-01]], dtype=float32)"
      ]
     },
     "execution_count": 44,
     "metadata": {},
     "output_type": "execute_result"
    }
   ],
   "source": [
    "# Make predictions on the test dataset\n",
    "predictions2 = model2.predict(X_test)\n",
    "predictions2"
   ]
  },
  {
   "cell_type": "markdown",
   "metadata": {},
   "source": [
    "## Eval Metrics"
   ]
  },
  {
   "cell_type": "code",
   "execution_count": 45,
   "metadata": {},
   "outputs": [],
   "source": [
    "# Apply threshold to obtain binary predictions (0 or 1)\n",
    "threshold = 0.5\n",
    "binary_predictions2 = (predictions2 >= threshold).astype(int)"
   ]
  },
  {
   "cell_type": "code",
   "execution_count": 46,
   "metadata": {},
   "outputs": [
    {
     "name": "stdout",
     "output_type": "stream",
     "text": [
      "Classification Report:\n",
      "              precision    recall  f1-score   support\n",
      "\n",
      "           0       0.72      0.80      0.76        80\n",
      "           1       0.81      0.73      0.77        92\n",
      "\n",
      "    accuracy                           0.76       172\n",
      "   macro avg       0.76      0.76      0.76       172\n",
      "weighted avg       0.77      0.76      0.76       172\n",
      "\n"
     ]
    }
   ],
   "source": [
    "class_report2 = classification_report(y_test, binary_predictions2)\n",
    "print(\"Classification Report:\")\n",
    "print(class_report2)"
   ]
  },
  {
   "cell_type": "code",
   "execution_count": 47,
   "metadata": {},
   "outputs": [
    {
     "name": "stdout",
     "output_type": "stream",
     "text": [
      "Accuracy: 76.16%\n"
     ]
    }
   ],
   "source": [
    "# Calculate accuracy using one-hot encoded labels\n",
    "accuracy2 = accuracy_score(y_test, binary_predictions2)\n",
    "print(f\"Accuracy: {accuracy2*100:.2f}%\")"
   ]
  },
  {
   "cell_type": "markdown",
   "metadata": {},
   "source": [
    "# Gaussian Blurring and Histogram Equalization "
   ]
  },
  {
   "cell_type": "code",
   "execution_count": 20,
   "metadata": {},
   "outputs": [
    {
     "data": {
      "text/plain": [
       "array([[[0.23457694, 0.36232547, 0.36232547, ..., 0.        ,\n",
       "         0.        , 0.        ],\n",
       "        [0.32170596, 0.34865339, 0.34865339, ..., 0.        ,\n",
       "         0.        , 0.        ],\n",
       "        [0.32170596, 0.34865339, 0.34865339, ..., 0.        ,\n",
       "         0.05108721, 0.05108721],\n",
       "        ...,\n",
       "        [0.75207141, 0.75207141, 0.66585794, ..., 0.33897917,\n",
       "         0.4567483 , 0.4567483 ],\n",
       "        [0.75207141, 0.66585794, 0.66585794, ..., 0.20921645,\n",
       "         0.22317845, 0.22317845],\n",
       "        [0.7604181 , 0.74621195, 0.74621195, ..., 0.20921645,\n",
       "         0.22317845, 0.22317845]],\n",
       "\n",
       "       [[0.        , 0.        , 0.        , ..., 0.        ,\n",
       "         0.        , 0.        ],\n",
       "        [0.09744411, 0.1757229 , 0.02345312, ..., 0.        ,\n",
       "         0.        , 0.        ],\n",
       "        [0.09744411, 0.1757229 , 0.02345312, ..., 0.        ,\n",
       "         0.        , 0.        ],\n",
       "        ...,\n",
       "        [0.05917449, 0.10644694, 0.09991608, ..., 0.        ,\n",
       "         0.        , 0.        ],\n",
       "        [0.05917449, 0.10644694, 0.09991608, ..., 0.        ,\n",
       "         0.        , 0.        ],\n",
       "        [0.06446937, 0.        , 0.06256199, ..., 0.        ,\n",
       "         0.        , 0.        ]],\n",
       "\n",
       "       [[0.21542687, 0.14476234, 0.14476234, ..., 0.39064622,\n",
       "         0.33780423, 0.33780423],\n",
       "        [0.2580911 , 0.08645762, 0.08645762, ..., 0.45922026,\n",
       "         0.40227359, 0.40227359],\n",
       "        [0.2580911 , 0.08645762, 0.08645762, ..., 0.45922026,\n",
       "         0.40227359, 0.40227359],\n",
       "        ...,\n",
       "        [0.22763409, 0.22763409, 0.25445945, ..., 0.28299382,\n",
       "         0.        , 0.        ],\n",
       "        [0.22763409, 0.22763409, 0.25445945, ..., 0.28299382,\n",
       "         0.        , 0.        ],\n",
       "        [0.        , 0.        , 0.        , ..., 0.10128939,\n",
       "         0.        , 0.        ]],\n",
       "\n",
       "       ...,\n",
       "\n",
       "       [[0.64875257, 0.628748  , 0.6898909 , ..., 0.22978561,\n",
       "         0.50225071, 0.50225071],\n",
       "        [0.        , 0.73514916, 0.70157931, ..., 0.22978561,\n",
       "         0.50225071, 0.50225071],\n",
       "        [0.        , 0.73514916, 0.70157931, ..., 0.17320516,\n",
       "         0.06002899, 0.06002899],\n",
       "        ...,\n",
       "        [0.        , 0.        , 0.        , ..., 0.        ,\n",
       "         0.        , 0.        ],\n",
       "        [0.        , 0.        , 0.        , ..., 0.        ,\n",
       "         0.        , 0.        ],\n",
       "        [0.        , 0.        , 0.        , ..., 0.        ,\n",
       "         0.        , 0.        ]],\n",
       "\n",
       "       [[0.1706569 , 0.1908751 , 0.1908751 , ..., 0.        ,\n",
       "         0.        , 0.        ],\n",
       "        [0.1706569 , 0.1908751 , 0.1908751 , ..., 0.        ,\n",
       "         0.        , 0.        ],\n",
       "        [0.2010071 , 0.21408408, 0.21408408, ..., 0.        ,\n",
       "         0.        , 0.        ],\n",
       "        ...,\n",
       "        [0.41887541, 0.41887541, 0.41887541, ..., 0.        ,\n",
       "         0.        , 0.        ],\n",
       "        [0.37907988, 0.37907988, 0.37907988, ..., 0.        ,\n",
       "         0.        , 0.        ],\n",
       "        [0.37907988, 0.37907988, 0.37907988, ..., 0.        ,\n",
       "         0.        , 0.        ]],\n",
       "\n",
       "       [[0.25539025, 0.        , 0.12085145, ..., 0.22880903,\n",
       "         0.58352026, 0.26761273],\n",
       "        [0.23108263, 0.25618372, 0.36643015, ..., 0.22880903,\n",
       "         0.58352026, 0.26761273],\n",
       "        [0.23108263, 0.25618372, 0.36643015, ..., 0.05528344,\n",
       "         0.45282673, 0.62632181],\n",
       "        ...,\n",
       "        [0.        , 0.        , 0.2704509 , ..., 0.        ,\n",
       "         0.        , 0.01728847],\n",
       "        [0.        , 0.        , 0.2704509 , ..., 0.27774472,\n",
       "         0.57567712, 0.70539406],\n",
       "        [0.        , 0.        , 0.0296788 , ..., 0.27774472,\n",
       "         0.57567712, 0.70539406]]])"
      ]
     },
     "execution_count": 20,
     "metadata": {},
     "output_type": "execute_result"
    }
   ],
   "source": [
    "min_val = image_data.min()\n",
    "max_val = image_data.max()\n",
    "\n",
    "# Normalize the image data\n",
    "normalized_image_data = (image_data - min_val) / (max_val - min_val)\n",
    "normalized_image_data"
   ]
  },
  {
   "cell_type": "code",
   "execution_count": 44,
   "metadata": {},
   "outputs": [],
   "source": [
    "import cv2\n",
    "import numpy as np\n",
    "\n",
    "# Apply Histogram Equalization to the entire matrix\n",
    "equalized_image_data = np.zeros_like(normalized_image_data, dtype=np.uint8)\n",
    "for i in range(normalized_image_data.shape[0]):\n",
    "    # Ensure the image is in the uint8 data type\n",
    "    contrast_factor = 1.5\n",
    "    normalized_image = (image_data[i] * 255).astype(np.uint8)\n",
    "    equalized_image = cv2.equalizeHist(normalized_image)\n",
    "    equalized_image_data[i] = equalized_image"
   ]
  },
  {
   "cell_type": "code",
   "execution_count": 45,
   "metadata": {},
   "outputs": [
    {
     "name": "stdout",
     "output_type": "stream",
     "text": [
      "X_train shape: (258, 64, 64)\n",
      "X_test shape: (172, 64, 64)\n"
     ]
    }
   ],
   "source": [
    "X = equalized_image_data\n",
    "y = plume_labels\n",
    "\n",
    "\n",
    "#X = [np.transpose(image, (1, 2, 0)) for image in X]\n",
    "\n",
    "#X = np.array(X)\n",
    "np.random.seed(101)\n",
    "X_train, X_test, y_train, y_test = train_test_split(X, y, test_size=0.4, random_state=42,shuffle=True)\n",
    "\n",
    "print(\"X_train shape:\", X_train.shape)\n",
    "print(\"X_test shape:\", X_test.shape)"
   ]
  },
  {
   "cell_type": "code",
   "execution_count": 40,
   "metadata": {},
   "outputs": [],
   "source": [
    "datagen = ImageDataGenerator(\n",
    "    rotation_range=10,\n",
    "    width_shift_range=0.1,\n",
    "    height_shift_range=0.1,\n",
    "    shear_range=0.2,\n",
    "    horizontal_flip=True,\n",
    "    fill_mode='nearest'\n",
    ")\n",
    "X_train = X_train.reshape(-1,64,64,1)\n",
    "batch_size=64\n",
    "steps_per_epoch = len(X_train) // batch_size\n",
    "# Fit the data augmentation generator to your training data\n",
    "datagen.fit(X_train)\n",
    "\n",
    "augmented_images = []\n",
    "augmented_labels = []\n",
    "\n",
    "# Generate augmented images and labels\n",
    "for X_batch, y_batch in datagen.flow(X_train, y_train, batch_size=batch_size,shuffle=True):\n",
    "    augmented_images.append(X_batch)\n",
    "    augmented_labels.append(y_batch)\n",
    "    if len(augmented_images) >= len(X_train):\n",
    "        break\n",
    "\n",
    "X_train_augmented = np.concatenate(augmented_images)\n",
    "y_train_augmented = np.concatenate(augmented_labels)\n",
    "\n",
    "y_train_augmented = y_train_augmented.astype(int)"
   ]
  },
  {
   "cell_type": "code",
   "execution_count": 41,
   "metadata": {},
   "outputs": [
    {
     "data": {
      "text/plain": [
       "<matplotlib.image.AxesImage at 0x1c5c8cd9120>"
      ]
     },
     "execution_count": 41,
     "metadata": {},
     "output_type": "execute_result"
    },
    {
     "data": {
      "image/png": "[encoded data removed]",
      "text/plain": [
       "<Figure size 640x480 with 1 Axes>"
      ]
     },
     "metadata": {},
     "output_type": "display_data"
    }
   ],
   "source": [
    "plt.imshow(equalized_image_data[1])"
   ]
  },
  {
   "cell_type": "code",
   "execution_count": 42,
   "metadata": {},
   "outputs": [
    {
     "data": {
      "text/plain": [
       "<matplotlib.image.AxesImage at 0x1c5ab128970>"
      ]
     },
     "execution_count": 42,
     "metadata": {},
     "output_type": "execute_result"
    },
    {
     "data": {
      "image/png": "[encoded data removed]",
      "text/plain": [
       "<Figure size 640x480 with 1 Axes>"
      ]
     },
     "metadata": {},
     "output_type": "display_data"
    }
   ],
   "source": [
    "plt.imshow(image_data[1])"
   ]
  },
  {
   "cell_type": "code",
   "execution_count": 35,
   "metadata": {},
   "outputs": [
    {
     "name": "stdout",
     "output_type": "stream",
     "text": [
      "Model: \"sequential_1\"\n",
      "_________________________________________________________________\n",
      " Layer (type)                Output Shape              Param #   \n",
      "=================================================================\n",
      " conv2d_3 (Conv2D)           (None, 62, 62, 32)        320       \n",
      "                                                                 \n",
      " max_pooling2d_3 (MaxPoolin  (None, 31, 31, 32)        0         \n",
      " g2D)                                                            \n",
      "                                                                 \n",
      " conv2d_4 (Conv2D)           (None, 29, 29, 64)        18496     \n",
      "                                                                 \n",
      " max_pooling2d_4 (MaxPoolin  (None, 14, 14, 64)        0         \n",
      " g2D)                                                            \n",
      "                                                                 \n",
      " conv2d_5 (Conv2D)           (None, 12, 12, 128)       73856     \n",
      "                                                                 \n",
      " max_pooling2d_5 (MaxPoolin  (None, 6, 6, 128)         0         \n",
      " g2D)                                                            \n",
      "                                                                 \n",
      " flatten_1 (Flatten)         (None, 4608)              0         \n",
      "                                                                 \n",
      " dense_3 (Dense)             (None, 128)               589952    \n",
      "                                                                 \n",
      " dropout_2 (Dropout)         (None, 128)               0         \n",
      "                                                                 \n",
      " dense_4 (Dense)             (None, 64)                8256      \n",
      "                                                                 \n",
      " dropout_3 (Dropout)         (None, 64)                0         \n",
      "                                                                 \n",
      " dense_5 (Dense)             (None, 1)                 65        \n",
      "                                                                 \n",
      "=================================================================\n",
      "Total params: 690945 (2.64 MB)\n",
      "Trainable params: 690945 (2.64 MB)\n",
      "Non-trainable params: 0 (0.00 Byte)\n",
      "_________________________________________________________________\n"
     ]
    }
   ],
   "source": [
    "import tensorflow as tf\n",
    "from tensorflow.keras import layers\n",
    "\n",
    "# Set the random seed for reproducibility\n",
    "tf.random.set_seed(1234)\n",
    "\n",
    "# Define the CNN model\n",
    "model = tf.keras.Sequential([\n",
    "    # Convolutional layers\n",
    "    layers.Conv2D(32, (3, 3), activation='relu', input_shape=(64, 64, 1)),\n",
    "    layers.MaxPooling2D((2, 2)),\n",
    "    layers.Conv2D(64, (3, 3), activation='relu'),\n",
    "    layers.MaxPooling2D((2, 2)),\n",
    "    layers.Conv2D(128, (3, 3), activation='relu'),\n",
    "    layers.MaxPooling2D((2, 2)),\n",
    "    \n",
    "    # Flatten the output for fully connected layers\n",
    "    layers.Flatten(),\n",
    "    \n",
    "    # Fully connected layers\n",
    "    layers.Dense(128, activation='relu'),\n",
    "    layers.Dropout(0.5),  \n",
    "    layers.Dense(64, activation='relu'),\n",
    "    layers.Dropout(0.5),\n",
    "    layers.Dense(1, activation='sigmoid')  # Use 'sigmoid' for binary classification\n",
    "])\n",
    "\n",
    "# Compile the model\n",
    "model.compile(optimizer='adam',\n",
    "              loss='binary_crossentropy',  # Use 'binary_crossentropy' for binary classification\n",
    "              metrics=['accuracy'])\n",
    "\n",
    "# Print the model summary to view the architecture\n",
    "model.summary()\n",
    "\n",
    "# Define early stopping\n",
    "early_stopping = tf.keras.callbacks.EarlyStopping(\n",
    "    monitor='val_loss', \n",
    "    patience=5,           \n",
    "    restore_best_weights=True)\n"
   ]
  },
  {
   "cell_type": "code",
   "execution_count": 31,
   "metadata": {},
   "outputs": [
    {
     "name": "stdout",
     "output_type": "stream",
     "text": [
      "Epoch 1/100\n",
      "334/334 [==============================] - 25s 71ms/step - loss: 0.9932 - accuracy: 0.6300 - val_loss: 0.5467 - val_accuracy: 0.7483\n",
      "Epoch 2/100\n",
      "334/334 [==============================] - 24s 71ms/step - loss: 0.5389 - accuracy: 0.7393 - val_loss: 0.4546 - val_accuracy: 0.7876\n",
      "Epoch 3/100\n",
      "334/334 [==============================] - 24s 72ms/step - loss: 0.4302 - accuracy: 0.8040 - val_loss: 0.3086 - val_accuracy: 0.8742\n",
      "Epoch 4/100\n",
      "334/334 [==============================] - 24s 72ms/step - loss: 0.3261 - accuracy: 0.8646 - val_loss: 0.3224 - val_accuracy: 0.8596\n",
      "Epoch 5/100\n",
      "334/334 [==============================] - 25s 75ms/step - loss: 0.2475 - accuracy: 0.9020 - val_loss: 0.2003 - val_accuracy: 0.9154\n",
      "Epoch 6/100\n",
      "334/334 [==============================] - 24s 73ms/step - loss: 0.1952 - accuracy: 0.9292 - val_loss: 0.1568 - val_accuracy: 0.9378\n",
      "Epoch 7/100\n",
      "334/334 [==============================] - 25s 74ms/step - loss: 0.1473 - accuracy: 0.9474 - val_loss: 0.1380 - val_accuracy: 0.9438\n",
      "Epoch 8/100\n",
      "334/334 [==============================] - 26s 77ms/step - loss: 0.1356 - accuracy: 0.9509 - val_loss: 0.1391 - val_accuracy: 0.9513\n",
      "Epoch 9/100\n",
      "334/334 [==============================] - 25s 74ms/step - loss: 0.1153 - accuracy: 0.9582 - val_loss: 0.1331 - val_accuracy: 0.9502\n",
      "Epoch 10/100\n",
      "334/334 [==============================] - 24s 72ms/step - loss: 0.0983 - accuracy: 0.9654 - val_loss: 0.0870 - val_accuracy: 0.9659\n",
      "Epoch 11/100\n",
      "334/334 [==============================] - 24s 73ms/step - loss: 0.0837 - accuracy: 0.9698 - val_loss: 0.0962 - val_accuracy: 0.9697\n",
      "Epoch 12/100\n",
      "334/334 [==============================] - 24s 72ms/step - loss: 0.0969 - accuracy: 0.9682 - val_loss: 0.0917 - val_accuracy: 0.9663\n",
      "Epoch 13/100\n",
      "334/334 [==============================] - 25s 74ms/step - loss: 0.0544 - accuracy: 0.9815 - val_loss: 0.0929 - val_accuracy: 0.9708\n",
      "Epoch 14/100\n",
      "334/334 [==============================] - 25s 75ms/step - loss: 0.0630 - accuracy: 0.9792 - val_loss: 0.1122 - val_accuracy: 0.9655\n",
      "Epoch 15/100\n",
      "334/334 [==============================] - 25s 75ms/step - loss: 0.0456 - accuracy: 0.9847 - val_loss: 0.1150 - val_accuracy: 0.9610\n"
     ]
    },
    {
     "data": {
      "text/plain": [
       "<keras.src.callbacks.History at 0x1c59b811330>"
      ]
     },
     "execution_count": 31,
     "metadata": {},
     "output_type": "execute_result"
    }
   ],
   "source": [
    "batch_size = 32\n",
    "epochs = 100\n",
    "model.fit(X_train_augmented,y_train_augmented, epochs=epochs, batch_size=batch_size, validation_split=0.2,callbacks=[early_stopping])"
   ]
  },
  {
   "cell_type": "code",
   "execution_count": 32,
   "metadata": {},
   "outputs": [
    {
     "name": "stdout",
     "output_type": "stream",
     "text": [
      "6/6 [==============================] - 0s 17ms/step\n"
     ]
    },
    {
     "data": {
      "text/plain": [
       "array([[2.8082356e-01],\n",
       "       [1.3267760e-01],\n",
       "       [9.8397601e-01],\n",
       "       [9.9999690e-01],\n",
       "       [1.8902304e-07],\n",
       "       [1.8035235e-02],\n",
       "       [9.9991751e-01],\n",
       "       [8.6513096e-01],\n",
       "       [9.9988395e-01],\n",
       "       [9.7088492e-01],\n",
       "       [3.5046861e-01],\n",
       "       [6.3807244e-04],\n",
       "       [9.1257763e-01],\n",
       "       [2.6163176e-01],\n",
       "       [8.9523518e-01],\n",
       "       [4.1103018e-03],\n",
       "       [7.0407070e-02],\n",
       "       [9.9625611e-01],\n",
       "       [1.0000000e+00],\n",
       "       [2.6848716e-11],\n",
       "       [1.4465706e-08],\n",
       "       [2.7109579e-06],\n",
       "       [8.6577892e-01],\n",
       "       [9.7975916e-01],\n",
       "       [9.9571544e-01],\n",
       "       [2.9906444e-04],\n",
       "       [9.9999738e-01],\n",
       "       [4.1513049e-05],\n",
       "       [7.6398414e-01],\n",
       "       [1.8373311e-02],\n",
       "       [1.2635075e-05],\n",
       "       [1.2194053e-13],\n",
       "       [3.5396120e-06],\n",
       "       [9.9999940e-01],\n",
       "       [9.8546131e-25],\n",
       "       [9.9999994e-01],\n",
       "       [4.6230966e-08],\n",
       "       [1.5952461e-18],\n",
       "       [2.4318001e-04],\n",
       "       [6.0888833e-01],\n",
       "       [0.0000000e+00],\n",
       "       [9.9969071e-01],\n",
       "       [9.9575919e-01],\n",
       "       [9.9973959e-01],\n",
       "       [9.9996781e-01],\n",
       "       [2.2360282e-02],\n",
       "       [9.9999589e-01],\n",
       "       [9.9528581e-01],\n",
       "       [8.4983444e-01],\n",
       "       [9.8509222e-01],\n",
       "       [9.9992502e-01],\n",
       "       [4.4553611e-01],\n",
       "       [9.9964637e-01],\n",
       "       [9.8470765e-01],\n",
       "       [1.0000000e+00],\n",
       "       [4.0743007e-08],\n",
       "       [8.6577892e-01],\n",
       "       [7.4058647e-07],\n",
       "       [5.2661836e-02],\n",
       "       [9.9989450e-01],\n",
       "       [1.0000000e+00],\n",
       "       [7.5819329e-03],\n",
       "       [2.6170731e-01],\n",
       "       [7.0637926e-02],\n",
       "       [7.1671457e-06],\n",
       "       [7.0890570e-01],\n",
       "       [1.8015106e-01],\n",
       "       [9.2574901e-08],\n",
       "       [9.9954349e-01],\n",
       "       [1.8641393e-01],\n",
       "       [9.9686909e-01],\n",
       "       [2.2171914e-04],\n",
       "       [9.6544993e-01],\n",
       "       [3.9448646e-01],\n",
       "       [9.9345797e-01],\n",
       "       [9.9311667e-03],\n",
       "       [1.6860329e-02],\n",
       "       [1.0000000e+00],\n",
       "       [9.9864841e-01],\n",
       "       [9.9511826e-01],\n",
       "       [9.9921423e-01],\n",
       "       [4.7176680e-09],\n",
       "       [1.0000000e+00],\n",
       "       [1.2797578e-01],\n",
       "       [9.9988019e-01],\n",
       "       [8.9794093e-01],\n",
       "       [1.0094312e-04],\n",
       "       [9.1592890e-01],\n",
       "       [8.8564473e-01],\n",
       "       [5.4145145e-01],\n",
       "       [9.9995106e-01],\n",
       "       [1.2283391e-07],\n",
       "       [9.9636495e-01],\n",
       "       [6.6896087e-01],\n",
       "       [7.0788554e-04],\n",
       "       [6.9411993e-01],\n",
       "       [9.4750351e-01],\n",
       "       [9.9319304e-06],\n",
       "       [1.0000000e+00],\n",
       "       [9.9965483e-01],\n",
       "       [1.2702525e-01],\n",
       "       [6.0943949e-01],\n",
       "       [9.3133050e-01],\n",
       "       [2.0296946e-02],\n",
       "       [9.9992502e-01],\n",
       "       [3.9332736e-02],\n",
       "       [9.7438854e-01],\n",
       "       [5.4202194e-04],\n",
       "       [5.2661836e-02],\n",
       "       [1.0000000e+00],\n",
       "       [7.1802530e-03],\n",
       "       [6.1555603e-04],\n",
       "       [4.1361886e-08],\n",
       "       [5.1424257e-03],\n",
       "       [8.7331599e-01],\n",
       "       [9.9931175e-01],\n",
       "       [8.9363347e-13],\n",
       "       [4.8208544e-01],\n",
       "       [1.3875264e-04],\n",
       "       [9.9999797e-01],\n",
       "       [9.8989052e-01],\n",
       "       [7.1423894e-01],\n",
       "       [9.9991751e-01],\n",
       "       [9.9998879e-01],\n",
       "       [1.8775303e-04],\n",
       "       [8.1845230e-01],\n",
       "       [1.0000000e+00],\n",
       "       [9.9999827e-01],\n",
       "       [1.0534452e-13],\n",
       "       [9.9983132e-01],\n",
       "       [7.0201683e-01],\n",
       "       [1.0000000e+00],\n",
       "       [9.9968922e-01],\n",
       "       [9.9849182e-01],\n",
       "       [1.0000000e+00],\n",
       "       [3.9680243e-01],\n",
       "       [1.2283391e-07],\n",
       "       [5.5150088e-16],\n",
       "       [4.6588212e-01],\n",
       "       [6.3979000e-02],\n",
       "       [2.8229287e-04],\n",
       "       [1.0000000e+00],\n",
       "       [1.5877382e-01],\n",
       "       [9.9904782e-01],\n",
       "       [2.3003493e-02],\n",
       "       [2.5504139e-01],\n",
       "       [9.5587438e-01],\n",
       "       [1.0000000e+00],\n",
       "       [9.9967599e-01],\n",
       "       [1.0000000e+00],\n",
       "       [7.5916129e-01],\n",
       "       [9.9996191e-01],\n",
       "       [9.9341387e-01],\n",
       "       [8.1258419e-14],\n",
       "       [2.1459252e-01],\n",
       "       [3.3602331e-04],\n",
       "       [1.1082716e-01],\n",
       "       [2.5352829e-05],\n",
       "       [9.4585130e-03],\n",
       "       [1.0000000e+00],\n",
       "       [3.8558838e-01],\n",
       "       [1.9655704e-09],\n",
       "       [5.4920900e-01],\n",
       "       [1.0000000e+00],\n",
       "       [7.7040808e-04],\n",
       "       [1.7436922e-02],\n",
       "       [9.9987578e-01],\n",
       "       [2.4934968e-06],\n",
       "       [9.9900305e-01],\n",
       "       [1.0000000e+00],\n",
       "       [2.6025120e-04],\n",
       "       [1.8015106e-01]], dtype=float32)"
      ]
     },
     "execution_count": 32,
     "metadata": {},
     "output_type": "execute_result"
    }
   ],
   "source": [
    "# Make predictions on the test dataset\n",
    "predictions = model.predict(X_test)\n",
    "predictions"
   ]
  },
  {
   "cell_type": "markdown",
   "metadata": {},
   "source": [
    "## Eval Metrics"
   ]
  },
  {
   "cell_type": "code",
   "execution_count": 37,
   "metadata": {},
   "outputs": [
    {
     "data": {
      "text/plain": [
       "0.7974184782608696"
      ]
     },
     "execution_count": 37,
     "metadata": {},
     "output_type": "execute_result"
    }
   ],
   "source": [
    "from sklearn.metrics import roc_auc_score\n",
    "roc_auc_score(y_test,predictions)"
   ]
  },
  {
   "cell_type": "code",
   "execution_count": 55,
   "metadata": {},
   "outputs": [],
   "source": [
    "# Apply threshold to obtain binary predictions (0 or 1)\n",
    "threshold = 0.5\n",
    "binary_predictions = (predictions >= threshold).astype(int)"
   ]
  },
  {
   "cell_type": "code",
   "execution_count": 56,
   "metadata": {},
   "outputs": [
    {
     "name": "stdout",
     "output_type": "stream",
     "text": [
      "Accuracy: 48.84%\n"
     ]
    }
   ],
   "source": [
    "accuracy = accuracy_score(y_test, binary_predictions)\n",
    "print(f\"Accuracy: {accuracy*100:.2f}%\")"
   ]
  },
  {
   "cell_type": "code",
   "execution_count": 57,
   "metadata": {},
   "outputs": [
    {
     "data": {
      "text/plain": [
       "(array([57., 22.,  8.,  9., 12.,  7.,  6., 10.,  4., 37.]),\n",
       " array([9.54787247e-05, 1.00084342e-01, 2.00073197e-01, 3.00062060e-01,\n",
       "        4.00050908e-01, 5.00039756e-01, 6.00028634e-01, 7.00017512e-01,\n",
       "        8.00006390e-01, 8.99995208e-01, 9.99984086e-01]),\n",
       " <BarContainer object of 10 artists>)"
      ]
     },
     "execution_count": 57,
     "metadata": {},
     "output_type": "execute_result"
    },
    {
     "data": {
      "image/png": "[encoded data removed]",
      "text/plain": [
       "<Figure size 640x480 with 1 Axes>"
      ]
     },
     "metadata": {},
     "output_type": "display_data"
    }
   ],
   "source": [
    "plt.hist(predictions.squeeze())"
   ]
  },
  {
   "cell_type": "code",
   "execution_count": 58,
   "metadata": {},
   "outputs": [
    {
     "name": "stdout",
     "output_type": "stream",
     "text": [
      "Classification Report:\n",
      "              precision    recall  f1-score   support\n",
      "\n",
      "           0       0.46      0.62      0.53        80\n",
      "           1       0.53      0.37      0.44        92\n",
      "\n",
      "    accuracy                           0.49       172\n",
      "   macro avg       0.50      0.50      0.48       172\n",
      "weighted avg       0.50      0.49      0.48       172\n",
      "\n"
     ]
    }
   ],
   "source": [
    "class_report = classification_report(y_test, binary_predictions)\n",
    "print(\"Classification Report:\")\n",
    "print(class_report)"
   ]
  }
 ],
 "metadata": {
  "kernelspec": {
   "display_name": "Python 3",
   "language": "python",
   "name": "python3"
  },
  "language_info": {
   "codemirror_mode": {
    "name": "ipython",
    "version": 3
   },
   "file_extension": ".py",
   "mimetype": "text/x-python",
   "name": "python",
   "nbconvert_exporter": "python",
   "pygments_lexer": "ipython3",
   "version": "3.10.0"
  }
 },
 "nbformat": 4,
 "nbformat_minor": 2
}
