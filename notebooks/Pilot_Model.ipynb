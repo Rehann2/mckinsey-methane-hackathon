{
 "cells": [
  {
   "cell_type": "markdown",
   "metadata": {},
   "source": [
    "# Imports"
   ]
  },
  {
   "cell_type": "code",
   "execution_count": 1,
   "metadata": {},
   "outputs": [],
   "source": [
    "import os\n",
    "\n",
    "os.chdir(\"..\")"
   ]
  },
  {
   "cell_type": "code",
   "execution_count": 2,
   "metadata": {},
   "outputs": [],
   "source": [
    "import pandas as pd\n",
    "import numpy as np\n",
    "import rasterio\n",
    "import geopandas as gpd\n",
    "import earthpy.plot as ep\n",
    "import imageio\n",
    "import cv2\n",
    "\n",
    "os.getcwd()\n",
    "import pandas as pd\n",
    "import numpy as np\n",
    "import datetime\n",
    "import matplotlib.pyplot as plt\n",
    "import tensorflow as tf\n",
    "from tensorflow import keras\n",
    "from tensorflow.keras import layers\n",
    "from sklearn.model_selection import train_test_split\n",
    "from sklearn.metrics import accuracy_score, classification_report, confusion_matrix\n",
    "from tensorflow.keras.preprocessing.image import ImageDataGenerator\n",
    "from tensorflow.keras.utils import to_categorical\n",
    "from tensorflow import keras\n",
    "from tensorflow.keras import layers\n",
    "import glob\n",
    "from tensorflow.keras.callbacks import EarlyStopping\n",
    "from sklearn.preprocessing import LabelBinarizer\n",
    "from sklearn.preprocessing import LabelEncoder\n",
    "import cv2\n",
    "\n",
    "keras.utils.set_random_seed(101)\n",
    "from utils.dataloader import LoadData\n",
    "from tensorflow.keras.applications import MobileNetV2, EfficientNetB0"
   ]
  },
  {
   "cell_type": "markdown",
   "metadata": {},
   "source": [
    "# Loading and EDA"
   ]
  },
  {
   "cell_type": "code",
   "execution_count": 3,
   "metadata": {},
   "outputs": [
    {
     "name": "stderr",
     "output_type": "stream",
     "text": [
      "c:\\Users\\Rehan Ibrahim\\AppData\\Local\\Programs\\Python\\Python310\\lib\\site-packages\\rasterio\\__init__.py:320: NotGeoreferencedWarning: Dataset has no geotransform, gcps, or rpcs. The identity matrix will be returned.\n",
      "  dataset = DatasetReader(path, driver=driver, sharing=sharing, **kwargs)\n"
     ]
    }
   ],
   "source": [
    "data = LoadData(\n",
    "    metadata_path=\"data/dataset/train_data/metadata.csv\",\n",
    "    image_data_path=\"data/dataset/train_data/\",\n",
    ")\n",
    "\n",
    "X_train_aug, X_test, y_train_aug, y_test = data.prep_data(\n",
    "    normalize=True, augment=True, batch_size=64, test_size=0.4\n",
    ")"
   ]
  },
  {
   "cell_type": "code",
   "execution_count": 3,
   "metadata": {},
   "outputs": [
    {
     "name": "stderr",
     "output_type": "stream",
     "text": [
      "c:\\Users\\Rehan Ibrahim\\AppData\\Local\\Programs\\Python\\Python310\\lib\\site-packages\\rasterio\\__init__.py:320: NotGeoreferencedWarning: Dataset has no geotransform, gcps, or rpcs. The identity matrix will be returned.\n",
      "  dataset = DatasetReader(path, driver=driver, sharing=sharing, **kwargs)\n"
     ]
    },
    {
     "data": {
      "text/plain": [
       "(1.0, 1.0)"
      ]
     },
     "execution_count": 3,
     "metadata": {},
     "output_type": "execute_result"
    }
   ],
   "source": [
    "with rasterio.open(\n",
    "    \"data/dataset/train_data/images/plume/20230101_methane_mixing_ratio_id_4928.tif\"\n",
    ") as src:\n",
    "    img = src.read(1)\n",
    "\n",
    "img_meta = src.meta\n",
    "img_meta\n",
    "src.res"
   ]
  },
  {
   "cell_type": "code",
   "execution_count": 4,
   "metadata": {},
   "outputs": [],
   "source": [
    "meta_df = pd.read_csv(\"data/dataset/train_data/metadata.csv\")"
   ]
  },
  {
   "cell_type": "code",
   "execution_count": 5,
   "metadata": {},
   "outputs": [
    {
     "data": {
      "text/plain": [
       "lat        lon       \n",
       "29.631951   35.952379    21\n",
       "32.713854   44.609398    19\n",
       "33.990812   39.641866    18\n",
       "28.510000   77.442400    17\n",
       "36.596520   38.321405    15\n",
       "                         ..\n",
       "21.039986  -77.824694     1\n",
       "24.907500   67.023000     1\n",
       "23.763333   86.396667     1\n",
       "23.740000   90.595000     1\n",
       "68.570113   25.563059     1\n",
       "Length: 101, dtype: int64"
      ]
     },
     "execution_count": 5,
     "metadata": {},
     "output_type": "execute_result"
    }
   ],
   "source": [
    "meta_df[[\"lat\", \"lon\"]].value_counts()"
   ]
  },
  {
   "cell_type": "code",
   "execution_count": 6,
   "metadata": {},
   "outputs": [
    {
     "data": {
      "text/html": [
       "<div>\n",
       "<style scoped>\n",
       "    .dataframe tbody tr th:only-of-type {\n",
       "        vertical-align: middle;\n",
       "    }\n",
       "\n",
       "    .dataframe tbody tr th {\n",
       "        vertical-align: top;\n",
       "    }\n",
       "\n",
       "    .dataframe thead th {\n",
       "        text-align: right;\n",
       "    }\n",
       "</style>\n",
       "<table border=\"1\" class=\"dataframe\">\n",
       "  <thead>\n",
       "    <tr style=\"text-align: right;\">\n",
       "      <th></th>\n",
       "      <th>date</th>\n",
       "      <th>id_coord</th>\n",
       "      <th>plume</th>\n",
       "      <th>set</th>\n",
       "      <th>lat</th>\n",
       "      <th>lon</th>\n",
       "      <th>coord_x</th>\n",
       "      <th>coord_y</th>\n",
       "      <th>path</th>\n",
       "    </tr>\n",
       "  </thead>\n",
       "  <tbody>\n",
       "    <tr>\n",
       "      <th>0</th>\n",
       "      <td>20230223</td>\n",
       "      <td>id_6675</td>\n",
       "      <td>yes</td>\n",
       "      <td>train</td>\n",
       "      <td>31.528750</td>\n",
       "      <td>74.330625</td>\n",
       "      <td>24</td>\n",
       "      <td>47</td>\n",
       "      <td>images/plume/20230223_methane_mixing_ratio_id_...</td>\n",
       "    </tr>\n",
       "    <tr>\n",
       "      <th>1</th>\n",
       "      <td>20230103</td>\n",
       "      <td>id_2542</td>\n",
       "      <td>yes</td>\n",
       "      <td>train</td>\n",
       "      <td>35.538000</td>\n",
       "      <td>112.524000</td>\n",
       "      <td>42</td>\n",
       "      <td>37</td>\n",
       "      <td>images/plume/20230103_methane_mixing_ratio_id_...</td>\n",
       "    </tr>\n",
       "    <tr>\n",
       "      <th>2</th>\n",
       "      <td>20230301</td>\n",
       "      <td>id_6546</td>\n",
       "      <td>yes</td>\n",
       "      <td>train</td>\n",
       "      <td>21.060000</td>\n",
       "      <td>84.936667</td>\n",
       "      <td>58</td>\n",
       "      <td>15</td>\n",
       "      <td>images/plume/20230301_methane_mixing_ratio_id_...</td>\n",
       "    </tr>\n",
       "    <tr>\n",
       "      <th>3</th>\n",
       "      <td>20230225</td>\n",
       "      <td>id_6084</td>\n",
       "      <td>yes</td>\n",
       "      <td>train</td>\n",
       "      <td>26.756667</td>\n",
       "      <td>80.973333</td>\n",
       "      <td>28</td>\n",
       "      <td>62</td>\n",
       "      <td>images/plume/20230225_methane_mixing_ratio_id_...</td>\n",
       "    </tr>\n",
       "    <tr>\n",
       "      <th>4</th>\n",
       "      <td>20230105</td>\n",
       "      <td>id_2012</td>\n",
       "      <td>yes</td>\n",
       "      <td>train</td>\n",
       "      <td>34.800000</td>\n",
       "      <td>40.770000</td>\n",
       "      <td>59</td>\n",
       "      <td>44</td>\n",
       "      <td>images/plume/20230105_methane_mixing_ratio_id_...</td>\n",
       "    </tr>\n",
       "  </tbody>\n",
       "</table>\n",
       "</div>"
      ],
      "text/plain": [
       "       date id_coord plume    set        lat         lon  coord_x  coord_y  \\\n",
       "0  20230223  id_6675   yes  train  31.528750   74.330625       24       47   \n",
       "1  20230103  id_2542   yes  train  35.538000  112.524000       42       37   \n",
       "2  20230301  id_6546   yes  train  21.060000   84.936667       58       15   \n",
       "3  20230225  id_6084   yes  train  26.756667   80.973333       28       62   \n",
       "4  20230105  id_2012   yes  train  34.800000   40.770000       59       44   \n",
       "\n",
       "                                                path  \n",
       "0  images/plume/20230223_methane_mixing_ratio_id_...  \n",
       "1  images/plume/20230103_methane_mixing_ratio_id_...  \n",
       "2  images/plume/20230301_methane_mixing_ratio_id_...  \n",
       "3  images/plume/20230225_methane_mixing_ratio_id_...  \n",
       "4  images/plume/20230105_methane_mixing_ratio_id_...  "
      ]
     },
     "execution_count": 6,
     "metadata": {},
     "output_type": "execute_result"
    }
   ],
   "source": [
    "meta_df.head()"
   ]
  },
  {
   "cell_type": "code",
   "execution_count": 7,
   "metadata": {},
   "outputs": [],
   "source": [
    "meta_df[\"path\"] = \"data/dataset/train_data/\" + meta_df[\"path\"].astype(str)\n",
    "meta_df[\"path\"] = meta_df[\"path\"].astype(str) + \".tif\""
   ]
  },
  {
   "cell_type": "code",
   "execution_count": 8,
   "metadata": {},
   "outputs": [
    {
     "data": {
      "text/html": [
       "<div>\n",
       "<style scoped>\n",
       "    .dataframe tbody tr th:only-of-type {\n",
       "        vertical-align: middle;\n",
       "    }\n",
       "\n",
       "    .dataframe tbody tr th {\n",
       "        vertical-align: top;\n",
       "    }\n",
       "\n",
       "    .dataframe thead th {\n",
       "        text-align: right;\n",
       "    }\n",
       "</style>\n",
       "<table border=\"1\" class=\"dataframe\">\n",
       "  <thead>\n",
       "    <tr style=\"text-align: right;\">\n",
       "      <th></th>\n",
       "      <th>date</th>\n",
       "      <th>id_coord</th>\n",
       "      <th>plume</th>\n",
       "      <th>set</th>\n",
       "      <th>lat</th>\n",
       "      <th>lon</th>\n",
       "      <th>coord_x</th>\n",
       "      <th>coord_y</th>\n",
       "      <th>path</th>\n",
       "    </tr>\n",
       "  </thead>\n",
       "  <tbody>\n",
       "    <tr>\n",
       "      <th>0</th>\n",
       "      <td>20230223</td>\n",
       "      <td>id_6675</td>\n",
       "      <td>yes</td>\n",
       "      <td>train</td>\n",
       "      <td>31.528750</td>\n",
       "      <td>74.330625</td>\n",
       "      <td>24</td>\n",
       "      <td>47</td>\n",
       "      <td>data/dataset/train_data/images/plume/20230223_...</td>\n",
       "    </tr>\n",
       "    <tr>\n",
       "      <th>1</th>\n",
       "      <td>20230103</td>\n",
       "      <td>id_2542</td>\n",
       "      <td>yes</td>\n",
       "      <td>train</td>\n",
       "      <td>35.538000</td>\n",
       "      <td>112.524000</td>\n",
       "      <td>42</td>\n",
       "      <td>37</td>\n",
       "      <td>data/dataset/train_data/images/plume/20230103_...</td>\n",
       "    </tr>\n",
       "    <tr>\n",
       "      <th>2</th>\n",
       "      <td>20230301</td>\n",
       "      <td>id_6546</td>\n",
       "      <td>yes</td>\n",
       "      <td>train</td>\n",
       "      <td>21.060000</td>\n",
       "      <td>84.936667</td>\n",
       "      <td>58</td>\n",
       "      <td>15</td>\n",
       "      <td>data/dataset/train_data/images/plume/20230301_...</td>\n",
       "    </tr>\n",
       "    <tr>\n",
       "      <th>3</th>\n",
       "      <td>20230225</td>\n",
       "      <td>id_6084</td>\n",
       "      <td>yes</td>\n",
       "      <td>train</td>\n",
       "      <td>26.756667</td>\n",
       "      <td>80.973333</td>\n",
       "      <td>28</td>\n",
       "      <td>62</td>\n",
       "      <td>data/dataset/train_data/images/plume/20230225_...</td>\n",
       "    </tr>\n",
       "    <tr>\n",
       "      <th>4</th>\n",
       "      <td>20230105</td>\n",
       "      <td>id_2012</td>\n",
       "      <td>yes</td>\n",
       "      <td>train</td>\n",
       "      <td>34.800000</td>\n",
       "      <td>40.770000</td>\n",
       "      <td>59</td>\n",
       "      <td>44</td>\n",
       "      <td>data/dataset/train_data/images/plume/20230105_...</td>\n",
       "    </tr>\n",
       "    <tr>\n",
       "      <th>...</th>\n",
       "      <td>...</td>\n",
       "      <td>...</td>\n",
       "      <td>...</td>\n",
       "      <td>...</td>\n",
       "      <td>...</td>\n",
       "      <td>...</td>\n",
       "      <td>...</td>\n",
       "      <td>...</td>\n",
       "      <td>...</td>\n",
       "    </tr>\n",
       "    <tr>\n",
       "      <th>425</th>\n",
       "      <td>20230302</td>\n",
       "      <td>id_6658</td>\n",
       "      <td>no</td>\n",
       "      <td>train</td>\n",
       "      <td>30.965619</td>\n",
       "      <td>34.541283</td>\n",
       "      <td>39</td>\n",
       "      <td>36</td>\n",
       "      <td>data/dataset/train_data/images/no_plume/202303...</td>\n",
       "    </tr>\n",
       "    <tr>\n",
       "      <th>426</th>\n",
       "      <td>20230218</td>\n",
       "      <td>id_4690</td>\n",
       "      <td>no</td>\n",
       "      <td>train</td>\n",
       "      <td>35.950275</td>\n",
       "      <td>40.267652</td>\n",
       "      <td>29</td>\n",
       "      <td>28</td>\n",
       "      <td>data/dataset/train_data/images/no_plume/202302...</td>\n",
       "    </tr>\n",
       "    <tr>\n",
       "      <th>427</th>\n",
       "      <td>20230213</td>\n",
       "      <td>id_2519</td>\n",
       "      <td>no</td>\n",
       "      <td>train</td>\n",
       "      <td>49.963801</td>\n",
       "      <td>6.016938</td>\n",
       "      <td>23</td>\n",
       "      <td>10</td>\n",
       "      <td>data/dataset/train_data/images/no_plume/202302...</td>\n",
       "    </tr>\n",
       "    <tr>\n",
       "      <th>428</th>\n",
       "      <td>20230213</td>\n",
       "      <td>id_5510</td>\n",
       "      <td>no</td>\n",
       "      <td>train</td>\n",
       "      <td>32.713854</td>\n",
       "      <td>44.609398</td>\n",
       "      <td>55</td>\n",
       "      <td>54</td>\n",
       "      <td>data/dataset/train_data/images/no_plume/202302...</td>\n",
       "    </tr>\n",
       "    <tr>\n",
       "      <th>429</th>\n",
       "      <td>20230330</td>\n",
       "      <td>id_6609</td>\n",
       "      <td>no</td>\n",
       "      <td>train</td>\n",
       "      <td>47.758979</td>\n",
       "      <td>27.801630</td>\n",
       "      <td>21</td>\n",
       "      <td>15</td>\n",
       "      <td>data/dataset/train_data/images/no_plume/202303...</td>\n",
       "    </tr>\n",
       "  </tbody>\n",
       "</table>\n",
       "<p>430 rows × 9 columns</p>\n",
       "</div>"
      ],
      "text/plain": [
       "         date id_coord plume    set        lat         lon  coord_x  coord_y  \\\n",
       "0    20230223  id_6675   yes  train  31.528750   74.330625       24       47   \n",
       "1    20230103  id_2542   yes  train  35.538000  112.524000       42       37   \n",
       "2    20230301  id_6546   yes  train  21.060000   84.936667       58       15   \n",
       "3    20230225  id_6084   yes  train  26.756667   80.973333       28       62   \n",
       "4    20230105  id_2012   yes  train  34.800000   40.770000       59       44   \n",
       "..        ...      ...   ...    ...        ...         ...      ...      ...   \n",
       "425  20230302  id_6658    no  train  30.965619   34.541283       39       36   \n",
       "426  20230218  id_4690    no  train  35.950275   40.267652       29       28   \n",
       "427  20230213  id_2519    no  train  49.963801    6.016938       23       10   \n",
       "428  20230213  id_5510    no  train  32.713854   44.609398       55       54   \n",
       "429  20230330  id_6609    no  train  47.758979   27.801630       21       15   \n",
       "\n",
       "                                                  path  \n",
       "0    data/dataset/train_data/images/plume/20230223_...  \n",
       "1    data/dataset/train_data/images/plume/20230103_...  \n",
       "2    data/dataset/train_data/images/plume/20230301_...  \n",
       "3    data/dataset/train_data/images/plume/20230225_...  \n",
       "4    data/dataset/train_data/images/plume/20230105_...  \n",
       "..                                                 ...  \n",
       "425  data/dataset/train_data/images/no_plume/202303...  \n",
       "426  data/dataset/train_data/images/no_plume/202302...  \n",
       "427  data/dataset/train_data/images/no_plume/202302...  \n",
       "428  data/dataset/train_data/images/no_plume/202302...  \n",
       "429  data/dataset/train_data/images/no_plume/202303...  \n",
       "\n",
       "[430 rows x 9 columns]"
      ]
     },
     "execution_count": 8,
     "metadata": {},
     "output_type": "execute_result"
    }
   ],
   "source": [
    "meta_df"
   ]
  },
  {
   "cell_type": "code",
   "execution_count": 9,
   "metadata": {},
   "outputs": [],
   "source": [
    "meta_df[\"plume\"] = meta_df[\"plume\"].map({\"yes\": 1, \"no\": 0})"
   ]
  },
  {
   "cell_type": "code",
   "execution_count": 10,
   "metadata": {},
   "outputs": [
    {
     "data": {
      "text/html": [
       "<div>\n",
       "<style scoped>\n",
       "    .dataframe tbody tr th:only-of-type {\n",
       "        vertical-align: middle;\n",
       "    }\n",
       "\n",
       "    .dataframe tbody tr th {\n",
       "        vertical-align: top;\n",
       "    }\n",
       "\n",
       "    .dataframe thead th {\n",
       "        text-align: right;\n",
       "    }\n",
       "</style>\n",
       "<table border=\"1\" class=\"dataframe\">\n",
       "  <thead>\n",
       "    <tr style=\"text-align: right;\">\n",
       "      <th></th>\n",
       "      <th>date</th>\n",
       "      <th>id_coord</th>\n",
       "      <th>plume</th>\n",
       "      <th>set</th>\n",
       "      <th>lat</th>\n",
       "      <th>lon</th>\n",
       "      <th>coord_x</th>\n",
       "      <th>coord_y</th>\n",
       "      <th>path</th>\n",
       "    </tr>\n",
       "  </thead>\n",
       "  <tbody>\n",
       "    <tr>\n",
       "      <th>0</th>\n",
       "      <td>20230223</td>\n",
       "      <td>id_6675</td>\n",
       "      <td>1</td>\n",
       "      <td>train</td>\n",
       "      <td>31.528750</td>\n",
       "      <td>74.330625</td>\n",
       "      <td>24</td>\n",
       "      <td>47</td>\n",
       "      <td>data/dataset/train_data/images/plume/20230223_...</td>\n",
       "    </tr>\n",
       "    <tr>\n",
       "      <th>1</th>\n",
       "      <td>20230103</td>\n",
       "      <td>id_2542</td>\n",
       "      <td>1</td>\n",
       "      <td>train</td>\n",
       "      <td>35.538000</td>\n",
       "      <td>112.524000</td>\n",
       "      <td>42</td>\n",
       "      <td>37</td>\n",
       "      <td>data/dataset/train_data/images/plume/20230103_...</td>\n",
       "    </tr>\n",
       "    <tr>\n",
       "      <th>2</th>\n",
       "      <td>20230301</td>\n",
       "      <td>id_6546</td>\n",
       "      <td>1</td>\n",
       "      <td>train</td>\n",
       "      <td>21.060000</td>\n",
       "      <td>84.936667</td>\n",
       "      <td>58</td>\n",
       "      <td>15</td>\n",
       "      <td>data/dataset/train_data/images/plume/20230301_...</td>\n",
       "    </tr>\n",
       "    <tr>\n",
       "      <th>3</th>\n",
       "      <td>20230225</td>\n",
       "      <td>id_6084</td>\n",
       "      <td>1</td>\n",
       "      <td>train</td>\n",
       "      <td>26.756667</td>\n",
       "      <td>80.973333</td>\n",
       "      <td>28</td>\n",
       "      <td>62</td>\n",
       "      <td>data/dataset/train_data/images/plume/20230225_...</td>\n",
       "    </tr>\n",
       "    <tr>\n",
       "      <th>4</th>\n",
       "      <td>20230105</td>\n",
       "      <td>id_2012</td>\n",
       "      <td>1</td>\n",
       "      <td>train</td>\n",
       "      <td>34.800000</td>\n",
       "      <td>40.770000</td>\n",
       "      <td>59</td>\n",
       "      <td>44</td>\n",
       "      <td>data/dataset/train_data/images/plume/20230105_...</td>\n",
       "    </tr>\n",
       "    <tr>\n",
       "      <th>...</th>\n",
       "      <td>...</td>\n",
       "      <td>...</td>\n",
       "      <td>...</td>\n",
       "      <td>...</td>\n",
       "      <td>...</td>\n",
       "      <td>...</td>\n",
       "      <td>...</td>\n",
       "      <td>...</td>\n",
       "      <td>...</td>\n",
       "    </tr>\n",
       "    <tr>\n",
       "      <th>425</th>\n",
       "      <td>20230302</td>\n",
       "      <td>id_6658</td>\n",
       "      <td>0</td>\n",
       "      <td>train</td>\n",
       "      <td>30.965619</td>\n",
       "      <td>34.541283</td>\n",
       "      <td>39</td>\n",
       "      <td>36</td>\n",
       "      <td>data/dataset/train_data/images/no_plume/202303...</td>\n",
       "    </tr>\n",
       "    <tr>\n",
       "      <th>426</th>\n",
       "      <td>20230218</td>\n",
       "      <td>id_4690</td>\n",
       "      <td>0</td>\n",
       "      <td>train</td>\n",
       "      <td>35.950275</td>\n",
       "      <td>40.267652</td>\n",
       "      <td>29</td>\n",
       "      <td>28</td>\n",
       "      <td>data/dataset/train_data/images/no_plume/202302...</td>\n",
       "    </tr>\n",
       "    <tr>\n",
       "      <th>427</th>\n",
       "      <td>20230213</td>\n",
       "      <td>id_2519</td>\n",
       "      <td>0</td>\n",
       "      <td>train</td>\n",
       "      <td>49.963801</td>\n",
       "      <td>6.016938</td>\n",
       "      <td>23</td>\n",
       "      <td>10</td>\n",
       "      <td>data/dataset/train_data/images/no_plume/202302...</td>\n",
       "    </tr>\n",
       "    <tr>\n",
       "      <th>428</th>\n",
       "      <td>20230213</td>\n",
       "      <td>id_5510</td>\n",
       "      <td>0</td>\n",
       "      <td>train</td>\n",
       "      <td>32.713854</td>\n",
       "      <td>44.609398</td>\n",
       "      <td>55</td>\n",
       "      <td>54</td>\n",
       "      <td>data/dataset/train_data/images/no_plume/202302...</td>\n",
       "    </tr>\n",
       "    <tr>\n",
       "      <th>429</th>\n",
       "      <td>20230330</td>\n",
       "      <td>id_6609</td>\n",
       "      <td>0</td>\n",
       "      <td>train</td>\n",
       "      <td>47.758979</td>\n",
       "      <td>27.801630</td>\n",
       "      <td>21</td>\n",
       "      <td>15</td>\n",
       "      <td>data/dataset/train_data/images/no_plume/202303...</td>\n",
       "    </tr>\n",
       "  </tbody>\n",
       "</table>\n",
       "<p>430 rows × 9 columns</p>\n",
       "</div>"
      ],
      "text/plain": [
       "         date id_coord  plume    set        lat         lon  coord_x  coord_y  \\\n",
       "0    20230223  id_6675      1  train  31.528750   74.330625       24       47   \n",
       "1    20230103  id_2542      1  train  35.538000  112.524000       42       37   \n",
       "2    20230301  id_6546      1  train  21.060000   84.936667       58       15   \n",
       "3    20230225  id_6084      1  train  26.756667   80.973333       28       62   \n",
       "4    20230105  id_2012      1  train  34.800000   40.770000       59       44   \n",
       "..        ...      ...    ...    ...        ...         ...      ...      ...   \n",
       "425  20230302  id_6658      0  train  30.965619   34.541283       39       36   \n",
       "426  20230218  id_4690      0  train  35.950275   40.267652       29       28   \n",
       "427  20230213  id_2519      0  train  49.963801    6.016938       23       10   \n",
       "428  20230213  id_5510      0  train  32.713854   44.609398       55       54   \n",
       "429  20230330  id_6609      0  train  47.758979   27.801630       21       15   \n",
       "\n",
       "                                                  path  \n",
       "0    data/dataset/train_data/images/plume/20230223_...  \n",
       "1    data/dataset/train_data/images/plume/20230103_...  \n",
       "2    data/dataset/train_data/images/plume/20230301_...  \n",
       "3    data/dataset/train_data/images/plume/20230225_...  \n",
       "4    data/dataset/train_data/images/plume/20230105_...  \n",
       "..                                                 ...  \n",
       "425  data/dataset/train_data/images/no_plume/202303...  \n",
       "426  data/dataset/train_data/images/no_plume/202302...  \n",
       "427  data/dataset/train_data/images/no_plume/202302...  \n",
       "428  data/dataset/train_data/images/no_plume/202302...  \n",
       "429  data/dataset/train_data/images/no_plume/202303...  \n",
       "\n",
       "[430 rows x 9 columns]"
      ]
     },
     "execution_count": 10,
     "metadata": {},
     "output_type": "execute_result"
    }
   ],
   "source": [
    "meta_df"
   ]
  },
  {
   "cell_type": "code",
   "execution_count": 11,
   "metadata": {},
   "outputs": [
    {
     "name": "stderr",
     "output_type": "stream",
     "text": [
      "c:\\Users\\Rehan Ibrahim\\AppData\\Local\\Programs\\Python\\Python310\\lib\\site-packages\\rasterio\\__init__.py:320: NotGeoreferencedWarning: Dataset has no geotransform, gcps, or rpcs. The identity matrix will be returned.\n",
      "  dataset = DatasetReader(path, driver=driver, sharing=sharing, **kwargs)\n"
     ]
    },
    {
     "data": {
      "image/png": "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",
      "text/plain": [
       "<Figure size 1200x1200 with 2 Axes>"
      ]
     },
     "metadata": {},
     "output_type": "display_data"
    },
    {
     "data": {
      "text/plain": [
       "<AxesSubplot: >"
      ]
     },
     "execution_count": 11,
     "metadata": {},
     "output_type": "execute_result"
    }
   ],
   "source": [
    "with rasterio.open(\n",
    "    \"data/dataset/train_data/images/plume/20230223_methane_mixing_ratio_id_6675.tif\"\n",
    ") as src:\n",
    "    img = src.read(1)\n",
    "ep.plot_bands(img)"
   ]
  },
  {
   "cell_type": "code",
   "execution_count": 12,
   "metadata": {},
   "outputs": [],
   "source": [
    "image_data = []\n",
    "plume_labels = []\n",
    "\n",
    "# Loop through the metadata and load images\n",
    "for index, row in meta_df.iterrows():\n",
    "    image_path = row[\"path\"]\n",
    "    plume_label = row[\"plume\"]\n",
    "\n",
    "    # Read the TIFF image using rasterio\n",
    "    try:\n",
    "        with rasterio.open(image_path) as src:\n",
    "            image = src.read(1)  # Assuming single-band image, adjust if necessary\n",
    "            # You may want to resize or preprocess the image here if necessary\n",
    "\n",
    "        # Append the image data and plume label to their respective lists\n",
    "        image_data.append(image)\n",
    "        plume_labels.append(plume_label)\n",
    "    except Exception as e:\n",
    "        print(f\"Error loading image at {image_path}: {e}\")\n",
    "\n",
    "# Convert the lists into NumPy arrays\n",
    "image_data = np.array(image_data)\n",
    "plume_labels = np.array(plume_labels)"
   ]
  },
  {
   "cell_type": "code",
   "execution_count": 13,
   "metadata": {},
   "outputs": [
    {
     "data": {
      "text/plain": [
       "array([1, 1, 1, 1, 1, 1, 1, 1, 1, 1, 1, 1, 1, 1, 1, 1, 1, 1, 1, 1, 1, 1,\n",
       "       1, 1, 1, 1, 1, 1, 1, 1, 1, 1, 1, 1, 1, 1, 1, 1, 1, 1, 1, 1, 1, 1,\n",
       "       1, 1, 1, 1, 1, 1, 1, 1, 1, 1, 1, 1, 1, 1, 1, 1, 1, 1, 1, 1, 1, 1,\n",
       "       1, 1, 1, 1, 1, 1, 1, 1, 1, 1, 1, 1, 1, 1, 1, 1, 1, 1, 1, 1, 1, 1,\n",
       "       1, 1, 1, 1, 1, 1, 1, 1, 1, 1, 1, 1, 1, 1, 1, 1, 1, 1, 1, 1, 1, 1,\n",
       "       1, 1, 1, 1, 1, 1, 1, 1, 1, 1, 1, 1, 1, 1, 1, 1, 1, 1, 1, 1, 1, 1,\n",
       "       1, 1, 1, 1, 1, 1, 1, 1, 1, 1, 1, 1, 1, 1, 1, 1, 1, 1, 1, 1, 1, 1,\n",
       "       1, 1, 1, 1, 1, 1, 1, 1, 1, 1, 1, 1, 1, 1, 1, 1, 1, 1, 1, 1, 1, 1,\n",
       "       1, 1, 1, 1, 1, 1, 1, 1, 1, 1, 1, 1, 1, 1, 1, 1, 1, 1, 1, 1, 1, 1,\n",
       "       1, 1, 1, 1, 1, 1, 1, 1, 1, 1, 1, 1, 1, 1, 1, 1, 1, 1, 0, 0, 0, 0,\n",
       "       0, 0, 0, 0, 0, 0, 0, 0, 0, 0, 0, 0, 0, 0, 0, 0, 0, 0, 0, 0, 0, 0,\n",
       "       0, 0, 0, 0, 0, 0, 0, 0, 0, 0, 0, 0, 0, 0, 0, 0, 0, 0, 0, 0, 0, 0,\n",
       "       0, 0, 0, 0, 0, 0, 0, 0, 0, 0, 0, 0, 0, 0, 0, 0, 0, 0, 0, 0, 0, 0,\n",
       "       0, 0, 0, 0, 0, 0, 0, 0, 0, 0, 0, 0, 0, 0, 0, 0, 0, 0, 0, 0, 0, 0,\n",
       "       0, 0, 0, 0, 0, 0, 0, 0, 0, 0, 0, 0, 0, 0, 0, 0, 0, 0, 0, 0, 0, 0,\n",
       "       0, 0, 0, 0, 0, 0, 0, 0, 0, 0, 0, 0, 0, 0, 0, 0, 0, 0, 0, 0, 0, 0,\n",
       "       0, 0, 0, 0, 0, 0, 0, 0, 0, 0, 0, 0, 0, 0, 0, 0, 0, 0, 0, 0, 0, 0,\n",
       "       0, 0, 0, 0, 0, 0, 0, 0, 0, 0, 0, 0, 0, 0, 0, 0, 0, 0, 0, 0, 0, 0,\n",
       "       0, 0, 0, 0, 0, 0, 0, 0, 0, 0, 0, 0, 0, 0, 0, 0, 0, 0, 0, 0, 0, 0,\n",
       "       0, 0, 0, 0, 0, 0, 0, 0, 0, 0, 0, 0])"
      ]
     },
     "execution_count": 13,
     "metadata": {},
     "output_type": "execute_result"
    }
   ],
   "source": [
    "plume_labels"
   ]
  },
  {
   "cell_type": "code",
   "execution_count": 14,
   "metadata": {},
   "outputs": [
    {
     "data": {
      "text/plain": [
       "array([[[15373, 23745, 23745, ...,     0,     0,     0],\n",
       "        [21083, 22849, 22849, ...,     0,     0,     0],\n",
       "        [21083, 22849, 22849, ...,     0,  3348,  3348],\n",
       "        ...,\n",
       "        [49287, 49287, 43637, ..., 22215, 29933, 29933],\n",
       "        [49287, 43637, 43637, ..., 13711, 14626, 14626],\n",
       "        [49834, 48903, 48903, ..., 13711, 14626, 14626]],\n",
       "\n",
       "       [[    0,     0,     0, ...,     0,     0,     0],\n",
       "        [ 6386, 11516,  1537, ...,     0,     0,     0],\n",
       "        [ 6386, 11516,  1537, ...,     0,     0,     0],\n",
       "        ...,\n",
       "        [ 3878,  6976,  6548, ...,     0,     0,     0],\n",
       "        [ 3878,  6976,  6548, ...,     0,     0,     0],\n",
       "        [ 4225,     0,  4100, ...,     0,     0,     0]],\n",
       "\n",
       "       [[14118,  9487,  9487, ..., 25601, 22138, 22138],\n",
       "        [16914,  5666,  5666, ..., 30095, 26363, 26363],\n",
       "        [16914,  5666,  5666, ..., 30095, 26363, 26363],\n",
       "        ...,\n",
       "        [14918, 14918, 16676, ..., 18546,     0,     0],\n",
       "        [14918, 14918, 16676, ..., 18546,     0,     0],\n",
       "        [    0,     0,     0, ...,  6638,     0,     0]],\n",
       "\n",
       "       ...,\n",
       "\n",
       "       [[42516, 41205, 45212, ..., 15059, 32915, 32915],\n",
       "        [    0, 48178, 45978, ..., 15059, 32915, 32915],\n",
       "        [    0, 48178, 45978, ..., 11351,  3934,  3934],\n",
       "        ...,\n",
       "        [    0,     0,     0, ...,     0,     0,     0],\n",
       "        [    0,     0,     0, ...,     0,     0,     0],\n",
       "        [    0,     0,     0, ...,     0,     0,     0]],\n",
       "\n",
       "       [[11184, 12509, 12509, ...,     0,     0,     0],\n",
       "        [11184, 12509, 12509, ...,     0,     0,     0],\n",
       "        [13173, 14030, 14030, ...,     0,     0,     0],\n",
       "        ...,\n",
       "        [27451, 27451, 27451, ...,     0,     0,     0],\n",
       "        [24843, 24843, 24843, ...,     0,     0,     0],\n",
       "        [24843, 24843, 24843, ...,     0,     0,     0]],\n",
       "\n",
       "       [[16737,     0,  7920, ..., 14995, 38241, 17538],\n",
       "        [15144, 16789, 24014, ..., 14995, 38241, 17538],\n",
       "        [15144, 16789, 24014, ...,  3623, 29676, 41046],\n",
       "        ...,\n",
       "        [    0,     0, 17724, ...,     0,     0,  1133],\n",
       "        [    0,     0, 17724, ..., 18202, 37727, 46228],\n",
       "        [    0,     0,  1945, ..., 18202, 37727, 46228]]], dtype=uint16)"
      ]
     },
     "execution_count": 14,
     "metadata": {},
     "output_type": "execute_result"
    }
   ],
   "source": [
    "image_data"
   ]
  },
  {
   "cell_type": "code",
   "execution_count": 15,
   "metadata": {},
   "outputs": [
    {
     "data": {
      "text/plain": [
       "array([[[0.23457694, 0.36232547, 0.36232547, ..., 0.        ,\n",
       "         0.        , 0.        ],\n",
       "        [0.32170596, 0.34865339, 0.34865339, ..., 0.        ,\n",
       "         0.        , 0.        ],\n",
       "        [0.32170596, 0.34865339, 0.34865339, ..., 0.        ,\n",
       "         0.05108721, 0.05108721],\n",
       "        ...,\n",
       "        [0.75207141, 0.75207141, 0.66585794, ..., 0.33897917,\n",
       "         0.4567483 , 0.4567483 ],\n",
       "        [0.75207141, 0.66585794, 0.66585794, ..., 0.20921645,\n",
       "         0.22317845, 0.22317845],\n",
       "        [0.7604181 , 0.74621195, 0.74621195, ..., 0.20921645,\n",
       "         0.22317845, 0.22317845]],\n",
       "\n",
       "       [[0.        , 0.        , 0.        , ..., 0.        ,\n",
       "         0.        , 0.        ],\n",
       "        [0.09744411, 0.1757229 , 0.02345312, ..., 0.        ,\n",
       "         0.        , 0.        ],\n",
       "        [0.09744411, 0.1757229 , 0.02345312, ..., 0.        ,\n",
       "         0.        , 0.        ],\n",
       "        ...,\n",
       "        [0.05917449, 0.10644694, 0.09991608, ..., 0.        ,\n",
       "         0.        , 0.        ],\n",
       "        [0.05917449, 0.10644694, 0.09991608, ..., 0.        ,\n",
       "         0.        , 0.        ],\n",
       "        [0.06446937, 0.        , 0.06256199, ..., 0.        ,\n",
       "         0.        , 0.        ]],\n",
       "\n",
       "       [[0.21542687, 0.14476234, 0.14476234, ..., 0.39064622,\n",
       "         0.33780423, 0.33780423],\n",
       "        [0.2580911 , 0.08645762, 0.08645762, ..., 0.45922026,\n",
       "         0.40227359, 0.40227359],\n",
       "        [0.2580911 , 0.08645762, 0.08645762, ..., 0.45922026,\n",
       "         0.40227359, 0.40227359],\n",
       "        ...,\n",
       "        [0.22763409, 0.22763409, 0.25445945, ..., 0.28299382,\n",
       "         0.        , 0.        ],\n",
       "        [0.22763409, 0.22763409, 0.25445945, ..., 0.28299382,\n",
       "         0.        , 0.        ],\n",
       "        [0.        , 0.        , 0.        , ..., 0.10128939,\n",
       "         0.        , 0.        ]],\n",
       "\n",
       "       ...,\n",
       "\n",
       "       [[0.64875257, 0.628748  , 0.6898909 , ..., 0.22978561,\n",
       "         0.50225071, 0.50225071],\n",
       "        [0.        , 0.73514916, 0.70157931, ..., 0.22978561,\n",
       "         0.50225071, 0.50225071],\n",
       "        [0.        , 0.73514916, 0.70157931, ..., 0.17320516,\n",
       "         0.06002899, 0.06002899],\n",
       "        ...,\n",
       "        [0.        , 0.        , 0.        , ..., 0.        ,\n",
       "         0.        , 0.        ],\n",
       "        [0.        , 0.        , 0.        , ..., 0.        ,\n",
       "         0.        , 0.        ],\n",
       "        [0.        , 0.        , 0.        , ..., 0.        ,\n",
       "         0.        , 0.        ]],\n",
       "\n",
       "       [[0.1706569 , 0.1908751 , 0.1908751 , ..., 0.        ,\n",
       "         0.        , 0.        ],\n",
       "        [0.1706569 , 0.1908751 , 0.1908751 , ..., 0.        ,\n",
       "         0.        , 0.        ],\n",
       "        [0.2010071 , 0.21408408, 0.21408408, ..., 0.        ,\n",
       "         0.        , 0.        ],\n",
       "        ...,\n",
       "        [0.41887541, 0.41887541, 0.41887541, ..., 0.        ,\n",
       "         0.        , 0.        ],\n",
       "        [0.37907988, 0.37907988, 0.37907988, ..., 0.        ,\n",
       "         0.        , 0.        ],\n",
       "        [0.37907988, 0.37907988, 0.37907988, ..., 0.        ,\n",
       "         0.        , 0.        ]],\n",
       "\n",
       "       [[0.25539025, 0.        , 0.12085145, ..., 0.22880903,\n",
       "         0.58352026, 0.26761273],\n",
       "        [0.23108263, 0.25618372, 0.36643015, ..., 0.22880903,\n",
       "         0.58352026, 0.26761273],\n",
       "        [0.23108263, 0.25618372, 0.36643015, ..., 0.05528344,\n",
       "         0.45282673, 0.62632181],\n",
       "        ...,\n",
       "        [0.        , 0.        , 0.2704509 , ..., 0.        ,\n",
       "         0.        , 0.01728847],\n",
       "        [0.        , 0.        , 0.2704509 , ..., 0.27774472,\n",
       "         0.57567712, 0.70539406],\n",
       "        [0.        , 0.        , 0.0296788 , ..., 0.27774472,\n",
       "         0.57567712, 0.70539406]]])"
      ]
     },
     "execution_count": 15,
     "metadata": {},
     "output_type": "execute_result"
    }
   ],
   "source": [
    "min_val = image_data.min()\n",
    "max_val = image_data.max()\n",
    "\n",
    "# Normalize the image data\n",
    "normalized_image_data = (image_data - min_val) / (max_val - min_val)\n",
    "normalized_image_data"
   ]
  },
  {
   "cell_type": "code",
   "execution_count": 16,
   "metadata": {},
   "outputs": [
    {
     "name": "stdout",
     "output_type": "stream",
     "text": [
      "X_train shape: (258, 64, 64)\n",
      "X_test shape: (172, 64, 64)\n"
     ]
    }
   ],
   "source": [
    "X = normalized_image_data\n",
    "y = plume_labels\n",
    "\n",
    "\n",
    "# X = [np.transpose(image, (1, 2, 0)) for image in X]\n",
    "\n",
    "# X = np.array(X)\n",
    "np.random.seed(101)\n",
    "X_train, X_test, y_train, y_test = train_test_split(\n",
    "    X, y, test_size=0.4, random_state=42, shuffle=True\n",
    ")\n",
    "\n",
    "print(\"X_train shape:\", X_train.shape)\n",
    "print(\"X_test shape:\", X_test.shape)"
   ]
  },
  {
   "cell_type": "code",
   "execution_count": 17,
   "metadata": {},
   "outputs": [
    {
     "data": {
      "text/plain": [
       "array([1, 0, 0, 1, 1, 1, 0, 1, 1, 0, 0, 1, 0, 0, 0, 1, 0, 1, 0, 1, 1, 1,\n",
       "       1, 1, 1, 0, 1, 1, 1, 0, 0, 1, 0, 1, 1, 1, 1, 1, 0, 1, 1, 1, 0, 0,\n",
       "       0, 0, 0, 0, 0, 1, 1, 0, 0, 0, 1, 0, 0, 0, 0, 0, 0, 0, 1, 0, 0, 0,\n",
       "       0, 1, 1, 1, 0, 1, 0, 0, 1, 1, 0, 0, 0, 0, 1, 0, 0, 0, 0, 0, 0, 1,\n",
       "       1, 1, 0, 0, 1, 1, 0, 0, 0, 1, 0, 1, 0, 1, 0, 1, 0, 1, 1, 0, 1, 1,\n",
       "       1, 1, 1, 1, 1, 0, 0, 0, 1, 1, 0, 0, 0, 1, 1, 0, 1, 0, 0, 0, 1, 0,\n",
       "       0, 1, 0, 0, 1, 1, 1, 0, 1, 1, 1, 1, 0, 1, 0, 1, 0, 0, 0, 0, 1, 0,\n",
       "       1, 1, 1, 1, 1, 0, 1, 0, 1, 1, 1, 0, 0, 0, 0, 0, 0, 0, 1, 1, 0, 0,\n",
       "       0, 0, 0, 0, 0, 0, 1, 1, 1, 0, 1, 0, 0, 1, 1, 1, 0, 1, 1, 1, 1, 0,\n",
       "       0, 1, 0, 1, 0, 0, 0, 1, 0, 1, 0, 1, 0, 0, 1, 0, 0, 0, 0, 1, 0, 1,\n",
       "       1, 1, 0, 1, 1, 1, 1, 0, 0, 0, 1, 0, 1, 0, 1, 0, 0, 0, 0, 0, 1, 1,\n",
       "       1, 0, 1, 0, 1, 0, 1, 1, 0, 1, 1, 1, 1, 0, 0, 1])"
      ]
     },
     "execution_count": 17,
     "metadata": {},
     "output_type": "execute_result"
    }
   ],
   "source": [
    "y_train"
   ]
  },
  {
   "cell_type": "markdown",
   "metadata": {},
   "source": [
    "# Data Augmentation"
   ]
  },
  {
   "cell_type": "code",
   "execution_count": 20,
   "metadata": {},
   "outputs": [
    {
     "data": {
      "text/plain": [
       "(258, 64, 64, 1)"
      ]
     },
     "execution_count": 20,
     "metadata": {},
     "output_type": "execute_result"
    }
   ],
   "source": [
    "X_train.shape"
   ]
  },
  {
   "cell_type": "code",
   "execution_count": 27,
   "metadata": {},
   "outputs": [],
   "source": [
    "datagen = ImageDataGenerator(\n",
    "    rotation_range=10,\n",
    "    width_shift_range=0.1,\n",
    "    height_shift_range=0.1,\n",
    "    shear_range=0.2,\n",
    "    horizontal_flip=True,\n",
    "    fill_mode=\"nearest\",\n",
    ")\n",
    "X_train = X_train.reshape(-1, 64, 64, 1)\n",
    "batch_size = 64\n",
    "steps_per_epoch = len(X_train) // batch_size\n",
    "# Fit the data augmentation generator to your training data\n",
    "datagen.fit(X_train)\n",
    "\n",
    "augmented_images = []\n",
    "augmented_labels = []\n",
    "\n",
    "# Generate augmented images and labels\n",
    "for X_batch, y_batch in datagen.flow(\n",
    "    X_train, y_train, batch_size=batch_size, shuffle=True\n",
    "):\n",
    "    augmented_images.append(X_batch)\n",
    "    augmented_labels.append(y_batch)\n",
    "    if len(augmented_images) >= len(X_train):\n",
    "        break\n",
    "\n",
    "X_train_augmented = np.concatenate(augmented_images)\n",
    "y_train_augmented = np.concatenate(augmented_labels)\n",
    "\n",
    "y_train_augmented = y_train_augmented.astype(int)"
   ]
  },
  {
   "cell_type": "code",
   "execution_count": 24,
   "metadata": {},
   "outputs": [
    {
     "data": {
      "text/plain": [
       "(13350, 64, 64, 1)"
      ]
     },
     "execution_count": 24,
     "metadata": {},
     "output_type": "execute_result"
    }
   ],
   "source": [
    "X_train_augmented.shape"
   ]
  },
  {
   "cell_type": "code",
   "execution_count": 25,
   "metadata": {},
   "outputs": [
    {
     "data": {
      "image/png": "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",
      "text/plain": [
       "<Figure size 1200x400 with 4 Axes>"
      ]
     },
     "metadata": {},
     "output_type": "display_data"
    }
   ],
   "source": [
    "pl = X_train_augmented[[1,259,260,261]]\n",
    "plt.figure(figsize=(12, 4))\n",
    "for i in range(4):\n",
    "    plt.subplot(1, 4, i + 1)  # 1 row, 4 columns\n",
    "    plt.imshow(pl[i], cmap='gray')  # You may need to specify a colormap (cmap)\n",
    "    plt.axis('off')  # Turn off axis labels\n",
    "    plt.title(f\"Image {i+1}\")\n",
    "\n",
    "plt.show()"
   ]
  },
  {
   "cell_type": "markdown",
   "metadata": {},
   "source": [
    "# Model 1(Pilot)"
   ]
  },
  {
   "cell_type": "code",
   "execution_count": 19,
   "metadata": {},
   "outputs": [],
   "source": [
    "from sklearn import metrics\n",
    "from keras import backend as K\n",
    "\n",
    "\n",
    "def auc(y_true, y_pred):\n",
    "    auc = tf.metrics.auc(y_true, y_pred)[1]\n",
    "    K.get_session().run(tf.local_variables_initializer())\n",
    "    return auc"
   ]
  },
  {
   "cell_type": "code",
   "execution_count": 29,
   "metadata": {},
   "outputs": [
    {
     "name": "stdout",
     "output_type": "stream",
     "text": [
      "Model: \"sequential\"\n",
      "_________________________________________________________________\n",
      " Layer (type)                Output Shape              Param #   \n",
      "=================================================================\n",
      " conv2d (Conv2D)             (None, 64, 64, 64)        640       \n",
      "                                                                 \n",
      " batch_normalization (Batch  (None, 64, 64, 64)        256       \n",
      " Normalization)                                                  \n",
      "                                                                 \n",
      " conv2d_1 (Conv2D)           (None, 64, 64, 64)        36928     \n",
      "                                                                 \n",
      " batch_normalization_1 (Bat  (None, 64, 64, 64)        256       \n",
      " chNormalization)                                                \n",
      "                                                                 \n",
      " max_pooling2d (MaxPooling2  (None, 32, 32, 64)        0         \n",
      " D)                                                              \n",
      "                                                                 \n",
      " dropout (Dropout)           (None, 32, 32, 64)        0         \n",
      "                                                                 \n",
      " conv2d_2 (Conv2D)           (None, 32, 32, 128)       73856     \n",
      "                                                                 \n",
      " batch_normalization_2 (Bat  (None, 32, 32, 128)       512       \n",
      " chNormalization)                                                \n",
      "                                                                 \n",
      " conv2d_3 (Conv2D)           (None, 32, 32, 128)       147584    \n",
      "                                                                 \n",
      " batch_normalization_3 (Bat  (None, 32, 32, 128)       512       \n",
      " chNormalization)                                                \n",
      "                                                                 \n",
      " max_pooling2d_1 (MaxPoolin  (None, 16, 16, 128)       0         \n",
      " g2D)                                                            \n",
      "                                                                 \n",
      " dropout_1 (Dropout)         (None, 16, 16, 128)       0         \n",
      "                                                                 \n",
      " conv2d_4 (Conv2D)           (None, 16, 16, 256)       295168    \n",
      "                                                                 \n",
      " batch_normalization_4 (Bat  (None, 16, 16, 256)       1024      \n",
      " chNormalization)                                                \n",
      "                                                                 \n",
      " conv2d_5 (Conv2D)           (None, 16, 16, 256)       590080    \n",
      "                                                                 \n",
      " batch_normalization_5 (Bat  (None, 16, 16, 256)       1024      \n",
      " chNormalization)                                                \n",
      "                                                                 \n",
      " max_pooling2d_2 (MaxPoolin  (None, 8, 8, 256)         0         \n",
      " g2D)                                                            \n",
      "                                                                 \n",
      " dropout_2 (Dropout)         (None, 8, 8, 256)         0         \n",
      "                                                                 \n",
      " flatten (Flatten)           (None, 16384)             0         \n",
      "                                                                 \n",
      " dense (Dense)               (None, 512)               8389120   \n",
      "                                                                 \n",
      " batch_normalization_6 (Bat  (None, 512)               2048      \n",
      " chNormalization)                                                \n",
      "                                                                 \n",
      " dropout_3 (Dropout)         (None, 512)               0         \n",
      "                                                                 \n",
      " dense_1 (Dense)             (None, 256)               131328    \n",
      "                                                                 \n",
      " batch_normalization_7 (Bat  (None, 256)               1024      \n",
      " chNormalization)                                                \n",
      "                                                                 \n",
      " dropout_4 (Dropout)         (None, 256)               0         \n",
      "                                                                 \n",
      " dense_2 (Dense)             (None, 1)                 257       \n",
      "                                                                 \n",
      "=================================================================\n",
      "Total params: 9671617 (36.89 MB)\n",
      "Trainable params: 9668289 (36.88 MB)\n",
      "Non-trainable params: 3328 (13.00 KB)\n",
      "_________________________________________________________________\n"
     ]
    }
   ],
   "source": [
<<<<<<< HEAD
    "# Model Architecture\n",
    "model = tf.keras.Sequential([\n",
    "    # Convolutional layers\n",
    "    layers.Conv2D(64, (3, 3), activation='relu', padding='same', input_shape=(64, 64, 1)),\n",
    "    layers.BatchNormalization(),\n",
    "    layers.Conv2D(64, (3, 3), activation='relu', padding='same'),\n",
    "    layers.BatchNormalization(),\n",
    "    layers.MaxPooling2D((2, 2)),\n",
    "    layers.Dropout(0.25),\n",
    "    \n",
    "    layers.Conv2D(128, (3, 3), activation='relu', padding='same'),\n",
    "    layers.BatchNormalization(),\n",
    "    layers.Conv2D(128, (3, 3), activation='relu', padding='same'),\n",
    "    layers.BatchNormalization(),\n",
    "    layers.MaxPooling2D((2, 2)),\n",
    "    layers.Dropout(0.25),\n",
    "    \n",
    "    layers.Conv2D(256, (3, 3), activation='relu', padding='same'),\n",
    "    layers.BatchNormalization(),\n",
    "    layers.Conv2D(256, (3, 3), activation='relu', padding='same'),\n",
    "    layers.BatchNormalization(),\n",
    "    layers.MaxPooling2D((2, 2)),\n",
    "    layers.Dropout(0.25),\n",
    "    \n",
    "    # Flatten the output for fully connected layers\n",
    "    layers.Flatten(),\n",
    "    \n",
    "    # Fully connected layers\n",
    "    layers.Dense(512, activation='relu'),\n",
    "    layers.BatchNormalization(),\n",
    "    layers.Dropout(0.5),\n",
    "    \n",
    "    layers.Dense(256, activation='relu'),\n",
    "    layers.BatchNormalization(),\n",
    "    layers.Dropout(0.5),\n",
    "    \n",
    "    layers.Dense(1, activation='sigmoid')  # Use 'sigmoid' for binary classification\n",
    "])\n",
=======
    "import tensorflow as tf\n",
    "from tensorflow.keras import layers\n",
    "\n",
    "# Set the random seed for reproducibility\n",
    "tf.random.set_seed(1234)\n",
    "\n",
    "# Define the CNN model\n",
    "model = tf.keras.Sequential(\n",
    "    [\n",
    "        # Convolutional layers\n",
    "        layers.Conv2D(32, (3, 3), activation=\"relu\", input_shape=(64, 64, 1)),\n",
    "        layers.MaxPooling2D((2, 2)),\n",
    "        layers.Conv2D(64, (3, 3), activation=\"relu\"),\n",
    "        layers.MaxPooling2D((2, 2)),\n",
    "        layers.Conv2D(128, (3, 3), activation=\"relu\"),\n",
    "        layers.MaxPooling2D((2, 2)),\n",
    "        # Flatten the output for fully connected layers\n",
    "        layers.Flatten(),\n",
    "        # Fully connected layers\n",
    "        layers.Dense(128, activation=\"relu\"),\n",
    "        layers.Dropout(0.5),\n",
    "        layers.Dense(64, activation=\"relu\"),\n",
    "        layers.Dropout(0.5),\n",
    "        layers.Dense(\n",
    "            1, activation=\"sigmoid\"\n",
    "        ),  # Use 'sigmoid' for binary classification\n",
    "    ]\n",
    ")\n",
>>>>>>> 49e60c622e7f4b7a3eeb829660e3188cc28dea0f
    "\n",
    "# Compile the model\n",
    "model.compile(\n",
    "    optimizer=\"adam\",\n",
    "    loss=\"binary_crossentropy\",  # Use 'binary_crossentropy' for binary classification\n",
    "    metrics=[tf.keras.metrics.AUC()],\n",
    ")\n",
    "\n",
    "# Print the model summary to view the architecture\n",
    "model.summary()\n",
    "\n",
    "# Define early stopping\n",
    "early_stopping = tf.keras.callbacks.EarlyStopping(\n",
<<<<<<< HEAD
    "    monitor='val_loss',\n",
    "    patience=5,\n",
    "    restore_best_weights=True\n",
=======
    "    monitor=\"val_loss\", patience=5, restore_best_weights=True\n",
>>>>>>> 49e60c622e7f4b7a3eeb829660e3188cc28dea0f
    ")\n",
    "\n",
    "# TensorBoard Logging\n",
    "log_dir = \"logs/fit/\" + datetime.datetime.now().strftime(\"%Y%m%d-%H%M%S\")\n",
    "tensorboard_callback = tf.keras.callbacks.TensorBoard(log_dir=log_dir, histogram_freq=1)\n"
   ]
  },
  {
   "cell_type": "code",
   "execution_count": 30,
   "metadata": {},
   "outputs": [
    {
     "name": "stdout",
     "output_type": "stream",
     "text": [
      "Epoch 1/100\n",
      "334/334 [==============================] - 315s 931ms/step - loss: 0.3859 - auc: 0.9183 - val_loss: 31.8950 - val_auc: 0.5000\n",
      "Epoch 2/100\n",
      "334/334 [==============================] - 299s 895ms/step - loss: 0.1422 - auc: 0.9870 - val_loss: 0.1367 - val_auc: 0.9947\n",
      "Epoch 3/100\n",
      "334/334 [==============================] - 273s 816ms/step - loss: 0.0725 - auc: 0.9961 - val_loss: 0.0366 - val_auc: 0.9990\n",
      "Epoch 4/100\n",
      "334/334 [==============================] - 278s 832ms/step - loss: 0.0862 - auc: 0.9948 - val_loss: 0.1657 - val_auc: 0.9960\n",
      "Epoch 5/100\n",
      "334/334 [==============================] - 275s 822ms/step - loss: 0.0736 - auc: 0.9962 - val_loss: 0.0793 - val_auc: 0.9963\n",
      "Epoch 6/100\n",
      "334/334 [==============================] - 310s 930ms/step - loss: 0.0470 - auc: 0.9984 - val_loss: 0.0157 - val_auc: 0.9998\n",
      "Epoch 7/100\n",
      "334/334 [==============================] - 305s 914ms/step - loss: 0.0352 - auc: 0.9989 - val_loss: 0.0235 - val_auc: 0.9997\n",
      "Epoch 8/100\n",
      "264/334 [======================>.......] - ETA: 1:01 - loss: 0.0470 - auc: 0.9983"
     ]
    }
   ],
   "source": [
    "batch_size = 32\n",
    "epochs = 100\n",
    "model.fit(\n",
    "    X_train_augmented,\n",
    "    y_train_augmented,\n",
    "    epochs=epochs,\n",
    "    batch_size=batch_size,\n",
    "    validation_split=0.2,\n",
    "    callbacks=[early_stopping, tensorboard_callback],\n",
    ")"
   ]
  },
  {
   "cell_type": "code",
   "execution_count": null,
   "metadata": {},
   "outputs": [],
   "source": [
    "import tensorflow as tf\n",
    "from tensorflow.keras import layers, models\n",
    "from ternausnet.models import UNet11  # Assuming a TernausNet-like model is available in TensorFlow\n",
    "\n",
    "# Load the pre-trained U-Net model\n",
    "pretrained_unet = UNet11(pretrained='carvana')\n",
    "\n",
    "# Define the input layer\n",
    "input_layer = layers.Input(shape=(64, 64, 1))\n",
    "\n",
    "# Pass the input through the pre-trained U-Net\n",
    "x = pretrained_unet(input_layer)\n",
    "\n",
    "# Your existing model architecture\n",
    "x = layers.Conv2D(64, (3, 3), activation='relu', padding='same')(x)\n",
    "    layers.Conv2D(64, (3, 3), activation='relu', padding='same', input_shape=(64, 64, 1)),\n",
    "    layers.BatchNormalization(),\n",
    "    layers.Conv2D(64, (3, 3), activation='relu', padding='same'),\n",
    "    layers.BatchNormalization(),\n",
    "    layers.MaxPooling2D((2, 2)),\n",
    "    layers.Dropout(0.25),\n",
    "    \n",
    "    layers.Conv2D(128, (3, 3), activation='relu', padding='same'),\n",
    "    layers.BatchNormalization(),\n",
    "    layers.Conv2D(128, (3, 3), activation='relu', padding='same'),\n",
    "    layers.BatchNormalization(),\n",
    "    layers.MaxPooling2D((2, 2)),\n",
    "    layers.Dropout(0.25),\n",
    "    \n",
    "    layers.Conv2D(256, (3, 3), activation='relu', padding='same'),\n",
    "    layers.BatchNormalization(),\n",
    "    layers.Conv2D(256, (3, 3), activation='relu', padding='same'),\n",
    "    layers.BatchNormalization(),\n",
    "    layers.MaxPooling2D((2, 2)),\n",
    "    layers.Dropout(0.25),\n",
    "    \n",
    "    # Flatten the output for fully connected layers\n",
    "    layers.Flatten(),\n",
    "    \n",
    "    # Fully connected layers\n",
    "    layers.Dense(512, activation='relu'),\n",
    "    layers.BatchNormalization(),\n",
    "    layers.Dropout(0.5),\n",
    "    \n",
    "    layers.Dense(256, activation='relu'),\n",
    "    layers.BatchNormalization(),\n",
    "    layers.Dropout(0.5),\n",
    "    \n",
    "    layers.Dense(1, activation='sigmoid')  # Use 'sigmoid' for binary classification\n",
    "])\n",
    "\n",
    "\n",
    "# Print the model summary to view the architecture\n",
    "model.summary()\n",
    "\n",
    "# Define early stopping\n",
    "early_stopping = tf.keras.callbacks.EarlyStopping(\n",
    "    monitor='val_loss',\n",
    "    patience=5,\n",
    "    restore_best_weights=True\n",
    ")\n",
    "\n",
    "# TensorBoard Logging\n",
    "log_dir = \"logs/fit/\" + datetime.datetime.now().strftime(\"%Y%m%d-%H%M%S\")\n",
    "tensorboard_callback = tf.keras.callbacks.TensorBoard(log_dir=log_dir, histogram_freq=1)\n",
    "\n",
    "# Create the model\n",
    "model = models.Model(inputs=input_layer, outputs=x)\n",
    "\n",
    "# Compile the model\n",
    "model.compile(optimizer='adam',\n",
    "              loss='binary_crossentropy',\n",
    "              metrics=[tf.keras.metrics.AUC()])"
   ]
  },
  {
   "cell_type": "code",
   "execution_count": null,
   "metadata": {},
   "outputs": [],
   "source": [
    "import tensorflow as tf\n",
    "from tensorflow.keras import layers, models\n",
    "import datetime\n",
    "\n",
    "import tensorflow as tf\n",
    "from tensorflow.keras import layers, models\n",
    "from ternausnet.models import UNet11  \n",
    "\n",
    "\n",
    "pretrained_unet = UNet11(pretrained='carvana')\n",
    "\n",
    "# Define the input layer\n",
    "input_layer = layers.Input(shape=(64, 64, 1))\n",
    "\n",
    "x = pretrained_unet(input_layer)\n",
    "\n",
    "x = layers.Conv2D(64, (3, 3), activation='relu', padding='same', input_shape=(64, 64, 1))(input_layer)\n",
    "x = layers.BatchNormalization()(x)\n",
    "x = layers.Conv2D(64, (3, 3), activation='relu', padding='same')(x)\n",
    "x = layers.BatchNormalization()(x)\n",
    "x = layers.MaxPooling2D((2, 2))(x)\n",
    "x = layers.Dropout(0.25)(x)\n",
    "\n",
    "x = layers.Conv2D(128, (3, 3), activation='relu', padding='same')(x)\n",
    "x = layers.BatchNormalization()(x)\n",
    "x = layers.Conv2D(128, (3, 3), activation='relu', padding='same')(x)\n",
    "x = layers.BatchNormalization()(x)\n",
    "x = layers.MaxPooling2D((2, 2))(x)\n",
    "x = layers.Dropout(0.25)(x)\n",
    "\n",
    "x = layers.Conv2D(256, (3, 3), activation='relu', padding='same')(x)\n",
    "x = layers.BatchNormalization()(x)\n",
    "x = layers.Conv2D(256, (3, 3), activation='relu', padding='same')(x)\n",
    "x = layers.BatchNormalization()(x)\n",
    "x = layers.MaxPooling2D((2, 2))(x)\n",
    "x = layers.Dropout(0.25)(x)\n",
    "\n",
    "# Flatten the output for fully connected layers\n",
    "x = layers.Flatten()(x)\n",
    "\n",
    "# Fully connected layers\n",
    "x = layers.Dense(512, activation='relu')(x)\n",
    "x = layers.BatchNormalization()(x)\n",
    "x = layers.Dropout(0.5)(x)\n",
    "\n",
    "x = layers.Dense(256, activation='relu')(x)\n",
    "x = layers.BatchNormalization()(x)\n",
    "x = layers.Dropout(0.5)(x)\n",
    "\n",
    "x = layers.Dense(1, activation='sigmoid')(x)  # Use 'sigmoid' for binary classification\n",
    "\n",
    "# Create the model\n",
    "model = models.Model(inputs=input_layer, outputs=x)\n",
    "\n",
    "# Print the model summary to view the architecture\n",
    "model.summary()\n",
    "\n",
    "# Define early stopping\n",
    "early_stopping = tf.keras.callbacks.EarlyStopping(\n",
    "    monitor='val_loss',\n",
    "    patience=5,\n",
    "    restore_best_weights=True\n",
    ")\n",
    "\n",
    "# TensorBoard Logging\n",
    "log_dir = \"logs/fit/\" + datetime.datetime.now().strftime(\"%Y%m%d-%H%M%S\")\n",
    "tensorboard_callback = tf.keras.callbacks.TensorBoard(log_dir=log_dir, histogram_freq=1)\n",
    "\n",
    "# Compile the model\n",
    "model.compile(optimizer='adam',\n",
    "              loss='binary_crossentropy',\n",
    "              metrics=[tf.keras.metrics.AUC()])\n"
   ]
  },
  {
   "cell_type": "code",
   "execution_count": 72,
   "metadata": {},
   "outputs": [
    {
     "name": "stderr",
     "output_type": "stream",
     "text": [
      "c:\\Users\\Rehan Ibrahim\\AppData\\Local\\Programs\\Python\\Python310\\lib\\site-packages\\keras\\src\\engine\\training.py:3079: UserWarning: You are saving your model as an HDF5 file via `model.save()`. This file format is considered legacy. We recommend using instead the native Keras format, e.g. `model.save('my_model.keras')`.\n",
      "  saving_api.save_model(\n"
     ]
    }
   ],
   "source": [
    "model.save(\"model/CNN_First_Model.h5\")"
   ]
  },
  {
   "cell_type": "code",
   "execution_count": 34,
   "metadata": {},
   "outputs": [
    {
     "name": "stdout",
     "output_type": "stream",
     "text": [
      "6/6 [==============================] - 0s 17ms/step\n"
     ]
    },
    {
     "data": {
      "text/plain": [
       "array([[1.33037753e-03],\n",
       "       [9.96236205e-01],\n",
       "       [7.96425462e-01],\n",
       "       [9.99839664e-01],\n",
       "       [4.78339757e-07],\n",
       "       [1.23290606e-02],\n",
       "       [9.99951959e-01],\n",
       "       [9.97939646e-01],\n",
       "       [9.96151209e-01],\n",
       "       [5.51705360e-02],\n",
       "       [6.67414814e-02],\n",
       "       [7.09113374e-04],\n",
       "       [3.28669660e-02],\n",
       "       [9.75630901e-05],\n",
       "       [4.12658930e-01],\n",
       "       [9.30072188e-01],\n",
       "       [7.27364328e-03],\n",
       "       [1.31421253e-01],\n",
       "       [9.77621138e-01],\n",
       "       [4.02288698e-03],\n",
       "       [3.45920138e-02],\n",
       "       [2.48062752e-05],\n",
       "       [2.58762111e-06],\n",
       "       [9.99993265e-01],\n",
       "       [5.31024374e-02],\n",
       "       [9.01983857e-01],\n",
       "       [9.96534526e-01],\n",
       "       [3.33897418e-07],\n",
       "       [3.86590101e-02],\n",
       "       [1.21104313e-06],\n",
       "       [4.64850783e-01],\n",
       "       [2.38316534e-05],\n",
       "       [2.46611349e-02],\n",
       "       [2.28741005e-01],\n",
       "       [2.64402297e-06],\n",
       "       [9.96441722e-01],\n",
       "       [9.98930633e-01],\n",
       "       [1.02736842e-04],\n",
       "       [1.40438825e-01],\n",
       "       [2.77337356e-04],\n",
       "       [1.12742430e-06],\n",
       "       [9.74840105e-01],\n",
       "       [9.99830782e-01],\n",
       "       [9.99985397e-01],\n",
       "       [3.71326447e-01],\n",
       "       [1.52856335e-01],\n",
       "       [2.06047553e-03],\n",
       "       [7.39432454e-01],\n",
       "       [3.10609117e-02],\n",
       "       [1.02769176e-03],\n",
       "       [9.81795847e-01],\n",
       "       [1.90373193e-02],\n",
       "       [9.86169159e-01],\n",
       "       [2.71013707e-01],\n",
       "       [9.94139314e-01],\n",
       "       [5.85637827e-05],\n",
       "       [2.58762111e-06],\n",
       "       [9.32222605e-01],\n",
       "       [2.10843086e-01],\n",
       "       [9.97987390e-01],\n",
       "       [9.86652136e-01],\n",
       "       [7.74912420e-04],\n",
       "       [9.66850758e-01],\n",
       "       [9.97849166e-01],\n",
       "       [2.76001025e-04],\n",
       "       [2.73920864e-01],\n",
       "       [7.05774734e-03],\n",
       "       [1.07437328e-01],\n",
       "       [9.91929054e-01],\n",
       "       [6.77560940e-02],\n",
       "       [9.99534130e-01],\n",
       "       [2.41700400e-04],\n",
       "       [9.96105015e-01],\n",
       "       [9.81948197e-01],\n",
       "       [4.87420103e-03],\n",
       "       [4.93200757e-02],\n",
       "       [3.44549417e-01],\n",
       "       [9.98269558e-01],\n",
       "       [6.40078664e-01],\n",
       "       [9.99086738e-01],\n",
       "       [8.80113423e-01],\n",
       "       [2.24744326e-05],\n",
       "       [9.98779833e-01],\n",
       "       [9.73863006e-01],\n",
       "       [3.07409644e-01],\n",
       "       [9.98153687e-01],\n",
       "       [9.95893419e-01],\n",
       "       [9.99410093e-01],\n",
       "       [9.46533121e-03],\n",
       "       [2.55672466e-02],\n",
       "       [7.92178988e-01],\n",
       "       [3.35393042e-06],\n",
       "       [9.99732912e-01],\n",
       "       [1.19127603e-02],\n",
       "       [2.86449576e-05],\n",
       "       [9.26980674e-01],\n",
       "       [1.60738811e-01],\n",
       "       [2.14450556e-04],\n",
       "       [9.45186138e-01],\n",
       "       [9.99501765e-01],\n",
       "       [7.44439103e-03],\n",
       "       [1.35090272e-03],\n",
       "       [1.32892063e-04],\n",
       "       [4.91962783e-05],\n",
       "       [9.81795847e-01],\n",
       "       [6.90815723e-05],\n",
       "       [3.26597095e-01],\n",
       "       [1.57980144e-01],\n",
       "       [2.10843086e-01],\n",
       "       [9.99618948e-01],\n",
       "       [5.46147814e-03],\n",
       "       [5.70410863e-02],\n",
       "       [6.55793792e-06],\n",
       "       [3.14504683e-01],\n",
       "       [5.37942164e-02],\n",
       "       [4.38699841e-01],\n",
       "       [1.40852731e-04],\n",
       "       [3.28065008e-02],\n",
       "       [7.15617776e-01],\n",
       "       [4.93657589e-02],\n",
       "       [9.85483885e-01],\n",
       "       [9.98605072e-01],\n",
       "       [9.99951959e-01],\n",
       "       [9.83270645e-01],\n",
       "       [1.19206950e-03],\n",
       "       [2.24807397e-01],\n",
       "       [9.93765831e-01],\n",
       "       [9.99527454e-01],\n",
       "       [1.31692548e-04],\n",
       "       [1.71334650e-02],\n",
       "       [9.98545825e-01],\n",
       "       [9.86652136e-01],\n",
       "       [9.98866439e-01],\n",
       "       [8.25176477e-01],\n",
       "       [8.84396791e-01],\n",
       "       [1.40492737e-01],\n",
       "       [3.35393042e-06],\n",
       "       [2.35495946e-07],\n",
       "       [2.51565943e-04],\n",
       "       [1.31635442e-01],\n",
       "       [9.76567209e-01],\n",
       "       [9.97644365e-01],\n",
       "       [1.72468834e-02],\n",
       "       [9.99992847e-01],\n",
       "       [3.27263515e-05],\n",
       "       [3.24569076e-01],\n",
       "       [2.42885962e-01],\n",
       "       [2.98367411e-01],\n",
       "       [9.99896884e-01],\n",
       "       [9.99924600e-01],\n",
       "       [9.99792218e-01],\n",
       "       [9.99841332e-01],\n",
       "       [9.56961274e-01],\n",
       "       [6.73080702e-10],\n",
       "       [1.02713415e-02],\n",
       "       [4.45344413e-05],\n",
       "       [9.90994692e-01],\n",
       "       [5.28022181e-04],\n",
       "       [3.76176298e-01],\n",
       "       [9.92565393e-01],\n",
       "       [2.49456698e-05],\n",
       "       [4.01076749e-02],\n",
       "       [9.86413777e-01],\n",
       "       [9.97295380e-01],\n",
       "       [9.82231577e-05],\n",
       "       [2.71698314e-04],\n",
       "       [1.18739195e-02],\n",
       "       [6.56709090e-05],\n",
       "       [5.87703109e-01],\n",
       "       [9.99826312e-01],\n",
       "       [3.90648211e-06],\n",
       "       [7.05774734e-03]], dtype=float32)"
      ]
     },
     "execution_count": 34,
     "metadata": {},
     "output_type": "execute_result"
    }
   ],
   "source": [
    "# Make predictions on the test dataset\n",
    "predictions = model.predict(X_test)\n",
    "predictions"
   ]
  },
  {
   "cell_type": "markdown",
   "metadata": {},
   "source": [
    "## Eval Metrics"
   ]
  },
  {
   "cell_type": "code",
   "execution_count": 35,
   "metadata": {},
   "outputs": [],
   "source": [
    "# Apply threshold to obtain binary predictions (0 or 1)\n",
    "threshold = 0.5\n",
    "binary_predictions = (predictions >= threshold).astype(int)"
   ]
  },
  {
   "cell_type": "code",
   "execution_count": 36,
   "metadata": {},
   "outputs": [
    {
     "data": {
      "text/plain": [
       "0.9433423913043478"
      ]
     },
     "execution_count": 36,
     "metadata": {},
     "output_type": "execute_result"
    }
   ],
   "source": [
    "from sklearn.metrics import roc_auc_score\n",
    "\n",
    "roc_auc_score(y_test, predictions)"
   ]
  },
  {
   "cell_type": "code",
   "execution_count": 37,
   "metadata": {},
   "outputs": [
    {
     "name": "stdout",
     "output_type": "stream",
     "text": [
      "Accuracy: 80.81%\n"
     ]
    }
   ],
   "source": [
    "accuracy = accuracy_score(y_test, binary_predictions)\n",
    "print(f\"Accuracy: {accuracy*100:.2f}%\")"
   ]
  },
  {
   "cell_type": "code",
   "execution_count": 38,
   "metadata": {},
   "outputs": [
    {
     "data": {
      "text/plain": [
       "(array([75.,  8.,  8.,  7.,  3.,  1.,  1.,  4.,  3., 62.]),\n",
       " array([6.73080702e-10, 9.99993235e-02, 1.99998647e-01, 2.99997985e-01,\n",
       "        3.99997294e-01, 4.99996632e-01, 5.99995971e-01, 6.99995279e-01,\n",
       "        7.99994588e-01, 8.99993956e-01, 9.99993265e-01]),\n",
       " <BarContainer object of 10 artists>)"
      ]
     },
     "execution_count": 38,
     "metadata": {},
     "output_type": "execute_result"
    },
    {
     "data": {
      "image/png": "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",
      "text/plain": [
       "<Figure size 640x480 with 1 Axes>"
      ]
     },
     "metadata": {},
     "output_type": "display_data"
    }
   ],
   "source": [
    "plt.hist(predictions.squeeze())"
   ]
  },
  {
   "cell_type": "code",
   "execution_count": 101,
   "metadata": {},
   "outputs": [
    {
     "data": {
      "text/plain": [
       "array([71,  9, 16, 76], dtype=int64)"
      ]
     },
     "execution_count": 101,
     "metadata": {},
     "output_type": "execute_result"
    }
   ],
   "source": [
    "confusion_matrix(y_test, binary_predictions).ravel()"
   ]
  },
  {
   "cell_type": "code",
   "execution_count": 102,
   "metadata": {},
   "outputs": [],
   "source": [
    "tn, fp, fn, tp = confusion_matrix(y_test, binary_predictions).ravel()"
   ]
  },
  {
   "cell_type": "code",
   "execution_count": 39,
   "metadata": {},
   "outputs": [
    {
     "name": "stdout",
     "output_type": "stream",
     "text": [
      "Classification Report:\n",
      "              precision    recall  f1-score   support\n",
      "\n",
      "           0       0.73      0.93      0.82        80\n",
      "           1       0.92      0.71      0.80        92\n",
      "\n",
      "    accuracy                           0.81       172\n",
      "   macro avg       0.82      0.82      0.81       172\n",
      "weighted avg       0.83      0.81      0.81       172\n",
      "\n"
     ]
    }
   ],
   "source": [
    "class_report = classification_report(y_test, binary_predictions)\n",
    "print(\"Classification Report:\")\n",
    "print(class_report)"
   ]
  },
  {
   "cell_type": "code",
   "execution_count": 105,
   "metadata": {},
   "outputs": [
    {
     "data": {
      "text/plain": [
       "0    87\n",
       "1    85\n",
       "dtype: int64"
      ]
     },
     "execution_count": 105,
     "metadata": {},
     "output_type": "execute_result"
    }
   ],
   "source": [
    "pd.Series(binary_predictions.squeeze()).value_counts()"
   ]
  },
  {
   "cell_type": "markdown",
   "metadata": {},
   "source": [
    "# Test Datasets"
   ]
  },
  {
   "cell_type": "markdown",
   "metadata": {},
   "source": [
    "## Loading"
   ]
  },
  {
   "cell_type": "code",
   "execution_count": 40,
   "metadata": {},
   "outputs": [
    {
     "name": "stdout",
     "output_type": "stream",
     "text": [
      "0      data/dataset/test_data/images\\20230101_methane...\n",
      "1      data/dataset/test_data/images\\20230101_methane...\n",
      "2      data/dataset/test_data/images\\20230101_methane...\n",
      "3      data/dataset/test_data/images\\20230103_methane...\n",
      "4      data/dataset/test_data/images\\20230103_methane...\n",
      "                             ...                        \n",
      "103    data/dataset/test_data/images\\20230404_methane...\n",
      "104    data/dataset/test_data/images\\20230404_methane...\n",
      "105    data/dataset/test_data/images\\20230405_methane...\n",
      "106    data/dataset/test_data/images\\20230405_methane...\n",
      "107    data/dataset/test_data/images\\20230406_methane...\n",
      "Length: 108, dtype: object\n"
     ]
    }
   ],
   "source": [
    "# Specify the path to the folder containing TIFF files\n",
    "folder_path = \"data/dataset/test_data/images/\"\n",
    "\n",
    "# Use glob to get a list of TIFF files in the folder\n",
    "tiff_files = glob.glob(folder_path + \"/*.tif\")\n",
    "\n",
    "# Create a Pandas Series from the list of file paths\n",
    "file_series = pd.Series(tiff_files)\n",
    "\n",
    "# Display the Pandas Series\n",
    "print(file_series)"
   ]
  },
  {
   "cell_type": "code",
   "execution_count": 41,
   "metadata": {},
   "outputs": [
    {
     "data": {
      "text/html": [
       "<div>\n",
       "<style scoped>\n",
       "    .dataframe tbody tr th:only-of-type {\n",
       "        vertical-align: middle;\n",
       "    }\n",
       "\n",
       "    .dataframe tbody tr th {\n",
       "        vertical-align: top;\n",
       "    }\n",
       "\n",
       "    .dataframe thead th {\n",
       "        text-align: right;\n",
       "    }\n",
       "</style>\n",
       "<table border=\"1\" class=\"dataframe\">\n",
       "  <thead>\n",
       "    <tr style=\"text-align: right;\">\n",
       "      <th></th>\n",
       "      <th>date</th>\n",
       "      <th>id_coord</th>\n",
       "      <th>lat</th>\n",
       "      <th>lon</th>\n",
       "      <th>coord_x</th>\n",
       "      <th>coord_y</th>\n",
       "    </tr>\n",
       "  </thead>\n",
       "  <tbody>\n",
       "    <tr>\n",
       "      <th>0</th>\n",
       "      <td>20230213</td>\n",
       "      <td>id_6148</td>\n",
       "      <td>23.437500</td>\n",
       "      <td>90.645000</td>\n",
       "      <td>54</td>\n",
       "      <td>10</td>\n",
       "    </tr>\n",
       "    <tr>\n",
       "      <th>1</th>\n",
       "      <td>20230206</td>\n",
       "      <td>id_3348</td>\n",
       "      <td>33.513333</td>\n",
       "      <td>-87.203333</td>\n",
       "      <td>31</td>\n",
       "      <td>55</td>\n",
       "    </tr>\n",
       "    <tr>\n",
       "      <th>2</th>\n",
       "      <td>20230121</td>\n",
       "      <td>id_3733</td>\n",
       "      <td>26.424286</td>\n",
       "      <td>80.284286</td>\n",
       "      <td>33</td>\n",
       "      <td>44</td>\n",
       "    </tr>\n",
       "    <tr>\n",
       "      <th>3</th>\n",
       "      <td>20230204</td>\n",
       "      <td>id_5491</td>\n",
       "      <td>30.246667</td>\n",
       "      <td>71.483333</td>\n",
       "      <td>59</td>\n",
       "      <td>59</td>\n",
       "    </tr>\n",
       "    <tr>\n",
       "      <th>4</th>\n",
       "      <td>20230130</td>\n",
       "      <td>id_4287</td>\n",
       "      <td>23.763333</td>\n",
       "      <td>86.396667</td>\n",
       "      <td>46</td>\n",
       "      <td>46</td>\n",
       "    </tr>\n",
       "  </tbody>\n",
       "</table>\n",
       "</div>"
      ],
      "text/plain": [
       "       date id_coord        lat        lon  coord_x  coord_y\n",
       "0  20230213  id_6148  23.437500  90.645000       54       10\n",
       "1  20230206  id_3348  33.513333 -87.203333       31       55\n",
       "2  20230121  id_3733  26.424286  80.284286       33       44\n",
       "3  20230204  id_5491  30.246667  71.483333       59       59\n",
       "4  20230130  id_4287  23.763333  86.396667       46       46"
      ]
     },
     "execution_count": 41,
     "metadata": {},
     "output_type": "execute_result"
    }
   ],
   "source": [
    "t_df = pd.read_csv(\"data/dataset/test_data/metadata.csv\")\n",
    "t_df.head()"
   ]
  },
  {
   "cell_type": "code",
   "execution_count": 42,
   "metadata": {},
   "outputs": [
    {
     "name": "stdout",
     "output_type": "stream",
     "text": [
      "0      data/dataset/test_data/images\\20230101_methane...\n",
      "1      data/dataset/test_data/images\\20230101_methane...\n",
      "2      data/dataset/test_data/images\\20230101_methane...\n",
      "3      data/dataset/test_data/images\\20230103_methane...\n",
      "4      data/dataset/test_data/images\\20230103_methane...\n",
      "                             ...                        \n",
      "103    data/dataset/test_data/images\\20230404_methane...\n",
      "104    data/dataset/test_data/images\\20230404_methane...\n",
      "105    data/dataset/test_data/images\\20230405_methane...\n",
      "106    data/dataset/test_data/images\\20230405_methane...\n",
      "107    data/dataset/test_data/images\\20230406_methane...\n",
      "Length: 108, dtype: object\n"
     ]
    }
   ],
   "source": [
    "# Replace forward slashes with backslashes in the Pandas Series\n",
    "file_series = file_series.str.replace(\"//\", \"/\")\n",
    "\n",
    "# Display the modified Pandas Series\n",
    "print(file_series)"
   ]
  },
  {
   "cell_type": "code",
   "execution_count": 62,
   "metadata": {},
   "outputs": [],
   "source": [
    "output = pd.Series(\n",
    "    predictions_test.squeeze(), index=file_series.apply(lambda x: x.split(\"\\\\\")[1])\n",
    ")"
   ]
  },
  {
   "cell_type": "code",
   "execution_count": 44,
   "metadata": {},
   "outputs": [],
   "source": [
    "file_series = pd.Series(file_series)"
   ]
  },
  {
   "cell_type": "code",
   "execution_count": 45,
   "metadata": {},
   "outputs": [
    {
     "name": "stderr",
     "output_type": "stream",
     "text": [
      "c:\\Users\\Rehan Ibrahim\\AppData\\Local\\Programs\\Python\\Python310\\lib\\site-packages\\rasterio\\__init__.py:320: NotGeoreferencedWarning: Dataset has no geotransform, gcps, or rpcs. The identity matrix will be returned.\n",
      "  dataset = DatasetReader(path, driver=driver, sharing=sharing, **kwargs)\n"
     ]
    }
   ],
   "source": [
    "import rasterio\n",
    "import numpy as np\n",
    "\n",
    "image_data_test = []\n",
    "\n",
    "# Loop through the file paths and load images\n",
    "for image_path in file_series:\n",
    "    # Read the TIFF image using rasterio\n",
    "    try:\n",
    "        with rasterio.open(image_path) as src:\n",
    "            image = src.read(1)  # Assuming single-band image, adjust if necessary\n",
    "            # You may want to resize or preprocess the image here if necessary\n",
    "\n",
    "        # Append the image data to the list\n",
    "        image_data_test.append(image)\n",
    "    except Exception as e:\n",
    "        print(f\"Error loading image at {image_path}: {e}\")\n",
    "\n",
    "# Convert the list of images into a NumPy array\n",
    "image_data_test = np.array(image_data_test)"
   ]
  },
  {
   "cell_type": "markdown",
   "metadata": {},
   "source": [
    "## Transformations"
   ]
  },
  {
   "cell_type": "code",
   "execution_count": 46,
   "metadata": {},
   "outputs": [
    {
     "data": {
      "text/plain": [
       "array([[[0.        , 0.        , 0.        , ..., 0.        ,\n",
       "         0.        , 0.        ],\n",
       "        [0.        , 0.        , 0.        , ..., 0.45293355,\n",
       "         0.        , 0.        ],\n",
       "        [0.        , 0.        , 0.        , ..., 0.45293355,\n",
       "         0.        , 0.        ],\n",
       "        ...,\n",
       "        [0.        , 0.        , 0.        , ..., 0.        ,\n",
       "         0.        , 0.        ],\n",
       "        [0.        , 0.        , 0.        , ..., 0.        ,\n",
       "         0.        , 0.        ],\n",
       "        [0.        , 0.        , 0.        , ..., 0.        ,\n",
       "         0.        , 0.        ]],\n",
       "\n",
       "       [[0.38403906, 0.44130617, 0.44130617, ..., 0.        ,\n",
       "         0.        , 0.        ],\n",
       "        [0.345449  , 0.36951247, 0.36951247, ..., 0.        ,\n",
       "         0.        , 0.        ],\n",
       "        [0.345449  , 0.36951247, 0.36951247, ..., 0.        ,\n",
       "         0.        , 0.        ],\n",
       "        ...,\n",
       "        [0.        , 0.        , 0.        , ..., 0.20677501,\n",
       "         0.20677501, 0.11776913],\n",
       "        [0.        , 0.        , 0.        , ..., 0.14799725,\n",
       "         0.14799725, 0.12776379],\n",
       "        [0.        , 0.09881743, 0.09881743, ..., 0.14799725,\n",
       "         0.14799725, 0.12776379]],\n",
       "\n",
       "       [[0.18472572, 0.18472572, 0.18472572, ..., 0.        ,\n",
       "         0.        , 0.        ],\n",
       "        [0.18472572, 0.18472572, 0.18472572, ..., 0.        ,\n",
       "         0.        , 0.        ],\n",
       "        [0.23006027, 0.23006027, 0.20358587, ..., 0.        ,\n",
       "         0.        , 0.        ],\n",
       "        ...,\n",
       "        [0.        , 0.        , 0.        , ..., 0.10867475,\n",
       "         0.10867475, 0.10867475],\n",
       "        [0.        , 0.        , 0.        , ..., 0.13492027,\n",
       "         0.13492027, 0.13492027],\n",
       "        [0.        , 0.        , 0.        , ..., 0.13492027,\n",
       "         0.13492027, 0.13492027]],\n",
       "\n",
       "       ...,\n",
       "\n",
       "       [[0.42406348, 0.0153048 , 0.0153048 , ..., 0.        ,\n",
       "         0.        , 0.        ],\n",
       "        [0.45383383, 0.11711299, 0.11711299, ..., 0.        ,\n",
       "         0.        , 0.        ],\n",
       "        [0.45383383, 0.11711299, 0.11711299, ..., 0.        ,\n",
       "         0.        , 0.        ],\n",
       "        ...,\n",
       "        [0.83324941, 0.88427558, 0.88427558, ..., 0.57047379,\n",
       "         0.72700084, 0.72700084],\n",
       "        [0.83324941, 0.88427558, 0.88427558, ..., 0.36891737,\n",
       "         0.74445716, 0.74445716],\n",
       "        [0.40695811, 0.91978332, 0.91978332, ..., 0.36891737,\n",
       "         0.74445716, 0.74445716]],\n",
       "\n",
       "       [[0.47014572, 0.51519036, 0.51519036, ..., 0.15761044,\n",
       "         0.15761044, 0.36720836],\n",
       "        [0.61063554, 0.62539101, 0.62539101, ..., 0.15761044,\n",
       "         0.15761044, 0.36720836],\n",
       "        [0.61063554, 0.62539101, 0.62539101, ..., 0.        ,\n",
       "         0.        , 0.        ],\n",
       "        ...,\n",
       "        [0.48699168, 0.48699168, 0.50133516, ..., 0.102327  ,\n",
       "         0.        , 0.        ],\n",
       "        [0.15317006, 0.15317006, 0.34924849, ..., 0.        ,\n",
       "         0.        , 0.        ],\n",
       "        [0.16054017, 0.16054017, 0.37341878, ..., 0.        ,\n",
       "         0.        , 0.        ]],\n",
       "\n",
       "       [[0.36319524, 0.33180743, 0.26903182, ..., 0.72259098,\n",
       "         0.57167926, 0.52866407],\n",
       "        [0.36319524, 0.33180743, 0.26903182, ..., 0.67342641,\n",
       "         0.63114366, 0.60999466],\n",
       "        [0.36665904, 0.34885176, 0.27650874, ..., 0.67342641,\n",
       "         0.63114366, 0.63114366],\n",
       "        ...,\n",
       "        [0.        , 0.01052873, 0.01052873, ..., 0.18844892,\n",
       "         0.29440757, 0.29440757],\n",
       "        [0.        , 0.01052873, 0.01052873, ..., 0.18844892,\n",
       "         0.29440757, 0.29440757],\n",
       "        [0.        , 0.        , 0.        , ..., 0.23057908,\n",
       "         0.35074388, 0.37270161]]])"
      ]
     },
     "execution_count": 46,
     "metadata": {},
     "output_type": "execute_result"
    }
   ],
   "source": [
    "min_val = image_data_test.min()\n",
    "max_val = image_data_test.max()\n",
    "\n",
    "# Normalize the image data\n",
    "normalized_image_data_test = (image_data_test - min_val) / (max_val - min_val)\n",
    "normalized_image_data_test"
   ]
  },
  {
   "cell_type": "code",
   "execution_count": 47,
   "metadata": {},
   "outputs": [
    {
     "data": {
      "text/plain": [
       "(108, 64, 64)"
      ]
     },
     "execution_count": 47,
     "metadata": {},
     "output_type": "execute_result"
    }
   ],
   "source": [
    "normalized_image_data_test.shape"
   ]
  },
  {
   "cell_type": "markdown",
   "metadata": {},
   "source": [
    "## Predictions"
   ]
  },
  {
   "cell_type": "code",
   "execution_count": 50,
   "metadata": {},
   "outputs": [
    {
     "data": {
      "text/plain": [
       "(108, 1)"
      ]
     },
     "execution_count": 50,
     "metadata": {},
     "output_type": "execute_result"
    }
   ],
   "source": [
    "predictions_test.shape"
   ]
  },
  {
   "cell_type": "code",
   "execution_count": 55,
   "metadata": {},
   "outputs": [
    {
     "data": {
      "text/html": [
       "<div>\n",
       "<style scoped>\n",
       "    .dataframe tbody tr th:only-of-type {\n",
       "        vertical-align: middle;\n",
       "    }\n",
       "\n",
       "    .dataframe tbody tr th {\n",
       "        vertical-align: top;\n",
       "    }\n",
       "\n",
       "    .dataframe thead th {\n",
       "        text-align: right;\n",
       "    }\n",
       "</style>\n",
       "<table border=\"1\" class=\"dataframe\">\n",
       "  <thead>\n",
       "    <tr style=\"text-align: right;\">\n",
       "      <th></th>\n",
       "      <th>date</th>\n",
       "      <th>id_coord</th>\n",
       "      <th>lat</th>\n",
       "      <th>lon</th>\n",
       "      <th>coord_x</th>\n",
       "      <th>coord_y</th>\n",
       "    </tr>\n",
       "  </thead>\n",
       "  <tbody>\n",
       "    <tr>\n",
       "      <th>0</th>\n",
       "      <td>20230213</td>\n",
       "      <td>id_6148</td>\n",
       "      <td>23.437500</td>\n",
       "      <td>90.645000</td>\n",
       "      <td>54</td>\n",
       "      <td>10</td>\n",
       "    </tr>\n",
       "    <tr>\n",
       "      <th>1</th>\n",
       "      <td>20230206</td>\n",
       "      <td>id_3348</td>\n",
       "      <td>33.513333</td>\n",
       "      <td>-87.203333</td>\n",
       "      <td>31</td>\n",
       "      <td>55</td>\n",
       "    </tr>\n",
       "    <tr>\n",
       "      <th>2</th>\n",
       "      <td>20230121</td>\n",
       "      <td>id_3733</td>\n",
       "      <td>26.424286</td>\n",
       "      <td>80.284286</td>\n",
       "      <td>33</td>\n",
       "      <td>44</td>\n",
       "    </tr>\n",
       "    <tr>\n",
       "      <th>3</th>\n",
       "      <td>20230204</td>\n",
       "      <td>id_5491</td>\n",
       "      <td>30.246667</td>\n",
       "      <td>71.483333</td>\n",
       "      <td>59</td>\n",
       "      <td>59</td>\n",
       "    </tr>\n",
       "    <tr>\n",
       "      <th>4</th>\n",
       "      <td>20230130</td>\n",
       "      <td>id_4287</td>\n",
       "      <td>23.763333</td>\n",
       "      <td>86.396667</td>\n",
       "      <td>46</td>\n",
       "      <td>46</td>\n",
       "    </tr>\n",
       "  </tbody>\n",
       "</table>\n",
       "</div>"
      ],
      "text/plain": [
       "       date id_coord        lat        lon  coord_x  coord_y\n",
       "0  20230213  id_6148  23.437500  90.645000       54       10\n",
       "1  20230206  id_3348  33.513333 -87.203333       31       55\n",
       "2  20230121  id_3733  26.424286  80.284286       33       44\n",
       "3  20230204  id_5491  30.246667  71.483333       59       59\n",
       "4  20230130  id_4287  23.763333  86.396667       46       46"
      ]
     },
     "execution_count": 55,
     "metadata": {},
     "output_type": "execute_result"
    }
   ],
   "source": [
    "df_test_meta = pd.read_csv(\"data/dataset/test_data/metadata.csv\")\n",
    "df_test_meta.head()"
   ]
  },
  {
   "cell_type": "code",
   "execution_count": 49,
   "metadata": {},
   "outputs": [
    {
     "name": "stdout",
     "output_type": "stream",
     "text": [
      "1/4 [======>.......................] - ETA: 0s"
     ]
    },
    {
     "name": "stdout",
     "output_type": "stream",
     "text": [
      "4/4 [==============================] - 0s 19ms/step\n"
     ]
    },
    {
     "data": {
      "text/plain": [
       "array([[2.22639777e-04],\n",
       "       [9.06157553e-01],\n",
       "       [4.09636609e-02],\n",
       "       [9.90994692e-01],\n",
       "       [9.95388985e-01],\n",
       "       [3.50970119e-01],\n",
       "       [4.29701149e-01],\n",
       "       [2.15812133e-06],\n",
       "       [9.99172390e-01],\n",
       "       [4.77378704e-02],\n",
       "       [9.91702795e-01],\n",
       "       [9.64510679e-01],\n",
       "       [9.92363513e-01],\n",
       "       [7.95568526e-01],\n",
       "       [9.95487511e-01],\n",
       "       [4.36422601e-03],\n",
       "       [3.25979106e-02],\n",
       "       [4.99380578e-04],\n",
       "       [9.99999762e-01],\n",
       "       [2.58762111e-06],\n",
       "       [3.22370648e-01],\n",
       "       [1.53447065e-04],\n",
       "       [9.99794900e-01],\n",
       "       [1.45572310e-09],\n",
       "       [2.02392985e-05],\n",
       "       [9.66375779e-08],\n",
       "       [3.01923230e-03],\n",
       "       [9.96773243e-01],\n",
       "       [8.03969614e-03],\n",
       "       [3.97963217e-03],\n",
       "       [9.99988079e-01],\n",
       "       [1.28469593e-03],\n",
       "       [9.99988079e-01],\n",
       "       [9.99988079e-01],\n",
       "       [1.01781182e-01],\n",
       "       [7.74912420e-04],\n",
       "       [6.85243309e-03],\n",
       "       [3.78713645e-02],\n",
       "       [5.65640768e-03],\n",
       "       [1.10878364e-08],\n",
       "       [6.06779903e-02],\n",
       "       [9.78257239e-01],\n",
       "       [9.86553192e-01],\n",
       "       [8.11952759e-07],\n",
       "       [1.27155647e-01],\n",
       "       [9.99246836e-01],\n",
       "       [9.83633816e-01],\n",
       "       [1.04597844e-01],\n",
       "       [1.13338734e-04],\n",
       "       [9.99981701e-01],\n",
       "       [9.44504380e-01],\n",
       "       [1.87252790e-01],\n",
       "       [2.93340564e-01],\n",
       "       [6.94010079e-01],\n",
       "       [3.23066115e-02],\n",
       "       [9.82491493e-01],\n",
       "       [9.99964654e-01],\n",
       "       [9.56380785e-01],\n",
       "       [9.99964654e-01],\n",
       "       [5.40935159e-01],\n",
       "       [9.85250652e-01],\n",
       "       [1.24653950e-01],\n",
       "       [8.73177778e-05],\n",
       "       [3.60104404e-02],\n",
       "       [9.72402811e-01],\n",
       "       [8.81177247e-01],\n",
       "       [2.21326109e-02],\n",
       "       [3.25396517e-03],\n",
       "       [9.99636292e-01],\n",
       "       [4.09030616e-02],\n",
       "       [6.40124999e-05],\n",
       "       [9.72351849e-01],\n",
       "       [2.11566112e-06],\n",
       "       [9.72351849e-01],\n",
       "       [9.50571716e-01],\n",
       "       [9.72351849e-01],\n",
       "       [2.67204419e-02],\n",
       "       [2.28413264e-03],\n",
       "       [9.98127103e-01],\n",
       "       [9.88366663e-01],\n",
       "       [9.89870906e-01],\n",
       "       [9.62632239e-01],\n",
       "       [9.99737024e-01],\n",
       "       [3.63317728e-01],\n",
       "       [9.99884903e-01],\n",
       "       [2.10301747e-04],\n",
       "       [1.42588594e-03],\n",
       "       [6.06472977e-03],\n",
       "       [2.88304203e-04],\n",
       "       [1.41762861e-03],\n",
       "       [1.41762861e-03],\n",
       "       [6.98293761e-08],\n",
       "       [4.98725027e-02],\n",
       "       [9.96085048e-01],\n",
       "       [1.34061091e-04],\n",
       "       [9.95872438e-01],\n",
       "       [2.49576550e-02],\n",
       "       [1.81860803e-03],\n",
       "       [5.62829757e-03],\n",
       "       [1.02342926e-01],\n",
       "       [8.68756473e-02],\n",
       "       [2.25953571e-03],\n",
       "       [7.20738992e-02],\n",
       "       [5.90613391e-03],\n",
       "       [9.33838665e-01],\n",
       "       [1.21258013e-02],\n",
       "       [7.34897098e-04],\n",
       "       [1.00808412e-01]], dtype=float32)"
      ]
     },
     "execution_count": 49,
     "metadata": {},
     "output_type": "execute_result"
    }
   ],
   "source": [
    "# Make predictions on the test dataset\n",
    "predictions_test = model.predict(normalized_image_data_test)\n",
    "predictions_test"
   ]
  },
  {
   "cell_type": "code",
   "execution_count": 65,
   "metadata": {},
   "outputs": [],
   "source": [
    "output.to_csv(\"output_test.csv\")"
   ]
  },
  {
   "cell_type": "code",
   "execution_count": 51,
   "metadata": {},
   "outputs": [],
   "source": [
    "import csv\n",
    "\n",
    "# Your NumPy array\n",
    "data = np.array(predictions_test)\n",
    "\n",
    "# Define the file path for saving the CSV file\n",
    "csv_path = \"output_test.csv\"\n",
    "\n",
    "# Save the array as a CSV file\n",
    "with open(csv_path, \"w\", newline=\"\") as csvfile:\n",
    "    writer = csv.writer(csvfile)\n",
    "    writer.writerows(data)"
   ]
  },
  {
   "cell_type": "code",
   "execution_count": 53,
   "metadata": {},
   "outputs": [],
   "source": [
    "# Apply threshold to obtain binary predictions (0 or 1)\n",
    "threshold = 0.5\n",
    "binary_predictions_test = (predictions_test >= threshold).astype(int)"
   ]
  },
  {
   "cell_type": "code",
   "execution_count": 54,
   "metadata": {},
   "outputs": [
    {
     "data": {
      "text/plain": [
       "0    64\n",
       "1    44\n",
       "dtype: int64"
      ]
     },
     "execution_count": 54,
     "metadata": {},
     "output_type": "execute_result"
    }
   ],
   "source": [
    "pd.Series(binary_predictions_test.squeeze()).value_counts()"
   ]
  },
  {
   "cell_type": "code",
   "execution_count": null,
   "metadata": {},
   "outputs": [],
   "source": []
  },
  {
   "cell_type": "markdown",
   "metadata": {},
   "source": [
    "# Model 2(Pre-trained)"
   ]
  },
  {
   "cell_type": "code",
   "execution_count": 42,
   "metadata": {},
   "outputs": [
    {
     "name": "stdout",
     "output_type": "stream",
     "text": [
      "WARNING:tensorflow:`input_shape` is undefined or non-square, or `rows` is not in [96, 128, 160, 192, 224]. Weights for input shape (224, 224) will be loaded as the default.\n"
     ]
    },
    {
     "name": "stdout",
     "output_type": "stream",
     "text": [
      "Model: \"sequential_1\"\n",
      "_________________________________________________________________\n",
      " Layer (type)                Output Shape              Param #   \n",
      "=================================================================\n",
      " resizing (Resizing)         (None, 64, 64, 1)         0         \n",
      "                                                                 \n",
      " lambda (Lambda)             (None, 64, 64, 3)         0         \n",
      "                                                                 \n",
      " mobilenetv2_1.00_224 (Func  (None, 2, 2, 1280)        2257984   \n",
      " tional)                                                         \n",
      "                                                                 \n",
      " flatten_1 (Flatten)         (None, 5120)              0         \n",
      "                                                                 \n",
      " dense_3 (Dense)             (None, 128)               655488    \n",
      "                                                                 \n",
      " dropout_2 (Dropout)         (None, 128)               0         \n",
      "                                                                 \n",
      " dense_4 (Dense)             (None, 64)                8256      \n",
      "                                                                 \n",
      " dropout_3 (Dropout)         (None, 64)                0         \n",
      "                                                                 \n",
      " dense_5 (Dense)             (None, 1)                 65        \n",
      "                                                                 \n",
      "=================================================================\n",
      "Total params: 2921793 (11.15 MB)\n",
      "Trainable params: 663809 (2.53 MB)\n",
      "Non-trainable params: 2257984 (8.61 MB)\n",
      "_________________________________________________________________\n"
     ]
    }
   ],
   "source": [
    "import tensorflow as tf\n",
    "from tensorflow.keras import layers\n",
    "from tensorflow.keras.applications import MobileNetV2\n",
    "from tensorflow.keras.layers.experimental.preprocessing import Resizing\n",
    "\n",
    "# Set the random seed for reproducibility\n",
    "tf.random.set_seed(1234)\n",
    "\n",
    "# Create the MobileNetV2 model with the correct input shape\n",
    "mobilenetv2_model = MobileNetV2(\n",
    "    include_top=False, weights=\"imagenet\", input_shape=(64, 64, 3)\n",
    ")\n",
    "mobilenetv2_model.trainable = False  # Freeze the pretrained MobileNetV2 layers\n",
    "\n",
    "# Define the CNN model\n",
    "model2 = tf.keras.Sequential(\n",
    "    [\n",
    "        Resizing(\n",
    "            64, 64, input_shape=(64, 64, 1)\n",
    "        ),  # Resize input images to (64, 64) without rescaling\n",
    "        layers.Lambda(\n",
    "            lambda x: tf.image.grayscale_to_rgb(x)\n",
    "        ),  # Convert grayscale to RGB\n",
    "        mobilenetv2_model,  # Add the MobileNetV2 model as a layer\n",
    "        layers.Flatten(),\n",
    "        layers.Dense(128, activation=\"relu\"),\n",
    "        layers.Dropout(0.5),\n",
    "        layers.Dense(64, activation=\"relu\"),\n",
    "        layers.Dropout(0.5),\n",
    "        layers.Dense(\n",
    "            1, activation=\"sigmoid\"\n",
    "        ),  # Use 'sigmoid' for binary classification\n",
    "    ]\n",
    ")\n",
    "\n",
    "# Compile the model\n",
    "model2.compile(\n",
    "    optimizer=\"adam\",\n",
    "    loss=\"binary_crossentropy\",  # Use 'binary_crossentropy' for binary classification\n",
    "    metrics=[\"accuracy\"],\n",
    ")\n",
    "\n",
    "# Print the model summary to view the architecture\n",
    "model2.summary()\n",
    "\n",
    "# Define early stopping\n",
    "early_stopping = tf.keras.callbacks.EarlyStopping(\n",
    "    monitor=\"val_loss\", patience=5, restore_best_weights=True\n",
    ")"
   ]
  },
  {
   "cell_type": "code",
   "execution_count": 43,
   "metadata": {},
   "outputs": [
    {
     "name": "stdout",
     "output_type": "stream",
     "text": [
      "Epoch 1/100\n",
      "376/376 [==============================] - 36s 83ms/step - loss: 0.4985 - accuracy: 0.7678 - val_loss: 0.2913 - val_accuracy: 0.8794\n",
      "Epoch 2/100\n",
      "376/376 [==============================] - 27s 73ms/step - loss: 0.3342 - accuracy: 0.8555 - val_loss: 0.2306 - val_accuracy: 0.9079\n",
      "Epoch 3/100\n",
      "376/376 [==============================] - 26s 70ms/step - loss: 0.2632 - accuracy: 0.8910 - val_loss: 0.2172 - val_accuracy: 0.9191\n",
      "Epoch 4/100\n",
      "376/376 [==============================] - 25s 68ms/step - loss: 0.2236 - accuracy: 0.9079 - val_loss: 0.2006 - val_accuracy: 0.9341\n",
      "Epoch 5/100\n",
      "376/376 [==============================] - 26s 68ms/step - loss: 0.1972 - accuracy: 0.9203 - val_loss: 0.1839 - val_accuracy: 0.9386\n",
      "Epoch 6/100\n",
      "376/376 [==============================] - 26s 68ms/step - loss: 0.1795 - accuracy: 0.9257 - val_loss: 0.1662 - val_accuracy: 0.9378\n",
      "Epoch 7/100\n",
      "376/376 [==============================] - 27s 71ms/step - loss: 0.1713 - accuracy: 0.9301 - val_loss: 0.1526 - val_accuracy: 0.9446\n",
      "Epoch 8/100\n",
      "376/376 [==============================] - 27s 73ms/step - loss: 0.1409 - accuracy: 0.9454 - val_loss: 0.1585 - val_accuracy: 0.9393\n",
      "Epoch 9/100\n",
      "376/376 [==============================] - 29s 78ms/step - loss: 0.1382 - accuracy: 0.9446 - val_loss: 0.1452 - val_accuracy: 0.9506\n",
      "Epoch 10/100\n",
      "376/376 [==============================] - 29s 78ms/step - loss: 0.1297 - accuracy: 0.9486 - val_loss: 0.1428 - val_accuracy: 0.9476\n",
      "Epoch 11/100\n",
      "376/376 [==============================] - 27s 72ms/step - loss: 0.1163 - accuracy: 0.9539 - val_loss: 0.1513 - val_accuracy: 0.9468\n",
      "Epoch 12/100\n",
      "376/376 [==============================] - 29s 77ms/step - loss: 0.1122 - accuracy: 0.9544 - val_loss: 0.1334 - val_accuracy: 0.9536\n",
      "Epoch 13/100\n",
      "376/376 [==============================] - 30s 79ms/step - loss: 0.1009 - accuracy: 0.9590 - val_loss: 0.1437 - val_accuracy: 0.9491\n",
      "Epoch 14/100\n",
      "376/376 [==============================] - 29s 78ms/step - loss: 0.1090 - accuracy: 0.9584 - val_loss: 0.1324 - val_accuracy: 0.9521\n",
      "Epoch 15/100\n",
      "376/376 [==============================] - 27s 73ms/step - loss: 0.0950 - accuracy: 0.9617 - val_loss: 0.1566 - val_accuracy: 0.9536\n",
      "Epoch 16/100\n",
      "376/376 [==============================] - 27s 73ms/step - loss: 0.0920 - accuracy: 0.9655 - val_loss: 0.1488 - val_accuracy: 0.9521\n",
      "Epoch 17/100\n",
      "376/376 [==============================] - 28s 74ms/step - loss: 0.0942 - accuracy: 0.9638 - val_loss: 0.1405 - val_accuracy: 0.9558\n",
      "Epoch 18/100\n",
      "376/376 [==============================] - 26s 69ms/step - loss: 0.0833 - accuracy: 0.9655 - val_loss: 0.1686 - val_accuracy: 0.9476\n",
      "Epoch 19/100\n",
      "376/376 [==============================] - 26s 69ms/step - loss: 0.0844 - accuracy: 0.9679 - val_loss: 0.1539 - val_accuracy: 0.9588\n"
     ]
    },
    {
     "data": {
      "text/plain": [
       "<keras.src.callbacks.History at 0x19d02a99150>"
      ]
     },
     "execution_count": 43,
     "metadata": {},
     "output_type": "execute_result"
    }
   ],
   "source": [
    "batch_size = 32\n",
    "epochs = 100\n",
    "model2.fit(\n",
    "    X_train_augmented,\n",
    "    y_train_augmented,\n",
    "    epochs=epochs,\n",
    "    batch_size=batch_size,\n",
    "    validation_split=0.1,\n",
    "    callbacks=[early_stopping],\n",
    ")"
   ]
  },
  {
   "cell_type": "code",
   "execution_count": 44,
   "metadata": {},
   "outputs": [
    {
     "name": "stdout",
     "output_type": "stream",
     "text": [
      "6/6 [==============================] - 1s 51ms/step\n"
     ]
    },
    {
     "data": {
      "text/plain": [
       "array([[1.7245313e-04],\n",
       "       [5.2354358e-02],\n",
       "       [8.1176275e-01],\n",
       "       [9.9999994e-01],\n",
       "       [9.9994904e-01],\n",
       "       [5.4276221e-05],\n",
       "       [9.9999917e-01],\n",
       "       [7.7475947e-01],\n",
       "       [9.9115002e-01],\n",
       "       [9.9966455e-01],\n",
       "       [1.9564349e-03],\n",
       "       [1.4803109e-01],\n",
       "       [8.6577952e-01],\n",
       "       [1.9834926e-02],\n",
       "       [1.3746515e-01],\n",
       "       [1.1252341e-01],\n",
       "       [3.0020952e-01],\n",
       "       [8.3177316e-01],\n",
       "       [1.8485196e-01],\n",
       "       [5.0101116e-02],\n",
       "       [7.5935991e-03],\n",
       "       [1.5088619e-04],\n",
       "       [1.1477867e-02],\n",
       "       [9.6897721e-01],\n",
       "       [2.1942696e-01],\n",
       "       [9.9394697e-01],\n",
       "       [9.7280943e-01],\n",
       "       [2.6475189e-12],\n",
       "       [3.7065125e-01],\n",
       "       [8.3959782e-01],\n",
       "       [2.8477836e-02],\n",
       "       [6.1293804e-06],\n",
       "       [5.0418466e-02],\n",
       "       [5.9656082e-03],\n",
       "       [1.9283958e-02],\n",
       "       [9.9933553e-01],\n",
       "       [5.9970289e-01],\n",
       "       [4.0533319e-09],\n",
       "       [1.6566401e-02],\n",
       "       [7.6097786e-01],\n",
       "       [1.4899983e-03],\n",
       "       [9.9720126e-01],\n",
       "       [9.7577226e-01],\n",
       "       [9.9697304e-01],\n",
       "       [2.2578511e-01],\n",
       "       [9.2649633e-01],\n",
       "       [1.0452251e-03],\n",
       "       [9.5964873e-01],\n",
       "       [6.6222620e-01],\n",
       "       [4.6569120e-02],\n",
       "       [6.9103503e-01],\n",
       "       [2.4840055e-02],\n",
       "       [9.2794818e-01],\n",
       "       [1.0000000e+00],\n",
       "       [4.2287114e-01],\n",
       "       [3.9616016e-01],\n",
       "       [1.1477867e-02],\n",
       "       [4.5138273e-02],\n",
       "       [9.0919068e-04],\n",
       "       [9.9972034e-01],\n",
       "       [1.0000000e+00],\n",
       "       [1.4768346e-05],\n",
       "       [9.8450619e-01],\n",
       "       [9.9999553e-01],\n",
       "       [3.1741185e-10],\n",
       "       [9.8773956e-01],\n",
       "       [3.2309419e-01],\n",
       "       [9.7940856e-01],\n",
       "       [9.5804107e-01],\n",
       "       [8.7423921e-03],\n",
       "       [9.9988508e-01],\n",
       "       [5.0511071e-06],\n",
       "       [9.4915241e-01],\n",
       "       [9.9948275e-01],\n",
       "       [7.5125295e-01],\n",
       "       [7.5855550e-10],\n",
       "       [1.3636528e-02],\n",
       "       [3.5651445e-01],\n",
       "       [9.9521750e-01],\n",
       "       [9.9994934e-01],\n",
       "       [9.9996173e-01],\n",
       "       [1.0818692e-21],\n",
       "       [9.1157013e-01],\n",
       "       [9.9955398e-01],\n",
       "       [8.1237888e-01],\n",
       "       [9.8380083e-01],\n",
       "       [4.9679202e-01],\n",
       "       [1.3476054e-01],\n",
       "       [1.3247259e-03],\n",
       "       [6.2382221e-01],\n",
       "       [2.5194985e-01],\n",
       "       [3.7249776e-03],\n",
       "       [3.9133716e-01],\n",
       "       [6.0493141e-05],\n",
       "       [1.1155926e-09],\n",
       "       [1.4294536e-04],\n",
       "       [1.0756482e-03],\n",
       "       [5.4768325e-08],\n",
       "       [2.1549949e-01],\n",
       "       [9.9536186e-01],\n",
       "       [8.3718397e-12],\n",
       "       [1.5337229e-03],\n",
       "       [1.3494246e-01],\n",
       "       [1.5290876e-11],\n",
       "       [6.9103503e-01],\n",
       "       [3.9328060e-07],\n",
       "       [6.4069442e-03],\n",
       "       [3.1675225e-01],\n",
       "       [9.0919068e-04],\n",
       "       [9.9999803e-01],\n",
       "       [3.6329544e-01],\n",
       "       [7.6434886e-01],\n",
       "       [5.7964972e-03],\n",
       "       [8.3673036e-01],\n",
       "       [9.7075409e-01],\n",
       "       [9.9995393e-01],\n",
       "       [1.8560940e-04],\n",
       "       [9.8306179e-01],\n",
       "       [9.6941757e-01],\n",
       "       [4.9762129e-06],\n",
       "       [9.9996454e-01],\n",
       "       [9.9999291e-01],\n",
       "       [9.9999917e-01],\n",
       "       [9.9985808e-01],\n",
       "       [2.1651497e-02],\n",
       "       [5.6716418e-01],\n",
       "       [9.9999690e-01],\n",
       "       [9.9999988e-01],\n",
       "       [1.0394076e-05],\n",
       "       [4.7633969e-04],\n",
       "       [1.3305911e-01],\n",
       "       [1.0000000e+00],\n",
       "       [9.9899954e-01],\n",
       "       [9.9309504e-01],\n",
       "       [7.7307993e-04],\n",
       "       [9.9985200e-01],\n",
       "       [3.7249776e-03],\n",
       "       [1.1151064e-11],\n",
       "       [8.2356519e-01],\n",
       "       [9.8416072e-01],\n",
       "       [8.7106667e-02],\n",
       "       [9.5032007e-01],\n",
       "       [1.0126157e-05],\n",
       "       [9.9957210e-01],\n",
       "       [2.7927486e-04],\n",
       "       [1.1912092e-02],\n",
       "       [9.9971217e-01],\n",
       "       [9.9132806e-01],\n",
       "       [9.9999881e-01],\n",
       "       [6.1083549e-01],\n",
       "       [9.5369589e-01],\n",
       "       [9.9619704e-01],\n",
       "       [9.5553285e-01],\n",
       "       [2.7860303e-12],\n",
       "       [9.9861813e-01],\n",
       "       [2.1490995e-03],\n",
       "       [9.6630740e-01],\n",
       "       [7.4892210e-05],\n",
       "       [9.9530977e-01],\n",
       "       [9.8354632e-01],\n",
       "       [2.6682536e-03],\n",
       "       [2.2020777e-05],\n",
       "       [9.7173429e-01],\n",
       "       [9.7584826e-01],\n",
       "       [3.1609030e-08],\n",
       "       [3.4779396e-03],\n",
       "       [5.5728859e-01],\n",
       "       [1.4049500e-05],\n",
       "       [8.7670004e-01],\n",
       "       [4.8619825e-01],\n",
       "       [1.8580775e-09],\n",
       "       [3.2308996e-01]], dtype=float32)"
      ]
     },
     "execution_count": 44,
     "metadata": {},
     "output_type": "execute_result"
    }
   ],
   "source": [
    "# Make predictions on the test dataset\n",
    "predictions2 = model2.predict(X_test)\n",
    "predictions2"
   ]
  },
  {
   "cell_type": "markdown",
   "metadata": {},
   "source": [
    "## Eval Metrics"
   ]
  },
  {
   "cell_type": "code",
   "execution_count": 45,
   "metadata": {},
   "outputs": [],
   "source": [
    "# Apply threshold to obtain binary predictions (0 or 1)\n",
    "threshold = 0.5\n",
    "binary_predictions2 = (predictions2 >= threshold).astype(int)"
   ]
  },
  {
   "cell_type": "code",
   "execution_count": 46,
   "metadata": {},
   "outputs": [
    {
     "name": "stdout",
     "output_type": "stream",
     "text": [
      "Classification Report:\n",
      "              precision    recall  f1-score   support\n",
      "\n",
      "           0       0.72      0.80      0.76        80\n",
      "           1       0.81      0.73      0.77        92\n",
      "\n",
      "    accuracy                           0.76       172\n",
      "   macro avg       0.76      0.76      0.76       172\n",
      "weighted avg       0.77      0.76      0.76       172\n",
      "\n"
     ]
    }
   ],
   "source": [
    "class_report2 = classification_report(y_test, binary_predictions2)\n",
    "print(\"Classification Report:\")\n",
    "print(class_report2)"
   ]
  },
  {
   "cell_type": "code",
   "execution_count": 47,
   "metadata": {},
   "outputs": [
    {
     "name": "stdout",
     "output_type": "stream",
     "text": [
      "Accuracy: 76.16%\n"
     ]
    }
   ],
   "source": [
    "# Calculate accuracy using one-hot encoded labels\n",
    "accuracy2 = accuracy_score(y_test, binary_predictions2)\n",
    "print(f\"Accuracy: {accuracy2*100:.2f}%\")"
   ]
  },
  {
   "cell_type": "markdown",
   "metadata": {},
   "source": [
    "# Gaussian Blurring and Histogram Equalization "
   ]
  },
  {
   "cell_type": "code",
   "execution_count": 83,
   "metadata": {},
   "outputs": [],
   "source": [
    "# Apply Histogram Equalization to the entire matrix\n",
    "equalized_image_data = np.zeros_like(normalized_image_data, dtype=np.uint8)\n",
    "for i in range(normalized_image_data.shape[0]):\n",
    "    # Ensure the image is in the uint8 data type\n",
    "    normalized_image = (image_data[i] * 255).astype(np.uint8)\n",
    "    equalized_image = cv2.equalizeHist(normalized_image)\n",
    "    equalized_image_data[i] = equalized_image"
   ]
  },
  {
   "cell_type": "code",
   "execution_count": 86,
   "metadata": {},
   "outputs": [
    {
     "name": "stdout",
     "output_type": "stream",
     "text": [
      "X_train shape: (344, 64, 64)\n",
      "X_test shape: (86, 64, 64)\n"
     ]
    }
   ],
   "source": [
    "X = normalized_image_data\n",
    "y = plume_labels\n",
    "\n",
    "\n",
    "# X = [np.transpose(image, (1, 2, 0)) for image in X]\n",
    "\n",
    "# X = np.array(X)\n",
    "np.random.seed(101)\n",
    "X_train, X_test, y_train, y_test = train_test_split(\n",
    "    X, y, test_size=0.2, random_state=42, shuffle=True\n",
    ")\n",
    "\n",
    "print(\"X_train shape:\", X_train.shape)\n",
    "print(\"X_test shape:\", X_test.shape)"
   ]
  },
  {
   "cell_type": "code",
   "execution_count": 91,
   "metadata": {},
   "outputs": [],
   "source": [
    "datagen = ImageDataGenerator(\n",
    "    rotation_range=10,\n",
    "    width_shift_range=0.1,\n",
    "    height_shift_range=0.1,\n",
    "    shear_range=0.2,\n",
    "    horizontal_flip=True,\n",
    "    fill_mode=\"nearest\",\n",
    ")\n",
    "X_train = X_train.reshape(-1, 64, 64, 1)\n",
    "batch_size = 64\n",
    "steps_per_epoch = len(X_train) // batch_size\n",
    "# Fit the data augmentation generator to your training data\n",
    "datagen.fit(X_train)\n",
    "\n",
    "augmented_images = []\n",
    "augmented_labels = []\n",
    "\n",
    "# Generate augmented images and labels\n",
    "for X_batch, y_batch in datagen.flow(\n",
    "    X_train, y_train, batch_size=batch_size, shuffle=True\n",
    "):\n",
    "    augmented_images.append(X_batch)\n",
    "    augmented_labels.append(y_batch)\n",
    "    if len(augmented_images) >= len(X_train):\n",
    "        break\n",
    "\n",
    "X_train_augmented = np.concatenate(augmented_images)\n",
    "y_train_augmented = np.concatenate(augmented_labels)\n",
    "\n",
    "y_train_augmented = y_train_augmented.astype(int)"
   ]
  },
  {
   "cell_type": "code",
   "execution_count": 96,
   "metadata": {},
   "outputs": [],
   "source": [
    "import cv2\n",
    "import numpy as np\n",
    "\n",
    "blurred_X_train = []\n",
    "blurred_y_train = []\n",
    "\n",
    "# Loop through the loaded images\n",
    "for image, label in zip(X_train_augmented, y_train_augmented):\n",
    "    if image.dtype != np.uint8:\n",
    "        # Convert to 8-bit (if not already)\n",
    "        image = (image / np.max(image) * 255).astype(np.uint8)\n",
    "\n",
    "    # Check if it's not already grayscale (single channel)\n",
    "    if len(image.shape) > 2 and image.shape[2] != 1:\n",
    "        # Convert to grayscale\n",
    "        image = cv2.cvtColor(image, cv2.COLOR_BGR2GRAY)\n",
    "\n",
    "    # Apply Gaussian Blurring to the original image\n",
    "    original_image = image.copy()  # Create a copy of the original image\n",
    "    blurred_image = cv2.GaussianBlur(image, (5, 5), 0)  # Adjust kernel size as needed\n",
    "\n",
    "    blurred_X_train.append(blurred_image)\n",
    "    blurred_y_train.append(label)\n",
    "\n",
    "    # Optionally, you can also append the original image\n",
    "    # to another list if you want to keep it\n",
    "    # original_X_train.append(original_image)\n",
    "\n",
    "# Convert the lists of preprocessed images into NumPy arrays\n",
    "blurred_X_train = np.array(blurred_X_train)\n",
    "blurred_y_train = np.array(blurred_y_train)\n",
    "blurred_X_train = blurred_X_train.reshape(19736, 64, 64, 1)"
   ]
  },
  {
   "cell_type": "code",
   "execution_count": 97,
   "metadata": {},
   "outputs": [],
   "source": [
    "import numpy as np\n",
    "import pandas as pd\n",
    "\n",
    "# Assuming you have original and blurred image arrays\n",
    "original_images = X_train_augmented  # List of original images\n",
    "blurred_images = blurred_X_train  # List of blurred images\n",
    "\n",
    "original_labels = y_train_augmented\n",
    "blurred_labels = blurred_y_train\n",
    "\n",
    "# Combine original and blurred images and their labels\n",
    "combined_images = np.concatenate((original_images, blurred_images), axis=0)\n",
    "combined_labels = np.concatenate((original_labels, blurred_labels), axis=0)"
   ]
  },
  {
   "cell_type": "code",
   "execution_count": 98,
   "metadata": {},
   "outputs": [],
   "source": [
    "combined_data = list(zip(combined_images, combined_labels))\n",
    "\n",
    "# Shuffle the combined data\n",
    "np.random.shuffle(combined_data)\n",
    "\n",
    "# Split the shuffled data back into images and labels\n",
    "shuffled_images, shuffled_labels = zip(*combined_data)\n",
    "\n",
    "# Convert back to NumPy arrays if needed\n",
    "shuffled_images = np.array(shuffled_images)\n",
    "shuffled_labels = np.array(shuffled_labels)"
   ]
  },
  {
   "cell_type": "code",
   "execution_count": 99,
   "metadata": {},
   "outputs": [
    {
     "name": "stdout",
     "output_type": "stream",
     "text": [
      "Model: \"sequential_2\"\n",
      "_________________________________________________________________\n",
      " Layer (type)                Output Shape              Param #   \n",
      "=================================================================\n",
      " conv2d_6 (Conv2D)           (None, 62, 62, 32)        320       \n",
      "                                                                 \n",
      " max_pooling2d_6 (MaxPoolin  (None, 31, 31, 32)        0         \n",
      " g2D)                                                            \n",
      "                                                                 \n",
      " conv2d_7 (Conv2D)           (None, 29, 29, 64)        18496     \n",
      "                                                                 \n",
      " max_pooling2d_7 (MaxPoolin  (None, 14, 14, 64)        0         \n",
      " g2D)                                                            \n",
      "                                                                 \n",
      " conv2d_8 (Conv2D)           (None, 12, 12, 128)       73856     \n",
      "                                                                 \n",
      " max_pooling2d_8 (MaxPoolin  (None, 6, 6, 128)         0         \n",
      " g2D)                                                            \n",
      "                                                                 \n",
      " flatten_2 (Flatten)         (None, 4608)              0         \n",
      "                                                                 \n",
      " dense_6 (Dense)             (None, 128)               589952    \n",
      "                                                                 \n",
      " dropout_4 (Dropout)         (None, 128)               0         \n",
      "                                                                 \n",
      " dense_7 (Dense)             (None, 64)                8256      \n",
      "                                                                 \n",
      " dropout_5 (Dropout)         (None, 64)                0         \n",
      "                                                                 \n",
      " dense_8 (Dense)             (None, 1)                 65        \n",
      "                                                                 \n",
      "=================================================================\n",
      "Total params: 690945 (2.64 MB)\n",
      "Trainable params: 690945 (2.64 MB)\n",
      "Non-trainable params: 0 (0.00 Byte)\n",
      "_________________________________________________________________\n"
     ]
    }
   ],
   "source": [
    "import tensorflow as tf\n",
    "from tensorflow.keras import layers\n",
    "\n",
    "# Set the random seed for reproducibility\n",
    "tf.random.set_seed(1234)\n",
    "\n",
    "# Define the CNN model\n",
    "model = tf.keras.Sequential(\n",
    "    [\n",
    "        # Convolutional layers\n",
    "        layers.Conv2D(32, (3, 3), activation=\"relu\", input_shape=(64, 64, 1)),\n",
    "        layers.MaxPooling2D((2, 2)),\n",
    "        layers.Conv2D(64, (3, 3), activation=\"relu\"),\n",
    "        layers.MaxPooling2D((2, 2)),\n",
    "        layers.Conv2D(128, (3, 3), activation=\"relu\"),\n",
    "        layers.MaxPooling2D((2, 2)),\n",
    "        # Flatten the output for fully connected layers\n",
    "        layers.Flatten(),\n",
    "        # Fully connected layers\n",
    "        layers.Dense(128, activation=\"relu\"),\n",
    "        layers.Dropout(0.5),\n",
    "        layers.Dense(64, activation=\"relu\"),\n",
    "        layers.Dropout(0.5),\n",
    "        layers.Dense(\n",
    "            1, activation=\"sigmoid\"\n",
    "        ),  # Use 'sigmoid' for binary classification\n",
    "    ]\n",
    ")\n",
    "\n",
    "# Compile the model\n",
    "model.compile(\n",
    "    optimizer=\"adam\",\n",
    "    loss=\"binary_crossentropy\",  # Use 'binary_crossentropy' for binary classification\n",
    "    metrics=[tf.keras.metrics.AUC()],\n",
    ")\n",
    "\n",
    "# Print the model summary to view the architecture\n",
    "model.summary()\n",
    "\n",
    "# Define early stopping\n",
    "early_stopping = tf.keras.callbacks.EarlyStopping(\n",
    "    monitor=\"val_loss\", patience=5, restore_best_weights=True\n",
    ")"
   ]
  },
  {
   "cell_type": "code",
   "execution_count": 100,
   "metadata": {},
   "outputs": [
    {
     "name": "stdout",
     "output_type": "stream",
     "text": [
      "Epoch 1/100\n",
      "494/494 [==============================] - 36s 70ms/step - loss: 0.4285 - auc_1: 0.8837 - val_loss: 0.2469 - val_auc_1: 0.9655\n",
      "Epoch 2/100\n",
      "494/494 [==============================] - 31s 63ms/step - loss: 0.1824 - auc_1: 0.9790 - val_loss: 0.0912 - val_auc_1: 0.9945\n",
      "Epoch 3/100\n",
      "494/494 [==============================] - 33s 67ms/step - loss: 0.0806 - auc_1: 0.9954 - val_loss: 0.0523 - val_auc_1: 0.9977\n",
      "Epoch 4/100\n",
      "494/494 [==============================] - 34s 69ms/step - loss: 0.0476 - auc_1: 0.9982 - val_loss: 0.0522 - val_auc_1: 0.9984\n",
      "Epoch 5/100\n",
      "494/494 [==============================] - 34s 70ms/step - loss: 0.0343 - auc_1: 0.9988 - val_loss: 0.0252 - val_auc_1: 0.9991\n",
      "Epoch 6/100\n",
      "494/494 [==============================] - 34s 69ms/step - loss: 0.0245 - auc_1: 0.9995 - val_loss: 0.0355 - val_auc_1: 0.9983\n",
      "Epoch 7/100\n",
      "494/494 [==============================] - 34s 69ms/step - loss: 0.0302 - auc_1: 0.9988 - val_loss: 0.0419 - val_auc_1: 0.9985\n",
      "Epoch 8/100\n",
      "494/494 [==============================] - 36s 72ms/step - loss: 0.0148 - auc_1: 0.9999 - val_loss: 0.0283 - val_auc_1: 0.9989\n",
      "Epoch 9/100\n",
      "494/494 [==============================] - 34s 69ms/step - loss: 0.0224 - auc_1: 0.9992 - val_loss: 0.0538 - val_auc_1: 0.9964\n",
      "Epoch 10/100\n",
      "494/494 [==============================] - 34s 69ms/step - loss: 0.0193 - auc_1: 0.9992 - val_loss: 0.0421 - val_auc_1: 0.9986\n"
     ]
    },
    {
     "data": {
      "text/plain": [
       "<keras.src.callbacks.History at 0x1cf4d591030>"
      ]
     },
     "execution_count": 100,
     "metadata": {},
     "output_type": "execute_result"
    }
   ],
   "source": [
    "batch_size = 32\n",
    "epochs = 100\n",
    "model.fit(\n",
    "    X_train_augmented,\n",
    "    y_train_augmented,\n",
    "    epochs=epochs,\n",
    "    batch_size=batch_size,\n",
    "    validation_split=0.2,\n",
    "    callbacks=[early_stopping],\n",
    ")"
   ]
  },
  {
   "cell_type": "code",
   "execution_count": 108,
   "metadata": {},
   "outputs": [
    {
     "name": "stderr",
     "output_type": "stream",
     "text": [
      "c:\\Users\\Rehan Ibrahim\\AppData\\Local\\Programs\\Python\\Python310\\lib\\site-packages\\keras\\src\\engine\\training.py:3079: UserWarning: You are saving your model as an HDF5 file via `model.save()`. This file format is considered legacy. We recommend using instead the native Keras format, e.g. `model.save('my_model.keras')`.\n",
      "  saving_api.save_model(\n"
     ]
    }
   ],
   "source": [
    "model.save(\"model/CNN_second_Model.h5\")"
   ]
  },
  {
   "cell_type": "code",
   "execution_count": 102,
   "metadata": {},
   "outputs": [
    {
     "name": "stdout",
     "output_type": "stream",
     "text": [
      "3/3 [==============================] - 0s 17ms/step\n"
     ]
    },
    {
     "data": {
      "text/plain": [
       "array([[8.7240205e-06],\n",
       "       [9.1528314e-01],\n",
       "       [7.8466994e-01],\n",
       "       [9.9999988e-01],\n",
       "       [3.6342599e-11],\n",
       "       [2.1451455e-01],\n",
       "       [1.0000000e+00],\n",
       "       [9.9999809e-01],\n",
       "       [9.9999654e-01],\n",
       "       [9.9999928e-01],\n",
       "       [5.8227773e-03],\n",
       "       [5.3128964e-08],\n",
       "       [1.5624966e-02],\n",
       "       [4.1336054e-10],\n",
       "       [9.5647871e-01],\n",
       "       [9.9983978e-01],\n",
       "       [9.2631107e-04],\n",
       "       [5.8621814e-04],\n",
       "       [9.4129670e-01],\n",
       "       [6.1400075e-05],\n",
       "       [5.9574487e-04],\n",
       "       [2.1574739e-07],\n",
       "       [9.7838201e-05],\n",
       "       [1.0000000e+00],\n",
       "       [1.5726686e-02],\n",
       "       [9.8843974e-01],\n",
       "       [9.9999982e-01],\n",
       "       [6.7836057e-15],\n",
       "       [1.2668839e-06],\n",
       "       [4.3505659e-12],\n",
       "       [9.9993682e-01],\n",
       "       [4.9820943e-11],\n",
       "       [3.9568543e-02],\n",
       "       [2.3244914e-04],\n",
       "       [3.9710457e-09],\n",
       "       [9.9567747e-01],\n",
       "       [9.9999213e-01],\n",
       "       [7.0823946e-13],\n",
       "       [2.3187389e-05],\n",
       "       [1.1557510e-08],\n",
       "       [3.0386249e-10],\n",
       "       [9.9986607e-01],\n",
       "       [9.9999970e-01],\n",
       "       [1.0000000e+00],\n",
       "       [9.5684834e-02],\n",
       "       [1.7113598e-01],\n",
       "       [6.1838445e-04],\n",
       "       [1.2269511e-01],\n",
       "       [1.2478505e-05],\n",
       "       [3.1262914e-10],\n",
       "       [1.0000000e+00],\n",
       "       [6.0519890e-04],\n",
       "       [9.0830112e-01],\n",
       "       [9.9166852e-01],\n",
       "       [9.9786872e-01],\n",
       "       [6.6007017e-16],\n",
       "       [9.7838201e-05],\n",
       "       [9.9999779e-01],\n",
       "       [9.9068463e-01],\n",
       "       [9.9999982e-01],\n",
       "       [9.9984604e-01],\n",
       "       [3.6892463e-03],\n",
       "       [9.9999452e-01],\n",
       "       [9.9997526e-01],\n",
       "       [1.2203173e-04],\n",
       "       [5.9415281e-01],\n",
       "       [7.2568115e-03],\n",
       "       [1.2521562e-01],\n",
       "       [9.8313403e-01],\n",
       "       [1.5449184e-01],\n",
       "       [1.0000000e+00],\n",
       "       [3.1957359e-05],\n",
       "       [9.9687219e-01],\n",
       "       [9.9278635e-01],\n",
       "       [5.2134991e-03],\n",
       "       [9.6730822e-01],\n",
       "       [9.9070650e-01],\n",
       "       [9.9989665e-01],\n",
       "       [1.2098659e-02],\n",
       "       [1.0000000e+00],\n",
       "       [1.8200528e-02],\n",
       "       [2.8674710e-19],\n",
       "       [9.9979758e-01],\n",
       "       [9.9997550e-01],\n",
       "       [7.3723111e-04],\n",
       "       [9.9131542e-01]], dtype=float32)"
      ]
     },
     "execution_count": 102,
     "metadata": {},
     "output_type": "execute_result"
    }
   ],
   "source": [
    "# Make predictions on the test dataset\n",
    "predictions = model.predict(X_test)\n",
    "predictions"
   ]
  },
  {
   "cell_type": "markdown",
   "metadata": {},
   "source": [
    "## Eval Metrics"
   ]
  },
  {
   "cell_type": "code",
   "execution_count": 103,
   "metadata": {},
   "outputs": [
    {
     "data": {
      "text/plain": [
       "0.9417366946778711"
      ]
     },
     "execution_count": 103,
     "metadata": {},
     "output_type": "execute_result"
    }
   ],
   "source": [
    "from sklearn.metrics import roc_auc_score\n",
    "\n",
    "roc_auc_score(y_test, predictions)"
   ]
  },
  {
   "cell_type": "code",
   "execution_count": 104,
   "metadata": {},
   "outputs": [],
   "source": [
    "# Apply threshold to obtain binary predictions (0 or 1)\n",
    "threshold = 0.5\n",
    "binary_predictions = (predictions >= threshold).astype(int)"
   ]
  },
  {
   "cell_type": "code",
   "execution_count": 105,
   "metadata": {},
   "outputs": [
    {
     "name": "stdout",
     "output_type": "stream",
     "text": [
      "Accuracy: 83.72%\n"
     ]
    }
   ],
   "source": [
    "accuracy = accuracy_score(y_test, binary_predictions)\n",
    "print(f\"Accuracy: {accuracy*100:.2f}%\")"
   ]
  },
  {
   "cell_type": "code",
   "execution_count": 106,
   "metadata": {},
   "outputs": [
    {
     "data": {
      "text/plain": [
       "(array([40.,  4.,  1.,  0.,  0.,  1.,  0.,  1.,  0., 39.]),\n",
       " array([2.86747097e-19, 1.00000001e-01, 2.00000003e-01, 3.00000012e-01,\n",
       "        4.00000006e-01, 5.00000000e-01, 6.00000024e-01, 6.99999988e-01,\n",
       "        8.00000012e-01, 8.99999976e-01, 1.00000000e+00]),\n",
       " <BarContainer object of 10 artists>)"
      ]
     },
     "execution_count": 106,
     "metadata": {},
     "output_type": "execute_result"
    },
    {
     "data": {
      "image/png": "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",
      "text/plain": [
       "<Figure size 640x480 with 1 Axes>"
      ]
     },
     "metadata": {},
     "output_type": "display_data"
    }
   ],
   "source": [
    "plt.hist(predictions.squeeze())"
   ]
  },
  {
   "cell_type": "code",
   "execution_count": 107,
   "metadata": {},
   "outputs": [
    {
     "name": "stdout",
     "output_type": "stream",
     "text": [
      "Classification Report:\n",
      "              precision    recall  f1-score   support\n",
      "\n",
      "           0       0.73      0.94      0.83        35\n",
      "           1       0.95      0.76      0.85        51\n",
      "\n",
      "    accuracy                           0.84        86\n",
      "   macro avg       0.84      0.85      0.84        86\n",
      "weighted avg       0.86      0.84      0.84        86\n",
      "\n"
     ]
    }
   ],
   "source": [
    "class_report = classification_report(y_test, binary_predictions)\n",
    "print(\"Classification Report:\")\n",
    "print(class_report)"
   ]
  }
 ],
 "metadata": {
  "kernelspec": {
   "display_name": "Python 3",
   "language": "python",
   "name": "python3"
  },
  "language_info": {
   "codemirror_mode": {
    "name": "ipython",
    "version": 3
   },
   "file_extension": ".py",
   "mimetype": "text/x-python",
   "name": "python",
   "nbconvert_exporter": "python",
   "pygments_lexer": "ipython3",
   "version": "3.10.0"
  }
 },
 "nbformat": 4,
 "nbformat_minor": 2
}
